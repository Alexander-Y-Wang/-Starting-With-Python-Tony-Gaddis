{
 "cells": [
  {
   "cell_type": "code",
   "execution_count": 1,
   "metadata": {},
   "outputs": [
    {
     "name": "stdout",
     "output_type": "stream",
     "text": [
      "Hello world!\n"
     ]
    }
   ],
   "source": [
    "print('Hello world!')"
   ]
  },
  {
   "cell_type": "code",
   "execution_count": 2,
   "metadata": {},
   "outputs": [
    {
     "name": "stdout",
     "output_type": "stream",
     "text": [
      "Nudge nudge\n",
      "Wink wink\n",
      "Know what I mean?\n"
     ]
    }
   ],
   "source": [
    "print('Nudge nudge')\n",
    "print('Wink wink')\n",
    "print('Know what I mean?')"
   ]
  },
  {
   "cell_type": "code",
   "execution_count": 9,
   "metadata": {},
   "outputs": [
    {
     "name": "stdout",
     "output_type": "stream",
     "text": [
      "He gasped, \"What the fuck, man\".\n"
     ]
    }
   ],
   "source": [
    "print('He gasped, \"What the fuck, man\".')"
   ]
  },
  {
   "cell_type": "code",
   "execution_count": 10,
   "metadata": {},
   "outputs": [
    {
     "name": "stdout",
     "output_type": "stream",
     "text": [
      "Ay lmao\n"
     ]
    }
   ],
   "source": [
    "#This program displays words\n",
    "print('Ay lmao')"
   ]
  },
  {
   "cell_type": "code",
   "execution_count": 11,
   "metadata": {},
   "outputs": [
    {
     "name": "stdout",
     "output_type": "stream",
     "text": [
      "25\n"
     ]
    }
   ],
   "source": [
    "age = 25\n",
    "print(age)"
   ]
  },
  {
   "cell_type": "code",
   "execution_count": 12,
   "metadata": {},
   "outputs": [],
   "source": [
    "top_speed = 20\n",
    "distance = 30"
   ]
  },
  {
   "cell_type": "code",
   "execution_count": 14,
   "metadata": {},
   "outputs": [
    {
     "name": "stdout",
     "output_type": "stream",
     "text": [
      "600\n"
     ]
    }
   ],
   "source": [
    "print(top_speed*distance)"
   ]
  },
  {
   "cell_type": "code",
   "execution_count": 15,
   "metadata": {},
   "outputs": [
    {
     "name": "stdout",
     "output_type": "stream",
     "text": [
      "I am staying in room number 503\n"
     ]
    }
   ],
   "source": [
    "room = 503\n",
    "print('I am staying in room number', room)"
   ]
  },
  {
   "cell_type": "code",
   "execution_count": 16,
   "metadata": {},
   "outputs": [
    {
     "name": "stdout",
     "output_type": "stream",
     "text": [
      "I have 1 dollar(s)\n",
      "but now I have 2 dollars(s)\n"
     ]
    }
   ],
   "source": [
    "#assign value to dollar\n",
    "dollar = 1\n",
    "print('I have', dollar, 'dollar(s)')\n",
    "dollar = 2\n",
    "print('but now I have', dollar, 'dollars(s)')"
   ]
  },
  {
   "cell_type": "code",
   "execution_count": 29,
   "metadata": {},
   "outputs": [
    {
     "name": "stdout",
     "output_type": "stream",
     "text": [
      "What is your name? Alex\n",
      "Hello,  Alex .\n"
     ]
    }
   ],
   "source": [
    "variable = input('What is your name? ')\n",
    "print('Hello, ', variable,'.')"
   ]
  },
  {
   "cell_type": "code",
   "execution_count": 30,
   "metadata": {},
   "outputs": [
    {
     "name": "stdout",
     "output_type": "stream",
     "text": [
      "Input first name: Alex\n",
      "Input last name: Wang\n",
      "Hello,  Alex Wang\n"
     ]
    }
   ],
   "source": [
    "firstName = input('Input first name: ')\n",
    "lastName = input('Input last name: ')\n",
    "print('Hello, ', firstName, lastName)"
   ]
  },
  {
   "cell_type": "code",
   "execution_count": 33,
   "metadata": {},
   "outputs": [
    {
     "name": "stdout",
     "output_type": "stream",
     "text": [
      "How many hours? 20\n"
     ]
    },
    {
     "data": {
      "text/plain": [
       "40"
      ]
     },
     "execution_count": 33,
     "metadata": {},
     "output_type": "execute_result"
    }
   ],
   "source": [
    "hours = (int(input('How many hours? ')))\n",
    "hours * 2"
   ]
  },
  {
   "cell_type": "code",
   "execution_count": 35,
   "metadata": {},
   "outputs": [
    {
     "name": "stdout",
     "output_type": "stream",
     "text": [
      "2550.0\n"
     ]
    }
   ],
   "source": [
    "salary = 2500.00\n",
    "bonus = 50.00\n",
    "pay = salary + bonus\n",
    "print(pay)"
   ]
  },
  {
   "cell_type": "code",
   "execution_count": 42,
   "metadata": {},
   "outputs": [
    {
     "name": "stdout",
     "output_type": "stream",
     "text": [
      "Enter original price: 20\n",
      "Final total: $ 16.0\n"
     ]
    }
   ],
   "source": [
    "originalPrice = float(input('Enter original price: '))\n",
    "sale = .20\n",
    "salePrice = originalPrice * (1 - sale)\n",
    "print('Final total: $',salePrice)"
   ]
  },
  {
   "cell_type": "code",
   "execution_count": 45,
   "metadata": {},
   "outputs": [
    {
     "data": {
      "text/plain": [
       "6.0"
      ]
     },
     "execution_count": 45,
     "metadata": {},
     "output_type": "execute_result"
    }
   ],
   "source": [
    "(12.0 + 6.0) // 3.0"
   ]
  },
  {
   "cell_type": "code",
   "execution_count": 47,
   "metadata": {},
   "outputs": [
    {
     "name": "stdout",
     "output_type": "stream",
     "text": [
      "Enter the first test score: 30\n",
      "Enter the second test score: 70\n",
      "Enter the third test score: 90\n",
      "The average score is 63.333333333333336\n"
     ]
    }
   ],
   "source": [
    "test1 = float(input('Enter the first test score: '))\n",
    "test2 = float(input('Enter the second test score: '))\n",
    "test3 = float(input('Enter the third test score: '))\n",
    "\n",
    "average = (test1 + test2 + test3) / 3.0\n",
    "\n",
    "print('The average score is', average)"
   ]
  },
  {
   "cell_type": "code",
   "execution_count": 62,
   "metadata": {},
   "outputs": [
    {
     "name": "stdout",
     "output_type": "stream",
     "text": [
      "Enter a number of seconds: 11730\n",
      "3.0 : 15.0 : 30.0\n"
     ]
    }
   ],
   "source": [
    "#Get a number of seconds from the user.\n",
    "total_seconds = float(input('Enter a number of seconds: '))\n",
    "\n",
    "#Get the number of hours.\n",
    "hours = total_seconds // 3600\n",
    "\n",
    "#Get the number of remaining seconds.\n",
    "minutes = (total_seconds // 60) % 60\n",
    "\n",
    "#Get the number of seconds.\n",
    "seconds = total_seconds % 60\n",
    "\n",
    "#Display.\n",
    "print(hours, \":\", minutes, \":\", seconds)\n"
   ]
  },
  {
   "cell_type": "code",
   "execution_count": 67,
   "metadata": {},
   "outputs": [
    {
     "name": "stdout",
     "output_type": "stream",
     "text": [
      "Enter the annual interest rate: .05\n",
      "Enter the amount of years the investment will last: 10\n",
      "Enter the amount desired by the final year: 10000\n",
      "For these parameters, you will need to invest 6139.0\n"
     ]
    }
   ],
   "source": [
    "#INITIAL INVESTMENT CALCULATOR\n",
    "#Input the annual interest rate.\n",
    "interestRate = float(input('Enter the annual interest rate: '))\n",
    "\n",
    "#Input the years the investment will last.\n",
    "years = float(input('Enter the amount of years the investment will last: '))\n",
    "\n",
    "#Input the final value desired for the investment.\n",
    "finalInvestment = float(input('Enter the amount desired by the final year: '))\n",
    "\n",
    "#Calculating and displaying the initial investment.\n",
    "initialInvestment = finalInvestment//((1+interestRate)**years)\n",
    "print(\"For these parameters, you will need to invest\", initialInvestment)"
   ]
  },
  {
   "cell_type": "code",
   "execution_count": 70,
   "metadata": {},
   "outputs": [
    {
     "name": "stdout",
     "output_type": "stream",
     "text": [
      "-2\n"
     ]
    }
   ],
   "source": [
    "#Convert a float variable into an int.\n",
    "fvalue = -2.6\n",
    "ivalue = int(fvalue)\n",
    "print(ivalue)"
   ]
  },
  {
   "cell_type": "code",
   "execution_count": 72,
   "metadata": {},
   "outputs": [
    {
     "name": "stdout",
     "output_type": "stream",
     "text": [
      "18\n"
     ]
    }
   ],
   "source": [
    "#Use the line continuation character.\n",
    "z = 4 + 5 + 6 \\\n",
    "    + 2 + 1\n",
    "print(z)"
   ]
  },
  {
   "cell_type": "code",
   "execution_count": 73,
   "metadata": {},
   "outputs": [
    {
     "name": "stdout",
     "output_type": "stream",
     "text": [
      "Hello world!\n"
     ]
    }
   ],
   "source": [
    "#Using the command to suppres the ending newline in a print function.\n",
    "print('Hello', end=\" \")\n",
    "print('world!')"
   ]
  },
  {
   "cell_type": "code",
   "execution_count": 85,
   "metadata": {},
   "outputs": [
    {
     "name": "stdout",
     "output_type": "stream",
     "text": [
      "Monday\n",
      "Tuesday\n",
      "Monday\tTuesday\n",
      "'Monday'\n",
      "\"Monday\"\n",
      "\\Monday\\\n"
     ]
    }
   ],
   "source": [
    "print('Monday\\nTuesday')\n",
    "print('Monday\\tTuesday')\n",
    "print('\\'Monday\\'')\n",
    "print('\\\"Monday\\\"')\n",
    "print('\\\\Monday\\\\')"
   ]
  },
  {
   "cell_type": "code",
   "execution_count": 88,
   "metadata": {},
   "outputs": [
    {
     "name": "stdout",
     "output_type": "stream",
     "text": [
      "x y\n",
      "x\ty\n"
     ]
    }
   ],
   "source": [
    "print('x', 'y')\n",
    "print('x\\ty')"
   ]
  },
  {
   "cell_type": "code",
   "execution_count": 89,
   "metadata": {},
   "outputs": [
    {
     "name": "stdout",
     "output_type": "stream",
     "text": [
      "This is one string.\n"
     ]
    }
   ],
   "source": [
    "print('This is ' + 'one string.')"
   ]
  },
  {
   "cell_type": "code",
   "execution_count": 90,
   "metadata": {},
   "outputs": [
    {
     "name": "stdout",
     "output_type": "stream",
     "text": [
      "Enter the amount of sales for each day and press enter.\n"
     ]
    }
   ],
   "source": [
    "print('Enter the amount of ' +\n",
    "    'sales for each day and ' + \n",
    "     'press enter.')"
   ]
  },
  {
   "cell_type": "code",
   "execution_count": 96,
   "metadata": {},
   "outputs": [
    {
     "name": "stdout",
     "output_type": "stream",
     "text": [
      "The monthly payment is 416.6666666666667\n",
      "The monthly payment is 416.67\n"
     ]
    }
   ],
   "source": [
    "#Display a floating point operator with no formatting.\n",
    "amount_due = 5000.00\n",
    "monthly_payment = amount_due / 12.0\n",
    "print('The monthly payment is', monthly_payment)\n",
    "\n",
    "#Display a floating point operator with formatting to 2 decimal places.\n",
    "print('The monthly payment is', format(monthly_payment, '.2f'))"
   ]
  },
  {
   "cell_type": "code",
   "execution_count": 101,
   "metadata": {},
   "outputs": [
    {
     "name": "stdout",
     "output_type": "stream",
     "text": [
      "1.23e+04\n"
     ]
    }
   ],
   "source": [
    "print(format(12345.6789, '.2e'))"
   ]
  },
  {
   "cell_type": "code",
   "execution_count": 107,
   "metadata": {},
   "outputs": [
    {
     "name": "stdout",
     "output_type": "stream",
     "text": [
      "123,456,789.34\n"
     ]
    }
   ],
   "source": [
    "print(format(123456789.34, ',.2f'))"
   ]
  },
  {
   "cell_type": "code",
   "execution_count": 110,
   "metadata": {},
   "outputs": [
    {
     "name": "stdout",
     "output_type": "stream",
     "text": [
      "Your annual pay is $5000.00\n"
     ]
    }
   ],
   "source": [
    "#Display a floating-point as a currency\n",
    "monthlyPay = 5000.0\n",
    "annualPay = monthlyPay * 12\n",
    "print('Your annual pay is $', format(monthlyPay, '.2f'), sep='')"
   ]
  },
  {
   "cell_type": "code",
   "execution_count": 112,
   "metadata": {},
   "outputs": [
    {
     "name": "stdout",
     "output_type": "stream",
     "text": [
      "The number is   123,456.68\n"
     ]
    }
   ],
   "source": [
    "print('The number is', format(123456.6789, '12,.2f'))"
   ]
  },
  {
   "cell_type": "code",
   "execution_count": 114,
   "metadata": {},
   "outputs": [
    {
     "name": "stdout",
     "output_type": "stream",
     "text": [
      " 123.56\n",
      "   4.52\n"
     ]
    }
   ],
   "source": [
    "num1 = 123.56\n",
    "num2 = 4.5243\n",
    "\n",
    "print(format(num1, '7.2f'))\n",
    "print(format(num2, '7.2f'))"
   ]
  },
  {
   "cell_type": "code",
   "execution_count": 119,
   "metadata": {},
   "outputs": [
    {
     "name": "stdout",
     "output_type": "stream",
     "text": [
      "56%\n"
     ]
    }
   ],
   "source": [
    "print(format(.56,'.0%'))"
   ]
  },
  {
   "cell_type": "code",
   "execution_count": 125,
   "metadata": {},
   "outputs": [
    {
     "name": "stdout",
     "output_type": "stream",
     "text": [
      "123456\n",
      "123,456\n",
      "+123,456\n",
      "   123,456\n"
     ]
    }
   ],
   "source": [
    "print(format(123456, 'd'))\n",
    "print(format(123456, ',d'))\n",
    "print(format(123456, '+,d'))\n",
    "print(format(123456, '10,d'))"
   ]
  },
  {
   "cell_type": "code",
   "execution_count": 1,
   "metadata": {},
   "outputs": [
    {
     "name": "stdout",
     "output_type": "stream",
     "text": [
      " 123.45\n",
      "   0.35\n"
     ]
    }
   ],
   "source": [
    "print(format(123.45, '7.2f'))\n",
    "print(format(.35, '7.2f'))"
   ]
  },
  {
   "cell_type": "code",
   "execution_count": 1,
   "metadata": {},
   "outputs": [
    {
     "name": "stdout",
     "output_type": "stream",
     "text": [
      "A little cold, isn't it?\n"
     ]
    }
   ],
   "source": [
    "print(\"A little cold, isn't it?\")"
   ]
  },
  {
   "cell_type": "code",
   "execution_count": 2,
   "metadata": {},
   "outputs": [
    {
     "name": "stdout",
     "output_type": "stream",
     "text": [
      "The names are not the same.\n"
     ]
    }
   ],
   "source": [
    "name1 = 'Mary'\n",
    "name2 = 'Nick'\n",
    "if name1 == name2:\n",
    "    print('The names are the same.')\n",
    "else:\n",
    "    print('The names are not the same.')"
   ]
  },
  {
   "cell_type": "code",
   "execution_count": 5,
   "metadata": {},
   "outputs": [
    {
     "name": "stdout",
     "output_type": "stream",
     "text": [
      "Create password: wormwood\n",
      "Type password: wormwood\n",
      "Login success!\n"
     ]
    }
   ],
   "source": [
    "password = input('Create password: ')\n",
    "password_attempt = input('Type password: ')\n",
    "if password == password_attempt:\n",
    "    print('Login success!')\n",
    "else:\n",
    "    print('Password invalid. Please refresh page.')"
   ]
  },
  {
   "cell_type": "code",
   "execution_count": 8,
   "metadata": {},
   "outputs": [
    {
     "name": "stdout",
     "output_type": "stream",
     "text": [
      "Enter a name (last, first): Costa, Kim\n",
      "Enter a name (last, first): Timsdale, Finn\n",
      "Names in alphabetical order:\n",
      "Costa, Kim\n",
      "Timsdale, Finn\n"
     ]
    }
   ],
   "source": [
    "#Sort names\n",
    "name1 = input('Enter a name (last, first): ')\n",
    "name2 = input('Enter a name (last, first): ')\n",
    "\n",
    "#show names\n",
    "print('Names in alphabetical order:')\n",
    "if name1 < name2:\n",
    "    print(name1)\n",
    "    print(name2)\n",
    "else:\n",
    "    print(name2)\n",
    "    print(name1)\n"
   ]
  },
  {
   "cell_type": "code",
   "execution_count": 10,
   "metadata": {},
   "outputs": [
    {
     "name": "stdout",
     "output_type": "stream",
     "text": [
      "a is less than z\n"
     ]
    }
   ],
   "source": [
    "#string values 1\n",
    "if 'z' < 'a':\n",
    "    print('z is less than a')\n",
    "else:\n",
    "    print('a is less than z')"
   ]
  },
  {
   "cell_type": "code",
   "execution_count": 11,
   "metadata": {},
   "outputs": [
    {
     "name": "stdout",
     "output_type": "stream",
     "text": [
      "New York\n",
      "Boston\n"
     ]
    }
   ],
   "source": [
    "#string values 2\n",
    "s1 = 'New York'\n",
    "s2 = 'Boston'\n",
    "if s1 < s2:\n",
    "    print(s2)\n",
    "    print(s1)\n",
    "else:\n",
    "    print(s1)\n",
    "    print(s2)"
   ]
  },
  {
   "cell_type": "code",
   "execution_count": 14,
   "metadata": {},
   "outputs": [
    {
     "name": "stdout",
     "output_type": "stream",
     "text": [
      "Please input your annual salary: 29000\n",
      "Input months worked at company: 35\n",
      "Unfortunately, you do not meet the requirements for this loan.\n"
     ]
    }
   ],
   "source": [
    "#Program that checks for qualifications for a loan.\n",
    "#Must make minimum $30,000 annually\n",
    "#Must have been employed at company for >2 years.\n",
    "\n",
    "annual_salary = float(input('Please input your annual salary: '))\n",
    "employment_length = float(input('Input months worked at company: '))\n",
    "\n",
    "if annual_salary >= 30000:\n",
    "    if employment_length >= 24:\n",
    "        print('You qualify for the loan.')\n",
    "    else:\n",
    "        print('Unfortunately, you do not meet the requirements for this loan.')\n",
    "else:\n",
    "    print('Unfortunately, you do not meet the requirements for this loan.')\n"
   ]
  },
  {
   "cell_type": "code",
   "execution_count": 1,
   "metadata": {},
   "outputs": [
    {
     "name": "stdout",
     "output_type": "stream",
     "text": [
      "Enter grade score: 60\n",
      "D-\n"
     ]
    }
   ],
   "source": [
    "#Convert numerical grade into letter grade.\n",
    "#Name the constants\n",
    "A_Score = 93\n",
    "AMinus_Score = 90\n",
    "BPlus_Score = 87\n",
    "B_Score = 83\n",
    "BMinus_Score = 80\n",
    "CPlus_Score = 77\n",
    "C_Score = 73\n",
    "CMinus_Score = 70\n",
    "DPlus_Score = 67\n",
    "D_Score = 63\n",
    "DMinus_Score = 60\n",
    "F_Score = 0\n",
    "\n",
    "#Input score\n",
    "score = int(input('Enter grade score: '))\n",
    "\n",
    "#Convert\n",
    "if score >= A_Score:\n",
    "    print('A')\n",
    "elif score >= AMinus_Score:\n",
    "    print('A-')\n",
    "elif score >= BPlus_Score:\n",
    "    print('B+')\n",
    "elif score >= B_Score:\n",
    "    print('B')\n",
    "elif score >= BMinus_Score:\n",
    "    print('B-')\n",
    "elif score >= CPlus_Score:\n",
    "    print('C+')\n",
    "elif score >= C_Score:\n",
    "    print('C')\n",
    "elif score >= CMinus_Score:\n",
    "    print('C-')\n",
    "elif score >= DPlus_Score:\n",
    "    print('D+')\n",
    "elif score >= D_Score:\n",
    "    print('D')\n",
    "elif score >= DMinus_Score:\n",
    "    print('D-')\n",
    "else:\n",
    "    print('F')"
   ]
  },
  {
   "cell_type": "code",
   "execution_count": 7,
   "metadata": {},
   "outputs": [
    {
     "name": "stdout",
     "output_type": "stream",
     "text": [
      "Danger!\n",
      "The temperature is too extreme.\n",
      "This is below the max temperature.\n"
     ]
    }
   ],
   "source": [
    "#Use an AND, OR, NOT statement.\n",
    "#Note that when using these statements, python short-circuits; it speeds up programming. \n",
    "#For AND, if the first premise is false, it doesn't bother checking the second.\n",
    "temp = 18\n",
    "minutes = 10\n",
    "\n",
    "if temp < 20 and minutes > 5:\n",
    "    print('Danger!')\n",
    "else:\n",
    "    print('Stable.')\n",
    "\n",
    "if temp < 20 or temp > 100:\n",
    "    print('The temperature is too extreme.')\n",
    "\n",
    "if not (temp > 100):\n",
    "    print('This is below the max temperature.')"
   ]
  },
  {
   "cell_type": "code",
   "execution_count": 9,
   "metadata": {},
   "outputs": [
    {
     "name": "stdout",
     "output_type": "stream",
     "text": [
      "Please input your annual salary: 29000\n",
      "Input months worked at company: 3\n",
      "Unfortunately, you do not meet the requirements for this loan.\n"
     ]
    }
   ],
   "source": [
    "#Show and can reduce the previous loan program.\n",
    "#Program that checks for qualifications for a loan.\n",
    "#Must make minimum $30,000 annually\n",
    "#Must have been employed at company for >2 years.\n",
    "\n",
    "annual_salary = float(input('Please input your annual salary: '))\n",
    "employment_length = float(input('Input months worked at company: '))\n",
    "\n",
    "if annual_salary >= 30000 and employment_length >= 24:\n",
    "    print('You qualify for the loan.')\n",
    "else:\n",
    "    print('Unfortunately, you do not meet the requirements for this loan.')\n",
    "\n",
    "#With and, or, and not statements we can greatly reduce code processing, run much faster, and be easier to read and program.\n",
    "#Note, however, that this program does not tell the user why they did not qualify."
   ]
  },
  {
   "cell_type": "code",
   "execution_count": 11,
   "metadata": {},
   "outputs": [
    {
     "name": "stdout",
     "output_type": "stream",
     "text": [
      "The value is in acceptable range.\n"
     ]
    }
   ],
   "source": [
    "#Checking for numerical ranges is best with the AND operator.\n",
    "x = 33\n",
    "if x >= 20 and x <= 40:\n",
    "    print('The value is in acceptable range.')\n",
    "#You will get an error if you check for impossible ranges like >20 and <10."
   ]
  },
  {
   "cell_type": "code",
   "execution_count": 14,
   "metadata": {},
   "outputs": [
    {
     "name": "stdout",
     "output_type": "stream",
     "text": [
      "Speed is unacceptable!\n"
     ]
    }
   ],
   "source": [
    "speed = 220\n",
    "if speed >= 0 and speed <= 200:\n",
    "    print('Speed is acceptable.')\n",
    "else:\n",
    "    print('Speed is unacceptable!')"
   ]
  },
  {
   "cell_type": "code",
   "execution_count": 15,
   "metadata": {},
   "outputs": [
    {
     "name": "stdout",
     "output_type": "stream",
     "text": [
      "Speed is acceptable.\n"
     ]
    }
   ],
   "source": [
    "speed = 220\n",
    "if not (speed >= 0 and speed <= 200):\n",
    "    print('Speed is acceptable.')\n",
    "else:\n",
    "    print('Speed is unacceptable!')"
   ]
  },
  {
   "cell_type": "code",
   "execution_count": 20,
   "metadata": {},
   "outputs": [
    {
     "name": "stdout",
     "output_type": "stream",
     "text": [
      "Sales quota reached.\n"
     ]
    }
   ],
   "source": [
    "sales = 55000\n",
    "if sales >= 50000:\n",
    "    sales_quota_met = True\n",
    "else:\n",
    "    sales_quota_met = False\n",
    "\n",
    "#Check sales_quota_met.\n",
    "if sales_quota_met == True:\n",
    "    print('Sales quota reached.')\n",
    "else:\n",
    "    print('Sales quota failed.')"
   ]
  },
  {
   "cell_type": "code",
   "execution_count": 7,
   "metadata": {},
   "outputs": [
    {
     "name": "stdout",
     "output_type": "stream",
     "text": [
      "Enter the projectile's angle: 66\n",
      "Enter the launch force (1-10): 9.5\n",
      "Target hit!\n"
     ]
    }
   ],
   "source": [
    "#Hit the turtle Game.\n",
    "import turtle\n",
    "    \n",
    "#Named Constants\n",
    "SCREEN_WIDTH = 600 #Screen height\n",
    "SCREEN_HEIGHT = 600 #Screen width\n",
    "TARGET_LLEFT_X = 100 #Target's lower-left x\n",
    "TARGET_LLEFT_Y = 250 #Target's lower-left y\n",
    "TARGET_WIDTH = 25 #Width of target\n",
    "FORCE_FACTOR = 30 #Arbitrary force factor\n",
    "PROJECTILE_SPEED = 1 #Projectile's animation speed\n",
    "NORTH = 90 #Angle of north direction\n",
    "SOUTH = 270 #Angle of south direction\n",
    "EAST = 0 #Angle of east direction\n",
    "WEST = 180 #Angle of West direction\n",
    "\n",
    "#Set up Window\n",
    "turtle.setup(SCREEN_WIDTH, SCREEN_HEIGHT)\n",
    "\n",
    "#Draw the target\n",
    "turtle.hideturtle()\n",
    "turtle.speed(0)\n",
    "turtle.penup()\n",
    "turtle.goto(TARGET_LLEFT_X, TARGET_LLEFT_Y)\n",
    "turtle.pendown()\n",
    "turtle.setheading(EAST)\n",
    "turtle.forward(TARGET_WIDTH)\n",
    "turtle.setheading(NORTH)\n",
    "turtle.forward(TARGET_WIDTH)\n",
    "turtle.setheading(WEST)\n",
    "turtle.forward(TARGET_WIDTH)\n",
    "turtle.setheading(SOUTH)\n",
    "turtle.forward(TARGET_WIDTH)\n",
    "turtle.penup()\n",
    "\n",
    "#Center the turtle.\n",
    "turtle.goto(0,0)\n",
    "turtle.setheading(EAST)\n",
    "turtle.showturtle()\n",
    "turtle.speed(PROJECTILE_SPEED)\n",
    "\n",
    "#Get the angle and force from the user.\n",
    "angle = float(input(\"Enter the projectile's angle: \"))\n",
    "force = float(input(\"Enter the launch force (1-10): \"))\n",
    "\n",
    "#Calculate the distance\n",
    "distance = force * FORCE_FACTOR\n",
    "\n",
    "#Set the heading\n",
    "turtle.setheading(angle)\n",
    "\n",
    "#Launch the projectile\n",
    "turtle.pendown()\n",
    "turtle.forward(distance)\n",
    "\n",
    "#Did target hit?\n",
    "if (turtle.xcor() >= TARGET_LLEFT_X and\n",
    "    turtle.xcor() <= (TARGET_LLEFT_X + TARGET_WIDTH) and\n",
    "    turtle.ycor() >= TARGET_LLEFT_Y and\n",
    "    turtle.ycor() <= (TARGET_LLEFT_Y + TARGET_WIDTH)):\n",
    "    print('Target hit!')\n",
    "else:\n",
    "    print('You missed the target.')"
   ]
  },
  {
   "cell_type": "code",
   "execution_count": 20,
   "metadata": {},
   "outputs": [
    {
     "name": "stdout",
     "output_type": "stream",
     "text": [
      "Please input a number from 1-7 7\n",
      "Sunday\n"
     ]
    }
   ],
   "source": [
    "day = int(input('Please input a number from 1-7 '))\n",
    "if day == 1:\n",
    "    print(\"Monday\")\n",
    "elif day == 2:\n",
    "    print(\"Tuesday\")\n",
    "elif day == 3:\n",
    "    print(\"Wednesday\")\n",
    "elif day == 4:\n",
    "    print(\"Thursday\")\n",
    "elif day == 5:\n",
    "    print(\"Friday\")\n",
    "elif day == 6:\n",
    "    print(\"Saturday\")\n",
    "elif day == 7:\n",
    "    print(\"Sunday\")\n",
    "else:\n",
    "    print(\"Error. Input valid number.\")"
   ]
  },
  {
   "cell_type": "code",
   "execution_count": 22,
   "metadata": {},
   "outputs": [
    {
     "name": "stdout",
     "output_type": "stream",
     "text": [
      "Input metrics of rectangle 1:\n",
      "Input length: -30\n",
      "Input width: -23\n",
      "Input metrics of rectangle 2:\n",
      "Input length: 30\n",
      "Input width: 23\n",
      "Area of Rectangle 1:  690.0\n",
      "Area of Rectangle 2:  690.0\n",
      "Both rectangles are equal.\n"
     ]
    }
   ],
   "source": [
    "#Area of rectangle.\n",
    "print('Input metrics of rectangle 1:')\n",
    "length1 = float(input('Input length: '))\n",
    "width1 = float(input('Input width: '))\n",
    "print('Input metrics of rectangle 2:')\n",
    "length2 = float(input('Input length: '))\n",
    "width2 = float(input('Input width: '))\n",
    "\n",
    "#Calculate the areas.\n",
    "area_rect1 = length1 * width1\n",
    "area_rect2 = length2 * width2\n",
    "print('Area of Rectangle 1: ', area_rect1)\n",
    "print('Area of Rectangle 2: ', area_rect2)\n",
    "\n",
    "#Calculate which is greater.\n",
    "if area_rect1 > area_rect2:\n",
    "    print('Rectangle 1 is greater.')\n",
    "elif area_rect1 < area_rect2:\n",
    "    print('Rectangle 2 is greater.')\n",
    "else:\n",
    "    print('Both rectangles are equal.')"
   ]
  },
  {
   "cell_type": "code",
   "execution_count": 29,
   "metadata": {},
   "outputs": [
    {
     "name": "stdout",
     "output_type": "stream",
     "text": [
      "Input age: 12\n",
      "Child\n"
     ]
    }
   ],
   "source": [
    "#Age Classifier\n",
    "user_age = int(input('Input age: '))\n",
    "if user_age <= 1 and user_age >= 0:\n",
    "    print('Infant')\n",
    "elif user_age > 1 and user_age < 13:\n",
    "    print('Child')\n",
    "elif user_age >= 13 and user_age < 20:\n",
    "    print('Teenager')\n",
    "elif user_age >= 20:\n",
    "    print('Adult')\n",
    "else:\n",
    "    print('Invalid input')"
   ]
  },
  {
   "cell_type": "code",
   "execution_count": 30,
   "metadata": {},
   "outputs": [
    {
     "name": "stdout",
     "output_type": "stream",
     "text": [
      "Input an integer of 1 - 10: 4\n",
      "IV\n"
     ]
    }
   ],
   "source": [
    "#Roman Numerals 1-10\n",
    "number = int(input('Input an integer of 1 - 10: '))\n",
    "if number == 1:\n",
    "    print('I')\n",
    "elif number == 2:\n",
    "    print('II')\n",
    "elif number == 3:\n",
    "    print('III')\n",
    "elif number == 4:\n",
    "    print('IV')\n",
    "elif number == 5:\n",
    "    print('V')\n",
    "elif number == 6:\n",
    "    print('VI')\n",
    "elif number == 7:\n",
    "    print('VII')\n",
    "elif number == 8:\n",
    "    print('VIII')\n",
    "elif number == 9:\n",
    "    print('IX')\n",
    "elif number == 10:\n",
    "    print('X')\n",
    "else:\n",
    "    print('Invalid input.')"
   ]
  },
  {
   "cell_type": "code",
   "execution_count": 35,
   "metadata": {},
   "outputs": [
    {
     "name": "stdout",
     "output_type": "stream",
     "text": [
      "Input the mass of object: 600\n",
      "WARNING: Object too heavy!\n"
     ]
    }
   ],
   "source": [
    "#Mass and wieght\n",
    "object_mass = float(input('Input the mass of object: '))\n",
    "object_weight = object_mass * 9.8\n",
    "\n",
    "if object_weight > 500:\n",
    "    print('WARNING: Object too heavy!')\n",
    "elif object_weight <= 500 and object_weight >= 100:\n",
    "    print('ACCEPTED WEIGHT')\n",
    "elif object_weight < 100:\n",
    "    print('WARNING: Object too light!')\n",
    "else:\n",
    "    print('ERROR: Invalid input.')"
   ]
  },
  {
   "cell_type": "code",
   "execution_count": 38,
   "metadata": {},
   "outputs": [
    {
     "name": "stdout",
     "output_type": "stream",
     "text": [
      "Input either \"red\", \"blue\", or \"yellow\".\n",
      "Input first color: yellow\n",
      "Input second color: blue\n",
      "Result: \n",
      "Green\n"
     ]
    }
   ],
   "source": [
    "#Color mixer. Results should be: red, blue, green, purple, yellow, orange.\n",
    "print('Input either \"red\", \"blue\", or \"yellow\".')\n",
    "color1 = input('Input first color: ')\n",
    "color2 = input('Input second color: ')\n",
    "print('Result: ')\n",
    "\n",
    "#Calculate\n",
    "if color1 == 'red' and color2 == 'red':\n",
    "    print('Red')\n",
    "elif color1 == 'red' and color2 == 'blue':\n",
    "    print('Purple')\n",
    "elif color1 == 'red' and color2 == 'yellow':\n",
    "    print('Orange')\n",
    "elif color1 == 'blue' and color2 == 'blue':\n",
    "    print('Blue')\n",
    "elif color1 == 'blue' and color2 == 'red':\n",
    "    print('Purple')\n",
    "elif color1 == 'blue' and color2 == 'yellow':\n",
    "    print('Green')\n",
    "elif color1 == 'yellow' and color2 == 'yellow':\n",
    "    print('Yellow')\n",
    "elif color1 == 'yellow' and color2 == 'red':\n",
    "    print('Orange')\n",
    "elif color1 == 'yellow' and color2 == 'blue':\n",
    "    print('Green')\n",
    "else:\n",
    "    print('Error: Invalid input.')\n",
    "    "
   ]
  },
  {
   "cell_type": "code",
   "execution_count": 53,
   "metadata": {},
   "outputs": [
    {
     "name": "stdout",
     "output_type": "stream",
     "text": [
      "Input amount of attendees: 10\n",
      "Minimum hot dog packages:  1\n",
      "Minimum bun packages:  2\n",
      "Leftover hot dogs:  0\n",
      "Leftover buns:  6\n"
     ]
    }
   ],
   "source": [
    "#Hot dog Cookout Calculator\n",
    "#Hot dog packages = 10 hot dogs.\n",
    "#Bun packages = 8 buns.\n",
    "#Have at least 1 hot dog per attendee.\n",
    "\n",
    "party = int(input('Input amount of attendees: '))\n",
    "hot_dog_total = party\n",
    "hot_dog_packages = 1 + ((hot_dog_total - 1) // 10)\n",
    "bun_total = hot_dog_total\n",
    "bun_packages = 1 + ((bun_total - 1) // 8)\n",
    "leftover_hot_dogs = (hot_dog_packages * 10) - hot_dog_total\n",
    "leftover_buns = (bun_packages * 8) - bun_total\n",
    "\n",
    "print('Minimum hot dog packages: ', hot_dog_packages)\n",
    "print('Minimum bun packages: ', bun_packages)\n",
    "print('Leftover hot dogs: ', leftover_hot_dogs)\n",
    "print('Leftover buns: ', leftover_buns)"
   ]
  },
  {
   "cell_type": "code",
   "execution_count": 6,
   "metadata": {},
   "outputs": [
    {
     "name": "stdout",
     "output_type": "stream",
     "text": [
      "Input pocket number (0 - 36): 36\n",
      "Red.\n"
     ]
    }
   ],
   "source": [
    "#Roulette Wheel Colors\n",
    "pocket = int(input('Input pocket number (0 - 36): '))\n",
    "\n",
    "if pocket == 0:\n",
    "    print('Green.')\n",
    "elif pocket >= 1 and pocket <= 10:\n",
    "    if pocket % 2 == 0:\n",
    "        print('Black.')\n",
    "    else: \n",
    "        print('Red.')\n",
    "elif pocket >= 11 and pocket <= 18:\n",
    "    if pocket % 2 == 0:\n",
    "        print('Red.')\n",
    "    else: \n",
    "        print('Black.')\n",
    "elif pocket >= 19 and pocket <= 28:\n",
    "    if pocket % 2 == 0:\n",
    "        print('Black.')\n",
    "    else: \n",
    "        print('Red.')\n",
    "elif pocket >= 29 and pocket <= 36:\n",
    "    if pocket % 2 == 0:\n",
    "        print('Red.')\n",
    "    else: \n",
    "        print('Black.')\n",
    "else:\n",
    "    print('Error: Invalid pocket.')"
   ]
  },
  {
   "cell_type": "code",
   "execution_count": 11,
   "metadata": {},
   "outputs": [
    {
     "name": "stdout",
     "output_type": "stream",
     "text": [
      "Coin counting game: Input coins that would amount to $1.00\n",
      "Pennies: 10\n",
      "Nickels: 3\n",
      "Dimes: 5\n",
      "Quarters: 1\n",
      "Total: $ 1.0\n",
      "Congrats! The coins amount to exactly 1$\n"
     ]
    }
   ],
   "source": [
    "#Coin Counting Game\n",
    "print('Coin counting game: Input coins that would amount to $1.00')\n",
    "penny = int(input('Pennies: '))\n",
    "nickel = int(input('Nickels: '))\n",
    "dime = int(input('Dimes: ')) \n",
    "quarter = int(input('Quarters: '))\n",
    "\n",
    "#Calculate into value\n",
    "penny_v = penny * .01\n",
    "nickel_v = nickel * .05\n",
    "dime_v = dime * .1\n",
    "quarter_v = quarter * .25\n",
    "final_v = (penny_v + nickel_v + dime_v + quarter_v)\n",
    "\n",
    "#Final value\n",
    "print('Total: $',final_v)\n",
    "if final_v == 1.00:\n",
    "    print('Congrats! The coins amount to exactly 1$')\n",
    "else:\n",
    "    print('The sum of the coins is not 1$, try again!')"
   ]
  },
  {
   "cell_type": "code",
   "execution_count": 25,
   "metadata": {},
   "outputs": [
    {
     "name": "stdout",
     "output_type": "stream",
     "text": [
      "Books customer purchased this month: 10\n",
      "60 points earned.\n"
     ]
    }
   ],
   "source": [
    "#Bookstore Points\n",
    "books = int(input('Books customer purchased this month: '))\n",
    "if books >= 2 and books < 4:\n",
    "    print('5 points earned.')\n",
    "elif books >= 4 and books < 6:\n",
    "    print('15 points earned.')\n",
    "elif books >= 6 and books < 8:\n",
    "    print('30 points earned.')\n",
    "elif books >= 8:\n",
    "    print('60 points earned.')\n",
    "else:\n",
    "    print('0 points earned.')"
   ]
  },
  {
   "cell_type": "code",
   "execution_count": 28,
   "metadata": {},
   "outputs": [
    {
     "name": "stdout",
     "output_type": "stream",
     "text": [
      "Input amount of packages: 100\n",
      "Your total is: $ 5940.0\n"
     ]
    }
   ],
   "source": [
    "#Software Sales\n",
    "package_cost = 99\n",
    "package_amount = int(input('Input amount of packages: '))\n",
    "\n",
    "if package_amount >= 10 and package_amount < 20:\n",
    "    discount = .1\n",
    "elif package_amount >= 20 and package_amount < 50:\n",
    "    discount = .2\n",
    "elif package_amount >= 50 and package_amount < 100:\n",
    "    discount = .3\n",
    "elif package_amount >= 100:\n",
    "    discount = .4\n",
    "else:\n",
    "    discount = .0\n",
    "    \n",
    "total = (package_cost * package_amount) * (1 - discount)\n",
    "print('Your total is: $', total)"
   ]
  },
  {
   "cell_type": "code",
   "execution_count": 29,
   "metadata": {},
   "outputs": [
    {
     "name": "stdout",
     "output_type": "stream",
     "text": [
      "Input wieght of package: 5\n",
      "Shipping cost: $15.00\n"
     ]
    }
   ],
   "source": [
    "#Shipping Charges\n",
    "package_weight = float(input('Input wieght of package: '))\n",
    "if package_weight > 2 and package_weight <= 6:\n",
    "    rate = 3\n",
    "elif package_weight > 6 and package_weight <= 10:\n",
    "    rate = 4\n",
    "elif package_weight > 10:\n",
    "    rate = 4.75\n",
    "else:\n",
    "    rate = 1.50\n",
    "\n",
    "shipping_cost = package_weight * rate\n",
    "print('Shipping cost: ${:0.2f}'.format(shipping_cost))"
   ]
  },
  {
   "cell_type": "code",
   "execution_count": 32,
   "metadata": {},
   "outputs": [
    {
     "name": "stdout",
     "output_type": "stream",
     "text": [
      "Input weight in pounds: 140\n",
      "Input height in inches: 73\n",
      "BMI is 18.47\n",
      "Underweight\n"
     ]
    }
   ],
   "source": [
    "#BMI \n",
    "weight = float(input('Input weight in pounds: '))\n",
    "height = float(input('Input height in inches: '))\n",
    "BMI = (weight / height ** 2) * 703\n",
    "print('BMI is {:0.2f}'.format(BMI))\n",
    "if BMI < 18.5:\n",
    "    print('Underweight')\n",
    "elif BMI > 25:\n",
    "    print('Overweight')\n",
    "else:\n",
    "    print('Normal')"
   ]
  },
  {
   "cell_type": "code",
   "execution_count": 56,
   "metadata": {},
   "outputs": [
    {
     "name": "stdout",
     "output_type": "stream",
     "text": [
      "Input a number of seconds: 31557600\n",
      "365 : 6 : 0 : 0\n"
     ]
    }
   ],
   "source": [
    "#Time Calculator\n",
    "secs = int(input('Input a number of seconds: '))\n",
    "if secs >= 60 and secs < 3600:\n",
    "    minutes = secs // 60\n",
    "    seconds = secs % 60\n",
    "    print(minutes,':',seconds)\n",
    "elif secs >= 3600 and secs < 86400:\n",
    "    hours = secs // 3600\n",
    "    minutes = (secs // 60) - (hours * 60)\n",
    "    seconds = secs % 60\n",
    "    print(hours,':',minutes,':',seconds)\n",
    "elif secs > 86400:\n",
    "    days = secs // 86400\n",
    "    hours = (secs // 3600) - (days * 24)\n",
    "    minutes = (secs // 60) - (hours * 60) - (days * 24 * 60)\n",
    "    seconds = secs % 60\n",
    "    print(days,':',hours,':',minutes,':',seconds)\n",
    "else:\n",
    "    print('Invalid input.')"
   ]
  },
  {
   "cell_type": "code",
   "execution_count": 77,
   "metadata": {},
   "outputs": [
    {
     "name": "stdout",
     "output_type": "stream",
     "text": [
      "Input year: 2100\n",
      "February had 28 days, thus not leap year.\n"
     ]
    }
   ],
   "source": [
    "#February Leap Year Days\n",
    "year = int(input('Input year: '))\n",
    "if ((year % 100) == 0) and ((year % 400) == 0):\n",
    "    print('February had 29 days, thus a leap year.')\n",
    "elif ((year % 100) != 0) and (year % 4) == 0:\n",
    "    print('February had 29 days, thus a leap year.')\n",
    "else:\n",
    "    print('February had 28 days, thus not leap year.')"
   ]
  },
  {
   "cell_type": "code",
   "execution_count": null,
   "metadata": {},
   "outputs": [],
   "source": [
    "hungry = True\n",
    "sleepy = False\n"
   ]
  },
  {
   "cell_type": "code",
   "execution_count": 86,
   "metadata": {},
   "outputs": [
    {
     "name": "stdout",
     "output_type": "stream",
     "text": [
      "Reboot the computer and try to connect. Fixed?bitch\n",
      "Nice.\n"
     ]
    }
   ],
   "source": [
    "#Wi-Fi Diagnostic Tree\n",
    "reboot = input('Reboot the computer and try to connect. Fixed?')\n",
    "if reboot == 'no':\n",
    "    router = input('Reboot the router and try to connect. Fixed?')\n",
    "    if router == 'no':\n",
    "        cables = input('Make sure the cables between the router and modem are plugged in firmly. Fixed?')\n",
    "        if cables == 'no':\n",
    "            local = input('Move the router somewhere else. Fixed?')\n",
    "            if local == 'no':\n",
    "                print('Get new router.')\n",
    "            else:\n",
    "                print('Nice.')\n",
    "        else:\n",
    "            print('Nice.')\n",
    "    else:\n",
    "        print('Nice.')\n",
    "else:\n",
    "    print('Nice.')"
   ]
  },
  {
   "cell_type": "code",
   "execution_count": 89,
   "metadata": {},
   "outputs": [
    {
     "name": "stdout",
     "output_type": "stream",
     "text": [
      "Is anyone in your party a vegetarian?yes\n",
      "Is anyone in your party a vegan?no\n",
      "Is anyone in your party gluten-free?yes\n",
      "Here are your restaurant choices:\n",
      "Main Street Pizza Company\n",
      "Corner Café\n",
      "The Chef’s Kitchen\n"
     ]
    }
   ],
   "source": [
    "#Restaurant Selection\n",
    "vegetarian = input('Is anyone in your party a vegetarian?')\n",
    "vegan = input('Is anyone in your party a vegan?')\n",
    "gluten_free = input('Is anyone in your party gluten-free?')\n",
    "#Set the restaurants to auto-True\n",
    "JGB = True\n",
    "MSPC = True\n",
    "CC = True\n",
    "MFI = True\n",
    "CK = True\n",
    "\n",
    "#Check for vegetarian\n",
    "if vegetarian == 'yes':\n",
    "    JGB = False\n",
    "\n",
    "#Check for vegan\n",
    "if vegan == 'yes':\n",
    "    JGB = False\n",
    "    MSPC = False\n",
    "    MFI = False\n",
    "  \n",
    "#Check for gluten free\n",
    "if gluten_free == 'yes':\n",
    "    JGB = False\n",
    "    MFI = False\n",
    "    \n",
    "print('Here are your restaurant choices:')\n",
    "if JGB == True:\n",
    "    print('Joe’s Gourmet Burgers')\n",
    "if MSPC == True:\n",
    "    print('Main Street Pizza Company')\n",
    "if CC == True:\n",
    "    print('Corner Café')\n",
    "if MFI == True:\n",
    "    print('Mama’s Fine Italian')\n",
    "if CK == True:\n",
    "    print('The Chef’s Kitchen')"
   ]
  },
  {
   "cell_type": "code",
   "execution_count": 90,
   "metadata": {},
   "outputs": [],
   "source": [
    "###CHAPTER 4###"
   ]
  },
  {
   "cell_type": "code",
   "execution_count": 92,
   "metadata": {},
   "outputs": [
    {
     "name": "stdout",
     "output_type": "stream",
     "text": [
      "Enter amount of sales: 2000\n",
      "Enter the commission rate: .05\n",
      "The commission is $100.00\n",
      "Do you want to calculate another commission (Enter y for yes):y\n",
      "Enter amount of sales: 1500\n",
      "Enter the commission rate: .2\n",
      "The commission is $300.00\n",
      "Do you want to calculate another commission (Enter y for yes):n\n"
     ]
    }
   ],
   "source": [
    "#While Loop Example\n",
    "#Sales commissions calculator\n",
    "#Create a variable to control the loop.\n",
    "keep_going = 'y'\n",
    "while keep_going == 'y':\n",
    "    sales = float(input('Enter amount of sales: '))\n",
    "    comm_rate = float(input('Enter the commission rate: '))\n",
    "    \n",
    "    commission = sales * comm_rate\n",
    "    print('The commission is $', format(commission, '.2f'), sep='')\n",
    "    \n",
    "    keep_going = input('Do you want to calculate another ' + 'commission (Enter y for yes):')"
   ]
  },
  {
   "cell_type": "code",
   "execution_count": 101,
   "metadata": {},
   "outputs": [
    {
     "name": "stdout",
     "output_type": "stream",
     "text": [
      "Display the numbers 1 through 5.\n",
      "1\n",
      "2\n",
      "3\n",
      "4\n",
      "5\n",
      "Display the numbers 0 through 4.\n",
      "0\n",
      "1\n",
      "2\n",
      "3\n",
      "4\n"
     ]
    }
   ],
   "source": [
    "#For loop example\n",
    "print('Display the numbers 1 through 5.')\n",
    "for num in [1, 2, 3, 4, 5]:\n",
    "    print(num)\n",
    "    \n",
    "print('Display the numbers 0 through 4.')\n",
    "for num in range(5):\n",
    "    print(num)\n",
    "#using range() is best for repeating for a specific number of times."
   ]
  },
  {
   "cell_type": "code",
   "execution_count": 103,
   "metadata": {},
   "outputs": [
    {
     "name": "stdout",
     "output_type": "stream",
     "text": [
      "Display some names.\n",
      "Dave\n",
      "Mike\n",
      "Seth\n",
      "Display hello world 3 times.\n",
      "Hello world.\n",
      "Hello world.\n",
      "Hello world.\n"
     ]
    }
   ],
   "source": [
    "print('Display some names.')\n",
    "for name in ['Dave', 'Mike', 'Seth']:\n",
    "    print(name)\n",
    "    \n",
    "print('Display hello world 3 times.')\n",
    "for hello in range(3):\n",
    "      print('Hello world.')"
   ]
  },
  {
   "cell_type": "code",
   "execution_count": 105,
   "metadata": {},
   "outputs": [
    {
     "name": "stdout",
     "output_type": "stream",
     "text": [
      "1\n",
      "2\n",
      "3\n",
      "4\n"
     ]
    }
   ],
   "source": [
    "#Be cautious of the nature of the range() function, it will include the first digit, but not the last!\n",
    "for num in range(1,5):\n",
    "    print(num)"
   ]
  },
  {
   "cell_type": "code",
   "execution_count": 107,
   "metadata": {},
   "outputs": [
    {
     "name": "stdout",
     "output_type": "stream",
     "text": [
      "1\n",
      "3\n",
      "5\n",
      "7\n",
      "9\n"
     ]
    }
   ],
   "source": [
    "#The third argument in the range() function is the step value.\n",
    "#This code will start from 1 and only consider integers n+2. \n",
    "for num in range(1,10,2):\n",
    "    print(num)"
   ]
  },
  {
   "cell_type": "code",
   "execution_count": 110,
   "metadata": {},
   "outputs": [
    {
     "name": "stdout",
     "output_type": "stream",
     "text": [
      "Number\tSquare\n",
      "--------------\n",
      "1 \t 1\n",
      "2 \t 4\n",
      "3 \t 9\n",
      "4 \t 16\n",
      "5 \t 25\n",
      "6 \t 36\n",
      "7 \t 49\n",
      "8 \t 64\n",
      "9 \t 81\n",
      "10 \t 100\n"
     ]
    }
   ],
   "source": [
    "#Squares \n",
    "print('Number\\tSquare')\n",
    "print('--------------')\n",
    "\n",
    "for number in range(1,11):\n",
    "    square = number**2\n",
    "    print(number,'\\t',square)"
   ]
  },
  {
   "cell_type": "code",
   "execution_count": 118,
   "metadata": {},
   "outputs": [
    {
     "name": "stdout",
     "output_type": "stream",
     "text": [
      "KPH\tMPH\n",
      "60 \t 37\n",
      "70 \t 43\n",
      "80 \t 50\n",
      "90 \t 56\n",
      "100 \t 62\n",
      "110 \t 68\n",
      "120 \t 75\n",
      "130 \t 81\n"
     ]
    }
   ],
   "source": [
    "#KPH to MPH \n",
    "print('KPH\\tMPH')\n",
    "\n",
    "for KPH in range(60,131,10):\n",
    "    MPH = KPH * 0.6214\n",
    "    print(KPH,'\\t',format(MPH,'.0f'))"
   ]
  },
  {
   "cell_type": "code",
   "execution_count": 122,
   "metadata": {},
   "outputs": [
    {
     "name": "stdout",
     "output_type": "stream",
     "text": [
      "KPH\tMPH\n",
      "60 \t 37\n",
      "70 \t 43\n",
      "80 \t 50\n",
      "90 \t 56\n",
      "100 \t 62\n",
      "110 \t 68\n",
      "120 \t 75\n",
      "130 \t 81\n"
     ]
    }
   ],
   "source": [
    "#The previous code is good, but in order to make it readable and easier to adjust and reconstruct,\n",
    "#Define your variables a priori.\n",
    "\n",
    "# This program converts the speeds 60 kph 2  # through 130 kph (in 10 kph increments) 3  # to mph. \n",
    "START_SPEED = 60   # Starting speed \n",
    "END_SPEED = 131   # Ending speed   \n",
    "INCREMENT = 10   # Speed increment   \n",
    "CONVERSION_FACTOR = 0.6214   # Conversion factor \n",
    "# Print the table headings.  \n",
    "print('KPH\\tMPH')\n",
    "\n",
    "# Print the speeds.\n",
    "for kph in range(START_SPEED, END_SPEED, INCREMENT):      \n",
    "    mph = kph * CONVERSION_FACTOR      \n",
    "    print(kph, '\\t', format(mph, '.0f'))"
   ]
  },
  {
   "cell_type": "code",
   "execution_count": 130,
   "metadata": {},
   "outputs": [
    {
     "name": "stdout",
     "output_type": "stream",
     "text": [
      "This program displays a list of numbers and their sqaures. \n",
      "Where does it start?1\n",
      "How high shall it go?5\n",
      "Number\tSqaure\n",
      "1 \t 1\n",
      "2 \t 4\n",
      "3 \t 9\n",
      "4 \t 16\n",
      "5 \t 25\n"
     ]
    }
   ],
   "source": [
    "#Display numbers and their sqaures\n",
    "\n",
    "#get end limit\n",
    "print('This program displays a list of numbers and their sqaures. ')\n",
    "start = int(input('Where does it start?'))\n",
    "end = int(input('How high shall it go?'))\n",
    "\n",
    "\n",
    "print('Number\\tSqaure') #Display headings\n",
    "#Calculate for statement\n",
    "for num in range(start, end + 1):\n",
    "    sqaure = num ** 2\n",
    "    print(num,'\\t',sqaure)"
   ]
  },
  {
   "cell_type": "code",
   "execution_count": 135,
   "metadata": {},
   "outputs": [
    {
     "name": "stdout",
     "output_type": "stream",
     "text": [
      "10\n",
      "9\n",
      "8\n",
      "7\n",
      "6\n",
      "5\n",
      "4\n",
      "3\n",
      "2\n",
      "1\n",
      "0\n"
     ]
    }
   ],
   "source": [
    "#You can also make the range function count down.\n",
    "for num in range(10,-1,-1):\n",
    "    print(num)"
   ]
  },
  {
   "cell_type": "code",
   "execution_count": 142,
   "metadata": {},
   "outputs": [
    {
     "name": "stdout",
     "output_type": "stream",
     "text": [
      "This program calculates the sum of 5 numbers you will enter.\n",
      "Enter a number: 2\n",
      "Enter a number: 34\n",
      "Enter a number: 24\n",
      "Enter a number: 73\n",
      "Enter a number: 1\n",
      "The total is:  134.0\n"
     ]
    }
   ],
   "source": [
    "#Accumulator example\n",
    "MAX = 5 #the maximum number of inputs\n",
    "\n",
    "#Initialize an accumulator variable\n",
    "total = 0.0\n",
    "\n",
    "#Explain program\n",
    "print('This program calculates the sum of', MAX, 'numbers you will enter.')\n",
    "\n",
    "#Get the numbers and accumulate them\n",
    "for counter in range(MAX):\n",
    "    number = int(input('Enter a number: '))\n",
    "    total = number + total\n",
    "    \n",
    "#Display total\n",
    "print('The total is: ', total)"
   ]
  },
  {
   "cell_type": "code",
   "execution_count": 146,
   "metadata": {},
   "outputs": [
    {
     "name": "stdout",
     "output_type": "stream",
     "text": [
      "12\n",
      "12\n"
     ]
    }
   ],
   "source": [
    "#Augmented operators.\n",
    "#instead of \n",
    "x = 10 \n",
    "x = x + 2\n",
    "print(x)\n",
    "\n",
    "#you can write\n",
    "x = 10\n",
    "x += 2\n",
    "print(x)\n",
    "\n",
    "#these also include:\n",
    "# +=\n",
    "# -=\n",
    "# *=\n",
    "# /=\n",
    "# %="
   ]
  },
  {
   "cell_type": "code",
   "execution_count": 149,
   "metadata": {},
   "outputs": [
    {
     "name": "stdout",
     "output_type": "stream",
     "text": [
      "Enter the property lot number.\n",
      "or enter 0 to end.\n",
      "Lot number: 0\n",
      "Program closed.\n"
     ]
    }
   ],
   "source": [
    "#Sentinel Value Example\n",
    "#Property taxes\n",
    "\n",
    "TAX_FACTOR = .0065\n",
    "\n",
    "#Get first lot number\n",
    "print('Enter the property lot number')\n",
    "print('or enter 0 to end.')\n",
    "lot = int(input('Lot number: '))\n",
    "\n",
    "#Continue until user inputs 0\n",
    "while lot != 0:\n",
    "    #get property value\n",
    "    value = float(input('Enter the property value: '))\n",
    "    \n",
    "    #Calculate property tax\n",
    "    tax = value * TAX_FACTOR\n",
    "    \n",
    "    #Display the tax\n",
    "    print('Property tax: $', format(tax, '.2f'), sep='')\n",
    "    \n",
    "    #Get next lot\n",
    "    print('Enter the next lot number or enter 0 to end.')\n",
    "    lot = int(input('Lot number: '))\n",
    "\n",
    "print('Program closed.')"
   ]
  },
  {
   "cell_type": "code",
   "execution_count": 152,
   "metadata": {},
   "outputs": [
    {
     "name": "stdout",
     "output_type": "stream",
     "text": [
      "Enter the item's wholesale cost: -5\n",
      "ERROR: the cost cannot be negative.\n",
      "Enter the correct wholesale cost: 10\n",
      "Retail price: $25.00\n",
      "Do you have another item? Enter y for yes: n\n"
     ]
    }
   ],
   "source": [
    "#Input validation loop\n",
    "#Retail prices\n",
    "\n",
    "MARK_UP = 2.5 #markup percentage\n",
    "another = 'y' #variable to control the loop\n",
    "\n",
    "#Process one or more items\n",
    "while another == 'y' or another == 'Y':\n",
    "    #Get wholesale cost\n",
    "    wholesale = float(input(\"Enter the item's wholesale cost: \"))\n",
    "    \n",
    "    #VALIDATION LOOP\n",
    "    while wholesale < 0:\n",
    "        print('ERROR: the cost cannot be negative.')\n",
    "        wholesale = float(input('Enter the correct wholesale cost: '))\n",
    "    \n",
    "    #calculate the retail price\n",
    "    retail = wholesale * MARK_UP\n",
    "    \n",
    "    #Display\n",
    "    print('Retail price: $', format(retail, ',.2f'), sep = '')\n",
    "    \n",
    "    #Do another?\n",
    "    another = input('Do you have another item? ' +\n",
    "                   'Enter y for yes: ')"
   ]
  },
  {
   "cell_type": "code",
   "execution_count": 154,
   "metadata": {},
   "outputs": [
    {
     "ename": "SyntaxError",
     "evalue": "invalid syntax (<ipython-input-154-dafd477e8bb6>, line 5)",
     "output_type": "error",
     "traceback": [
      "\u001b[1;36m  File \u001b[1;32m\"<ipython-input-154-dafd477e8bb6>\"\u001b[1;36m, line \u001b[1;32m5\u001b[0m\n\u001b[1;33m    for seconds in range(60)\u001b[0m\n\u001b[1;37m                            ^\u001b[0m\n\u001b[1;31mSyntaxError\u001b[0m\u001b[1;31m:\u001b[0m invalid syntax\n"
     ]
    }
   ],
   "source": [
    "#Nested Loops: Loops inside other loops.\n",
    "#Example: Clock.\n",
    "for hours in range(24):\n",
    "    for minutes in range(60):\n",
    "        for seconds in range(60):\n",
    "            print(hours, ':', minutes, ':', seconds)"
   ]
  },
  {
   "cell_type": "code",
   "execution_count": 179,
   "metadata": {},
   "outputs": [
    {
     "name": "stdout",
     "output_type": "stream",
     "text": [
      "United States of America\n",
      "**********--------------\n",
      "**********--------------\n",
      "**********--------------\n",
      "**********--------------\n",
      "**********--------------\n",
      "------------------------\n",
      "------------------------\n",
      "------------------------\n",
      "------------------------\n",
      "------------------------\n"
     ]
    }
   ],
   "source": [
    "#Printing patterns with nested loops\n",
    "print('United States of America')\n",
    "for row in range(5):\n",
    "    for col in range(10):\n",
    "        print('*', end='')\n",
    "    for line in range(14):\n",
    "        print('-', end='')\n",
    "    print()\n",
    "for row in range (5):\n",
    "    for line in range(24):\n",
    "        print('-', end='')\n",
    "    print()"
   ]
  },
  {
   "cell_type": "code",
   "execution_count": 180,
   "metadata": {},
   "outputs": [
    {
     "name": "stdout",
     "output_type": "stream",
     "text": [
      "*\n",
      "**\n",
      "***\n",
      "****\n",
      "*****\n",
      "******\n",
      "*******\n",
      "********\n"
     ]
    }
   ],
   "source": [
    "#Triangle\n",
    "BASE_SIZE = 8\n",
    "for r in range(BASE_SIZE):\n",
    "    for c in range(r+1):\n",
    "        print('*', end='')\n",
    "    print()"
   ]
  },
  {
   "cell_type": "code",
   "execution_count": 183,
   "metadata": {},
   "outputs": [],
   "source": [
    "#NOTE: TURTLE IS JANKY ON MY COMPUTER, TRY NOT TO RUN\n",
    "import turtle\n",
    "for x in range(4):\n",
    "    turtle.forward(100)\n",
    "    turtle.right(90)"
   ]
  },
  {
   "cell_type": "code",
   "execution_count": 4,
   "metadata": {},
   "outputs": [
    {
     "name": "stdout",
     "output_type": "stream",
     "text": [
      "Enter an integer that when multiplied by 10, is greater than 100.\n",
      "Input integer: 2\n",
      "20\n",
      "Input integer: 20\n",
      "200\n",
      "Success!\n"
     ]
    }
   ],
   "source": [
    "#1\n",
    "product = 0 #Initialize accumulator\n",
    "\n",
    "print('Enter an integer that when multiplied by 10, is greater than 100.')\n",
    "while product <= 100:\n",
    "    product = int(input('Input integer: ')) #Input the integer to be multiplied by 10.\n",
    "    product *= 10\n",
    "    print(product)\n",
    "print('Success!')"
   ]
  },
  {
   "cell_type": "code",
   "execution_count": 9,
   "metadata": {},
   "outputs": [
    {
     "name": "stdout",
     "output_type": "stream",
     "text": [
      "This program sums two variables. \n",
      "Enter x integer: 2\n",
      "Enter y integer: 2\n",
      "4\n",
      "Another? Type \"y\" to repeat: n\n"
     ]
    }
   ],
   "source": [
    "#2\n",
    "print('This program sums two variables. ')\n",
    "another = 'y'\n",
    "while another == 'y' or another == 'Y':\n",
    "    x = int(input('Enter x integer: '))\n",
    "    y = int(input('Enter y integer: '))\n",
    "    total = x + y\n",
    "    print(total)\n",
    "    another = input('Another? Type \"y\" to repeat: ')"
   ]
  },
  {
   "cell_type": "code",
   "execution_count": 14,
   "metadata": {},
   "outputs": [
    {
     "name": "stdout",
     "output_type": "stream",
     "text": [
      "0\n",
      "10\n",
      "20\n",
      "30\n",
      "40\n",
      "50\n",
      "60\n",
      "70\n",
      "80\n",
      "90\n",
      "100\n",
      "110\n",
      "120\n",
      "130\n",
      "140\n",
      "150\n",
      "160\n",
      "170\n",
      "180\n",
      "190\n",
      "200\n",
      "210\n",
      "220\n",
      "230\n",
      "240\n",
      "250\n",
      "260\n",
      "270\n",
      "280\n",
      "290\n",
      "300\n",
      "310\n",
      "320\n",
      "330\n",
      "340\n",
      "350\n",
      "360\n",
      "370\n",
      "380\n",
      "390\n",
      "400\n",
      "410\n",
      "420\n",
      "430\n",
      "440\n",
      "450\n",
      "460\n",
      "470\n",
      "480\n",
      "490\n",
      "500\n",
      "510\n",
      "520\n",
      "530\n",
      "540\n",
      "550\n",
      "560\n",
      "570\n",
      "580\n",
      "590\n",
      "600\n",
      "610\n",
      "620\n",
      "630\n",
      "640\n",
      "650\n",
      "660\n",
      "670\n",
      "680\n",
      "690\n",
      "700\n",
      "710\n",
      "720\n",
      "730\n",
      "740\n",
      "750\n",
      "760\n",
      "770\n",
      "780\n",
      "790\n",
      "800\n",
      "810\n",
      "820\n",
      "830\n",
      "840\n",
      "850\n",
      "860\n",
      "870\n",
      "880\n",
      "890\n",
      "900\n",
      "910\n",
      "920\n",
      "930\n",
      "940\n",
      "950\n",
      "960\n",
      "970\n",
      "980\n",
      "990\n",
      "1000\n"
     ]
    }
   ],
   "source": [
    "#3\n",
    "accum = 0\n",
    "while accum <= 1000:\n",
    "    print(accum)\n",
    "    accum += 10"
   ]
  },
  {
   "cell_type": "code",
   "execution_count": 20,
   "metadata": {},
   "outputs": [
    {
     "name": "stdout",
     "output_type": "stream",
     "text": [
      "This program will ask for 10 integers and display their sum.\n",
      "Enter integer :1\n",
      "Enter integer :1\n",
      "Enter integer :1\n",
      "Enter integer :1\n",
      "Enter integer :1\n",
      "Enter integer :1\n",
      "Enter integer :1\n",
      "Enter integer :1\n",
      "Enter integer :1\n",
      "Enter integer :1\n",
      "Final total:  10\n"
     ]
    }
   ],
   "source": [
    "#4\n",
    "print('This program will ask for 10 integers and display their sum.')\n",
    "accum = 0\n",
    "for x in range(10):\n",
    "    y = int(input('Enter integer :'))\n",
    "    accum += y\n",
    "print('Final total: ', accum)"
   ]
  },
  {
   "cell_type": "markdown",
   "metadata": {},
   "source": []
  },
  {
   "cell_type": "code",
   "execution_count": 21,
   "metadata": {},
   "outputs": [],
   "source": [
    "#6\n",
    "x += 1\n",
    "x *= 2\n",
    "x /= 10\n",
    "x -= 100"
   ]
  },
  {
   "cell_type": "code",
   "execution_count": 26,
   "metadata": {},
   "outputs": [
    {
     "name": "stdout",
     "output_type": "stream",
     "text": [
      "###############\n",
      "###############\n",
      "###############\n",
      "###############\n",
      "###############\n",
      "###############\n",
      "###############\n",
      "###############\n",
      "###############\n",
      "###############\n"
     ]
    }
   ],
   "source": [
    "#7\n",
    "for row in range(10):\n",
    "    for col in range(15):\n",
    "        print('#', end='')\n",
    "    print()"
   ]
  },
  {
   "cell_type": "code",
   "execution_count": 30,
   "metadata": {},
   "outputs": [
    {
     "name": "stdout",
     "output_type": "stream",
     "text": [
      "Enter a postive non-zero number: -2\n",
      "ERROR: Enter a postive non-zero number: 0\n",
      "ERROR: Enter a postive non-zero number: 2\n",
      "2\n"
     ]
    }
   ],
   "source": [
    "#8\n",
    "x = int(input('Enter a postive non-zero number: '))\n",
    "while x == 0 or x < 0:\n",
    "    x = int(input('ERROR: Enter a postive non-zero number: '))\n",
    "print(x)"
   ]
  },
  {
   "cell_type": "code",
   "execution_count": 32,
   "metadata": {},
   "outputs": [
    {
     "name": "stdout",
     "output_type": "stream",
     "text": [
      "Enter a number between 1 - 100: 101\n",
      "ERROR: Enter a number between 1-100: 5\n",
      "5\n"
     ]
    }
   ],
   "source": [
    "#9\n",
    "x = int(input('Enter a number between 1 - 100: '))\n",
    "while x > 100 or x < 1:\n",
    "    x = int(input('ERROR: Enter a number between 1-100: '))\n",
    "print(x)"
   ]
  },
  {
   "cell_type": "code",
   "execution_count": 36,
   "metadata": {},
   "outputs": [
    {
     "name": "stdout",
     "output_type": "stream",
     "text": [
      "Bugs collected today: 3\n",
      "Bugs collected today: 4\n",
      "Bugs collected today: 5\n",
      "Bugs collected today: 6\n",
      "Bugs collected today: 7\n",
      "Total:  25\n"
     ]
    }
   ],
   "source": [
    "#Bug Collector Problem\n",
    "bugs = 0\n",
    "for i in range(5):\n",
    "    collected = int(input(\"Bugs collected today: \"))\n",
    "    bugs += collected\n",
    "\n",
    "print('Total: ', bugs)"
   ]
  },
  {
   "cell_type": "code",
   "execution_count": 35,
   "metadata": {},
   "outputs": [
    {
     "name": "stdout",
     "output_type": "stream",
     "text": [
      "Minutes\tCalories\n",
      "10 \t 42.0\n",
      "15 \t 63.0\n",
      "20 \t 84.0\n",
      "25 \t 105.0\n",
      "30 \t 126.0\n"
     ]
    }
   ],
   "source": [
    "#Calories Burned\n",
    "print(\"Minutes\\tCalories\")\n",
    "for minutes in range(10,31,5):\n",
    "    calories = 4.2 * minutes\n",
    "    print(minutes,'\\t',calories)"
   ]
  },
  {
   "cell_type": "code",
   "execution_count": 40,
   "metadata": {},
   "outputs": [
    {
     "name": "stdout",
     "output_type": "stream",
     "text": [
      "Enter your budget and expenses. Type \"y\" to continue inputs.\n",
      "Input budget for this month: 500\n",
      "Enter expense amount: 50\n",
      "Type \"y\" to continue: y\n",
      "Enter expense amount: 60\n",
      "Type \"y\" to continue: y\n",
      "Enter expense amount: 70\n",
      "Type \"y\" to continue: n\n",
      "Final total:  320.0\n"
     ]
    }
   ],
   "source": [
    "#Budget Analysis\n",
    "print('Enter your budget and expenses. Type \"y\" to continue inputs.')\n",
    "monthly_budget = float(input('Input budget for this month: '))\n",
    "monthly_expenses = 0.0\n",
    "cont = 'y'\n",
    "while cont == 'y' or cont == 'Y':\n",
    "    expense = float(input('Enter expense amount: '))\n",
    "    monthly_expenses += expense\n",
    "    cont = input('Type \"y\" to continue: ')\n",
    "end_total = monthly_budget - monthly_expenses\n",
    "print('Final total: ', end_total)\n"
   ]
  },
  {
   "cell_type": "code",
   "execution_count": 47,
   "metadata": {},
   "outputs": [
    {
     "name": "stdout",
     "output_type": "stream",
     "text": [
      "Enter the train speed and hours traveled. \n",
      "Velocity: 65\n",
      "Hours: 3\n",
      "Hour\tDistance\n",
      "1 \t 65\n",
      "2 \t 130\n",
      "3 \t 195\n"
     ]
    }
   ],
   "source": [
    "#Distance Travel\n",
    "print('Enter the train speed and hours traveled. ')\n",
    "velocity = int(input('Velocity: '))\n",
    "time = int(input('Hours: '))\n",
    "\n",
    "print('Hour\\tDistance') #Headings\n",
    "\n",
    "#Calculate matrix\n",
    "for hour in range(1, time + 1):\n",
    "    distance = velocity * hour\n",
    "    print(hour,'\\t',distance)\n"
   ]
  },
  {
   "cell_type": "code",
   "execution_count": 52,
   "metadata": {
    "scrolled": true
   },
   "outputs": [
    {
     "name": "stdout",
     "output_type": "stream",
     "text": [
      "The program collects monthly rainfall data in yearly segments.\n",
      "Input years: 1\n",
      "Inches rained this month: 2\n",
      "Inches rained this month: 3\n",
      "Inches rained this month: 4\n",
      "Inches rained this month: 5\n",
      "Inches rained this month: 4\n",
      "Inches rained this month: 3\n",
      "Inches rained this month: 2\n",
      "Inches rained this month: 3\n",
      "Inches rained this month: 4\n",
      "Inches rained this month: 5\n",
      "Inches rained this month: 4\n",
      "Inches rained this month: 3\n",
      "Total Months:  12\n",
      "Total inches of rain:  42.0\n",
      "Monthly average:  3.50\n"
     ]
    }
   ],
   "source": [
    "#Average Rainfall\n",
    "print('The program collects monthly rainfall data in yearly segments.')\n",
    "years = int(input('Input years: '))\n",
    "\n",
    "total_rain = 0.0 #accumulator\n",
    "\n",
    "for year in range(years):\n",
    "    for month in range(1, 13):\n",
    "        rainfall = float(input('Inches rained this month: '))\n",
    "        total_rain += rainfall\n",
    "    \n",
    "months = years * 12\n",
    "average_rain = total_rain / months\n",
    "\n",
    "print('Total Months: ', months)\n",
    "print('Total inches of rain: ', total_rain)\n",
    "print('Monthly average: ', format(average_rain,',.2f'))"
   ]
  },
  {
   "cell_type": "markdown",
   "metadata": {},
   "source": []
  },
  {
   "cell_type": "code",
   "execution_count": 58,
   "metadata": {},
   "outputs": [
    {
     "name": "stdout",
     "output_type": "stream",
     "text": [
      "Celsius\tFahrenheit\n",
      "0 \t 32.0\n",
      "1 \t 33.8\n",
      "2 \t 35.6\n",
      "3 \t 37.4\n",
      "4 \t 39.2\n",
      "5 \t 41.0\n",
      "6 \t 42.8\n",
      "7 \t 44.6\n",
      "8 \t 46.4\n",
      "9 \t 48.2\n",
      "10 \t 50.0\n",
      "11 \t 51.8\n",
      "12 \t 53.6\n",
      "13 \t 55.4\n",
      "14 \t 57.2\n",
      "15 \t 59.0\n",
      "16 \t 60.8\n",
      "17 \t 62.6\n",
      "18 \t 64.4\n",
      "19 \t 66.2\n",
      "20 \t 68.0\n"
     ]
    }
   ],
   "source": [
    "#Celsius to Fahrenheit Table\n",
    "print('Celsius\\tFahrenheit')\n",
    "for degree in range(21):\n",
    "    convert = degree * (1.8) + 32\n",
    "    print(degree, '\\t', format(convert, ',.1f'))"
   ]
  },
  {
   "cell_type": "code",
   "execution_count": 84,
   "metadata": {},
   "outputs": [
    {
     "name": "stdout",
     "output_type": "stream",
     "text": [
      "Input days: 20\n",
      "Day\tIncome\n",
      "1 \t 0.01\n",
      "2 \t 0.02\n",
      "3 \t 0.04\n",
      "4 \t 0.08\n",
      "5 \t 0.16\n",
      "6 \t 0.32\n",
      "7 \t 0.64\n",
      "8 \t 1.28\n",
      "9 \t 2.56\n",
      "10 \t 5.12\n",
      "11 \t 10.24\n",
      "12 \t 20.48\n",
      "13 \t 40.96\n",
      "14 \t 81.92\n",
      "15 \t 163.84\n",
      "16 \t 327.68\n",
      "17 \t 655.36\n",
      "18 \t 1310.72\n",
      "19 \t 2621.44\n",
      "20 \t 5242.88\n",
      "Total: $ 10,485.75\n"
     ]
    }
   ],
   "source": [
    "#Pennies for Pay\n",
    "days = int(input('Input days: '))\n",
    "total = 0.00\n",
    "previous = .01\n",
    "print('Day\\tIncome')\n",
    "\n",
    "for day in range(1, days + 1):\n",
    "    income = previous\n",
    "    previous = income * 2\n",
    "    total += income\n",
    "    print(day,'\\t',income)\n",
    "\n",
    "print('Total: $', format(total,',.2f'))\n",
    "    "
   ]
  },
  {
   "cell_type": "code",
   "execution_count": 88,
   "metadata": {},
   "outputs": [
    {
     "name": "stdout",
     "output_type": "stream",
     "text": [
      "Enter some integers. A positive number will add to the sum, but a negative will cease the inputs.\n",
      "Enter a number: 2\n",
      "Enter a number: 3\n",
      "Enter a number: 4\n",
      "Enter a number: -2\n",
      "Total of the postives:  9\n"
     ]
    }
   ],
   "source": [
    "#Sum of Numbers\n",
    "print('Enter some integers. A positive number will add to the sum, but a negative will cease the inputs.')\n",
    "total = 0\n",
    "num = 1\n",
    "while num > 0:\n",
    "    num = int(input('Enter a number: '))\n",
    "    if num > 0:\n",
    "        total += num\n",
    "        \n",
    "print('Total of the postives: ', total)"
   ]
  },
  {
   "cell_type": "code",
   "execution_count": 94,
   "metadata": {},
   "outputs": [
    {
     "name": "stdout",
     "output_type": "stream",
     "text": [
      "EXPECTED RISE IN OCEAN LEVELS\n",
      "Year\tRise\n",
      "1 \t 1.60 mm\n",
      "2 \t 3.20 mm\n",
      "3 \t 4.80 mm\n",
      "4 \t 6.40 mm\n",
      "5 \t 8.00 mm\n",
      "6 \t 9.60 mm\n",
      "7 \t 11.20 mm\n",
      "8 \t 12.80 mm\n",
      "9 \t 14.40 mm\n",
      "10 \t 16.00 mm\n",
      "11 \t 17.60 mm\n",
      "12 \t 19.20 mm\n",
      "13 \t 20.80 mm\n",
      "14 \t 22.40 mm\n",
      "15 \t 24.00 mm\n",
      "16 \t 25.60 mm\n",
      "17 \t 27.20 mm\n",
      "18 \t 28.80 mm\n",
      "19 \t 30.40 mm\n",
      "20 \t 32.00 mm\n",
      "21 \t 33.60 mm\n",
      "22 \t 35.20 mm\n",
      "23 \t 36.80 mm\n",
      "24 \t 38.40 mm\n",
      "25 \t 40.00 mm\n"
     ]
    }
   ],
   "source": [
    "#Ocean levels\n",
    "print('EXPECTED RISE IN OCEAN LEVELS')\n",
    "print('Year\\tRise')\n",
    "rise = 1.6\n",
    "for year in range(1, 26):\n",
    "    rise = 1.6 * year\n",
    "    print(year, '\\t', format(rise, ',.2f'), 'mm')"
   ]
  },
  {
   "cell_type": "code",
   "execution_count": 97,
   "metadata": {},
   "outputs": [
    {
     "name": "stdout",
     "output_type": "stream",
     "text": [
      "Years: 5\n",
      "$ 12,463.74\n"
     ]
    }
   ],
   "source": [
    "#Tuition Increase\n",
    "tuition = 8000\n",
    "years = int(input('Years: '))\n",
    "for i in range(1, years + 1):\n",
    "    tuition = tuition * (1.03) ** i\n",
    "    if i == years:\n",
    "        print('$', format(tuition,',.2f'))"
   ]
  },
  {
   "cell_type": "code",
   "execution_count": 101,
   "metadata": {},
   "outputs": [
    {
     "name": "stdout",
     "output_type": "stream",
     "text": [
      "Enter your starting weight: 200\n",
      "Your weight loss journey if you reduce caloric intake by 500 daily:\n",
      "Month\tWieght\n",
      "1 \t 196\n",
      "2 \t 192\n",
      "3 \t 188\n",
      "4 \t 184\n",
      "5 \t 180\n",
      "6 \t 176\n"
     ]
    }
   ],
   "source": [
    "#Weight Loss\n",
    "weight = int(input('Enter your starting weight: '))\n",
    "print('Your weight loss journey if you reduce caloric intake by 500 daily:')\n",
    "print('Month\\tWieght')\n",
    "for i in range(1, 7):\n",
    "    new_weight = weight - 4 * i\n",
    "    print(i, '\\t', new_weight)"
   ]
  },
  {
   "cell_type": "code",
   "execution_count": 104,
   "metadata": {},
   "outputs": [
    {
     "name": "stdout",
     "output_type": "stream",
     "text": [
      "Enter a positive integer: 5\n",
      "Factorial:  120\n"
     ]
    }
   ],
   "source": [
    "#Calculating the Factorial of a Number\n",
    "num = int(input('Enter a positive integer: '))\n",
    "total = 1\n",
    "for i in range (1, num + 1):\n",
    "    total *= i\n",
    "print('Factorial: ', total)"
   ]
  },
  {
   "cell_type": "code",
   "execution_count": 106,
   "metadata": {},
   "outputs": [
    {
     "name": "stdout",
     "output_type": "stream",
     "text": [
      "Input initial population: 10\n",
      "Input expected average daily increase as a percentage: 30\n",
      "How many days will they have to multiply?10\n",
      "Day\tApproximate Pop.\n",
      "1 \t 10.00\n",
      "2 \t 13.00\n",
      "3 \t 16.90\n",
      "4 \t 21.97\n",
      "5 \t 28.56\n",
      "6 \t 37.13\n",
      "7 \t 48.27\n",
      "8 \t 62.75\n",
      "9 \t 81.57\n",
      "10 \t 106.04\n"
     ]
    }
   ],
   "source": [
    "#Population\n",
    "init_pop = int(input('Input initial population: '))\n",
    "avg_increase = float(input('Input expected average daily increase as a percentage: '))\n",
    "days = int(input('How many days will they have to multiply?'))\n",
    "\n",
    "print('Day\\tApproximate Pop.')\n",
    "for day in range(days):\n",
    "    new_pop = init_pop * (1 + avg_increase / 100) ** day\n",
    "    print(day + 1, '\\t', format(new_pop, ',.2f'))"
   ]
  },
  {
   "cell_type": "code",
   "execution_count": 115,
   "metadata": {},
   "outputs": [
    {
     "name": "stdout",
     "output_type": "stream",
     "text": [
      "*******\n",
      "******\n",
      "*****\n",
      "****\n",
      "***\n",
      "**\n",
      "*\n"
     ]
    }
   ],
   "source": [
    "#14\n",
    "x = 7\n",
    "for row in range(7):\n",
    "    for col in range(x):\n",
    "        print('*', end='')\n",
    "    print()\n",
    "    x -= 1"
   ]
  },
  {
   "cell_type": "code",
   "execution_count": 116,
   "metadata": {},
   "outputs": [
    {
     "name": "stdout",
     "output_type": "stream",
     "text": [
      "##\n",
      "# #\n",
      "#  #\n",
      "#   #\n",
      "#    #\n",
      "#     #\n"
     ]
    }
   ],
   "source": [
    "#15\n",
    "x = 0\n",
    "for row in range(6):\n",
    "    for col in range(1):\n",
    "        print('#', ' ' * x, '#', sep='')\n",
    "        x += 1"
   ]
  },
  {
   "cell_type": "code",
   "execution_count": 117,
   "metadata": {},
   "outputs": [],
   "source": [
    "#CHAPTER 5: FUNCTIONS#"
   ]
  },
  {
   "cell_type": "code",
   "execution_count": 118,
   "metadata": {},
   "outputs": [
    {
     "name": "stdout",
     "output_type": "stream",
     "text": [
      "I am Arthur,\n",
      "King of the Britons\n"
     ]
    }
   ],
   "source": [
    "#make a function\n",
    "def message():\n",
    "    print('I am Arthur,')\n",
    "    print('King of the Britons')\n",
    "message()"
   ]
  },
  {
   "cell_type": "code",
   "execution_count": 119,
   "metadata": {},
   "outputs": [
    {
     "name": "stdout",
     "output_type": "stream",
     "text": [
      "Incoming message: \n",
      "\"You are fired.\"\n",
      "Goodbye!\n"
     ]
    }
   ],
   "source": [
    "#define the main function, this is common for most programs, essential in C++ for example\n",
    "def main():\n",
    "    print('Incoming message: ')\n",
    "    message()\n",
    "    print('Goodbye!')\n",
    "\n",
    "#define the message function    \n",
    "def message():\n",
    "    print('\"You are fired.\"')\n",
    "\n",
    "#Call main\n",
    "main()"
   ]
  },
  {
   "cell_type": "code",
   "execution_count": 121,
   "metadata": {},
   "outputs": [
    {
     "name": "stdout",
     "output_type": "stream",
     "text": [
      "This program tells you how to dissamble an ACME laundry dryer.\n",
      "There are 4 steps in the process.\n",
      "\n",
      "Press Enter to see step 1.\n",
      "Step 1: Unplug the dryer and move it away from the wall.\n",
      "\n",
      "Press Enter to see step 2.\n",
      "Step 2: Remove the six screws from the back.\n",
      "\n",
      "Press Enter to see step 3.\n",
      "Step 3: Remove the back panel.\n",
      "\n",
      "Press Enter to see step 4.\n",
      "Step 4: Pull the top of the dryer straight up.\n"
     ]
    }
   ],
   "source": [
    "#Acme step-by-step instructions\n",
    "def main():\n",
    "    startup_message() #Display startup message\n",
    "    input('Press Enter to see step 1.')\n",
    "    step1() #Display Step 1 \n",
    "    input('Press Enter to see step 2.')\n",
    "    step2() #Display Step 2\n",
    "    input('Press Enter to see step 3.')\n",
    "    step3() #Display Step 3\n",
    "    input('Press Enter to see step 4.')\n",
    "    step4() #Display Step 4\n",
    "\n",
    "def startup_message():\n",
    "    print('This program tells you how to dissamble an ACME laundry dryer.')\n",
    "    print('There are 4 steps in the process.')\n",
    "    print()\n",
    "\n",
    "def step1():\n",
    "    print('Step 1: Unplug the dryer and move it away from the wall.')\n",
    "    print()\n",
    "\n",
    "def step2():\n",
    "    print('Step 2: Remove the six screws from the back.')\n",
    "    print()\n",
    "\n",
    "def step3():\n",
    "    print('Step 3: Remove the back panel.')\n",
    "    print()\n",
    "    \n",
    "def step4():\n",
    "    print('Step 4: Pull the top of the dryer straight up.')\n",
    "\n",
    "main() #Call function"
   ]
  },
  {
   "cell_type": "code",
   "execution_count": 122,
   "metadata": {},
   "outputs": [
    {
     "name": "stdout",
     "output_type": "stream",
     "text": [
      "Texas birds: 5000\n",
      "California birds: 3000\n"
     ]
    }
   ],
   "source": [
    "#Local variable demonstration\n",
    "#This program shows two functions that have local variables  with the same names\n",
    "#Thus, local variables are soveriegn to their own functions; errors would occur if the main()\n",
    "#or other function tried to call a function's local defined variable\n",
    "\n",
    "def main():\n",
    "    texas()\n",
    "    california()\n",
    "\n",
    "def texas():\n",
    "    birds = 5000\n",
    "    print('Texas birds:', birds)\n",
    "\n",
    "def california():\n",
    "    birds = 3000\n",
    "    print('California birds:', birds)\n",
    "\n",
    "main()"
   ]
  },
  {
   "cell_type": "code",
   "execution_count": 129,
   "metadata": {},
   "outputs": [
    {
     "name": "stdout",
     "output_type": "stream",
     "text": [
      "Number to double: 5\n",
      "10\n",
      "100\n"
     ]
    }
   ],
   "source": [
    "#Parameter variable example\n",
    "def main():\n",
    "    value = int(input('Number to double: '))\n",
    "    show_double(value)\n",
    "    show_double(50) #NOTE: This format is a positional variable\n",
    "    \n",
    "def show_double(number):\n",
    "    result = number * 2\n",
    "    print(result)\n",
    "    \n",
    "main()"
   ]
  },
  {
   "cell_type": "code",
   "execution_count": 130,
   "metadata": {},
   "outputs": [
    {
     "name": "stdout",
     "output_type": "stream",
     "text": [
      "The sum of 12 and 45 is\n",
      "57\n"
     ]
    }
   ],
   "source": [
    "#Two argument parameter variables\n",
    "def main():\n",
    "    print('The sum of 12 and 45 is')\n",
    "    show_sum(12,45)\n",
    "    \n",
    "def show_sum(num1,num2):\n",
    "    result = num1 + num2\n",
    "    print(result)\n",
    "\n",
    "main()"
   ]
  },
  {
   "cell_type": "code",
   "execution_count": 131,
   "metadata": {},
   "outputs": [
    {
     "name": "stdout",
     "output_type": "stream",
     "text": [
      "Value is 99\n",
      "Changing value...\n",
      "Value is now 0\n",
      "Back in the main() the value is 99\n"
     ]
    }
   ],
   "source": [
    "#Changes made to the parameter variable will not affect the argument\n",
    "def main():\n",
    "    value = 99\n",
    "    print('Value is', value)\n",
    "    change_me(value)\n",
    "    print('Back in the main() the value is', value)\n",
    "    \n",
    "def change_me(arg):\n",
    "    print('Changing value...')\n",
    "    arg = 0\n",
    "    print('Value is now', arg)\n",
    "    \n",
    "main()"
   ]
  },
  {
   "cell_type": "code",
   "execution_count": 132,
   "metadata": {},
   "outputs": [
    {
     "name": "stdout",
     "output_type": "stream",
     "text": [
      "The simple interest will be $1,000.00\n"
     ]
    }
   ],
   "source": [
    "#Keyword arguments example\n",
    "#(parameter_variable=value)\n",
    "def main():\n",
    "    show_interest(rate=.01,periods=10,principal=10000.0) #notice how we define the parameters with keywords\n",
    "\n",
    "def show_interest(principal, rate, periods):\n",
    "    interest = principal * rate * periods #notice the order does not match the parameter order; now it doesn't matter!\n",
    "    print('The simple interest will be $', format(interest, ',.2f'), sep='')\n",
    "\n",
    "main()"
   ]
  },
  {
   "cell_type": "code",
   "execution_count": 133,
   "metadata": {},
   "outputs": [
    {
     "name": "stdout",
     "output_type": "stream",
     "text": [
      "10\n"
     ]
    }
   ],
   "source": [
    "#Global Variable example\n",
    "#Define the global variable:\n",
    "my_value = 10\n",
    "\n",
    "#The show_value function prints the value of the global variable\n",
    "def show_value():\n",
    "    print(my_value)\n",
    "\n",
    "show_value()"
   ]
  },
  {
   "cell_type": "code",
   "execution_count": 135,
   "metadata": {},
   "outputs": [
    {
     "name": "stdout",
     "output_type": "stream",
     "text": [
      "Enter a number: 4\n",
      "The number you entered is: 4\n"
     ]
    }
   ],
   "source": [
    "#If you want a statment in a function to assign a value to a global variable, you must declare\n",
    "#the global variable within the function...\n",
    "\n",
    "#Create global variable:\n",
    "number = 0 \n",
    "\n",
    "def main():\n",
    "    global number #<---\n",
    "    number = int(input('Enter a number: '))\n",
    "    show_number()\n",
    "\n",
    "def show_number():\n",
    "    print('The number you entered is:', number)\n",
    "\n",
    "main()"
   ]
  },
  {
   "cell_type": "code",
   "execution_count": 136,
   "metadata": {},
   "outputs": [],
   "source": [
    "#WHY NOT TO USE GLOBAL VARIABLES:\n",
    "#1. Makes debugging difficult because any statement in thousands of lines of code can screw eachother over\n",
    "#2. Functions using it are dependant on them, and switching to local will cause lots of redesign\n",
    "#3. If you want to understand a global variable, then the reader must understand every place that accesses it!"
   ]
  },
  {
   "cell_type": "code",
   "execution_count": 140,
   "metadata": {},
   "outputs": [
    {
     "name": "stdout",
     "output_type": "stream",
     "text": [
      "Enter the gross pay: 80000\n",
      "Enter the amount of bonuses: 20000\n",
      "Contribution for gross pay: $4,000.00\n",
      "Contribution for bonuses: $1,000.00\n"
     ]
    }
   ],
   "source": [
    "#Global constants\n",
    "#These are permissable because they cannot be changed like the global variables\n",
    "#Python doesn't technically allow constants, but can be simulated.\n",
    "\n",
    "#EXAMPLE:\n",
    "CONTRIBUTION_RATE = 0.05 #it is common practice to upper-case the entire constant variable\n",
    "\n",
    "def main():\n",
    "    gross_pay = float(input('Enter the gross pay: '))\n",
    "    bonus = float(input('Enter the amount of bonuses: '))\n",
    "    show_pay_contrib(gross_pay)\n",
    "    show_bonus_contrib(bonus)\n",
    "    \n",
    "def show_pay_contrib(gross):\n",
    "    contrib = gross * CONTRIBUTION_RATE\n",
    "    print('Contribution for gross pay: $', format(contrib,',.2f'),sep='')\n",
    "    \n",
    "def show_bonus_contrib(bonus):\n",
    "    contrib = bonus * CONTRIBUTION_RATE\n",
    "    print('Contribution for bonuses: $', format(contrib, ',.2f'), sep='')\n",
    "    \n",
    "main()"
   ]
  },
  {
   "cell_type": "code",
   "execution_count": 141,
   "metadata": {},
   "outputs": [],
   "source": [
    "#Value-returning Functions\n",
    "#The functions before are void-functions; they perform specific tasks and execute when you call them, but terminate after.\n",
    "#Value-returning functions does the same as voids except they return a value back to the program that called it!\n",
    "#These values can be prints, assigned to variables, used in mathematical expressions, ect."
   ]
  },
  {
   "cell_type": "code",
   "execution_count": 142,
   "metadata": {},
   "outputs": [],
   "source": [
    "#Library functions are stored in files called modules.\n",
    "#Python comes with a standard library like print, input, and range.\n",
    "#Use import to tell the interpreter the module you will use.\n",
    "#Many programmers consider libraries as black-boxes; often you cannot see the operations within the functions.\n",
    "import math"
   ]
  },
  {
   "cell_type": "code",
   "execution_count": 153,
   "metadata": {},
   "outputs": [
    {
     "name": "stdout",
     "output_type": "stream",
     "text": [
      "42\n"
     ]
    }
   ],
   "source": [
    "#TO CALL A FUNCTION FROM LIBRARY, use this statement blueprint; \n",
    "#library.function (arugments, arguments, ...)\n",
    "import random\n",
    "number = random.randint (1, 100) \n",
    "print(number)"
   ]
  },
  {
   "cell_type": "code",
   "execution_count": 154,
   "metadata": {},
   "outputs": [
    {
     "name": "stdout",
     "output_type": "stream",
     "text": [
      "60\n",
      "60\n",
      "4\n",
      "90\n",
      "4\n"
     ]
    }
   ],
   "source": [
    "import random\n",
    "def main():\n",
    "    for count in range(5):\n",
    "        number = random.randint(1, 100)\n",
    "        print(number)\n",
    "\n",
    "main()"
   ]
  },
  {
   "cell_type": "code",
   "execution_count": 155,
   "metadata": {},
   "outputs": [
    {
     "name": "stdout",
     "output_type": "stream",
     "text": [
      "88\n",
      "47\n",
      "17\n",
      "17\n",
      "14\n"
     ]
    }
   ],
   "source": [
    "import random\n",
    "def main():\n",
    "    for count in range(5):\n",
    "        print(random.randint(1,100))\n",
    "        \n",
    "main()"
   ]
  },
  {
   "cell_type": "code",
   "execution_count": 157,
   "metadata": {},
   "outputs": [
    {
     "name": "stdout",
     "output_type": "stream",
     "text": [
      "2\n",
      "4\n",
      "Another roll? Type \"y\" to continue.y\n",
      "6\n",
      "3\n",
      "Another roll? Type \"y\" to continue.n\n"
     ]
    }
   ],
   "source": [
    "#Roll-dice simulator\n",
    "import random\n",
    "\n",
    "def main():\n",
    "    cont = 'y'\n",
    "    while cont == 'y' or cont == 'Y':\n",
    "        print(random.randint(1,6))\n",
    "        print(random.randint(1,6))\n",
    "        cont = input('Another roll? Type \"y\" to continue.')\n",
    "                     \n",
    "main()"
   ]
  },
  {
   "cell_type": "code",
   "execution_count": 160,
   "metadata": {},
   "outputs": [
    {
     "name": "stdout",
     "output_type": "stream",
     "text": [
      "TAILS\n",
      "HEADS\n",
      "HEADS\n",
      "TAILS\n",
      "HEADS\n",
      "TAILS\n",
      "TAILS\n",
      "HEADS\n",
      "HEADS\n",
      "HEADS\n"
     ]
    }
   ],
   "source": [
    "#Coin-tosses\n",
    "import random\n",
    "\n",
    "def main():\n",
    "    for roll in range(10):\n",
    "        if random.randint(1,2) == 1:\n",
    "            print('HEADS')\n",
    "        else:\n",
    "            print('TAILS')\n",
    "\n",
    "main()"
   ]
  },
  {
   "cell_type": "code",
   "execution_count": 170,
   "metadata": {},
   "outputs": [
    {
     "name": "stdout",
     "output_type": "stream",
     "text": [
      "80\n"
     ]
    }
   ],
   "source": [
    "#Random.randrange\n",
    "import random\n",
    "number = random.randrange(0,101,10) #In this function, you will roll a number between 0-100 IN INCREMENTS of 10.\n",
    "print(number)"
   ]
  },
  {
   "cell_type": "code",
   "execution_count": 174,
   "metadata": {},
   "outputs": [
    {
     "name": "stdout",
     "output_type": "stream",
     "text": [
      "0.5494879358755163\n"
     ]
    }
   ],
   "source": [
    "#Random.random\n",
    "import random\n",
    "print(random.random()) # Roll any float number between 0.0 and 1.0\n",
    "#Very useful for distribution and percentages"
   ]
  },
  {
   "cell_type": "code",
   "execution_count": 183,
   "metadata": {},
   "outputs": [
    {
     "name": "stdout",
     "output_type": "stream",
     "text": [
      "4.860001492076032\n"
     ]
    }
   ],
   "source": [
    "#Random.uniform\n",
    "import random\n",
    "print(random.uniform(1.0,10.0)) #Print a float between specified range values"
   ]
  },
  {
   "cell_type": "code",
   "execution_count": 184,
   "metadata": {},
   "outputs": [
    {
     "name": "stdout",
     "output_type": "stream",
     "text": [
      "74\n",
      "5\n",
      "74\n",
      "5\n",
      "74\n",
      "5\n"
     ]
    }
   ],
   "source": [
    "#Random Number Seeds\n",
    "#Reminder that these random numbers are only pseudorandom; generated by formula.\n",
    "#Seed values are values that return the next random number in the series.\n",
    "#When random module is used, it retrieves the system time from the computer’s internal clock and uses that as the seed value.\n",
    "#Down to a hundredth of a second\n",
    "#TO REGENERATE THE SAME SEQUENCE OF RANDOM NUMBERS, USE THE random.seed() function\n",
    "import random\n",
    "def main():\n",
    "    random.seed(10)\n",
    "    print(random.randint(1,100))\n",
    "    print(random.randint(1,100))\n",
    "\n",
    "#These mains will redeliver the same 2 random ints.\n",
    "main()\n",
    "main()\n",
    "main()"
   ]
  },
  {
   "cell_type": "code",
   "execution_count": 185,
   "metadata": {},
   "outputs": [],
   "source": [
    "#Writing Value-Returning Functions\n",
    "#To make one, simply add a return statement\n",
    "def function():\n",
    "    x = 0\n",
    "    x = 2 + 2\n",
    "    return x"
   ]
  },
  {
   "cell_type": "code",
   "execution_count": 187,
   "metadata": {},
   "outputs": [
    {
     "name": "stdout",
     "output_type": "stream",
     "text": [
      "Enter your age: 24\n",
      "Enter friend age: 32\n",
      "Together you are 56 years old.\n"
     ]
    }
   ],
   "source": [
    "#Return value of function\n",
    "def main():\n",
    "    first_age = int(input('Enter your age: '))\n",
    "    second_age = int(input('Enter friend age: '))\n",
    "    total = sum(first_age, second_age) #call sum()\n",
    "    print('Together you are', total, 'years old.')\n",
    "\n",
    "def sum(num1,num2):\n",
    "    result = num1 + num2\n",
    "    return result\n",
    "\n",
    "main()"
   ]
  },
  {
   "cell_type": "code",
   "execution_count": 188,
   "metadata": {},
   "outputs": [
    {
     "name": "stdout",
     "output_type": "stream",
     "text": [
      "Enter your age: 20\n",
      "Enter friend age: 20\n",
      "Together you are 40 years old.\n"
     ]
    }
   ],
   "source": [
    "#Simplify the above Return value of function\n",
    "def main():\n",
    "    first_age = int(input('Enter your age: '))\n",
    "    second_age = int(input('Enter friend age: '))\n",
    "    total = sum(first_age, second_age) #call sum()\n",
    "    print('Together you are', total, 'years old.')\n",
    "\n",
    "def sum(num1,num2):\n",
    "    return num1 + num2 #WE CAN SIMPLIFY BY REMOVING THE VARIABLE!\n",
    "\n",
    "main()"
   ]
  },
  {
   "cell_type": "code",
   "execution_count": 192,
   "metadata": {},
   "outputs": [
    {
     "name": "stdout",
     "output_type": "stream",
     "text": [
      "Enter the item's regular price: 2\n",
      "2.0\n"
     ]
    }
   ],
   "source": [
    "def get_regular_price():\n",
    "    price = float(input(\"Enter the item's regular price: \"))\n",
    "    return price\n",
    "\n",
    "reg_price = get_regular_price()\n",
    "print(reg_price)"
   ]
  },
  {
   "cell_type": "code",
   "execution_count": 197,
   "metadata": {},
   "outputs": [
    {
     "name": "stdout",
     "output_type": "stream",
     "text": [
      "Enter item regular price: 30\n",
      "Sales price: $24.00\n"
     ]
    }
   ],
   "source": [
    "#Retail Sales Price: Using functions to simplify mathematical expressions\n",
    "DISCOUNT_PERCENTAGE = .2\n",
    "\n",
    "def main():\n",
    "    reg_price = get_regular_price()\n",
    "    sales_price = reg_price - discount(reg_price)\n",
    "    print('Sales price: $', format(sales_price, ',.2f'), sep='')\n",
    "    \n",
    "def get_regular_price():\n",
    "    price = float(input('Enter item regular price: '))\n",
    "    return price\n",
    "\n",
    "def discount(price):\n",
    "    \n",
    "    return DISCOUNT_PERCENTAGE * price\n",
    "\n",
    "main()"
   ]
  },
  {
   "cell_type": "code",
   "execution_count": 205,
   "metadata": {},
   "outputs": [
    {
     "name": "stdout",
     "output_type": "stream",
     "text": [
      "Enter monthly sales: 9000\n",
      "Enter amount of advanced pay, if given.\n",
      "Month advance: 0\n",
      "The sales commission pay is $900.00\n"
     ]
    }
   ],
   "source": [
    "#Get Sales Commission at Make Your Own Music\n",
    "def main():\n",
    "    sales = get_sales()\n",
    "    advanced_pay = get_advanced_pay()\n",
    "    comm_rate = get_comm_rate(sales)\n",
    "    pay = sales * comm_rate - advanced_pay\n",
    "    \n",
    "    print('The sales commission pay is $', format(pay, ',.2f'), sep='')\n",
    "    if pay < 0:\n",
    "        print('Salesperson must reimburse the company.')\n",
    "        \n",
    "def get_sales():\n",
    "    monthly_sales = float(input('Enter monthly sales: '))\n",
    "    return monthly_sales\n",
    "\n",
    "def get_advanced_pay():\n",
    "    print('Enter amount of advanced pay, if given.')\n",
    "    advance = float(input('Month advance: '))\n",
    "    return advance\n",
    "\n",
    "def get_comm_rate(sales):\n",
    "    if sales < 10000:\n",
    "        comm_rate = .1\n",
    "    elif sales >= 10000 and sales < 15000:\n",
    "        comm_rate = .12\n",
    "    elif sales >= 15000 and sales < 18000:\n",
    "        comm_rate = .14\n",
    "    elif sales >= 18000 and sales < 22000:\n",
    "        comm_rate = .16\n",
    "    elif sales >= 22000:\n",
    "        comm_rate = .18\n",
    "    return comm_rate\n",
    "\n",
    "main()"
   ]
  },
  {
   "cell_type": "code",
   "execution_count": 208,
   "metadata": {},
   "outputs": [
    {
     "name": "stdout",
     "output_type": "stream",
     "text": [
      "Enter number: 5\n",
      "Number is odd.\n"
     ]
    }
   ],
   "source": [
    "#Boolean function\n",
    "def main():\n",
    "    number = int(input('Enter number: '))\n",
    "    if is_even(number):\n",
    "        print('Number is even.')\n",
    "    else:\n",
    "        print('Number is odd.')\n",
    "        \n",
    "def is_even(number):\n",
    "    if (number % 2) == 0:\n",
    "        status = True\n",
    "    else:\n",
    "        status = False\n",
    "    return status\n",
    "\n",
    "main()"
   ]
  },
  {
   "cell_type": "code",
   "execution_count": 211,
   "metadata": {},
   "outputs": [
    {
     "name": "stdout",
     "output_type": "stream",
     "text": [
      "Enter a number: 25\n",
      "The square root of 25.0 is 5.0\n"
     ]
    }
   ],
   "source": [
    "#math library\n",
    "import math\n",
    "\n",
    "def main():\n",
    "    #Get number\n",
    "    number = float(input('Enter a number: '))\n",
    "    \n",
    "    #Get the square root\n",
    "    square_root = math.sqrt(number)\n",
    "    \n",
    "    print('The square root of', number, 'is', square_root)\n",
    "    \n",
    "main()"
   ]
  },
  {
   "cell_type": "code",
   "execution_count": 215,
   "metadata": {},
   "outputs": [
    {
     "name": "stdout",
     "output_type": "stream",
     "text": [
      "Enter the length of side A:3\n",
      "Enter the length of side B:4\n",
      "The lenght of hypotenuse is  5.0\n"
     ]
    }
   ],
   "source": [
    "#Triangle hypotenuse\n",
    "import math\n",
    "def main():\n",
    "    #Get the length of the triangle's two sides\n",
    "    a = float(input('Enter the length of side A:'))\n",
    "    b = float(input('Enter the length of side B:'))\n",
    "    \n",
    "    #Calculate hypotenuse\n",
    "    c = math.hypot(a,b)\n",
    "    \n",
    "    print('The lenght of hypotenuse is ', c)\n",
    "    \n",
    "main()"
   ]
  },
  {
   "cell_type": "code",
   "execution_count": 216,
   "metadata": {},
   "outputs": [
    {
     "name": "stdout",
     "output_type": "stream",
     "text": [
      "50.26548245743669\n"
     ]
    }
   ],
   "source": [
    "#Using pi and e, which can be used as variables\n",
    "radius = 4\n",
    "print(math.pi * radius**2)"
   ]
  },
  {
   "cell_type": "code",
   "execution_count": 220,
   "metadata": {},
   "outputs": [
    {
     "name": "stdout",
     "output_type": "stream",
     "text": [
      "0.7853981633974483\n"
     ]
    }
   ],
   "source": [
    "import math\n",
    "def main():\n",
    "    degrees = 45\n",
    "    radians = math.radians(degrees)\n",
    "    print(radians)\n",
    "main()"
   ]
  },
  {
   "cell_type": "code",
   "execution_count": 221,
   "metadata": {},
   "outputs": [],
   "source": [
    "#Storing functions in Modules\n",
    "#Modules = file that contains python code which helps in dividing large programs\n",
    "#Modules typically won't use the main() function and instead contain functions you can call upon in an organized way\n",
    "#making a module for calculating a circle can be called circle.py and you can use \"import circle\" in your main program."
   ]
  },
  {
   "cell_type": "code",
   "execution_count": 233,
   "metadata": {},
   "outputs": [
    {
     "name": "stdout",
     "output_type": "stream",
     "text": [
      "Input number: 5\n",
      "50\n"
     ]
    }
   ],
   "source": [
    "#1\n",
    "def main():\n",
    "    number = int(input(\"Input number: \"))\n",
    "    print(times_ten(number))\n",
    "\n",
    "def times_ten(number):\n",
    "    product = number * 10\n",
    "    return product\n",
    "\n",
    "main()"
   ]
  },
  {
   "cell_type": "code",
   "execution_count": 234,
   "metadata": {},
   "outputs": [
    {
     "name": "stdout",
     "output_type": "stream",
     "text": [
      "Enter quantity: 40\n",
      "40\n"
     ]
    }
   ],
   "source": [
    "#2\n",
    "def main():\n",
    "    quantity = int(input('Enter quantity: '))\n",
    "    show_value(quantity)\n",
    "    \n",
    "def show_value(quantity):\n",
    "    print(quantity)\n",
    "    \n",
    "main()\n",
    "    "
   ]
  },
  {
   "cell_type": "code",
   "execution_count": 235,
   "metadata": {},
   "outputs": [
    {
     "name": "stdout",
     "output_type": "stream",
     "text": [
      "1 3.4\n",
      "0 0\n",
      "1 3.4\n"
     ]
    }
   ],
   "source": [
    "#4\n",
    "def main():\n",
    "    x = 1\n",
    "    y = 3.4\n",
    "    print(x,y)\n",
    "    change_us(x,y)\n",
    "    print(x,y)\n",
    "\n",
    "def change_us(a,b):\n",
    "    a = 0\n",
    "    b = 0\n",
    "    print(a,b)\n",
    "main()"
   ]
  },
  {
   "cell_type": "code",
   "execution_count": 236,
   "metadata": {},
   "outputs": [
    {
     "name": "stdout",
     "output_type": "stream",
     "text": [
      "2.0\n"
     ]
    }
   ],
   "source": [
    "#5\n",
    "def main():\n",
    "    a = 2\n",
    "    b = 4\n",
    "    c = 6\n",
    "    my_function(a,b,c)\n",
    "\n",
    "def my_function(a,b,c):\n",
    "    d = (a + c) / b\n",
    "    print(d)\n",
    "    \n",
    "main()"
   ]
  },
  {
   "cell_type": "code",
   "execution_count": 237,
   "metadata": {},
   "outputs": [
    {
     "name": "stdout",
     "output_type": "stream",
     "text": [
      "67\n"
     ]
    }
   ],
   "source": [
    "#6\n",
    "import random\n",
    "rand = random.randint(1,100)\n",
    "print(rand)"
   ]
  },
  {
   "cell_type": "code",
   "execution_count": 239,
   "metadata": {},
   "outputs": [
    {
     "name": "stdout",
     "output_type": "stream",
     "text": [
      "Enter a number.6\n",
      "3.0\n"
     ]
    }
   ],
   "source": [
    "#7\n",
    "def main():\n",
    "    number = float(input('Enter a number.'))\n",
    "    result = half(number)\n",
    "    print(result)\n",
    "\n",
    "def half(number):\n",
    "    return number / 2\n",
    "\n",
    "main()"
   ]
  },
  {
   "cell_type": "code",
   "execution_count": 241,
   "metadata": {},
   "outputs": [
    {
     "name": "stdout",
     "output_type": "stream",
     "text": [
      "64\n"
     ]
    }
   ],
   "source": [
    "#8\n",
    "def main():\n",
    "    num = 4\n",
    "    print(cube(num))\n",
    "\n",
    "def cube(num):\n",
    "    return num * num * num\n",
    "\n",
    "main()"
   ]
  },
  {
   "cell_type": "code",
   "execution_count": 243,
   "metadata": {},
   "outputs": [
    {
     "name": "stdout",
     "output_type": "stream",
     "text": [
      "Input an integer: 100\n",
      "1000\n"
     ]
    }
   ],
   "source": [
    "#9\n",
    "def main():\n",
    "    num = int(input('Input an integer: '))\n",
    "    print(times_ten(num))\n",
    "    \n",
    "def times_ten(num):\n",
    "    return num * 10\n",
    "\n",
    "main()"
   ]
  },
  {
   "cell_type": "code",
   "execution_count": 245,
   "metadata": {},
   "outputs": [
    {
     "name": "stdout",
     "output_type": "stream",
     "text": [
      "First name: Karl\n",
      "Karl\n"
     ]
    }
   ],
   "source": [
    "#10\n",
    "def main():\n",
    "    print(get_first_name())\n",
    "\n",
    "def get_first_name():\n",
    "    first_name = input('First name: ')\n",
    "    return first_name\n",
    "\n",
    "main()"
   ]
  },
  {
   "cell_type": "code",
   "execution_count": 251,
   "metadata": {},
   "outputs": [
    {
     "name": "stdout",
     "output_type": "stream",
     "text": [
      "Input kilometers to convert to miles: 1.614\n",
      "1.00\n"
     ]
    }
   ],
   "source": [
    "#1 Kilometer Converter\n",
    "def main():\n",
    "    km = float(input('Input kilometers to convert to miles: '))\n",
    "    print(format(k_to_m(km),',.2f'))\n",
    "def k_to_m(km):\n",
    "    return km * .6214\n",
    "main()"
   ]
  },
  {
   "cell_type": "code",
   "execution_count": 254,
   "metadata": {},
   "outputs": [
    {
     "name": "stdout",
     "output_type": "stream",
     "text": [
      "Enter replacement cost: 160500\n",
      "Your insurance coverage should be $128,400.00\n"
     ]
    }
   ],
   "source": [
    "#3 How Much Insurance?\n",
    "def main():\n",
    "    replacement = float(input('Enter replacement cost: '))\n",
    "    print('Your insurance coverage should be $', format(insurance_calc(replacement),',.2f'),sep='')\n",
    "\n",
    "def insurance_calc(replacement):\n",
    "    return replacement * .8\n",
    "\n",
    "main()"
   ]
  },
  {
   "cell_type": "markdown",
   "metadata": {},
   "source": []
  },
  {
   "cell_type": "code",
   "execution_count": 259,
   "metadata": {},
   "outputs": [
    {
     "name": "stdout",
     "output_type": "stream",
     "text": [
      "This program will calculate monthly and annual car expenditures.\n",
      "Enter monthly loan payment:30\n",
      "Enter monthly insurance payment:20\n",
      "Enter monthly gas cost:40\n",
      "Enter monthly oil cost:30\n",
      "Enter monthly tire cost:10\n",
      "Enter monthly maintenance cost:20\n",
      "*AUTOMOBILE COSTS*\n",
      "Expense\tMonthly\tAnnual\n",
      "Loan\t$30.00\t$360.00\n",
      "Insur.\t$20.00\t$240.00\n",
      "Gas\t$40.00\t$480.00\n",
      "Oil\t$30.00\t$360.00\n",
      "Tires\t$10.00\t$120.00\n",
      "Maint.\t$20.00\t$240.00\n",
      "TOTAL\t$150.0\t$1800.0\n"
     ]
    }
   ],
   "source": [
    "#Automobile Costs\n",
    "def main():\n",
    "    print('This program will calculate monthly and annual car expenditures.')\n",
    "    #Collect monthly cost data\n",
    "    loan_payment = float(input('Enter monthly loan payment: '))\n",
    "    insurance = float(input('Enter monthly insurance payment: '))\n",
    "    gas = float(input('Enter monthly gas cost: '))\n",
    "    oil = float(input('Enter monthly oil cost: '))\n",
    "    tires = float(input('Enter monthly tire cost: '))\n",
    "    maintenance = float(input('Enter monthly maintenance cost: '))\n",
    "    \n",
    "    #Compute total monthly and annual.\n",
    "    total = (loan_payment + insurance + gas + oil + tires + maintenance)\n",
    "    annual_total = total * 12\n",
    "    \n",
    "    #Display Chart\n",
    "    print('*AUTOMOBILE COSTS*')\n",
    "    print('Expense\\tMonthly\\tAnnual')\n",
    "    print('Loan\\t$',monthly(loan_payment),'\\t$',annual(loan_payment),sep='')\n",
    "    print('Insur.\\t$',monthly(insurance),'\\t$',annual(insurance),sep='')\n",
    "    print('Gas\\t$',monthly(gas),'\\t$',annual(gas),sep='')\n",
    "    print('Oil\\t$',monthly(oil),'\\t$',annual(oil),sep='')\n",
    "    print('Tires\\t$',monthly(tires),'\\t$',annual(tires),sep='')\n",
    "    print('Maint.\\t$',monthly(maintenance),'\\t$',annual(maintenance),sep='')\n",
    "    print('TOTAL\\t$',total,'\\t$',annual_total, sep='')\n",
    "          \n",
    "def annual(monthly):\n",
    "    annually = monthly * 12\n",
    "    return format(annually,',.2f')\n",
    "\n",
    "\n",
    "def monthly(monthly):\n",
    "    return format(monthly,',.2f')\n",
    "\n",
    "main()\n",
    "    "
   ]
  },
  {
   "cell_type": "code",
   "execution_count": 265,
   "metadata": {},
   "outputs": [
    {
     "name": "stdout",
     "output_type": "stream",
     "text": [
      "Enter actual property price:10000\n",
      "Price: $10000.0\n",
      "Assessment: $6000.0\n",
      "Tax: $43.20\n"
     ]
    }
   ],
   "source": [
    "#Property Tax\n",
    "def main():\n",
    "    price = get_actual_price()\n",
    "    assessment = get_assessment_value(price)\n",
    "    tax = get_property_tax(assessment)\n",
    "    print('Price: $', price, sep='')\n",
    "    print('Assessment: $', assessment, sep='')\n",
    "    print('Tax: $', format(tax,',.2f'), sep='')\n",
    "    \n",
    "def get_actual_price():\n",
    "    price = float(input('Enter actual property price:'))\n",
    "    return price\n",
    "\n",
    "def get_assessment_value(price):\n",
    "    return price * .6\n",
    "\n",
    "def get_property_tax(assessment):\n",
    "    tax = (assessment // 100) * .72\n",
    "    return tax\n",
    "\n",
    "main()"
   ]
  },
  {
   "cell_type": "code",
   "execution_count": 267,
   "metadata": {},
   "outputs": [
    {
     "name": "stdout",
     "output_type": "stream",
     "text": [
      "Input daily grams of fat consumed: 10\n",
      "Input daily grams of carbs consumed: 10\n",
      "Calories from Fat: 90\n",
      "Calories from Carbs: 40\n"
     ]
    }
   ],
   "source": [
    "#Calories from Fat and Carbs\n",
    "def main():\n",
    "    fat = get_fat()\n",
    "    carbs = get_carbs()\n",
    "    print('Calories from Fat:',fat_calories(fat))\n",
    "    print('Calories from Carbs:',carbs_calories(carbs))\n",
    "    \n",
    "def get_fat():\n",
    "    fat = int(input('Input daily grams of fat consumed: '))\n",
    "    return fat\n",
    "\n",
    "def get_carbs():\n",
    "    carbs = int(input('Input daily grams of carbs consumed: '))\n",
    "    return carbs\n",
    "\n",
    "def fat_calories(fat):\n",
    "    return fat * 9\n",
    "\n",
    "def carbs_calories(carbs):\n",
    "    return carbs * 4\n",
    "    \n",
    "main()"
   ]
  },
  {
   "cell_type": "code",
   "execution_count": 272,
   "metadata": {},
   "outputs": [
    {
     "name": "stdout",
     "output_type": "stream",
     "text": [
      "Seats sold in A:30\n",
      "Seats sold in B:40\n",
      "Seats sold in C:50\n",
      "STADIUM SEATING REVENUE\n",
      "-----------------------\n",
      "Class\tSeats\tIncome\n",
      "A\t30\t600\n",
      "B\t40\t600\n",
      "C\t50\t500\n"
     ]
    }
   ],
   "source": [
    "#Stadium Seating\n",
    "def main():\n",
    "    A = int(input('Seats sold in A:'))\n",
    "    B = int(input('Seats sold in B:'))\n",
    "    C = int(input('Seats sold in C:'))\n",
    "    sales_A(A)\n",
    "    sales_B(B)\n",
    "    sales_C(C)\n",
    "    print('STADIUM SEATING REVENUE')\n",
    "    print('-----------------------')\n",
    "    print('Class\\tSeats\\tIncome')\n",
    "    print('A',A,sales_A(A),sep='\\t')\n",
    "    print('B',B,sales_B(B),sep='\\t')\n",
    "    print('C',C,sales_C(C),sep='\\t')\n",
    "    \n",
    "def sales_A(A):\n",
    "    return A * 20\n",
    "\n",
    "def sales_B(B):\n",
    "    return B * 15\n",
    "\n",
    "def sales_C(C):\n",
    "    return C * 10\n",
    "\n",
    "main()"
   ]
  },
  {
   "cell_type": "code",
   "execution_count": 284,
   "metadata": {},
   "outputs": [
    {
     "name": "stdout",
     "output_type": "stream",
     "text": [
      "Input monthly sales: 50000\n",
      "State tax: $2,500.00\n",
      "County tax: $1,250.00\n",
      "Total tax: $3,750.00\n"
     ]
    }
   ],
   "source": [
    "#Monthly Sales Tax\n",
    "def main():\n",
    "    sales = get_sales()\n",
    "    state = state_tax(sales)\n",
    "    county = county_tax(sales)\n",
    "    print('State tax: $', format(state,(',.2f')), sep='')\n",
    "    print('County tax: $', format(county,(',.2f')), sep='')\n",
    "    print('Total tax: $', format((state + county),(',.2f')), sep='')\n",
    "\n",
    "def get_sales():\n",
    "    sales = float(input('Input monthly sales: '))\n",
    "    return sales\n",
    "    \n",
    "def state_tax(sales):\n",
    "    state = sales * .05\n",
    "    return state\n",
    "\n",
    "def county_tax(sales):\n",
    "    county = sales * .025\n",
    "    return county\n",
    "\n",
    "main()"
   ]
  },
  {
   "cell_type": "code",
   "execution_count": 287,
   "metadata": {},
   "outputs": [
    {
     "name": "stdout",
     "output_type": "stream",
     "text": [
      "Input feet: 5\n",
      "5ft = 60in\n"
     ]
    }
   ],
   "source": [
    "#Feet to Inches\n",
    "def main():\n",
    "    feet = int(input('Input feet: '))\n",
    "    inches = feet_to_inches(feet)\n",
    "    print(feet,'ft = ',inches,'in', sep='')\n",
    "\n",
    "def feet_to_inches(feet):\n",
    "    inches = feet * 12\n",
    "    return inches\n",
    "\n",
    "main()"
   ]
  },
  {
   "cell_type": "code",
   "execution_count": 295,
   "metadata": {},
   "outputs": [
    {
     "name": "stdout",
     "output_type": "stream",
     "text": [
      "\t 391\n",
      "      +\t 432\n",
      "Answer: 823\n",
      "Correct!\n"
     ]
    }
   ],
   "source": [
    "#Math Quiz\n",
    "import random\n",
    "def main():\n",
    "    x = random.randrange(1,999)\n",
    "    y = random.randrange(1,999)\n",
    "    display(x,y)\n",
    "    answer = int(input('Answer: '))\n",
    "    check(x,y,answer)\n",
    "    \n",
    "def display(x,y):\n",
    "    print('\\t',x)\n",
    "    print('      +\\t',y)\n",
    "    \n",
    "def check(x,y,answer):\n",
    "    if answer == (x + y):\n",
    "        print('Correct!')\n",
    "    else:\n",
    "        print('Incorrect: Answer is ',(x + y), sep='')\n",
    "    \n",
    "main()"
   ]
  },
  {
   "cell_type": "code",
   "execution_count": 296,
   "metadata": {},
   "outputs": [
    {
     "name": "stdout",
     "output_type": "stream",
     "text": [
      "Integer x: 5\n",
      "Integer y: 6\n",
      "6 is greater.\n"
     ]
    }
   ],
   "source": [
    "#Maximum of Two Values\n",
    "def main():\n",
    "    x = int(input('Integer x: '))\n",
    "    y = int(input('Integer y: '))\n",
    "    print(maximum_check(x,y),'is greater.')\n",
    "    \n",
    "def maximum_check(x,y):\n",
    "    if x > y:\n",
    "        return x\n",
    "    else:\n",
    "        return y\n",
    "    \n",
    "main()"
   ]
  },
  {
   "cell_type": "code",
   "execution_count": 301,
   "metadata": {},
   "outputs": [
    {
     "name": "stdout",
     "output_type": "stream",
     "text": [
      "FALLING DISTANCE ON EARTH\n",
      "Seconds\tMeters\n",
      "1\t4.9\n",
      "2\t19.6\n",
      "3\t44.1\n",
      "4\t78.4\n",
      "5\t122.5\n",
      "6\t176.4\n",
      "7\t240.1\n",
      "8\t313.6\n",
      "9\t396.9\n",
      "10\t490.0\n"
     ]
    }
   ],
   "source": [
    "#Falling Distance\n",
    "def main():\n",
    "    print('FALLING DISTANCE ON EARTH')\n",
    "    print('Seconds\\tMeters')\n",
    "    for i in range(1,11):\n",
    "        print(i,'\\t', format(falling_distance(i),',.1f'),sep='')\n",
    "        \n",
    "def falling_distance(time):\n",
    "    meters = (.5 * 9.8) * time ** 2 \n",
    "    return meters\n",
    "\n",
    "main()"
   ]
  },
  {
   "cell_type": "code",
   "execution_count": 306,
   "metadata": {},
   "outputs": [
    {
     "name": "stdout",
     "output_type": "stream",
     "text": [
      "Kinetic Energy Calculation\n",
      "Input mass (kg): 40\n",
      "Input velocity (m/s): 2\n",
      "KINETIC ENERGY\n",
      "Mass\t\tVelocity\tKE\n",
      "40.0\t\t2.0\t\t84500.0\n"
     ]
    }
   ],
   "source": [
    "#Kinetic Energy\n",
    "def main():\n",
    "    print('Kinetic Energy Calculation')\n",
    "    mass = float(input('Input mass (kg): '))\n",
    "    velocity = float(input('Input velocity (m/s): '))\n",
    "    KE = kinetic_energy(mass,velocity)\n",
    "    print('KINETIC ENERGY')\n",
    "    print('Mass\\t\\tVelocity\\tKE')\n",
    "    print(mass,velocity,KE,sep='\\t\\t')\n",
    "        \n",
    "def kinetic_energy(mass,v):\n",
    "    KE = (.5 * mass) * velocity ** 2 \n",
    "    return KE\n",
    "\n",
    "main()"
   ]
  },
  {
   "cell_type": "code",
   "execution_count": 315,
   "metadata": {},
   "outputs": [
    {
     "name": "stdout",
     "output_type": "stream",
     "text": [
      "Enter test grade: 99\n",
      "Enter test grade: 86\n",
      "Enter test grade: 78\n",
      "Enter test grade: 97\n",
      "Enter test grade: 88\n",
      "99 A\n",
      "86 B\n",
      "78 C\n",
      "97 A\n",
      "88 B\n",
      "Total: 89.6 B\n"
     ]
    }
   ],
   "source": [
    "#Test Average Grade\n",
    "def main():\n",
    "    grade_list = []\n",
    "    for i in range(5):\n",
    "        grade = int(input('Enter test grade: '))\n",
    "        grade_list.append(grade)\n",
    "    average = calc_average(grade_list)\n",
    "    for grade in grade_list:\n",
    "        print(grade, determine_grade(grade))\n",
    "    print('Total:',average, determine_grade(average))\n",
    "\n",
    "def calc_average(grade_list):\n",
    "    counter = 0\n",
    "    total = 0\n",
    "    for grade in grade_list:\n",
    "        total += grade\n",
    "        counter += 1\n",
    "    average = total / counter\n",
    "    return average\n",
    "\n",
    "def determine_grade(score):\n",
    "    if score >= 90:\n",
    "        return 'A'\n",
    "    elif score >= 80 and score < 90:\n",
    "        return 'B'\n",
    "    elif score >= 70 and score < 80:\n",
    "        return 'C'\n",
    "    elif score >= 60 and score < 70:\n",
    "        return 'D'\n",
    "    else:\n",
    "        return 'F'\n",
    "\n",
    "main()"
   ]
  },
  {
   "cell_type": "code",
   "execution_count": 317,
   "metadata": {},
   "outputs": [
    {
     "name": "stdout",
     "output_type": "stream",
     "text": [
      "Evens: 38\n",
      "Odds: 62\n"
     ]
    }
   ],
   "source": [
    "#Odd/Even Counter\n",
    "import random\n",
    "def main():\n",
    "    evens = 0\n",
    "    odds = 0\n",
    "    for i in range(100):\n",
    "        i = random.randint(1,100)\n",
    "        if i % 2 == 0:\n",
    "            evens += 1\n",
    "        else:\n",
    "            odds += 1\n",
    "    print('Evens:', evens)\n",
    "    print('Odds:', odds)\n",
    "\n",
    "main()"
   ]
  },
  {
   "cell_type": "code",
   "execution_count": 332,
   "metadata": {},
   "outputs": [
    {
     "name": "stdout",
     "output_type": "stream",
     "text": [
      "Enter an integer: 1621\n",
      "1621 is prime.\n"
     ]
    }
   ],
   "source": [
    "#Prime Numbers\n",
    "def main():\n",
    "    number = int(input('Enter an integer: '))\n",
    "    if is_prime(number) == True:\n",
    "        print(number, 'is not prime.')\n",
    "    else:\n",
    "        print(number, 'is prime.')\n",
    "\n",
    "def is_prime(number):\n",
    "    flag = False\n",
    "    for i in range(2,number):\n",
    "        if number % i == 0:\n",
    "            flag = True\n",
    "            break\n",
    "    return flag\n",
    "    \n",
    "main()"
   ]
  },
  {
   "cell_type": "code",
   "execution_count": 333,
   "metadata": {},
   "outputs": [
    {
     "name": "stdout",
     "output_type": "stream",
     "text": [
      "1\n",
      "2\n",
      "3\n",
      "5\n",
      "7\n",
      "11\n",
      "13\n",
      "17\n",
      "19\n",
      "23\n",
      "29\n",
      "31\n",
      "37\n",
      "41\n",
      "43\n",
      "47\n",
      "53\n",
      "59\n",
      "61\n",
      "67\n",
      "71\n",
      "73\n",
      "79\n",
      "83\n",
      "89\n",
      "97\n"
     ]
    }
   ],
   "source": [
    "#Prime Number List\n",
    "def main():\n",
    "    for i in range(1,100):\n",
    "        if is_prime(i) == False:\n",
    "            print(i)\n",
    "            \n",
    "def is_prime(number):\n",
    "    flag = False\n",
    "    for i in range(2,number):\n",
    "        if number % i == 0:\n",
    "            flag = True\n",
    "            break\n",
    "    return flag\n",
    "\n",
    "main()"
   ]
  },
  {
   "cell_type": "code",
   "execution_count": 343,
   "metadata": {},
   "outputs": [
    {
     "name": "stdout",
     "output_type": "stream",
     "text": [
      "Determine Future Value\n",
      "Enter present value: 30000\n",
      "Enter monthly rate in percentage: .035\n",
      "Enter months until due: 12\n",
      "Future Value: $ 45,332.06\n"
     ]
    }
   ],
   "source": [
    "#Future Value\n",
    "def main():\n",
    "    print('Determine Future Value')\n",
    "    pv = float(input('Enter present value: '))\n",
    "    mr = float(input('Enter monthly rate in percentage: '))\n",
    "    t = int(input('Enter months until due: '))\n",
    "    FV = future_value(pv,mr,t)\n",
    "    print('Future Value: $',format(FV,',.2f'))\n",
    "    \n",
    "def future_value(pv, mr, t):\n",
    "    FV = pv * ((1.0 + mr) ** t)\n",
    "    return FV\n",
    "\n",
    "main()"
   ]
  },
  {
   "cell_type": "code",
   "execution_count": 346,
   "metadata": {},
   "outputs": [
    {
     "name": "stdout",
     "output_type": "stream",
     "text": [
      "Random number selected.\n",
      "Guess the number: 50\n",
      "Too low!\n",
      "Guess the number: 75\n",
      "Too high!\n",
      "Guess the number: 62\n",
      "Too high!\n",
      "Guess the number: 56\n",
      "Too high!\n",
      "Guess the number: 53\n",
      "Too high!\n",
      "Guess the number: 52\n",
      "Correct! It took you 6 guesses.\n"
     ]
    }
   ],
   "source": [
    "#Random Number Guessing Game\n",
    "import random\n",
    "def main():\n",
    "    i = random.randint(1,100)\n",
    "    print('Random number selected.')\n",
    "    make_guess(i)\n",
    "    \n",
    "def make_guess(i):\n",
    "    flag = 0\n",
    "    correct = False\n",
    "    \n",
    "    while correct == False:\n",
    "        guess = int(input('Guess the number: '))\n",
    "        flag += 1\n",
    "        correct = check_guess(i,guess)\n",
    "    print('Correct! It took you', flag,'guesses.')\n",
    "    \n",
    "    \n",
    "def check_guess(i,guess):\n",
    "    if guess > i:\n",
    "        print('Too high!')\n",
    "        return False\n",
    "    elif guess < i:\n",
    "        print('Too low!')\n",
    "        return False\n",
    "    elif guess == i:\n",
    "        return True\n",
    "    \n",
    "main()"
   ]
  },
  {
   "cell_type": "code",
   "execution_count": 351,
   "metadata": {},
   "outputs": [
    {
     "name": "stdout",
     "output_type": "stream",
     "text": [
      "ROCK, PAPER, SCISSORS\n",
      "1 = Rock\n",
      "2 = Paper\n",
      "3 = Scissors\n",
      "You Pick: 3\n",
      "Bastard rolls  Paper\n",
      "Player rolls  Scissors\n",
      "You win!\n"
     ]
    }
   ],
   "source": [
    "import random\n",
    "def main():\n",
    "    print('ROCK, PAPER, SCISSORS')\n",
    "    print('1 = Rock')\n",
    "    print('2 = Paper')\n",
    "    print('3 = Scissors')\n",
    "    bastard = random.randint(1,3)\n",
    "    player = 0\n",
    "    while player != 1 and player != 2 and player != 3:\n",
    "        player = int(input('You Pick: '))\n",
    "    print('Bastard rolls ',rps(bastard))\n",
    "    print('Player rolls ',rps(player))\n",
    "    fight(player, bastard)\n",
    "    \n",
    "def rps(roll):\n",
    "    if roll == 1:\n",
    "        return 'Rock'\n",
    "    elif roll == 2:\n",
    "        return 'Paper'\n",
    "    elif roll == 3:\n",
    "        return 'Scissors'\n",
    "    \n",
    "def fight(player_roll, bastard_roll):\n",
    "    if player_roll == bastard_roll:\n",
    "        print('Draw!')\n",
    "    elif player_roll == 1:\n",
    "        if bastard_roll == 2:\n",
    "            print('You lost!')\n",
    "        else:\n",
    "            print('You win!')\n",
    "    elif player_roll == 2:\n",
    "        if bastard_roll == 3:\n",
    "            print('You lost!')\n",
    "        else:\n",
    "            print('You win!')\n",
    "    elif player_roll == 3:\n",
    "        if bastard_roll == 1:\n",
    "            print('You lost!')\n",
    "        else:\n",
    "            print('You win!')\n",
    "            \n",
    "main()\n",
    "            "
   ]
  },
  {
   "cell_type": "code",
   "execution_count": 354,
   "metadata": {},
   "outputs": [],
   "source": [
    "#CHAPTER 6 FILES AND EXCEPTIONS#"
   ]
  },
  {
   "cell_type": "code",
   "execution_count": 353,
   "metadata": {},
   "outputs": [],
   "source": [
    "#file_variable = open(filename, mode)\n",
    "#MODES:\n",
    "#r = open file for reading only\n",
    "#w = open file for writing. if already existing, erase contents. if not, create it\n",
    "#a = open file to be appended. additions will be added to the end. if not existing, create it"
   ]
  },
  {
   "cell_type": "code",
   "execution_count": 357,
   "metadata": {},
   "outputs": [],
   "source": [
    "#File location\n",
    "#test_file = open(r'C:\\Users\\Blake\\temp\\test.txt','w')\n",
    "#python will assume otherwise that the file is in the same location as its program and create a new one\n",
    "#that 'r' is needed before the location because it must read it as a literal and not as escape keys"
   ]
  },
  {
   "cell_type": "code",
   "execution_count": 359,
   "metadata": {},
   "outputs": [],
   "source": [
    "#Method functions = function that belongs to that object and performs some operation using that object\n",
    "#File objects have a method called write used to write data to a file\n",
    "#*opens file* -> file_variable.write(string) = you called the write function from a file!"
   ]
  },
  {
   "cell_type": "code",
   "execution_count": 362,
   "metadata": {},
   "outputs": [],
   "source": [
    "#YOU SHOULD CLOSE A FILE WHEN THE PROGRAM IS FINISHED WITH IT\n",
    "#this is because data can be lost otherwise\n",
    "#customer_file.close()"
   ]
  },
  {
   "cell_type": "code",
   "execution_count": 364,
   "metadata": {},
   "outputs": [],
   "source": [
    "#This code creates a file of the following names.\n",
    "def main():\n",
    "    outfile = open('philosophers.txt','w') #create file through write mode\n",
    "    #Write some strings:\n",
    "    outfile.write('John Locke\\n') \n",
    "    outfile.write('David Hume\\n')\n",
    "    outfile.write('Edmund Burke\\n')\n",
    "    outfile.close() #Close it\n",
    "    \n",
    "main() #Call it"
   ]
  },
  {
   "cell_type": "code",
   "execution_count": 365,
   "metadata": {},
   "outputs": [
    {
     "name": "stdout",
     "output_type": "stream",
     "text": [
      "John Locke\n",
      "David Hume\n",
      "Edmund Burke\n",
      "\n"
     ]
    }
   ],
   "source": [
    "def main():\n",
    "    infile = open('philosophers.txt','r') #open the file\n",
    "    file_contents = infile.read() #read it\n",
    "    infile.close() #close it\n",
    "    print(file_contents) #print the data that was read into memory\n",
    "    \n",
    "main() #Call it"
   ]
  },
  {
   "cell_type": "code",
   "execution_count": 367,
   "metadata": {},
   "outputs": [
    {
     "name": "stdout",
     "output_type": "stream",
     "text": [
      "John Locke\n",
      "\n",
      "David Hume\n",
      "\n",
      "Edmund Burke\n",
      "\n"
     ]
    }
   ],
   "source": [
    "#You can also use readline() to read individual lines of a file\n",
    "def main():\n",
    "    infile = open('philosophers.txt','r')\n",
    "    line1 = infile.readline()\n",
    "    line2 = infile.readline()\n",
    "    line3 = infile.readline()\n",
    "    infile.close()\n",
    "    print(line1)\n",
    "    print(line2)\n",
    "    print(line3)\n",
    "    \n",
    "main()\n",
    "#NOTE: If the last line in the file is not terminated with \\n, the readline will return the line without a \\n\n",
    "#You can learn to remove the additional blank lines later"
   ]
  },
  {
   "cell_type": "code",
   "execution_count": 371,
   "metadata": {},
   "outputs": [
    {
     "name": "stdout",
     "output_type": "stream",
     "text": [
      "Enter names of three friends: \n",
      "Friend 1: Ed\n",
      "Friend 2: Edd\n",
      "Friend 3: Eddy\n",
      "The names were saved to friends.txt\n"
     ]
    }
   ],
   "source": [
    "#Concatenating a Newline to a String\n",
    "#Notice we separated each string literal with a \\n escape. \n",
    "#It is usually necessary to concatenate a \\n to the data before writing it to ensure each gets its own line\n",
    "def main():\n",
    "    #Get three names\n",
    "    print('Enter names of three friends: ')\n",
    "    name1 = input('Friend 1: ')\n",
    "    name2 = input('Friend 2: ')\n",
    "    name3 = input('Friend 3: ')\n",
    "    \n",
    "    #open a file\n",
    "    myfile = open('friends.txt','w')\n",
    "    \n",
    "    #write names to file\n",
    "    myfile.write(name1 + '\\n')\n",
    "    myfile.write(name2 + '\\n')\n",
    "    myfile.write(name3 + '\\n')\n",
    "    \n",
    "    #close file\n",
    "    myfile.close()\n",
    "    print('The names were saved to friends.txt')\n",
    "    \n",
    "main()"
   ]
  },
  {
   "cell_type": "code",
   "execution_count": 376,
   "metadata": {},
   "outputs": [],
   "source": [
    "#Reading Strings and Stripping the \\n from it\n",
    "#in most cases, reading will cause an additional \\n, so we may want to remove it\n",
    "#use name.rstrip('\\n')\n",
    "name = 'John Manchester\\n'\n",
    "name = name.rstrip('\\n')"
   ]
  },
  {
   "cell_type": "code",
   "execution_count": 380,
   "metadata": {},
   "outputs": [
    {
     "name": "stdout",
     "output_type": "stream",
     "text": [
      "John Locke\n",
      "David Hume\n",
      "Edmund Burke\n"
     ]
    }
   ],
   "source": [
    "#Use rstrip on the philosopher txt\n",
    "def main():\n",
    "    infile = open('philosophers.txt','r')\n",
    "    line1 = infile.readline()\n",
    "    line2 = infile.readline()\n",
    "    line3 = infile.readline()\n",
    "    \n",
    "    #STRIP THE \\n\n",
    "    line1 = line1.rstrip('\\n')\n",
    "    line2 = line2.rstrip('\\n')\n",
    "    line3 = line3.rstrip('\\n')\n",
    "    \n",
    "    infile.close()\n",
    "    \n",
    "    print(line1)\n",
    "    print(line2)\n",
    "    print(line3)\n",
    "    \n",
    "main()"
   ]
  },
  {
   "cell_type": "code",
   "execution_count": 382,
   "metadata": {},
   "outputs": [],
   "source": [
    "#Appending Data to and Existing File with 'a'\n",
    "#append the friends.txt\n",
    "def main():\n",
    "    myfile = open('friends.txt','a')\n",
    "    myfile.write('Mark\\n')\n",
    "    myfile.write('Luke\\n')\n",
    "    myfile.write('John\\n')\n",
    "    myfile.write('Matthew\\n')\n",
    "    myfile.close()\n",
    "\n",
    "main()"
   ]
  },
  {
   "cell_type": "code",
   "execution_count": 384,
   "metadata": {},
   "outputs": [
    {
     "name": "stdout",
     "output_type": "stream",
     "text": [
      "Enter a number: 30\n",
      "Enter another number: 25\n",
      "Enter another number: 10\n",
      "Data written to numbers.txt\n"
     ]
    }
   ],
   "source": [
    "#Writing and Reading Numeric Data\n",
    "#numbers must be converted into strings before they can be written with the write() method\n",
    "def main():\n",
    "    outfile = open('numbers.txt','w')\n",
    "    \n",
    "    num1 = int(input('Enter a number: '))\n",
    "    num2 = int(input('Enter another number: '))\n",
    "    num3 = int(input('Enter another number: '))\n",
    "    \n",
    "    outfile.write(str(num1) + '\\n')\n",
    "    outfile.write(str(num2) + '\\n')\n",
    "    outfile.write(str(num3) + '\\n')\n",
    "    \n",
    "    outfile.close()\n",
    "    print('Data written to numbers.txt')\n",
    "    \n",
    "main()\n",
    "\n",
    "#The contents of this file are \"30\\n25\\n10\\n\"\n",
    "#REMEMBER! If you were to read these numbers and use them for math, you can't because they are str!"
   ]
  },
  {
   "cell_type": "code",
   "execution_count": 386,
   "metadata": {},
   "outputs": [
    {
     "name": "stdout",
     "output_type": "stream",
     "text": [
      "The numbers are: 30 25 10\n",
      "Their total is: 65\n"
     ]
    }
   ],
   "source": [
    "#You must convert to int in order to use the numbers for math expressions\n",
    "def main():\n",
    "    infile = open('numbers.txt','r')\n",
    "    \n",
    "    num1 = int(infile.readline())\n",
    "    num2 = int(infile.readline())\n",
    "    num3 = int(infile.readline())\n",
    "    \n",
    "    infile.close()\n",
    "    \n",
    "    total = num1 + num2 + num3\n",
    "    print('The numbers are:', num1, num2, num3)\n",
    "    print('Their total is:', total)\n",
    "    \n",
    "main()"
   ]
  },
  {
   "cell_type": "code",
   "execution_count": 387,
   "metadata": {},
   "outputs": [],
   "source": [
    "#Recall the above is making use of sequential files!"
   ]
  },
  {
   "cell_type": "code",
   "execution_count": 392,
   "metadata": {},
   "outputs": [
    {
     "name": "stdout",
     "output_type": "stream",
     "text": [
      "How many days of sales for record? 5\n",
      "Enter the sales for day #1: 560.78\n",
      "Enter the sales for day #2: 479.99\n",
      "Enter the sales for day #3: 459.34\n",
      "Enter the sales for day #4: 520.24\n",
      "Enter the sales for day #5: 600.23\n",
      "Data written to sales.txt\n"
     ]
    }
   ],
   "source": [
    "#Using LOOPS to process Files\n",
    "#This is obviously important for effeciency and working with large data\n",
    "#Sales example which asks for sales amounts and puts them into a txt file\n",
    "def main():\n",
    "    #get number of days\n",
    "    num_days = int(input('How many days of sales for record? '))\n",
    "    \n",
    "    #make file\n",
    "    sales_file = open('sales.txt', 'w')\n",
    "    \n",
    "    #get each day's sales and write to file\n",
    "    for count in range(1, num_days+1):\n",
    "        sales = float(input('Enter the sales for day #' + str(count) + ': '))\n",
    "        sales_file.write(str(sales) + '\\n')\n",
    "        \n",
    "    #Close\n",
    "    sales_file.close()\n",
    "    print('Data written to sales.txt')\n",
    "    \n",
    "main()"
   ]
  },
  {
   "cell_type": "code",
   "execution_count": 394,
   "metadata": {},
   "outputs": [
    {
     "name": "stdout",
     "output_type": "stream",
     "text": [
      "560.78\n",
      "479.99\n",
      "459.34\n",
      "520.24\n",
      "600.23\n"
     ]
    }
   ],
   "source": [
    "#Reading a file with a loop and detecting the end of the file\n",
    "#This can be achieved by detecting a ' ' line of data, of which reads will terminate\n",
    "def main():\n",
    "    sales_file = open('sales.txt','r')\n",
    "    \n",
    "    line = sales_file.readline()\n",
    "    \n",
    "    while line != '':\n",
    "        amount = float(line)\n",
    "        print(format(amount, ',.2f'))\n",
    "        line = sales_file.readline()\n",
    "\n",
    "    sales_file.close()\n",
    "    \n",
    "main()"
   ]
  },
  {
   "cell_type": "code",
   "execution_count": 395,
   "metadata": {},
   "outputs": [
    {
     "name": "stdout",
     "output_type": "stream",
     "text": [
      "560.78\n",
      "479.99\n",
      "459.34\n",
      "520.24\n",
      "600.23\n"
     ]
    }
   ],
   "source": [
    "#More elegantly, you can also use the for loop\n",
    "def main():\n",
    "    sales_file = open('sales.txt','r')\n",
    "    \n",
    "    for line in sales_file:\n",
    "        amount = float(line)\n",
    "        print(format(amount,',.2f'))\n",
    "    sales_file.close()\n",
    "    \n",
    "main()"
   ]
  },
  {
   "cell_type": "code",
   "execution_count": 397,
   "metadata": {},
   "outputs": [],
   "source": [
    "#6.12\n",
    "def main():\n",
    "    outfile = open('numbers.txt','w')\n",
    "    for line in range(1,11):\n",
    "        outfile.write(str(line) + '\\n')\n",
    "    outfile.close()\n",
    "\n",
    "main()"
   ]
  },
  {
   "cell_type": "code",
   "execution_count": 404,
   "metadata": {},
   "outputs": [
    {
     "name": "stdout",
     "output_type": "stream",
     "text": [
      "1\n",
      "2\n",
      "3\n",
      "4\n",
      "5\n",
      "6\n",
      "7\n",
      "8\n",
      "9\n",
      "10\n"
     ]
    }
   ],
   "source": [
    "#6.14, 6.15\n",
    "def main():\n",
    "    infile = open('numbers.txt','r')\n",
    "    for line in infile:\n",
    "        string = line.rstrip('\\n')\n",
    "        print(string)\n",
    "    infile.close()\n",
    "\n",
    "main()"
   ]
  },
  {
   "cell_type": "code",
   "execution_count": 415,
   "metadata": {},
   "outputs": [
    {
     "name": "stdout",
     "output_type": "stream",
     "text": [
      "i = an imaginary unit.\n",
      "Select what to what power i will compute. 80\n",
      "i ** 80 is 1\n"
     ]
    }
   ],
   "source": [
    "#Sidetask: Program imaginary numbers\n",
    "def main():\n",
    "    print(\"i = an imaginary unit.\")\n",
    "    x = int(input('Select what to what power i will compute. '))\n",
    "    if x % 4 == 0:\n",
    "        i = 1\n",
    "    elif x % 3 == 0:\n",
    "        i = '-i'\n",
    "    elif x % 2 == 0:\n",
    "        i = -1\n",
    "    elif x % 1 == 0:\n",
    "        i = 'i'\n",
    "    elif x == 0:\n",
    "        i = 1\n",
    "        \n",
    "    print('i **',x,'is',i)\n",
    "\n",
    "main()"
   ]
  },
  {
   "cell_type": "code",
   "execution_count": 416,
   "metadata": {},
   "outputs": [
    {
     "name": "stdout",
     "output_type": "stream",
     "text": [
      "How many employee records do you want to create? 2\n",
      "Enter data for employee #1\n",
      "Name: Scout\n",
      "ID Number: 1\n",
      "Department: Pick\n",
      "\n",
      "Enter data for employee #2\n",
      "Name: Demoman\n",
      "ID Number: 4\n",
      "Department: Power\n",
      "\n",
      "Employee records written to employees.txt.\n"
     ]
    }
   ],
   "source": [
    "#Processing Records\n",
    "#records = complete set of data about an item, a field is each individual piece of data within a record\n",
    "#record = 'Ingrid Virgo\\n4587\\nEngineering\\n'\n",
    "#the fields of the record= 'Ingrid Virgo', 4587, Engineering\n",
    "def main():\n",
    "    #Get the number of employee records to create\n",
    "    num_emps = int(input('How many employee records do you want to create? '))\n",
    "    \n",
    "    #open file for writing\n",
    "    emp_file = open('employees.txt','w')\n",
    "    \n",
    "    #Get each employee's data and write it to the file\n",
    "    for count in range(1, num_emps + 1):\n",
    "        print('Enter data for employee #', count, sep='')\n",
    "        name = input('Name: ')\n",
    "        id_num = input('ID Number: ')\n",
    "        dept = input('Department: ')\n",
    "        \n",
    "        #Write data as record to file\n",
    "        emp_file.write(name + '\\n')\n",
    "        emp_file.write(id_num + '\\n')\n",
    "        emp_file.write(dept + '\\n')\n",
    "        \n",
    "        #Display blank line\n",
    "        print()\n",
    "        \n",
    "    #Close file\n",
    "    emp_file.close()\n",
    "    print('Employee records written to employees.txt.')\n",
    "    \n",
    "main()"
   ]
  },
  {
   "cell_type": "code",
   "execution_count": 422,
   "metadata": {},
   "outputs": [
    {
     "name": "stdout",
     "output_type": "stream",
     "text": [
      "Enter the following coffee data:\n",
      "Description: Brazilian Dark Roast\n",
      "Quantity (in pounds): 50\n",
      "Add another record? \n",
      "Y = Yes, Anything else = No: Y\n",
      "Enter the following coffee data:\n",
      "Description: Ethiopian\n",
      "Quantity (in pounds): 30\n",
      "Add another record? \n",
      "Y = Yes, Anything else = No: Y\n",
      "Enter the following coffee data:\n",
      "Description: Columbian Light\n",
      "Quantity (in pounds): 70\n",
      "Add another record? \n",
      "Y = Yes, Anything else = No: No\n",
      "Data appended to coffee.txt\n"
     ]
    }
   ],
   "source": [
    "#Adding and Displaying Records\n",
    "#Coffee inventory records\n",
    "def main():\n",
    "    #Create a variable to control the loop\n",
    "    another = 'y'\n",
    "    \n",
    "    #Open the coffee file with append mode for later edits with same code\n",
    "    coffee_file = open('coffee.txt','a')\n",
    "    \n",
    "    #Add records to the file\n",
    "    while another == 'y' or another == 'Y':\n",
    "        #Get the coffee record data\n",
    "        print('Enter the following coffee data:')\n",
    "        descr = input('Description: ')\n",
    "        qty = int(input('Quantity (in pounds): '))\n",
    "        \n",
    "        #Append the data to the file\n",
    "        coffee_file.write(descr + '\\n')\n",
    "        coffee_file.write(str(qty) + '\\n')\n",
    "        \n",
    "        #Determine whether the user wants to add another record to file\n",
    "        print('Add another record? ')\n",
    "        another = input('Y = Yes, Anything else = No: ')\n",
    "        \n",
    "    #close file\n",
    "    coffee_file.close()\n",
    "    print('Data appended to coffee.txt')\n",
    "    \n",
    "main()"
   ]
  },
  {
   "cell_type": "code",
   "execution_count": 423,
   "metadata": {},
   "outputs": [
    {
     "name": "stdout",
     "output_type": "stream",
     "text": [
      "Description: Columbian\n",
      "Quantity: 50.0\n",
      "Description: Brazilian Dark Roast\n",
      "Quantity: 50.0\n",
      "Description: Ethiopian\n",
      "Quantity: 30.0\n",
      "Description: Columbian Light\n",
      "Quantity: 70.0\n"
     ]
    }
   ],
   "source": [
    "#Show coffee records\n",
    "def main():\n",
    "    #Open the coffee file\n",
    "    coffee_file = open('coffee.txt','r')\n",
    "    \n",
    "    #Read the first line\n",
    "    descr = coffee_file.readline()\n",
    "    \n",
    "    #Loop\n",
    "    while descr != '':\n",
    "        qty = float(coffee_file.readline())\n",
    "        descr = descr.rstrip('\\n')\n",
    "        print('Description:', descr)\n",
    "        print('Quantity:', qty)\n",
    "        \n",
    "        descr = coffee_file.readline()\n",
    "    \n",
    "    coffee_file.close()\n",
    "    \n",
    "main()"
   ]
  },
  {
   "cell_type": "code",
   "execution_count": 424,
   "metadata": {},
   "outputs": [
    {
     "name": "stdout",
     "output_type": "stream",
     "text": [
      "Enter a description to search for: Ethiopian\n",
      "Description: Ethiopian\n",
      "Quantity: 30.0\n",
      "\n"
     ]
    }
   ],
   "source": [
    "#SEARCHING for a record\n",
    "def main():\n",
    "    #Create a boolean variable to use as a flag\n",
    "    found = False\n",
    "    \n",
    "    #Get the search value\n",
    "    search = input('Enter a description to search for: ')\n",
    "    \n",
    "    #Open the coffee file\n",
    "    coffee_file = open('coffee.txt','r')\n",
    "    \n",
    "    #Read the first record's Description field\n",
    "    descr = coffee_file.readline()\n",
    "    \n",
    "    while descr != '':\n",
    "        #Read the quantity field\n",
    "        qty = float(coffee_file.readline())\n",
    "        \n",
    "        #Strip the \\n from the description\n",
    "        descr = descr.rstrip('\\n')\n",
    "        \n",
    "        #Determine whether this record matches the search value\n",
    "        if descr == search:\n",
    "            #Display record\n",
    "            print('Description:',descr)\n",
    "            print('Quantity:',qty)\n",
    "            print()\n",
    "            #Set flag to True\n",
    "            found = True\n",
    "            \n",
    "        #Read the next description\n",
    "        descr = coffee_file.readline()\n",
    "        \n",
    "    coffee_file.close()\n",
    "    #If the search value was not found, display message\n",
    "    if not found:\n",
    "        print('The item was not found in the file.')\n",
    "        \n",
    "main()"
   ]
  },
  {
   "cell_type": "code",
   "execution_count": 431,
   "metadata": {},
   "outputs": [
    {
     "ename": "SyntaxError",
     "evalue": "unexpected EOF while parsing (<ipython-input-431-dd753b14f2bb>, line 44)",
     "output_type": "error",
     "traceback": [
      "\u001b[1;36m  File \u001b[1;32m\"<ipython-input-431-dd753b14f2bb>\"\u001b[1;36m, line \u001b[1;32m44\u001b[0m\n\u001b[1;33m    main(\u001b[0m\n\u001b[1;37m         ^\u001b[0m\n\u001b[1;31mSyntaxError\u001b[0m\u001b[1;31m:\u001b[0m unexpected EOF while parsing\n"
     ]
    }
   ],
   "source": [
    "#Modifying Records with Sequential Access files\n",
    "#Introducing the 'remove()' and 'rename()' with import os\n",
    "import os #NEEDED\n",
    "def main():\n",
    "    found = False\n",
    "    search = input('Enter a description variable of which to modify: ')\n",
    "    new_qty = int(input('Enter the new quantity: '))\n",
    "    \n",
    "    coffee_file = open('coffee.txt','r')\n",
    "    temp_file = open('temp.txt','w')\n",
    "    \n",
    "    #read first line in field\n",
    "    descr = coffee_file.readline()\n",
    "    \n",
    "    #Read rest of file\n",
    "    while descr != '':\n",
    "        qty = float(coffee_file.readline())\n",
    "        descr = descr.rstrip('\\n')\n",
    "        \n",
    "        #Write either this record to the temp file or the new record if this is the one.\n",
    "        if descr == search:\n",
    "            #Write modified record to temp file\n",
    "            temp_file.write(descr + '\\n')\n",
    "            temp_file.write(str(new_qty) + '\\n')\n",
    "            found = True\n",
    "        else:\n",
    "            #Write the original file to the temp file\n",
    "            temp_file.write(descr + '\\n')\n",
    "            temp_file.write(str(qty) + '\\n')\n",
    "        descr = coffee_file.readline()\n",
    "        \n",
    "    coffee_file.close()\n",
    "    temp_file.close()\n",
    "    \n",
    "    #Delete old file\n",
    "    os.remove('coffee.txt')\n",
    "    #Rename the temp file\n",
    "    os.rename('temp.txt','coffee.txt')\n",
    "    \n",
    "    if found:\n",
    "        print('The file has been updated.')\n",
    "    else:\n",
    "        print('The item was not found in the file.')\n",
    "main()"
   ]
  },
  {
   "cell_type": "code",
   "execution_count": 430,
   "metadata": {},
   "outputs": [
    {
     "ename": "SyntaxError",
     "evalue": "unexpected EOF while parsing (<ipython-input-430-3bb4e5e47558>, line 39)",
     "output_type": "error",
     "traceback": [
      "\u001b[1;36m  File \u001b[1;32m\"<ipython-input-430-3bb4e5e47558>\"\u001b[1;36m, line \u001b[1;32m39\u001b[0m\n\u001b[1;33m    main(\u001b[0m\n\u001b[1;37m         ^\u001b[0m\n\u001b[1;31mSyntaxError\u001b[0m\u001b[1;31m:\u001b[0m unexpected EOF while parsing\n"
     ]
    }
   ],
   "source": [
    "#Deleting Records of Sequential Access. Also require rewriting.\n",
    "import os #NEEDED\n",
    "def main():\n",
    "    found = False\n",
    "    search = input('Enter a description variable of which to delete: ')\n",
    "    \n",
    "    coffee_file = open('coffee.txt','r')\n",
    "    temp_file = open('temp.txt','w')\n",
    "    \n",
    "    #read first line in field\n",
    "    descr = coffee_file.readline()\n",
    "    \n",
    "    #Read rest of file\n",
    "    while descr != '':\n",
    "        qty = float(coffee_file.readline())\n",
    "        descr = descr.rstrip('\\n')\n",
    "        \n",
    "        #Write either this record to the temp file or the new record if this is the one.\n",
    "        if descr != search:\n",
    "            #Write modified record to temp file\n",
    "            temp_file.write(descr + '\\n')\n",
    "            temp_file.write(str(new_qty) + '\\n')\n",
    "        else:\n",
    "            found = True\n",
    "        descr = coffee_file.readline()\n",
    "        \n",
    "    coffee_file.close()\n",
    "    temp_file.close()\n",
    "    \n",
    "    #Delete old file\n",
    "    os.remove('coffee.txt')\n",
    "    #Rename the temp file\n",
    "    os.rename('temp.txt','coffee.txt')\n",
    "    \n",
    "    if found:\n",
    "        print('The file has been updated.')\n",
    "    else:\n",
    "        print('The item was not found in the file.')\n",
    "main()"
   ]
  },
  {
   "cell_type": "code",
   "execution_count": 432,
   "metadata": {},
   "outputs": [
    {
     "name": "stdout",
     "output_type": "stream",
     "text": [
      "First integer: 5\n",
      "Second integer: 0\n",
      "Cannot divide by zero.\n"
     ]
    }
   ],
   "source": [
    "#EXCEPTIONS\n",
    "#to avoid getting errors and crashing your program, carefully code a program to avoid exception\n",
    "#Example: You cannot divide by zero.\n",
    "def main():\n",
    "    num1 = int(input('First integer: '))\n",
    "    num2 = int(input('Second integer: '))\n",
    "    if num2 != 0:\n",
    "        result = num1/num2\n",
    "        print(num1,'divided by',num2,'is',result)\n",
    "    else:\n",
    "        print('Cannot divide by zero.')\n",
    "        \n",
    "main()"
   ]
  },
  {
   "cell_type": "code",
   "execution_count": 433,
   "metadata": {},
   "outputs": [],
   "source": [
    "#Some exceptions simply cannot be avoided.\n",
    "#Thus, an exception handler can be written with the try/except statements.\n",
    "# try:\n",
    "#    statement\n",
    "# except ExceptionName:\n",
    "#    statment"
   ]
  },
  {
   "cell_type": "code",
   "execution_count": 434,
   "metadata": {},
   "outputs": [
    {
     "name": "stdout",
     "output_type": "stream",
     "text": [
      "How many hours did you work? 40\n",
      "Enter your hourly pay rate: tree fiddy\n",
      "ERROR: Hours worked and hourly pay must be valid numbers.\n"
     ]
    }
   ],
   "source": [
    "#Using the try/except handler\n",
    "#This program calculates gross pay\n",
    "def main():\n",
    "    try:\n",
    "        hours = int(input('How many hours did you work? '))\n",
    "        pay_rate = float(input('Enter your hourly pay rate: '))\n",
    "        gross_pay = hours * pay_rate\n",
    "        print('Gross pay: $', format(gross_pay, ',.2f'),sep='')\n",
    "    except ValueError:\n",
    "        print('ERROR: Hours worked and hourly pay must be valid numbers.')\n",
    "        \n",
    "main()"
   ]
  },
  {
   "cell_type": "code",
   "execution_count": 435,
   "metadata": {},
   "outputs": [
    {
     "name": "stdout",
     "output_type": "stream",
     "text": [
      "How many hours did you work? forty\n",
      "An error has occured.\n"
     ]
    }
   ],
   "source": [
    "#Using one except clause to catch all exceptions\n",
    "def main():\n",
    "    try:\n",
    "        hours = int(input('How many hours did you work? '))\n",
    "        pay_rate = float(input('Enter your hourly pay rate: '))\n",
    "        gross_pay = hours * pay_rate\n",
    "        print('Gross pay: $', format(gross_pay, ',.2f'),sep='')\n",
    "    except:\n",
    "        print('An error has occured.')\n",
    "main()  "
   ]
  },
  {
   "cell_type": "code",
   "execution_count": 436,
   "metadata": {},
   "outputs": [
    {
     "name": "stdout",
     "output_type": "stream",
     "text": [
      "How many hours did you work? forty\n",
      "invalid literal for int() with base 10: 'forty'\n"
     ]
    }
   ],
   "source": [
    "#Display the exception's defualt error message\n",
    "def main():\n",
    "    try:\n",
    "        hours = int(input('How many hours did you work? '))\n",
    "        pay_rate = float(input('Enter your hourly pay rate: '))\n",
    "        gross_pay = hours * pay_rate\n",
    "        print('Gross pay: $', format(gross_pay, ',.2f'),sep='')\n",
    "    except ValueError as err:\n",
    "        print(err)\n",
    "main()  "
   ]
  },
  {
   "cell_type": "code",
   "execution_count": 437,
   "metadata": {},
   "outputs": [],
   "source": [
    "#The else suite\n",
    "#You may add an else clause AFTER the except clause."
   ]
  },
  {
   "cell_type": "code",
   "execution_count": 438,
   "metadata": {},
   "outputs": [],
   "source": [
    "#The finally suite\n",
    "#try/except may have an optional finally clause which must appear after all except clauses\n",
    "#These will occur whether an error is detected or not. Some things it usually does it close files and other resources"
   ]
  },
  {
   "cell_type": "code",
   "execution_count": 439,
   "metadata": {},
   "outputs": [],
   "source": [
    "#1\n",
    "def main():\n",
    "    my_name = open('my_name.txt','w')\n",
    "    my_name.write('Alex' + '\\n')\n",
    "    my_name.close()\n",
    "main()"
   ]
  },
  {
   "cell_type": "code",
   "execution_count": 442,
   "metadata": {},
   "outputs": [
    {
     "name": "stdout",
     "output_type": "stream",
     "text": [
      "Alex\n"
     ]
    }
   ],
   "source": [
    "#2\n",
    "def main():\n",
    "    my_name = open('my_name.txt','r')\n",
    "    name = my_name.readline()\n",
    "    name = name.rstrip('\\n')\n",
    "    print(name)\n",
    "    my_name.close()\n",
    "main()"
   ]
  },
  {
   "cell_type": "code",
   "execution_count": 444,
   "metadata": {},
   "outputs": [],
   "source": [
    "#3\n",
    "def main():\n",
    "    out_file = open('numbers_list.txt','w')\n",
    "    for i in range(1,101):\n",
    "        out_file.write(str(i) + '\\n')\n",
    "    out_file.close()\n",
    "main()"
   ]
  },
  {
   "cell_type": "code",
   "execution_count": 447,
   "metadata": {},
   "outputs": [
    {
     "ename": "SyntaxError",
     "evalue": "unexpected EOF while parsing (<ipython-input-447-91c86fb06317>, line 8)",
     "output_type": "error",
     "traceback": [
      "\u001b[1;36m  File \u001b[1;32m\"<ipython-input-447-91c86fb06317>\"\u001b[1;36m, line \u001b[1;32m8\u001b[0m\n\u001b[1;33m    main(\u001b[0m\n\u001b[1;37m         ^\u001b[0m\n\u001b[1;31mSyntaxError\u001b[0m\u001b[1;31m:\u001b[0m unexpected EOF while parsing\n"
     ]
    }
   ],
   "source": [
    "#4\n",
    "def main():\n",
    "    in_file = open('numbers_list.txt','r')\n",
    "    for line in in_file:\n",
    "        x = line.rstrip('\\n')\n",
    "        print(int(x))\n",
    "    in_file.close()\n",
    "main()"
   ]
  },
  {
   "cell_type": "code",
   "execution_count": 448,
   "metadata": {},
   "outputs": [
    {
     "name": "stdout",
     "output_type": "stream",
     "text": [
      "5050\n"
     ]
    }
   ],
   "source": [
    "#5\n",
    "def main():\n",
    "    in_file = open('numbers_list.txt','r')\n",
    "    accum = 0\n",
    "    for line in in_file:\n",
    "        x = line.rstrip('\\n')\n",
    "        accum += int(x)\n",
    "    in_file.close()\n",
    "    print(accum)\n",
    "main()"
   ]
  },
  {
   "cell_type": "code",
   "execution_count": 449,
   "metadata": {},
   "outputs": [],
   "source": [
    "#6\n",
    "def main():\n",
    "    in_file = open('numbers_list.txt','a')\n",
    "    in_file.close()\n",
    "main()"
   ]
  },
  {
   "cell_type": "code",
   "execution_count": 452,
   "metadata": {},
   "outputs": [
    {
     "ename": "FileNotFoundError",
     "evalue": "[Errno 2] No such file or directory: 'students.txt'",
     "output_type": "error",
     "traceback": [
      "\u001b[1;31m---------------------------------------------------------------------------\u001b[0m",
      "\u001b[1;31mFileNotFoundError\u001b[0m                         Traceback (most recent call last)",
      "\u001b[1;32m<ipython-input-452-ab0a9df8b5e8>\u001b[0m in \u001b[0;36m<module>\u001b[1;34m\u001b[0m\n\u001b[0;32m     30\u001b[0m     \u001b[1;32melse\u001b[0m\u001b[1;33m:\u001b[0m\u001b[1;33m\u001b[0m\u001b[1;33m\u001b[0m\u001b[0m\n\u001b[0;32m     31\u001b[0m         \u001b[0mprint\u001b[0m\u001b[1;33m(\u001b[0m\u001b[1;34m'The item was not found in the file.'\u001b[0m\u001b[1;33m)\u001b[0m\u001b[1;33m\u001b[0m\u001b[1;33m\u001b[0m\u001b[0m\n\u001b[1;32m---> 32\u001b[1;33m \u001b[0mmain\u001b[0m\u001b[1;33m(\u001b[0m\u001b[1;33m)\u001b[0m\u001b[1;33m\u001b[0m\u001b[1;33m\u001b[0m\u001b[0m\n\u001b[0m",
      "\u001b[1;32m<ipython-input-452-ab0a9df8b5e8>\u001b[0m in \u001b[0;36mmain\u001b[1;34m()\u001b[0m\n\u001b[0;32m      4\u001b[0m     \u001b[0msearch\u001b[0m \u001b[1;33m=\u001b[0m \u001b[1;34m'John Perz'\u001b[0m\u001b[1;33m\u001b[0m\u001b[1;33m\u001b[0m\u001b[0m\n\u001b[0;32m      5\u001b[0m \u001b[1;33m\u001b[0m\u001b[0m\n\u001b[1;32m----> 6\u001b[1;33m     \u001b[0min_file\u001b[0m \u001b[1;33m=\u001b[0m \u001b[0mopen\u001b[0m\u001b[1;33m(\u001b[0m\u001b[1;34m'students.txt'\u001b[0m\u001b[1;33m,\u001b[0m\u001b[1;34m'r'\u001b[0m\u001b[1;33m)\u001b[0m\u001b[1;33m\u001b[0m\u001b[1;33m\u001b[0m\u001b[0m\n\u001b[0m\u001b[0;32m      7\u001b[0m     \u001b[0mtemp_file\u001b[0m \u001b[1;33m=\u001b[0m \u001b[0mopen\u001b[0m\u001b[1;33m(\u001b[0m\u001b[1;34m'temp.txt'\u001b[0m\u001b[1;33m,\u001b[0m\u001b[1;34m'w'\u001b[0m\u001b[1;33m)\u001b[0m\u001b[1;33m\u001b[0m\u001b[1;33m\u001b[0m\u001b[0m\n\u001b[0;32m      8\u001b[0m \u001b[1;33m\u001b[0m\u001b[0m\n",
      "\u001b[1;31mFileNotFoundError\u001b[0m: [Errno 2] No such file or directory: 'students.txt'"
     ]
    }
   ],
   "source": [
    "#7 This will get an error, because file is not existent\n",
    "def main():\n",
    "    found = False\n",
    "    search = 'John Perz'\n",
    "    \n",
    "    in_file = open('students.txt','r')\n",
    "    temp_file = open('temp.txt','w')\n",
    "    \n",
    "    name = in_file.readline()\n",
    "    while name != '':\n",
    "        score = float(in_file.readline())\n",
    "        name = name.rstrip('\\n')\n",
    "        if descr != search:\n",
    "            temp_file.write(name + '\\n')\n",
    "            temp_file.write(str(new_score) + '\\n')\n",
    "        else:\n",
    "            found = True\n",
    "        name = coffee_file.readline()\n",
    "        \n",
    "    in_file.close()\n",
    "    temp_file.close()\n",
    "    \n",
    "    #Delete old file\n",
    "    os.remove('students.txt')\n",
    "    #Rename the temp file\n",
    "    os.rename('temp.txt','students.txt')\n",
    "    \n",
    "    if found:\n",
    "        print('The entry has been deleted.')\n",
    "    else:\n",
    "        print('The item was not found in the file.')\n",
    "main()"
   ]
  },
  {
   "cell_type": "code",
   "execution_count": 454,
   "metadata": {},
   "outputs": [
    {
     "ename": "FileNotFoundError",
     "evalue": "[Errno 2] No such file or directory: 'students.txt'",
     "output_type": "error",
     "traceback": [
      "\u001b[1;31m---------------------------------------------------------------------------\u001b[0m",
      "\u001b[1;31mFileNotFoundError\u001b[0m                         Traceback (most recent call last)",
      "\u001b[1;32m<ipython-input-454-ba17cb2f06dc>\u001b[0m in \u001b[0;36m<module>\u001b[1;34m\u001b[0m\n\u001b[0;32m     31\u001b[0m     \u001b[1;32melse\u001b[0m\u001b[1;33m:\u001b[0m\u001b[1;33m\u001b[0m\u001b[1;33m\u001b[0m\u001b[0m\n\u001b[0;32m     32\u001b[0m         \u001b[0mprint\u001b[0m\u001b[1;33m(\u001b[0m\u001b[1;34m'The item was not found in the file.'\u001b[0m\u001b[1;33m)\u001b[0m\u001b[1;33m\u001b[0m\u001b[1;33m\u001b[0m\u001b[0m\n\u001b[1;32m---> 33\u001b[1;33m \u001b[0mmain\u001b[0m\u001b[1;33m(\u001b[0m\u001b[1;33m)\u001b[0m\u001b[1;33m\u001b[0m\u001b[1;33m\u001b[0m\u001b[0m\n\u001b[0m",
      "\u001b[1;32m<ipython-input-454-ba17cb2f06dc>\u001b[0m in \u001b[0;36mmain\u001b[1;34m()\u001b[0m\n\u001b[0;32m      4\u001b[0m     \u001b[0msearch\u001b[0m \u001b[1;33m=\u001b[0m \u001b[1;34m'Julie Milan'\u001b[0m\u001b[1;33m\u001b[0m\u001b[1;33m\u001b[0m\u001b[0m\n\u001b[0;32m      5\u001b[0m \u001b[1;33m\u001b[0m\u001b[0m\n\u001b[1;32m----> 6\u001b[1;33m     \u001b[0min_file\u001b[0m \u001b[1;33m=\u001b[0m \u001b[0mopen\u001b[0m\u001b[1;33m(\u001b[0m\u001b[1;34m'students.txt'\u001b[0m\u001b[1;33m,\u001b[0m\u001b[1;34m'r'\u001b[0m\u001b[1;33m)\u001b[0m\u001b[1;33m\u001b[0m\u001b[1;33m\u001b[0m\u001b[0m\n\u001b[0m\u001b[0;32m      7\u001b[0m     \u001b[0mtemp_file\u001b[0m \u001b[1;33m=\u001b[0m \u001b[0mopen\u001b[0m\u001b[1;33m(\u001b[0m\u001b[1;34m'temp.txt'\u001b[0m\u001b[1;33m,\u001b[0m\u001b[1;34m'w'\u001b[0m\u001b[1;33m)\u001b[0m\u001b[1;33m\u001b[0m\u001b[1;33m\u001b[0m\u001b[0m\n\u001b[0;32m      8\u001b[0m \u001b[1;33m\u001b[0m\u001b[0m\n",
      "\u001b[1;31mFileNotFoundError\u001b[0m: [Errno 2] No such file or directory: 'students.txt'"
     ]
    }
   ],
   "source": [
    "#8 This will get an error, because file is not existent\n",
    "def main():\n",
    "    found = False\n",
    "    search = 'Julie Milan'\n",
    "    \n",
    "    in_file = open('students.txt','r')\n",
    "    temp_file = open('temp.txt','w')\n",
    "    \n",
    "    name = in_file.readline()\n",
    "    while name != '':\n",
    "        score = float(in_file.readline())\n",
    "        name = name.rstrip('\\n')\n",
    "        if descr != search:\n",
    "            temp_file.write(name + '\\n')\n",
    "            temp_file.write(str(new_score) + '\\n')\n",
    "        else:\n",
    "            temp_file.write(name + '\\n')\n",
    "            temp_file.write(str(input('Enter new score: ') + '\\n'))\n",
    "        name = in_file.readline()\n",
    "        \n",
    "    in_file.close()\n",
    "    temp_file.close()\n",
    "    \n",
    "    #Delete old file\n",
    "    os.remove('students.txt')\n",
    "    #Rename the temp file\n",
    "    os.rename('temp.txt','students.txt')\n",
    "    \n",
    "    if found:\n",
    "        print('The entry has been edited.')\n",
    "    else:\n",
    "        print('The item was not found in the file.')\n",
    "main()"
   ]
  },
  {
   "cell_type": "code",
   "execution_count": 456,
   "metadata": {},
   "outputs": [
    {
     "name": "stdout",
     "output_type": "stream",
     "text": [
      "1\n",
      "2\n",
      "3\n",
      "4\n",
      "5\n",
      "6\n",
      "7\n",
      "8\n",
      "9\n",
      "10\n"
     ]
    }
   ],
   "source": [
    "#1 File Display\n",
    "def main():\n",
    "    in_file = open('numbers.txt','r')\n",
    "    line = in_file.readline()\n",
    "    while line != '':\n",
    "        number = int(line.rstrip('\\n'))\n",
    "        print(number)\n",
    "        line = in_file.readline()\n",
    "main()"
   ]
  },
  {
   "cell_type": "code",
   "execution_count": 464,
   "metadata": {},
   "outputs": [
    {
     "name": "stdout",
     "output_type": "stream",
     "text": [
      "Input .txt file name followed by .txt: numbers.txt\n",
      "1\n",
      "2\n",
      "3\n",
      "4\n",
      "5\n"
     ]
    }
   ],
   "source": [
    "#2 File Head Display\n",
    "def main():\n",
    "    in_file = input('Input .txt file name followed by .txt: ')\n",
    "    in_file = open(in_file, 'r')\n",
    "    line = in_file.readline()\n",
    "    for i in range(5):\n",
    "        line = line.rstrip('\\n')\n",
    "        print(line)\n",
    "        line = in_file.readline()\n",
    "    in_file.close()\n",
    "main()"
   ]
  },
  {
   "cell_type": "code",
   "execution_count": 465,
   "metadata": {
    "scrolled": true
   },
   "outputs": [
    {
     "name": "stdout",
     "output_type": "stream",
     "text": [
      "Input .txt file name followed by .txt: numbers.txt\n",
      "1, 1\n",
      "2, 2\n",
      "3, 3\n",
      "4, 4\n",
      "5, 5\n",
      "6, 6\n",
      "7, 7\n",
      "8, 8\n",
      "9, 9\n",
      "10, 10\n"
     ]
    }
   ],
   "source": [
    "#3 Line Numbers\n",
    "def main():\n",
    "    in_file = input('Input .txt file name followed by .txt: ')\n",
    "    in_file = open(in_file,'r')\n",
    "    line = in_file.readline()\n",
    "    count = 1\n",
    "    while line != '':\n",
    "        line = line.rstrip('\\n')\n",
    "        print(count,', ',line,sep='')\n",
    "        count += 1\n",
    "        line = in_file.readline()\n",
    "    in_file.close\n",
    "main()"
   ]
  },
  {
   "cell_type": "code",
   "execution_count": 466,
   "metadata": {},
   "outputs": [
    {
     "name": "stdout",
     "output_type": "stream",
     "text": [
      "7 names in file.\n"
     ]
    }
   ],
   "source": [
    "#4 Item Counter\n",
    "def main():\n",
    "    in_file = open('friends.txt','r')\n",
    "    line = in_file.readline()\n",
    "    count = 0\n",
    "    while line != '':\n",
    "        count += 1\n",
    "        line = in_file.readline()\n",
    "    print(count, 'names in file.')\n",
    "    in_file.close\n",
    "main()"
   ]
  },
  {
   "cell_type": "code",
   "execution_count": 467,
   "metadata": {},
   "outputs": [
    {
     "name": "stdout",
     "output_type": "stream",
     "text": [
      "55 is sum of all numbers in file.\n"
     ]
    }
   ],
   "source": [
    "#5 Sum of Numbers\n",
    "def main():\n",
    "    in_file = open('numbers.txt','r')\n",
    "    line = in_file.readline()\n",
    "    accum = 0\n",
    "    while line != '':\n",
    "        line = int(line.rstrip('\\n'))\n",
    "        accum += line\n",
    "        line = in_file.readline()\n",
    "    print(accum, 'is sum of all numbers in file.')\n",
    "    in_file.close\n",
    "main()"
   ]
  },
  {
   "cell_type": "code",
   "execution_count": 468,
   "metadata": {},
   "outputs": [
    {
     "name": "stdout",
     "output_type": "stream",
     "text": [
      "5.50 is the average of the file.\n"
     ]
    }
   ],
   "source": [
    "#6 Average of Numbers\n",
    "def main():\n",
    "    in_file = open('numbers.txt','r')\n",
    "    line = in_file.readline()\n",
    "    accum = 0\n",
    "    count = 0\n",
    "    while line != '':\n",
    "        line = int(line.rstrip('\\n'))\n",
    "        accum += line\n",
    "        count += 1\n",
    "        line = in_file.readline()\n",
    "    avg = accum / count\n",
    "    print(format(avg,',.2f'),'is the average of the file.')\n",
    "    in_file.close\n",
    "main()"
   ]
  },
  {
   "cell_type": "code",
   "execution_count": 470,
   "metadata": {},
   "outputs": [
    {
     "name": "stdout",
     "output_type": "stream",
     "text": [
      "How many lines of numbers to write? 5\n"
     ]
    }
   ],
   "source": [
    "#7 Random Number File Writer\n",
    "import random\n",
    "def main():\n",
    "    out_file = open('random.txt','w')\n",
    "    length = int(input('How many lines of numbers to write? '))\n",
    "    for i in range(length):\n",
    "        out_file.write(str(random.randint(1,500)) + '\\n')\n",
    "    out_file.close\n",
    "main()"
   ]
  },
  {
   "cell_type": "code",
   "execution_count": 473,
   "metadata": {},
   "outputs": [
    {
     "name": "stdout",
     "output_type": "stream",
     "text": [
      "1695 is the sum of all numbers in file.\n",
      "5 is the number of integers in file.\n"
     ]
    }
   ],
   "source": [
    "#8 Random Number File Reader\n",
    "def main():\n",
    "    in_file = open('random.txt','r')\n",
    "    line = in_file.readline()\n",
    "    accum = 0\n",
    "    count = 0\n",
    "    while line != '':\n",
    "        line = int(line.rstrip('\\n'))\n",
    "        accum += line\n",
    "        count += 1\n",
    "        line = in_file.readline()\n",
    "    print(accum,'is the sum of all numbers in file.')\n",
    "    print(count,'is the number of integers in file.')\n",
    "    in_file.close()\n",
    "main() "
   ]
  },
  {
   "cell_type": "code",
   "execution_count": 477,
   "metadata": {},
   "outputs": [
    {
     "name": "stdout",
     "output_type": "stream",
     "text": [
      "5.50 is the average of the file.\n"
     ]
    }
   ],
   "source": [
    "#9 Exception Handling\n",
    "def main():\n",
    "    try:\n",
    "        in_file = open('numbers.txt','r')\n",
    "        line = in_file.readline()\n",
    "        accum = 0\n",
    "        count = 0\n",
    "        while line != '':\n",
    "            line = int(line.rstrip('\\n'))\n",
    "            accum += line\n",
    "            count += 1\n",
    "            line = in_file.readline()\n",
    "        avg = accum / count\n",
    "        print(format(avg,',.2f'),'is the average of the file.')\n",
    "        in_file.close\n",
    "    except IOError as err:\n",
    "        print('ERROR: File cannot be retrieved.')\n",
    "    except ValueError:\n",
    "        print('ERROR: Values cannot be computed as numericals.')\n",
    "main()"
   ]
  },
  {
   "cell_type": "code",
   "execution_count": 479,
   "metadata": {},
   "outputs": [
    {
     "name": "stdout",
     "output_type": "stream",
     "text": [
      "Write the scores.\n",
      "Name: The Dude\n",
      "Score: 2\n",
      "Add another? Type \"y\" to continue.y\n",
      "Name: Pumpkin Hobert\n",
      "Score: 4\n",
      "Add another? Type \"y\" to continue.n\n",
      "Reading scores on file...\n",
      "The Dude\n",
      "2\n",
      "Pumpkin Hobert\n",
      "4\n"
     ]
    }
   ],
   "source": [
    "#10 Golf Scores\n",
    "def main():\n",
    "    print('Write the scores.')\n",
    "    write_golf()\n",
    "    print('Reading scores on file...')\n",
    "    read_golf()\n",
    "\n",
    "def write_golf():\n",
    "    out_file = open('golf.txt','w')\n",
    "    another = 'y'\n",
    "    while another == 'y' or another == 'Y':\n",
    "        name = str(input('Name: '))\n",
    "        score = int(input('Score: '))\n",
    "        \n",
    "        out_file.write(name + '\\n')\n",
    "        out_file.write(str(score) + '\\n')\n",
    "        another = input('Add another? Type \"y\" to continue.')\n",
    "    out_file.close()\n",
    "\n",
    "def read_golf():\n",
    "    in_file = open('golf.txt','r')\n",
    "    line = in_file.readline()\n",
    "    while line != '':\n",
    "        print(line.rstrip('\\n'))\n",
    "        line = in_file.readline()\n",
    "    in_file.close()\n",
    "main()"
   ]
  },
  {
   "cell_type": "code",
   "execution_count": 487,
   "metadata": {},
   "outputs": [
    {
     "name": "stdout",
     "output_type": "stream",
     "text": [
      "Enter your name: Dr. Sex\n",
      "Enter your brief description: i shid pant lol\n"
     ]
    }
   ],
   "source": [
    "#11 Personal Web Page Generator\n",
    "def main():\n",
    "    out_file = open('personal.html','w')\n",
    "    name = str(input('Enter your name: '))\n",
    "    dscr = str(input('Enter your brief description: '))\n",
    "    html = \"<html>\\n<head>\\n</head>\\n<body>\\n<center>\\n<h1>\" + name + \"</h1>\\n</center>\\n<hr />\\n\"+ dscr+\"\\n<hr />\\n</body>\\n</html>\"\n",
    "    out_file.write(html)\n",
    "    out_file.close\n",
    "main()"
   ]
  },
  {
   "cell_type": "code",
   "execution_count": 488,
   "metadata": {},
   "outputs": [],
   "source": [
    "##CHAPTER 7 LIST & TUPLES##"
   ]
  },
  {
   "cell_type": "code",
   "execution_count": 490,
   "metadata": {},
   "outputs": [],
   "source": [
    "#SEQUENCES = objects that hold multiple items of data, stored one after another. You can perform operations on a\n",
    "#sequence to examine and manipulate the items stored in it.\n",
    "#\n",
    "#There are many types, but we will look at LISTS and TUPLES"
   ]
  },
  {
   "cell_type": "code",
   "execution_count": 491,
   "metadata": {},
   "outputs": [],
   "source": [
    "#LIST = is mutable; the program can change its contents\n",
    "#TUPLE = is immutable; once created, the program cannot change its contents"
   ]
  },
  {
   "cell_type": "code",
   "execution_count": 493,
   "metadata": {},
   "outputs": [
    {
     "name": "stdout",
     "output_type": "stream",
     "text": [
      "[2, 4, 5, 6, 10]\n",
      "['Molly', 'Steven', 'Will', 'Alicia', 'Adriana']\n"
     ]
    }
   ],
   "source": [
    "#Lists\n",
    "even_numbers = [2,4,5,6,10]\n",
    "names = ['Molly','Steven','Will','Alicia','Adriana']\n",
    "info = ['Alicia',27,1550.87]\n",
    "print(even_numbers)\n",
    "print(names)"
   ]
  },
  {
   "cell_type": "code",
   "execution_count": 495,
   "metadata": {},
   "outputs": [
    {
     "name": "stdout",
     "output_type": "stream",
     "text": [
      "[1, 3, 5, 7, 9]\n"
     ]
    }
   ],
   "source": [
    "#you can convert certain objects to lists\n",
    "numbers = list(range(1,10,2))\n",
    "print(numbers)"
   ]
  },
  {
   "cell_type": "code",
   "execution_count": 496,
   "metadata": {},
   "outputs": [
    {
     "name": "stdout",
     "output_type": "stream",
     "text": [
      "[0, 0, 0, 0, 0]\n"
     ]
    }
   ],
   "source": [
    "#repetition operator\n",
    "#list * n\n",
    "numbers = [0] * 5\n",
    "print(numbers)"
   ]
  },
  {
   "cell_type": "code",
   "execution_count": 497,
   "metadata": {},
   "outputs": [],
   "source": [
    "#NOTE ON ARRAYS: Lists are similar to arrays except not as limited in capabilities. \n",
    "#Traditional arrays cannot be created in python"
   ]
  },
  {
   "cell_type": "code",
   "execution_count": 498,
   "metadata": {},
   "outputs": [
    {
     "name": "stdout",
     "output_type": "stream",
     "text": [
      "99\n",
      "100\n",
      "101\n",
      "102\n"
     ]
    }
   ],
   "source": [
    "#Iterating over a list with the for loop\n",
    "numbers = [99,100,101,102]\n",
    "for n in numbers:\n",
    "    print(n)"
   ]
  },
  {
   "cell_type": "code",
   "execution_count": 500,
   "metadata": {},
   "outputs": [
    {
     "name": "stdout",
     "output_type": "stream",
     "text": [
      "10 20 30 40\n",
      "10\n",
      "20\n",
      "30\n",
      "40\n"
     ]
    }
   ],
   "source": [
    "#Indexing\n",
    "#access individual elements of a list through an index. They start from 0 - n like the range().\n",
    "my_list = [10,20,30,40]\n",
    "print(my_list[0],my_list[1],my_list[2],my_list[3])\n",
    "index = 0\n",
    "while index < 4:\n",
    "    print(my_list[index])\n",
    "    index += 1"
   ]
  },
  {
   "cell_type": "code",
   "execution_count": 502,
   "metadata": {},
   "outputs": [
    {
     "name": "stdout",
     "output_type": "stream",
     "text": [
      "40 30 20 10\n"
     ]
    }
   ],
   "source": [
    "#Use negative indexes with lists to indentify element positions relative to the end of the list.\n",
    "#Index -1 identifies the last element, -2 is the next to last element, and so on.\n",
    "my_list = [10,20,30,40]\n",
    "print(my_list[-1],my_list[-2],my_list[-3],my_list[-4])"
   ]
  },
  {
   "cell_type": "code",
   "execution_count": 506,
   "metadata": {},
   "outputs": [
    {
     "name": "stdout",
     "output_type": "stream",
     "text": [
      "10\n",
      "20\n",
      "30\n",
      "40\n",
      "ERROR: list index out of range\n"
     ]
    }
   ],
   "source": [
    "#IndexError exception will be raised if you use an invalid index with the list\n",
    "try: \n",
    "    my_list = [10,20,30,40]\n",
    "    index = 0\n",
    "    while index < 5:\n",
    "        print(my_list[index])\n",
    "        index += 1\n",
    "except IndexError as err:\n",
    "    print('ERROR:',err)"
   ]
  },
  {
   "cell_type": "code",
   "execution_count": 508,
   "metadata": {},
   "outputs": [
    {
     "name": "stdout",
     "output_type": "stream",
     "text": [
      "4\n"
     ]
    }
   ],
   "source": [
    "#The len function returns the length of a sequence such as a list\n",
    "my_list = [10,20,30,40]\n",
    "size = len(my_list)\n",
    "print(size)"
   ]
  },
  {
   "cell_type": "code",
   "execution_count": 510,
   "metadata": {},
   "outputs": [
    {
     "name": "stdout",
     "output_type": "stream",
     "text": [
      "10\n",
      "20\n",
      "30\n",
      "40\n"
     ]
    }
   ],
   "source": [
    "#Use the len() to prevent the IndexError exception!\n",
    "my_list = [10, 20, 30, 40]\n",
    "index = 0\n",
    "while index < len(my_list):\n",
    "    print(my_list[index])\n",
    "    index += 1"
   ]
  },
  {
   "cell_type": "code",
   "execution_count": 511,
   "metadata": {},
   "outputs": [
    {
     "name": "stdout",
     "output_type": "stream",
     "text": [
      "[1, 2, 3, 4, 5]\n",
      "[99, 2, 3, 4, 5]\n"
     ]
    }
   ],
   "source": [
    "#Lists are mutable; their elements can be changed. Consequently, an expression in the form list[index] can appear\n",
    "#on the left side of an assignment operator\n",
    "numbers = [1,2,3,4,5]\n",
    "print(numbers)\n",
    "numbers[0] = 99\n",
    "print(numbers)"
   ]
  },
  {
   "cell_type": "code",
   "execution_count": 512,
   "metadata": {},
   "outputs": [
    {
     "name": "stdout",
     "output_type": "stream",
     "text": [
      "[99, 99, 99, 99, 99]\n"
     ]
    }
   ],
   "source": [
    "#To index expressions to fill a list with values, you have to create the list first.\n",
    "#Create list with 5 elements.\n",
    "numbers = [0] * 5\n",
    "\n",
    "#Fill the list with the value 99\n",
    "index = 0\n",
    "while index < len(numbers):\n",
    "    numbers[index] = 99\n",
    "    index += 1\n",
    "print(numbers)"
   ]
  },
  {
   "cell_type": "code",
   "execution_count": 514,
   "metadata": {},
   "outputs": [
    {
     "name": "stdout",
     "output_type": "stream",
     "text": [
      "Enter the sales for each day.\n",
      "Day #1:30\n",
      "Day #2:40\n",
      "Day #3:10\n",
      "Day #4:50\n",
      "Day #5:30\n",
      "Here are the values you entered:\n",
      "30.0\n",
      "40.0\n",
      "10.0\n",
      "50.0\n",
      "30.0\n"
     ]
    }
   ],
   "source": [
    "#Sales/User List\n",
    "#The NUM_DAYS constant holds the number of days that we will gather sales data for\n",
    "NUM_DAYS = 5\n",
    "\n",
    "def main():\n",
    "    #Create list to hold the sales for each day\n",
    "    sales = [0] * NUM_DAYS\n",
    "    #Create a variable to hold an index\n",
    "    index = 0\n",
    "    print('Enter the sales for each day.')\n",
    "    \n",
    "    #Get the sales for each day\n",
    "    while index < NUM_DAYS:\n",
    "        print('Day #',index + 1, ':',sep='',end='')\n",
    "        sales[index] = float(input())\n",
    "        index += 1\n",
    "    #Display the values entered\n",
    "    print('Here are the values you entered:')\n",
    "    for value in sales:\n",
    "        print(value)\n",
    "main()"
   ]
  },
  {
   "cell_type": "code",
   "execution_count": 516,
   "metadata": {},
   "outputs": [
    {
     "name": "stdout",
     "output_type": "stream",
     "text": [
      "[1, 2, 3, 4, 5, 6, 7, 8]\n",
      "[1, 2, 3, 4, 5, 6, 7, 8]\n"
     ]
    }
   ],
   "source": [
    "#Concatenating List\n",
    "#means joining together. Use the + operator\n",
    "list1 = [1,2,3,4]\n",
    "list2 = [5,6,7,8]\n",
    "list3 = list1 + list2\n",
    "print(list3)\n",
    "\n",
    "#using the += will concatenate one list to another\n",
    "list1 += [5,6,7,8]\n",
    "print(list1)"
   ]
  },
  {
   "cell_type": "code",
   "execution_count": 525,
   "metadata": {},
   "outputs": [
    {
     "name": "stdout",
     "output_type": "stream",
     "text": [
      "['Tuesday', 'Wednesday', 'Thursday']\n",
      "['Sunday', 'Monday', 'Tuesday']\n",
      "['Friday', 'Saturday']\n",
      "['Friday', 'Saturday']\n"
     ]
    }
   ],
   "source": [
    "#List Slicing\n",
    "#slicing selects a range of elements from a sequence\n",
    "#list_name[start:end]\n",
    "days = ['Sunday','Monday','Tuesday','Wednesday','Thursday','Friday','Saturday']\n",
    "mid_days = days[2:5]\n",
    "print(mid_days)\n",
    "three_days = days[:3]\n",
    "print(three_days)\n",
    "last_days = days[5:]\n",
    "print(last_days)\n",
    "last_days = days[-2:]\n",
    "print(last_days)"
   ]
  },
  {
   "cell_type": "code",
   "execution_count": 531,
   "metadata": {},
   "outputs": [
    {
     "name": "stdout",
     "output_type": "stream",
     "text": [
      "[2, 3]\n",
      "[2, 3, 4, 5]\n",
      "[1]\n",
      "[1, 2, 3, 4, 5]\n",
      "[3, 4, 5]\n"
     ]
    }
   ],
   "source": [
    "numbers = [1,2,3,4,5]\n",
    "a = numbers[1:3]\n",
    "print(a)\n",
    "a = numbers[1:]\n",
    "print(a)\n",
    "a = numbers[:1]\n",
    "print(a)\n",
    "a = numbers[:]\n",
    "print(a)\n",
    "a = numbers[-3:]\n",
    "print(a)"
   ]
  },
  {
   "cell_type": "code",
   "execution_count": 532,
   "metadata": {},
   "outputs": [
    {
     "name": "stdout",
     "output_type": "stream",
     "text": [
      "Enter the product number: F987\n",
      "F987 was found.\n"
     ]
    }
   ],
   "source": [
    "#Finding Items in List with IN operator\n",
    "#'item in list'\n",
    "def main():\n",
    "    prod_nums = ['V475','F987','Q143','R688']\n",
    "    #get product number to search\n",
    "    search = input('Enter the product number: ')\n",
    "    \n",
    "    if search in prod_nums:\n",
    "        print(search,'was found.')\n",
    "    else:\n",
    "        print(search,'was not found.')\n",
    "main()"
   ]
  },
  {
   "cell_type": "code",
   "execution_count": 533,
   "metadata": {},
   "outputs": [],
   "source": [
    "#List Methods and Useful Built in Functions\n",
    "#append(item) = adds item to the end of list\n",
    "#index(item) = returns the index of the first element whose value is equal to item. Error occurs if not found\n",
    "#insert(index,item) = Inserts item into list at specified index. The item previously there and after are shifted +1 in list.\n",
    "#sort() = sort the items in the list so they appear in ascending order\n",
    "#remove(item) = Removes first occurance of item from the list. Error if not found\n",
    "#reverse() = reverses the order of the items in the list"
   ]
  },
  {
   "cell_type": "code",
   "execution_count": 534,
   "metadata": {},
   "outputs": [
    {
     "name": "stdout",
     "output_type": "stream",
     "text": [
      "Enter a name: The Dude\n",
      "Add another name to list?\n",
      "Type \"y\" to continue: y\n",
      "Enter a name: The Man\n",
      "Add another name to list?\n",
      "Type \"y\" to continue: y\n",
      "Enter a name: Angery Tom\n",
      "Add another name to list?\n",
      "Type \"y\" to continue: n\n",
      "Here are the names you entered.\n",
      "The Dude\n",
      "The Man\n",
      "Angery Tom\n"
     ]
    }
   ],
   "source": [
    "#append(item)\n",
    "def main():\n",
    "    name_list = []\n",
    "    again = 'y'\n",
    "    while again == 'y':\n",
    "        name = input('Enter a name: ')\n",
    "        name_list.append(name)\n",
    "        print('Add another name to list?')\n",
    "        again = input('Type \"y\" to continue: ')\n",
    "    print('Here are the names you entered.')\n",
    "    for name in name_list:\n",
    "        print(name)\n",
    "main()\n",
    "                      "
   ]
  },
  {
   "cell_type": "code",
   "execution_count": 535,
   "metadata": {},
   "outputs": [
    {
     "name": "stdout",
     "output_type": "stream",
     "text": [
      "Here are the items in the food list:\n",
      "['Pizza', 'Burgers', 'Chips']\n",
      "Which item should I change?Chips\n",
      "Enter new value: Fries\n",
      "Here is the revised list:\n",
      "['Pizza', 'Burgers', 'Fries']\n"
     ]
    }
   ],
   "source": [
    "#index(item)\n",
    "def main():\n",
    "    food = ['Pizza','Burgers','Chips']\n",
    "    print('Here are the items in the food list:')\n",
    "    print(food)\n",
    "    item = input('Which item should I change?')\n",
    "    \n",
    "    try:\n",
    "        item_index = food.index(item)\n",
    "        new_item = input('Enter new value: ')\n",
    "        food[item_index] = new_item\n",
    "        print('Here is the revised list:')\n",
    "        print(food)\n",
    "    except ValueError:\n",
    "        print('That item was not found in the list.')\n",
    "main()"
   ]
  },
  {
   "cell_type": "code",
   "execution_count": 536,
   "metadata": {},
   "outputs": [
    {
     "name": "stdout",
     "output_type": "stream",
     "text": [
      "The list of names: \n",
      "['James', 'Kathy', 'Bill']\n",
      "The new list of names: \n",
      "['Joe', 'James', 'Kathy', 'Bill']\n"
     ]
    }
   ],
   "source": [
    "#insert(index,item)\n",
    "def main():\n",
    "    names = ['James','Kathy','Bill']\n",
    "    print('The list of names: ')\n",
    "    print(names)\n",
    "    \n",
    "    names.insert(0,'Joe')\n",
    "    \n",
    "    print('The new list of names: ')\n",
    "    print(names)\n",
    "main()"
   ]
  },
  {
   "cell_type": "code",
   "execution_count": 538,
   "metadata": {},
   "outputs": [
    {
     "name": "stdout",
     "output_type": "stream",
     "text": [
      "Original order: [9, 1, 0, 2, 8, 7, 4, 5, 3]\n",
      "Sorted order: [0, 1, 2, 3, 4, 5, 7, 8, 9]\n"
     ]
    }
   ],
   "source": [
    "#sort()\n",
    "my_list = [9,1,0,2,8,7,4,5,3]\n",
    "print('Original order:',my_list)\n",
    "my_list.sort()\n",
    "print('Sorted order:',my_list)"
   ]
  },
  {
   "cell_type": "code",
   "execution_count": 539,
   "metadata": {},
   "outputs": [
    {
     "name": "stdout",
     "output_type": "stream",
     "text": [
      "Here are the items in the food list:\n",
      "['Pizza', 'Burgers', 'Chips']\n",
      "Which item should I remove? Burgers\n",
      "Here is the revised list:\n",
      "['Pizza', 'Chips']\n"
     ]
    }
   ],
   "source": [
    "#remove(item)\n",
    "def main():\n",
    "    food = ['Pizza','Burgers','Chips']\n",
    "    print('Here are the items in the food list:')\n",
    "    print(food)\n",
    "    \n",
    "    item = input('Which item should I remove? ')\n",
    "    try:\n",
    "        food.remove(item)\n",
    "        print('Here is the revised list:')\n",
    "        print(food)\n",
    "    except ValueError:\n",
    "        print('That item was not found in the list.')\n",
    "main()"
   ]
  },
  {
   "cell_type": "code",
   "execution_count": 540,
   "metadata": {},
   "outputs": [
    {
     "name": "stdout",
     "output_type": "stream",
     "text": [
      "Original list:\n",
      "[1, 2, 3, 4, 5]\n",
      "Reversed: [5, 4, 3, 2, 1]\n"
     ]
    }
   ],
   "source": [
    "#reverse()\n",
    "my_list = [1,2,3,4,5]\n",
    "print('Original list:')\n",
    "print(my_list)\n",
    "my_list.reverse()\n",
    "print('Reversed:',my_list)"
   ]
  },
  {
   "cell_type": "code",
   "execution_count": 541,
   "metadata": {},
   "outputs": [
    {
     "name": "stdout",
     "output_type": "stream",
     "text": [
      "Before deletion: [1, 2, 3, 4, 5]\n",
      "After deletion: [1, 2, 4, 5]\n"
     ]
    }
   ],
   "source": [
    "#delete statement\n",
    "my_list = [1,2,3,4,5]\n",
    "print('Before deletion:',my_list)\n",
    "del my_list[2]\n",
    "print('After deletion:',my_list)"
   ]
  },
  {
   "cell_type": "code",
   "execution_count": 543,
   "metadata": {},
   "outputs": [
    {
     "name": "stdout",
     "output_type": "stream",
     "text": [
      "The lowest value is 3\n",
      "The highest value is 50\n"
     ]
    }
   ],
   "source": [
    "#min and max functions\n",
    "my_list = [5,4,3,50,40,30]\n",
    "print('The lowest value is', min(my_list))\n",
    "print('The highest value is',max(my_list))"
   ]
  },
  {
   "cell_type": "code",
   "execution_count": 544,
   "metadata": {},
   "outputs": [
    {
     "name": "stdout",
     "output_type": "stream",
     "text": [
      "[1, 2, 3, 4]\n",
      "[1, 2, 3, 4]\n",
      "[99, 2, 3, 4]\n",
      "[99, 2, 3, 4]\n"
     ]
    }
   ],
   "source": [
    "#Copying Lists\n",
    "list1 = [1,2,3,4]\n",
    "#assign the list to list2\n",
    "list2 = list1 #NOTE!!! THESE TWO LISTS REFER TO THE SAME LIST IN MEMORY! \n",
    "#observe...\n",
    "print(list1)\n",
    "print(list2)\n",
    "list1[0] = 99\n",
    "print(list1)\n",
    "print(list2)"
   ]
  },
  {
   "cell_type": "code",
   "execution_count": 545,
   "metadata": {},
   "outputs": [],
   "source": [
    "#To avoid 2 lists referring to the same memory list, you can create identical but seperate list as so:\n",
    "list1 = [1,2,3,4]\n",
    "list2 = []\n",
    "for item in list1:\n",
    "    list2.append(item)\n",
    "\n",
    "#more elegantly, this also works\n",
    "list1 = [1,2,3,4]\n",
    "list2 = [] + list1"
   ]
  },
  {
   "cell_type": "code",
   "execution_count": 546,
   "metadata": {},
   "outputs": [],
   "source": [
    "#Processing Lists"
   ]
  },
  {
   "cell_type": "code",
   "execution_count": 547,
   "metadata": {},
   "outputs": [
    {
     "name": "stdout",
     "output_type": "stream",
     "text": [
      "Enter the hours worked by employee 1:5\n",
      "Enter the hours worked by employee 2:6\n",
      "Enter the hours worked by employee 3:4\n",
      "Enter the hours worked by employee 4:7\n",
      "Enter the hours worked by employee 5:8\n",
      "Enter the hours worked by employee 6:5\n",
      "Enter the hourly pay rate: 15.00\n",
      "Gross pay for employee 1: $75.00\n",
      "Gross pay for employee 2: $90.00\n",
      "Gross pay for employee 3: $60.00\n",
      "Gross pay for employee 4: $105.00\n",
      "Gross pay for employee 5: $120.00\n",
      "Gross pay for employee 6: $75.00\n"
     ]
    }
   ],
   "source": [
    "#using lists in math expressions\n",
    "NUM_EMPLOYEES = 6\n",
    "def main():\n",
    "    hours = [0] * NUM_EMPLOYEES\n",
    "    for index in range(NUM_EMPLOYEES):\n",
    "        print('Enter the hours worked by employee ',\n",
    "            index + 1, ': ', sep='', end='')\n",
    "        hours[index] = float(input())\n",
    "    \n",
    "    pay_rate = float(input('Enter the hourly pay rate: '))\n",
    "    #Display\n",
    "    for index in range(NUM_EMPLOYEES):\n",
    "        gross_pay = hours[index] * pay_rate\n",
    "        print('Gross pay for employee ', index + 1, ': $',\n",
    "              format(gross_pay, ',.2f'), sep='')\n",
    "main()"
   ]
  },
  {
   "cell_type": "code",
   "execution_count": 549,
   "metadata": {},
   "outputs": [
    {
     "name": "stdout",
     "output_type": "stream",
     "text": [
      "30\n"
     ]
    }
   ],
   "source": [
    "#Totaling values of a list\n",
    "def main():\n",
    "    #Create list\n",
    "    numbers = [2,4,6,8,10]\n",
    "    #Create variable to use as an accumulator\n",
    "    total = 0\n",
    "    for value in numbers:\n",
    "        total += value\n",
    "    #Display\n",
    "    print(total)\n",
    "main()"
   ]
  },
  {
   "cell_type": "code",
   "execution_count": 550,
   "metadata": {},
   "outputs": [
    {
     "name": "stdout",
     "output_type": "stream",
     "text": [
      "The total is 30\n"
     ]
    }
   ],
   "source": [
    "#Passing a list as an argument to a Function\n",
    "def main():\n",
    "    numbers = [2,4,6,8,10]\n",
    "    print('The total is',get_total(numbers))\n",
    "\n",
    "def get_total(value_list):\n",
    "    total = 0\n",
    "    for num in value_list:\n",
    "        total += num\n",
    "    return total\n",
    "main()"
   ]
  },
  {
   "cell_type": "code",
   "execution_count": 552,
   "metadata": {},
   "outputs": [
    {
     "name": "stdout",
     "output_type": "stream",
     "text": [
      "How many numbers to list? 3\n",
      "Enter a number: 3\n",
      "Enter a number: 4\n",
      "Enter a number: 5\n",
      "The numbers in the list: \n",
      "[3, 4, 5]\n"
     ]
    }
   ],
   "source": [
    "#Returning a list from a function\n",
    "def main():\n",
    "    numbers = get_values()\n",
    "    print('The numbers in the list: ')\n",
    "    print(numbers)\n",
    "def get_values():\n",
    "    values = []\n",
    "    repeats = int(input('How many numbers to list? '))\n",
    "    for i in range(repeats):\n",
    "        num = int(input('Enter a number: '))\n",
    "        values.append(num)\n",
    "    return values\n",
    "main()"
   ]
  },
  {
   "cell_type": "code",
   "execution_count": 555,
   "metadata": {},
   "outputs": [],
   "source": [
    "#Working with Lists and Files \n",
    "def main():\n",
    "    cities = ['New York','Boston','Atlanta','Dallas']\n",
    "    outfile = open('cities.txt','w')\n",
    "    outfile.writelines(cities)\n",
    "    outfile.close()\n",
    "main()\n",
    "#This file will produce the line: New YorkBostonAtlantaDallas"
   ]
  },
  {
   "cell_type": "code",
   "execution_count": 556,
   "metadata": {},
   "outputs": [],
   "source": [
    "#Since writelines() doesn't add the '\\n', you can use a for loop for that\n",
    "def main():\n",
    "    cities = ['New York','Boston','Atlanta','Dallas']\n",
    "    outfile = open('cities.txt','w')\n",
    "    for item in cities:\n",
    "        outfile.write(item + '\\n')\n",
    "    outfile.close()\n",
    "main()"
   ]
  },
  {
   "cell_type": "code",
   "execution_count": 557,
   "metadata": {},
   "outputs": [
    {
     "name": "stdout",
     "output_type": "stream",
     "text": [
      "['New York', 'Boston', 'Atlanta', 'Dallas']\n"
     ]
    }
   ],
   "source": [
    "#Reading a file's contents into a list\n",
    "def main():\n",
    "    infile = open('cities.txt','r')\n",
    "    cities = infile.readlines()\n",
    "    infile.close()\n",
    "    \n",
    "    index = 0\n",
    "    while index < len(cities):\n",
    "        cities[index] = cities[index].rstrip('\\n')\n",
    "        index += 1\n",
    "    print(cities)\n",
    "main()"
   ]
  },
  {
   "cell_type": "code",
   "execution_count": 562,
   "metadata": {},
   "outputs": [
    {
     "name": "stdout",
     "output_type": "stream",
     "text": [
      "[['Joe', 'Kim'], ['Sam', 'Sue'], ['Kelly', 'Chris']]\n",
      "['Joe', 'Kim']\n",
      "['Sam', 'Sue']\n",
      "Sam\n",
      "Chris\n"
     ]
    }
   ],
   "source": [
    "#Two-Dimensional Lists (Nested-Lists)\n",
    "#these lists have other lists as its elements\n",
    "#ALSO known as nested lists\n",
    "students = [['Joe','Kim'],['Sam','Sue'],['Kelly','Chris']]\n",
    "print(students)\n",
    "print(students[0])\n",
    "print(students[1])\n",
    "print(students[1][0])\n",
    "print(students[2][1])\n",
    "#with nested-lists, we have essentially created the Excel spreadsheet"
   ]
  },
  {
   "cell_type": "code",
   "execution_count": 565,
   "metadata": {},
   "outputs": [
    {
     "name": "stdout",
     "output_type": "stream",
     "text": [
      "[[54, 5, 1, 57], [69, 9, 7, 45], [12, 20, 14, 78]]\n",
      "54\n",
      "5\n",
      "1\n",
      "57\n",
      "69\n",
      "9\n",
      "7\n",
      "45\n",
      "12\n",
      "20\n",
      "14\n",
      "78\n"
     ]
    }
   ],
   "source": [
    "#Assign random numbers to a two-dimensional list\n",
    "import random\n",
    "ROWS = 3\n",
    "COLS = 4\n",
    "def main():\n",
    "    #Create the nested list\n",
    "    values = [[0,0,0,0],\n",
    "              [0,0,0,0],\n",
    "              [0,0,0,0]]\n",
    "    for r in range(ROWS):\n",
    "        for c in range(COLS):\n",
    "            values[r][c] = random.randint(1,100)\n",
    "    print(values)\n",
    "    \n",
    "    #Print the numbers by themselves\n",
    "    for r in range(ROWS):\n",
    "        for c in range(COLS):\n",
    "            print(values[r][c])\n",
    "main()"
   ]
  },
  {
   "cell_type": "code",
   "execution_count": 566,
   "metadata": {},
   "outputs": [
    {
     "name": "stdout",
     "output_type": "stream",
     "text": [
      "[[59, 63, 18, 59], [56, 100, 65, 58], [44, 93, 34, 90]]\n"
     ]
    }
   ],
   "source": [
    "import random\n",
    "ROWS = 3\n",
    "COLS = 4\n",
    "def main():\n",
    "    values = [[0,0,0,0],\n",
    "            [0,0,0,0],\n",
    "            [0,0,0,0]]\n",
    "    for r in range(ROWS):\n",
    "        for c in range(COLS):\n",
    "            values[r][c] = random.randint(1,100)\n",
    "    print(values)\n",
    "main()"
   ]
  },
  {
   "cell_type": "code",
   "execution_count": 567,
   "metadata": {},
   "outputs": [
    {
     "name": "stdout",
     "output_type": "stream",
     "text": [
      "(1, 2, 3, 4, 5)\n"
     ]
    }
   ],
   "source": [
    "#Tuples = an immutable sequence; their contents cannot be changed\n",
    "my_tuple = (1,2,3,4,5)\n",
    "print(my_tuple)"
   ]
  },
  {
   "cell_type": "code",
   "execution_count": 568,
   "metadata": {},
   "outputs": [],
   "source": [
    "#tuples can use the same operations as lists as long as they do not change its contents\n",
    "#Useful to know is making a tuple of a single variable specifically as such:\n",
    "my_tuple = (1,) #tuple\n",
    "value = (1)     #integer"
   ]
  },
  {
   "cell_type": "code",
   "execution_count": 570,
   "metadata": {},
   "outputs": [],
   "source": [
    "#Why tuples as opposed to lists?\n",
    "#tuples process much faster than lists and are safer\n",
    "#as you learn more in Python, tuples may become essential"
   ]
  },
  {
   "cell_type": "code",
   "execution_count": 578,
   "metadata": {},
   "outputs": [
    {
     "name": "stdout",
     "output_type": "stream",
     "text": [
      "('one', 'two', 'three')\n"
     ]
    },
    {
     "ename": "TypeError",
     "evalue": "'list' object is not callable",
     "output_type": "error",
     "traceback": [
      "\u001b[1;31m---------------------------------------------------------------------------\u001b[0m",
      "\u001b[1;31mTypeError\u001b[0m                                 Traceback (most recent call last)",
      "\u001b[1;32m<ipython-input-578-20a2417a571b>\u001b[0m in \u001b[0;36m<module>\u001b[1;34m\u001b[0m\n\u001b[0;32m      5\u001b[0m \u001b[0mprint\u001b[0m\u001b[1;33m(\u001b[0m\u001b[0mstr_tuple\u001b[0m\u001b[1;33m)\u001b[0m\u001b[1;33m\u001b[0m\u001b[1;33m\u001b[0m\u001b[0m\n\u001b[0;32m      6\u001b[0m \u001b[0mnumber_tuple\u001b[0m \u001b[1;33m=\u001b[0m \u001b[1;33m(\u001b[0m\u001b[1;36m1\u001b[0m\u001b[1;33m,\u001b[0m \u001b[1;36m2\u001b[0m\u001b[1;33m,\u001b[0m \u001b[1;36m3\u001b[0m\u001b[1;33m)\u001b[0m\u001b[1;33m\u001b[0m\u001b[1;33m\u001b[0m\u001b[0m\n\u001b[1;32m----> 7\u001b[1;33m \u001b[0mnumber_list\u001b[0m \u001b[1;33m=\u001b[0m \u001b[0mlist\u001b[0m\u001b[1;33m(\u001b[0m\u001b[0mnumber_tuple\u001b[0m\u001b[1;33m)\u001b[0m\u001b[1;33m\u001b[0m\u001b[1;33m\u001b[0m\u001b[0m\n\u001b[0m\u001b[0;32m      8\u001b[0m \u001b[0mprint\u001b[0m\u001b[1;33m(\u001b[0m\u001b[0mnumber_list\u001b[0m\u001b[1;33m)\u001b[0m\u001b[1;33m\u001b[0m\u001b[1;33m\u001b[0m\u001b[0m\n",
      "\u001b[1;31mTypeError\u001b[0m: 'list' object is not callable"
     ]
    }
   ],
   "source": [
    "#list() = converts tuple to list\n",
    "#tuple() = converets list into tuple\n",
    "str_list = ['one','two','three']\n",
    "str_tuple = tuple(str_list)\n",
    "print(str_tuple)\n",
    "number_tuple = (1, 2, 3)\n",
    "number_list = list(number_tuple)\n",
    "print(number_list)"
   ]
  },
  {
   "cell_type": "code",
   "execution_count": 581,
   "metadata": {},
   "outputs": [],
   "source": [
    "#Plot list data with the matplotlib package\n",
    "#On windows, open a command prompt window and enter \"pip install matplotlib\""
   ]
  },
  {
   "cell_type": "code",
   "execution_count": 582,
   "metadata": {},
   "outputs": [],
   "source": [
    "import matplotlib"
   ]
  },
  {
   "cell_type": "code",
   "execution_count": 584,
   "metadata": {},
   "outputs": [],
   "source": [
    "#pyplot = create graphs that we will demonstrate.\n",
    "import matplotlib.pyplot"
   ]
  },
  {
   "cell_type": "code",
   "execution_count": 585,
   "metadata": {},
   "outputs": [],
   "source": [
    "#To avoid always typing import matplotlib.pyplot each time, do this:\n",
    "import matplotlib.pyplot as plt"
   ]
  },
  {
   "cell_type": "code",
   "execution_count": 587,
   "metadata": {},
   "outputs": [
    {
     "data": {
      "image/png": "[encoded data removed]",
      "text/plain": [
       "<Figure size 432x288 with 1 Axes>"
      ]
     },
     "metadata": {
      "needs_background": "light"
     },
     "output_type": "display_data"
    }
   ],
   "source": [
    "#Create a line graph\n",
    "x_coords = [0,1,2,3,4]\n",
    "y_coords = [0,3,1,5,2]\n",
    "plt.plot(x_coords,y_coords)\n",
    "plt.show()"
   ]
  },
  {
   "cell_type": "code",
   "execution_count": 590,
   "metadata": {},
   "outputs": [
    {
     "data": {
      "image/png": "[encoded data removed]",
      "text/plain": [
       "<Figure size 432x288 with 1 Axes>"
      ]
     },
     "metadata": {
      "needs_background": "light"
     },
     "output_type": "display_data"
    }
   ],
   "source": [
    "#as a program...\n",
    "import matplotlib.pyplot as plt\n",
    "def main():\n",
    "    x_cords = [0,1,2,3,4,5,6]\n",
    "    y_cords = [0,2,1,3,5,2,7]\n",
    "    plt.plot(x_cords,y_cords)\n",
    "    plt.show()\n",
    "main()"
   ]
  },
  {
   "cell_type": "code",
   "execution_count": 592,
   "metadata": {},
   "outputs": [
    {
     "data": {
      "image/png": "[encoded data removed]",
      "text/plain": [
       "<Figure size 432x288 with 1 Axes>"
      ]
     },
     "metadata": {
      "needs_background": "light"
     },
     "output_type": "display_data"
    }
   ],
   "source": [
    "#Add a title, axis labels, and grid\n",
    "import matplotlib.pyplot as plt\n",
    "def main():\n",
    "    #Make coordinates\n",
    "    x_cords = [0,1,2,3,4]\n",
    "    y_cords = [2,4,3,6,4]\n",
    "    \n",
    "    #Plot\n",
    "    plt.plot(x_cords,y_cords)\n",
    "    \n",
    "    #Add title\n",
    "    plt.title('Sample Data')\n",
    "    \n",
    "    #Add axis titles\n",
    "    plt.xlabel('This is the X axis')\n",
    "    plt.ylabel('This is the Y axis')\n",
    "    \n",
    "    #Add grid\n",
    "    plt.grid(True)\n",
    "    \n",
    "    #Show plot\n",
    "    plt.show()\n",
    "main()"
   ]
  },
  {
   "cell_type": "code",
   "execution_count": 595,
   "metadata": {},
   "outputs": [
    {
     "data": {
      "image/png": "[encoded data removed]",
      "text/plain": [
       "<Figure size 432x288 with 1 Axes>"
      ]
     },
     "metadata": {
      "needs_background": "light"
     },
     "output_type": "display_data"
    }
   ],
   "source": [
    "#Customizing the x and y axis\n",
    "import matplotlib.pyplot as plt\n",
    "def main():\n",
    "    #Make coordinates\n",
    "    x_cords = [0,1,2,3,4]\n",
    "    y_cords = [2,4,3,6,4]\n",
    "    \n",
    "    #Plot\n",
    "    plt.plot(x_cords,y_cords)\n",
    "    \n",
    "    #Add title\n",
    "    plt.title('Sample Data')\n",
    "    \n",
    "    #Add axis titles\n",
    "    plt.xlabel('This is the X axis')\n",
    "    plt.ylabel('This is the Y axis')\n",
    "    \n",
    "    #Set axis limits\n",
    "    plt.xlim(xmin=-1,xmax=10)\n",
    "    plt.ylim(ymin=0,ymax=10)\n",
    "    \n",
    "    #Add grid\n",
    "    plt.grid(True)\n",
    "    \n",
    "    #Show plot\n",
    "    plt.show()\n",
    "main()"
   ]
  },
  {
   "cell_type": "code",
   "execution_count": 596,
   "metadata": {},
   "outputs": [
    {
     "data": {
      "image/png": "[encoded data removed]",
      "text/plain": [
       "<Figure size 432x288 with 1 Axes>"
      ]
     },
     "metadata": {
      "needs_background": "light"
     },
     "output_type": "display_data"
    }
   ],
   "source": [
    "#Customize each tick mark's label with xtick() and yticks() functions.\n",
    "#Customizing the x and y axis\n",
    "import matplotlib.pyplot as plt\n",
    "def main():\n",
    "    #Make coordinates\n",
    "    x_cords = [0,1,2,3,4]\n",
    "    y_cords = [2,4,3,6,4]\n",
    "    \n",
    "    #Plot\n",
    "    plt.plot(x_cords,y_cords)\n",
    "    \n",
    "    #Add title\n",
    "    plt.title('Sample Data')\n",
    "    \n",
    "    #Add axis titles\n",
    "    plt.xlabel('This is the X axis')\n",
    "    plt.ylabel('This is the Y axis')\n",
    "    \n",
    "    #Add custom tick marks\n",
    "    plt.xticks([0,1,2,3,4],\n",
    "              ['2016','2017','2018','2019','2020'])\n",
    "    plt.yticks([0,1,2,3,4,5],\n",
    "              ['$0m','$1m','$2m','$3m','$4m','$5m'])\n",
    "    #Add grid\n",
    "    plt.grid(True)\n",
    "    \n",
    "    #Show plot\n",
    "    plt.show()\n",
    "main()"
   ]
  },
  {
   "cell_type": "code",
   "execution_count": 597,
   "metadata": {},
   "outputs": [
    {
     "data": {
      "image/png": "[encoded data removed]",
      "text/plain": [
       "<Figure size 432x288 with 1 Axes>"
      ]
     },
     "metadata": {
      "needs_background": "light"
     },
     "output_type": "display_data"
    }
   ],
   "source": [
    "#Markers can be added with keyword marker='o'\n",
    "import matplotlib.pyplot as plt\n",
    "def main():\n",
    "    #Make coordinates\n",
    "    x_cords = [0,1,2,3,4]\n",
    "    y_cords = [2,4,3,6,4]\n",
    "    \n",
    "    #Plot\n",
    "    plt.plot(x_cords,y_cords, marker='o')\n",
    "    \n",
    "    #Add title\n",
    "    plt.title('Sample Data')\n",
    "    \n",
    "    #Add axis titles\n",
    "    plt.xlabel('This is the X axis')\n",
    "    plt.ylabel('This is the Y axis')\n",
    "    \n",
    "    #Add custom tick marks\n",
    "    plt.xticks([0,1,2,3,4],\n",
    "              ['2016','2017','2018','2019','2020'])\n",
    "    plt.yticks([0,1,2,3,4,5],\n",
    "              ['$0m','$1m','$2m','$3m','$4m','$5m'])\n",
    "    #Add grid\n",
    "    plt.grid(True)\n",
    "    \n",
    "    #Show plot\n",
    "    plt.show()\n",
    "main()"
   ]
  },
  {
   "cell_type": "code",
   "execution_count": 598,
   "metadata": {},
   "outputs": [],
   "source": [
    "#marker5 arguments\n",
    "#Some other markers to help differentiate data points:\n",
    "#marker5'o' = round dots\n",
    "#marker5's' = squares\n",
    "#marker5'*' = small stars\n",
    "#marker5'D' = small diamonds\n",
    "#marker5'^' = upward triangles\n",
    "#marker5'v' = downward triangles\n",
    "#marker5'>' = right-pointing triangles\n",
    "#marker5'<' = left-pointing triangles"
   ]
  },
  {
   "cell_type": "code",
   "execution_count": 599,
   "metadata": {},
   "outputs": [],
   "source": [
    "#NOTE: plt.plot(x_cords,y_cords,'o') will plot data points but NOT connect them"
   ]
  },
  {
   "cell_type": "code",
   "execution_count": 600,
   "metadata": {},
   "outputs": [
    {
     "data": {
      "image/png": "[encoded data removed]",
      "text/plain": [
       "<Figure size 432x288 with 1 Axes>"
      ]
     },
     "metadata": {
      "needs_background": "light"
     },
     "output_type": "display_data"
    }
   ],
   "source": [
    "#Plotting a bar Chart with plt.bar(left_edges,heights)\n",
    "import matplotlib.pyplot as plt\n",
    "def main():\n",
    "    left_edges = [0,10,20,30,40]\n",
    "    heights = [100,200,300,400,500]\n",
    "    \n",
    "    #Plot\n",
    "    plt.bar(left_edges, heights)\n",
    "    \n",
    "    #Display\n",
    "    plt.show()\n",
    "main()"
   ]
  },
  {
   "cell_type": "code",
   "execution_count": 601,
   "metadata": {},
   "outputs": [
    {
     "data": {
      "image/png": "[encoded data removed]",
      "text/plain": [
       "<Figure size 432x288 with 1 Axes>"
      ]
     },
     "metadata": {
      "needs_background": "light"
     },
     "output_type": "display_data"
    }
   ],
   "source": [
    "#Customize Bar width\n",
    "#defualt is .8 along x-axis\n",
    "import matplotlib.pyplot as plt\n",
    "def main():\n",
    "    left_edges = [0,10,20,30,40]\n",
    "    heights = [100,200,300,400,500]\n",
    "    \n",
    "    #Create a variable for bar width\n",
    "    bar_width = 5\n",
    "    \n",
    "    #Plot\n",
    "    plt.bar(left_edges, heights, bar_width)\n",
    "    \n",
    "    #Display\n",
    "    plt.show()\n",
    "main()"
   ]
  },
  {
   "cell_type": "code",
   "execution_count": 602,
   "metadata": {},
   "outputs": [],
   "source": [
    "#COLOR Codes\n",
    "# 'b' = blue\n",
    "# 'g' = green\n",
    "# 'r' = red\n",
    "# 'c' = cyan\n",
    "# 'm' = magenta\n",
    "# 'y' = yellow\n",
    "# 'k' = Black\n",
    "# 'w' = White"
   ]
  },
  {
   "cell_type": "code",
   "execution_count": 604,
   "metadata": {},
   "outputs": [
    {
     "data": {
      "image/png": "[encoded data removed]",
      "text/plain": [
       "<Figure size 432x288 with 1 Axes>"
      ]
     },
     "metadata": {
      "needs_background": "light"
     },
     "output_type": "display_data"
    }
   ],
   "source": [
    "#using color codes\n",
    "import matplotlib.pyplot as plt\n",
    "def main():\n",
    "    left_edges = [0,10,20,30,40]\n",
    "    heights = [100,200,300,400,500]\n",
    "    \n",
    "    #Create a variable for bar width\n",
    "    bar_width = 5\n",
    "    \n",
    "    #Plot using a color code\n",
    "    plt.bar(left_edges, heights, bar_width, color=('r','g','b','m','k'))\n",
    "    \n",
    "    #Display\n",
    "    plt.show()\n",
    "main()"
   ]
  },
  {
   "cell_type": "code",
   "execution_count": 609,
   "metadata": {},
   "outputs": [
    {
     "data": {
      "image/png": "[encoded data removed]",
      "text/plain": [
       "<Figure size 432x288 with 1 Axes>"
      ]
     },
     "metadata": {
      "needs_background": "light"
     },
     "output_type": "display_data"
    }
   ],
   "source": [
    "#Now add title, axis labels, customize tick marks\n",
    "import matplotlib.pyplot as plt\n",
    "def main():\n",
    "    left_edges = [0,10,20,30,40]\n",
    "    heights = [100,200,300,400,500]\n",
    "    \n",
    "    #Create a variable for bar width\n",
    "    bar_width = 5\n",
    "    \n",
    "    #Plot using a color code\n",
    "    plt.bar(left_edges, heights, bar_width, color=('r','g','b','m','k'))\n",
    "    \n",
    "    #Add title\n",
    "    plt.title('Years and Times I shid pant')\n",
    "    \n",
    "    #Add labels to the axis\n",
    "    plt.xlabel('Year')\n",
    "    plt.ylabel('Shid Pant')\n",
    "    \n",
    "    #Customize Tick marks\n",
    "    plt.xticks([0,10,20,30,40],\n",
    "              ['2016','2017','2018','2019','2020'])\n",
    "    plt.yticks([0,100,200,300,400,500],\n",
    "              ['0','1','2','3','4','5'])\n",
    "    \n",
    "    #Display\n",
    "    plt.show()\n",
    "main()"
   ]
  },
  {
   "cell_type": "code",
   "execution_count": 610,
   "metadata": {},
   "outputs": [
    {
     "data": {
      "image/png": "[encoded data removed]",
      "text/plain": [
       "<Figure size 432x288 with 1 Axes>"
      ]
     },
     "metadata": {},
     "output_type": "display_data"
    }
   ],
   "source": [
    "#Plotting Pie Chart\n",
    "#Use pie function\n",
    "import matplotlib.pyplot as plt\n",
    "def main():\n",
    "    values = [20,60,80,40]\n",
    "    plt.pie(values)\n",
    "    plt.show()\n",
    "main()"
   ]
  },
  {
   "cell_type": "code",
   "execution_count": 613,
   "metadata": {},
   "outputs": [
    {
     "data": {
      "image/png": "[encoded data removed]",
      "text/plain": [
       "<Figure size 432x288 with 1 Axes>"
      ]
     },
     "metadata": {},
     "output_type": "display_data"
    }
   ],
   "source": [
    "#Display Slice Labels and Chart Title\n",
    "import matplotlib.pyplot as plt\n",
    "def main():\n",
    "    values = [20,60,80,40]\n",
    "    \n",
    "    #Create a list of labels for the slices\n",
    "    slice_labels = ['1st Qtr','2nd Qtr','3rd Qtr','4th Qtr']\n",
    "    \n",
    "    #Create chart\n",
    "    plt.pie(values,labels=slice_labels,colors=('r','g','b','m','k'))\n",
    "    \n",
    "    plt.title('Sales by Quarter')\n",
    "    plt.show()\n",
    "main()"
   ]
  },
  {
   "cell_type": "code",
   "execution_count": 1,
   "metadata": {},
   "outputs": [
    {
     "name": "stdout",
     "output_type": "stream",
     "text": [
      "Einstein\n",
      "Newton\n",
      "Copernicus\n",
      "Kepler\n"
     ]
    }
   ],
   "source": [
    "#1 and 2\n",
    "def main():\n",
    "    scientists = ['Einstein','Newton','Copernicus','Kepler']\n",
    "    for name in scientists:\n",
    "        print(name)\n",
    "main()"
   ]
  },
  {
   "cell_type": "code",
   "execution_count": 8,
   "metadata": {},
   "outputs": [
    {
     "name": "stdout",
     "output_type": "stream",
     "text": [
      "[0, 1, 2, 3, 4, 5, 6, 7, 8, 9, 10, 11, 12, 13, 14, 15, 16, 17, 18, 19, 20, 21, 22, 23, 24, 25, 26, 27, 28, 29, 30, 31, 32, 33, 34, 35, 36, 37, 38, 39, 40, 41, 42, 43, 44, 45, 46, 47, 48, 49, 50, 51, 52, 53, 54, 55, 56, 57, 58, 59, 60, 61, 62, 63, 64, 65, 66, 67, 68, 69, 70, 71, 72, 73, 74, 75, 76, 77, 78, 79, 80, 81, 82, 83, 84, 85, 86, 87, 88, 89, 90, 91, 92, 93, 94, 95, 96, 97, 98, 99]\n"
     ]
    }
   ],
   "source": [
    "#3\n",
    "def main():\n",
    "    numbers1 = []\n",
    "    for i in range(100):\n",
    "        numbers1.append(i)\n",
    "    numbers2 = []\n",
    "    for i in numbers1:\n",
    "        numbers2.append(i)\n",
    "    print(numbers2)\n",
    "main()"
   ]
  },
  {
   "cell_type": "code",
   "execution_count": 13,
   "metadata": {},
   "outputs": [
    {
     "name": "stdout",
     "output_type": "stream",
     "text": [
      "[7, 2, 5, 17, 17]\n",
      "48\n"
     ]
    }
   ],
   "source": [
    "#5 \n",
    "import random\n",
    "def main():\n",
    "    numbers = []\n",
    "    total = 0\n",
    "    for number in range(5):\n",
    "        numbers.append(random.randint(1,20))\n",
    "        total += numbers[number]\n",
    "        #you could also simply use total = sum(numbers)\n",
    "    print(numbers)\n",
    "    print(total)\n",
    "main()\n",
    "    "
   ]
  },
  {
   "cell_type": "code",
   "execution_count": 15,
   "metadata": {},
   "outputs": [
    {
     "name": "stdout",
     "output_type": "stream",
     "text": [
      "Enter the name to search: Ruby\n",
      "Hello Ruby\n"
     ]
    }
   ],
   "source": [
    "#6\n",
    "def main():\n",
    "    names = ['Jack','Carl','Sam','Julia','Ruby']\n",
    "    search = input('Enter the name to search: ')\n",
    "    found = False\n",
    "    if search in names:\n",
    "        print('Hello',search)\n",
    "    else:\n",
    "        print('No',search)\n",
    "main()"
   ]
  },
  {
   "cell_type": "code",
   "execution_count": 27,
   "metadata": {},
   "outputs": [
    {
     "name": "stdout",
     "output_type": "stream",
     "text": [
      "Enter X,Y integer: 3\n",
      "Enter X,Y integer: 4\n",
      "Enter X,Y integer: 5\n",
      "Enter X,Y integer: 6\n",
      "Enter X,Y integer: 7\n",
      "Enter X,Y integer: 8\n",
      "Enter X,Y integer: 9\n",
      "Enter X,Y integer: 8\n",
      "Enter X,Y integer: 7\n",
      "Enter X,Y integer: 6\n",
      "Enter X,Y integer: 5\n",
      "Enter X,Y integer: 4\n",
      "Enter X,Y integer: 3\n",
      "Enter X,Y integer: 2\n",
      "Enter X,Y integer: 1\n",
      "[[3, 4, 5], [6, 7, 8], [9, 8, 7], [6, 5, 4], [3, 2, 1]]\n"
     ]
    }
   ],
   "source": [
    "#8\n",
    "def main():\n",
    "    ROWS = 5\n",
    "    COLS = 3\n",
    "    numbers = [[0,0,0],\n",
    "              [0,0,0],\n",
    "              [0,0,0],\n",
    "              [0,0,0],\n",
    "              [0,0,0]]\n",
    "    for r in range(ROWS):\n",
    "        for c in range(COLS):\n",
    "            numbers[r][c] = int(input('Enter X,Y integer: '))\n",
    "    print(numbers)\n",
    "main()"
   ]
  },
  {
   "cell_type": "markdown",
   "metadata": {},
   "source": []
  },
  {
   "cell_type": "code",
   "execution_count": 28,
   "metadata": {},
   "outputs": [
    {
     "name": "stdout",
     "output_type": "stream",
     "text": [
      "Input day sales: 50\n",
      "Input day sales: 40\n",
      "Input day sales: 600\n",
      "Input day sales: 4.50\n",
      "Input day sales: 60.75\n",
      "Input day sales: 80\n",
      "Input day sales: 90\n",
      "Week Total: $ 925.25\n"
     ]
    }
   ],
   "source": [
    "#1 Total Sales\n",
    "def main():\n",
    "    sales = [0,0,0,0,0,0,0]\n",
    "    total = 0\n",
    "    for day in sales:\n",
    "        day = float(input('Input day sales: '))\n",
    "        total += day\n",
    "    print('Week Total: $',total)\n",
    "main()"
   ]
  },
  {
   "cell_type": "code",
   "execution_count": 34,
   "metadata": {},
   "outputs": [
    {
     "name": "stdout",
     "output_type": "stream",
     "text": [
      "[3, 3, 3, 2, 8, 0, 9]\n"
     ]
    }
   ],
   "source": [
    "#2 Lottery Number Generator\n",
    "import random\n",
    "def main():\n",
    "    lottery = []\n",
    "    for i in range(7):\n",
    "        lottery.append(random.randint(0,9))\n",
    "    print(lottery)\n",
    "main()    "
   ]
  },
  {
   "cell_type": "code",
   "execution_count": 40,
   "metadata": {},
   "outputs": [
    {
     "name": "stdout",
     "output_type": "stream",
     "text": [
      "Month #0: 2\n",
      "Month #1: 3\n",
      "Month #2: 4\n",
      "Month #3: 56\n",
      "Month #4: 54\n",
      "Month #5: 4\n",
      "Month #6: 32\n",
      "Month #7: 4\n",
      "Month #8: 5\n",
      "Month #9: 3\n",
      "Month #10: 2\n",
      "Month #11: 5\n",
      "Total rain: 174.0\n",
      "Min rain: 2.0\n",
      "Max rain: 56.0\n",
      "Avg rain: 14.50\n"
     ]
    }
   ],
   "source": [
    "#3 Rainfall Statistics\n",
    "def main():\n",
    "    YEAR = 12\n",
    "    rainfall = []\n",
    "    total = 0\n",
    "    \n",
    "    for month in range(YEAR):\n",
    "        print('Month #',month,': ',sep='',end='')\n",
    "        month = float(input())\n",
    "        rainfall.append(month)\n",
    "        total += month\n",
    "    \n",
    "    avgrain = total / YEAR\n",
    "    maxrain = max(rainfall)\n",
    "    minrain = min(rainfall)\n",
    "    \n",
    "    print('Total rain:',total)\n",
    "    print('Min rain:',minrain)\n",
    "    print('Max rain:',maxrain)\n",
    "    print('Avg rain:',format(avgrain,',.2f'))\n",
    "main()"
   ]
  },
  {
   "cell_type": "code",
   "execution_count": 44,
   "metadata": {},
   "outputs": [
    {
     "name": "stdout",
     "output_type": "stream",
     "text": [
      "1.1\n",
      "2.1\n",
      "3.1\n",
      "4.1\n",
      "5.1\n",
      "6.1\n",
      "7.2\n",
      "8.2\n",
      "9.2\n",
      "10.2\n",
      "11.3\n",
      "12.3\n",
      "13.3\n",
      "14.3\n",
      "15.4\n",
      "16.4\n",
      "17.4\n",
      "18.5\n",
      "19.5\n",
      "20.6\n",
      "Total: 54\n",
      "Average: 2.70\n",
      "Minimum: 1\n",
      "Maximum: 6\n"
     ]
    }
   ],
   "source": [
    "#4 Number Analysis Program\n",
    "def main():\n",
    "    RANGE = 20\n",
    "    total = 0\n",
    "    numbers = []\n",
    "    \n",
    "    for i in range(RANGE):\n",
    "        print(i+1,'. ',sep='',end='')\n",
    "        number = int(input())\n",
    "        numbers.append(number)\n",
    "        total += number\n",
    "    \n",
    "    avg = total/RANGE\n",
    "    minimum = min(numbers)\n",
    "    maximum = max(numbers)\n",
    "    \n",
    "    print('Total:', total)\n",
    "    print('Average:',format(avg,',.2f'))\n",
    "    print('Minimum:',minimum)\n",
    "    print('Maximum:',maximum)\n",
    "main()        "
   ]
  },
  {
   "cell_type": "markdown",
   "metadata": {},
   "source": []
  },
  {
   "cell_type": "code",
   "execution_count": 56,
   "metadata": {},
   "outputs": [
    {
     "name": "stdout",
     "output_type": "stream",
     "text": [
      "n = 4\n",
      "Numbers in list greater than n:\n",
      "10\n",
      "10\n",
      "8\n",
      "9\n",
      "\n",
      "Full list:\n",
      "[10, 2, 10, 1, 1, 4, 3, 8, 9, 4]\n"
     ]
    }
   ],
   "source": [
    "#6 Larger than n\n",
    "import random\n",
    "def main():\n",
    "    numbers = [0,0,0,0,0,0,0,0,0,0]\n",
    "    n = random.randint(1,10)\n",
    "    count = 0\n",
    "    print('n =',n)\n",
    "    print('Numbers in list greater than n:')\n",
    "    \n",
    "    while count < len(numbers):\n",
    "        numbers[count] = random.randint(1,10)\n",
    "        if numbers[count] > n:\n",
    "            print(numbers[count])\n",
    "        count += 1\n",
    "    print('\\nFull list:')\n",
    "    print(numbers)\n",
    "main()"
   ]
  },
  {
   "cell_type": "code",
   "execution_count": 78,
   "metadata": {},
   "outputs": [
    {
     "name": "stdout",
     "output_type": "stream",
     "text": [
      "TEST: ONLY ENTER A,B,C, or D.\n",
      "#1: A\n",
      "#2: C\n",
      "#3: A\n",
      "#4: A\n",
      "#5: D\n",
      "#6: B\n",
      "#7: C\n",
      "#8: A\n",
      "#9: C\n",
      "#10: B\n",
      "#11: A\n",
      "#12: D\n",
      "#13: C\n",
      "#14: A\n",
      "#15: D\n",
      "#16: C\n",
      "#17: A\n",
      "#18: D\n",
      "#19: C\n",
      "#20: A\n",
      "Exam passed.\n",
      "Score: 17\n",
      "Wrong: 3\n",
      "Student: ['A', 'C', 'A', 'A', 'D', 'B', 'C', 'A', 'C', 'B', 'A', 'D', 'C', 'A', 'D', 'C', 'A', 'D', 'C', 'A']\n",
      "Correct: ['A', 'C', 'A', 'A', 'D', 'B', 'C', 'A', 'C', 'B', 'A', 'D', 'C', 'A', 'D', 'C', 'B', 'B', 'D', 'A']\n",
      "Incorrect Questions: [17, 18, 19]\n"
     ]
    }
   ],
   "source": [
    "#Driver's License Exam\n",
    "TEST_LENGTH = 20\n",
    "def main():\n",
    "    correct = ['A','C','A','A','D',\n",
    "              'B','C','A','C','B',\n",
    "              'A','D','C','A','D',\n",
    "              'C','B','B','D','A']\n",
    "    write_student_file()\n",
    "    student = list_student_file()\n",
    "    wrongs = score_test(student,correct)\n",
    "    wrong_total = len(wrongs)\n",
    "    correct_total = TEST_LENGTH - wrong_total\n",
    "    if correct_total < TEST_LENGTH * .75:\n",
    "        print('Exam failed.\\n')\n",
    "    else:\n",
    "        print('Exam passed.')\n",
    "    print('Score:',correct_total)\n",
    "    print('Wrong:',wrong_total)\n",
    "    print('Student:',student)\n",
    "    print('Correct:',correct)\n",
    "    print('Incorrect Questions:',wrongs)\n",
    "    \n",
    "\n",
    "def write_student_file():\n",
    "    student_file = open('student_answers.txt','w')\n",
    "    print('TEST: ONLY ENTER A,B,C, or D.')\n",
    "    for i in range(TEST_LENGTH):\n",
    "        print('#',i+1,': ',sep='',end='')\n",
    "        i = str(input())\n",
    "        while i not in ['A','B','C','D']:\n",
    "            i = input('Invalid input! Only A, B, C, or D: ')\n",
    "        student_file.write(i+'\\n')\n",
    "    student_file.close\n",
    "\n",
    "def list_student_file():\n",
    "    in_file = open('student_answers.txt','r')\n",
    "    student_list = in_file.readlines()\n",
    "    in_file.close()\n",
    "    index = 0\n",
    "    while index < len(student_list):\n",
    "        student_list[index] = student_list[index].rstrip('\\n')\n",
    "        index += 1\n",
    "    return student_list\n",
    "        \n",
    "def score_test(student,correct):\n",
    "    wrong_qs = []\n",
    "    for i in range(TEST_LENGTH):\n",
    "        if student[i] != correct[i]:\n",
    "            wrong_qs.append(i+1)\n",
    "    return wrong_qs\n",
    "main()"
   ]
  },
  {
   "cell_type": "code",
   "execution_count": 140,
   "metadata": {},
   "outputs": [
    {
     "name": "stdout",
     "output_type": "stream",
     "text": [
      "This program produces a magic square matrix of random integers according to a value target.\n",
      "\n",
      "Enter a magic sum: 15\n"
     ]
    },
    {
     "ename": "KeyboardInterrupt",
     "evalue": "",
     "output_type": "error",
     "traceback": [
      "\u001b[1;31m---------------------------------------------------------------------------\u001b[0m",
      "\u001b[1;31mKeyboardInterrupt\u001b[0m                         Traceback (most recent call last)",
      "\u001b[1;32m<ipython-input-140-7beadefb4dfb>\u001b[0m in \u001b[0;36m<module>\u001b[1;34m\u001b[0m\n\u001b[0;32m     76\u001b[0m \u001b[1;33m\u001b[0m\u001b[0m\n\u001b[0;32m     77\u001b[0m \u001b[1;33m\u001b[0m\u001b[0m\n\u001b[1;32m---> 78\u001b[1;33m \u001b[0mmain\u001b[0m\u001b[1;33m(\u001b[0m\u001b[1;33m)\u001b[0m\u001b[1;33m\u001b[0m\u001b[1;33m\u001b[0m\u001b[0m\n\u001b[0m",
      "\u001b[1;32m<ipython-input-140-7beadefb4dfb>\u001b[0m in \u001b[0;36mmain\u001b[1;34m()\u001b[0m\n\u001b[0;32m     26\u001b[0m         \u001b[1;32mfor\u001b[0m \u001b[0mr\u001b[0m \u001b[1;32min\u001b[0m \u001b[0mrange\u001b[0m\u001b[1;33m(\u001b[0m\u001b[0mROW\u001b[0m\u001b[1;33m)\u001b[0m\u001b[1;33m:\u001b[0m\u001b[1;33m\u001b[0m\u001b[1;33m\u001b[0m\u001b[0m\n\u001b[0;32m     27\u001b[0m             \u001b[1;32mfor\u001b[0m \u001b[0mc\u001b[0m \u001b[1;32min\u001b[0m \u001b[0mrange\u001b[0m\u001b[1;33m(\u001b[0m\u001b[0mCOL\u001b[0m\u001b[1;33m)\u001b[0m\u001b[1;33m:\u001b[0m\u001b[1;33m\u001b[0m\u001b[1;33m\u001b[0m\u001b[0m\n\u001b[1;32m---> 28\u001b[1;33m                 \u001b[0marray\u001b[0m\u001b[1;33m[\u001b[0m\u001b[0mr\u001b[0m\u001b[1;33m]\u001b[0m\u001b[1;33m[\u001b[0m\u001b[0mc\u001b[0m\u001b[1;33m]\u001b[0m \u001b[1;33m=\u001b[0m \u001b[0mrandom\u001b[0m\u001b[1;33m.\u001b[0m\u001b[0mrandint\u001b[0m\u001b[1;33m(\u001b[0m\u001b[1;36m1\u001b[0m\u001b[1;33m,\u001b[0m\u001b[0mmagic\u001b[0m \u001b[1;33m-\u001b[0m \u001b[1;36m2\u001b[0m\u001b[1;33m)\u001b[0m\u001b[1;33m\u001b[0m\u001b[1;33m\u001b[0m\u001b[0m\n\u001b[0m\u001b[0;32m     29\u001b[0m                 \u001b[0mrolls\u001b[0m \u001b[1;33m+=\u001b[0m \u001b[1;36m1\u001b[0m\u001b[1;33m\u001b[0m\u001b[1;33m\u001b[0m\u001b[0m\n\u001b[0;32m     30\u001b[0m \u001b[1;33m\u001b[0m\u001b[0m\n",
      "\u001b[1;32m~\\anaconda3\\lib\\random.py\u001b[0m in \u001b[0;36mrandint\u001b[1;34m(self, a, b)\u001b[0m\n\u001b[0;32m    246\u001b[0m         \"\"\"\n\u001b[0;32m    247\u001b[0m \u001b[1;33m\u001b[0m\u001b[0m\n\u001b[1;32m--> 248\u001b[1;33m         \u001b[1;32mreturn\u001b[0m \u001b[0mself\u001b[0m\u001b[1;33m.\u001b[0m\u001b[0mrandrange\u001b[0m\u001b[1;33m(\u001b[0m\u001b[0ma\u001b[0m\u001b[1;33m,\u001b[0m \u001b[0mb\u001b[0m\u001b[1;33m+\u001b[0m\u001b[1;36m1\u001b[0m\u001b[1;33m)\u001b[0m\u001b[1;33m\u001b[0m\u001b[1;33m\u001b[0m\u001b[0m\n\u001b[0m\u001b[0;32m    249\u001b[0m \u001b[1;33m\u001b[0m\u001b[0m\n\u001b[0;32m    250\u001b[0m     \u001b[1;32mdef\u001b[0m \u001b[0m_randbelow_with_getrandbits\u001b[0m\u001b[1;33m(\u001b[0m\u001b[0mself\u001b[0m\u001b[1;33m,\u001b[0m \u001b[0mn\u001b[0m\u001b[1;33m)\u001b[0m\u001b[1;33m:\u001b[0m\u001b[1;33m\u001b[0m\u001b[1;33m\u001b[0m\u001b[0m\n",
      "\u001b[1;31mKeyboardInterrupt\u001b[0m: "
     ]
    }
   ],
   "source": [
    "#11 Lo Shu Magic Squares\n",
    "#WARNING: This foolishly runs on randint, it may loop for a long ass time\n",
    "import random\n",
    "COL = 3\n",
    "ROW = 3\n",
    "\n",
    "def main():\n",
    "    #Input\n",
    "    print('This program produces a magic square matrix of random integers according to a value target.\\n')\n",
    "    magic = int(input('Enter a magic sum: '))\n",
    "    \n",
    "    #Check number is positive.\n",
    "    while magic < 1:\n",
    "        magic = int(input('Number must be above zero. '))\n",
    "        \n",
    "    #Form array\n",
    "    array = [[0,0,0],\n",
    "            [0,0,0],\n",
    "            [0,0,0]]\n",
    "    \n",
    "    #Form roll counter\n",
    "    rolls = 0\n",
    "    \n",
    "    #Generate the random integers\n",
    "    while not row_check(array,magic) or not col_check(array,magic) or not dia_down_check(array,magic) or not dia_up_check(array,magic):\n",
    "        for r in range(ROW):\n",
    "            for c in range(COL):\n",
    "                array[r][c] = random.randint(1,magic - 2)\n",
    "                rolls += 1\n",
    "    \n",
    "    #print\n",
    "    for r in range(ROW):\n",
    "        print(array[r])\n",
    "    print('Rolls:',rolls)\n",
    "\n",
    "    \n",
    "def row_check(array,magic):\n",
    "    flag = True\n",
    "    for r in range(ROW):\n",
    "        row_sum = 0\n",
    "        for c in range(COL):\n",
    "            row_sum += array[r][c]\n",
    "        if row_sum != magic:\n",
    "            flag = False\n",
    "    return flag\n",
    "    \n",
    "def col_check(array,magic):\n",
    "    flag = True\n",
    "    for r in range(ROW):\n",
    "        col_sum = 0\n",
    "        for c in range(COL):\n",
    "            col_sum += array[c][r]\n",
    "        if col_sum != magic:\n",
    "            flag = False\n",
    "    return flag\n",
    "    \n",
    "def dia_down_check(array,magic):\n",
    "    flag = True\n",
    "    dia_sum = 0\n",
    "    for r in range(ROW):\n",
    "        dia_sum += array[r][r]\n",
    "    if dia_sum != magic:\n",
    "        flag = False\n",
    "    return flag\n",
    "\n",
    "def dia_up_check(array,magic):\n",
    "    flag = True\n",
    "    dia_sum = 0\n",
    "    col = 1\n",
    "    for r in range(ROW):\n",
    "        dia_sum += array[r][-col]\n",
    "        col += 1\n",
    "    if dia_sum != magic:\n",
    "        flag = False\n",
    "    return flag\n",
    "\n",
    "\n",
    "main()"
   ]
  },
  {
   "cell_type": "code",
   "execution_count": 16,
   "metadata": {},
   "outputs": [
    {
     "name": "stdout",
     "output_type": "stream",
     "text": [
      "This program generates a list of prime numbers at or below an indicated integer.\n",
      "Enter an integer: 100\n",
      "[2, 3, 5, 7, 11, 13, 17, 19, 23, 29, 31, 37, 41, 43, 47, 53, 59, 61, 67, 71, 73, 79, 83, 89, 97]\n"
     ]
    }
   ],
   "source": [
    "#12 Prime Number Generation\n",
    "def main():\n",
    "    print('This program generates a list of prime numbers at or below an indicated integer.')\n",
    "    number = int(input('Enter an integer: '))\n",
    "    prime_list = []\n",
    "    for integer in range(2,number+1):\n",
    "        flag = True\n",
    "        for i in range (2,integer):\n",
    "            if integer % i == 0:\n",
    "                flag = False\n",
    "        if flag == True:\n",
    "            prime_list.append(integer)\n",
    "    print(prime_list)\n",
    "main()"
   ]
  },
  {
   "cell_type": "code",
   "execution_count": 21,
   "metadata": {},
   "outputs": [
    {
     "name": "stdout",
     "output_type": "stream",
     "text": [
      "MAGIC 8 BALL: What is your question? Are we living in a simulation of a higher entity?\n",
      "Yes, of course!\n"
     ]
    }
   ],
   "source": [
    "#13 Magic 8 Ball\n",
    "import random\n",
    "def main():\n",
    "    #Write File\n",
    "    write_fortunes()\n",
    "    #Read file into list\n",
    "    fortunes = list_fortunes('ball_fortunes.txt')\n",
    "    \n",
    "    #Do magic\n",
    "    question = input('MAGIC 8 BALL: What is your question? ')\n",
    "    roll = random.randint(0,len(fortunes))\n",
    "    print(fortunes[roll])\n",
    "\n",
    "    \n",
    "def write_fortunes():\n",
    "    outfile = open('ball_fortunes.txt','w')\n",
    "    outfile.write('Yes, of course!\\n')\n",
    "    outfile.write('Without a doubt, yes.\\n')\n",
    "    outfile.write('You can count on it.\\n')\n",
    "    outfile.write('For sure!\\n')\n",
    "    outfile.write('Ask me later.\\n')\n",
    "    outfile.write('I am not sure.\\n')\n",
    "    outfile.write('I cannot tell you right now.\\n')\n",
    "    outfile.write('I will tell you after a nap.\\n')\n",
    "    outfile.write('No way!\\n')\n",
    "    outfile.write('I do not think so.\\n')\n",
    "    outfile.write('Without a doubt, no.\\n')\n",
    "    outfile.write('The answer is clearly no.\\n')\n",
    "    outfile.write('It is you who must figure it out.\\n')\n",
    "    outfile.write('I genuinely do not know.\\n')\n",
    "    outfile.write('Really? Think about it!\\n')\n",
    "    outfile.close\n",
    "    \n",
    "def list_fortunes(filename):\n",
    "    infile = open(filename,'r')\n",
    "    fortunes = infile.readlines()\n",
    "    index = 0\n",
    "    while index < len(fortunes):\n",
    "        fortunes[index] = fortunes[index].rstrip('\\n')\n",
    "        index += 1\n",
    "    infile.close()\n",
    "    return fortunes\n",
    "\n",
    "main()"
   ]
  },
  {
   "cell_type": "code",
   "execution_count": 1,
   "metadata": {},
   "outputs": [
    {
     "data": {
      "image/png": "[encoded data removed]",
      "text/plain": [
       "<Figure size 432x288 with 1 Axes>"
      ]
     },
     "metadata": {},
     "output_type": "display_data"
    }
   ],
   "source": [
    "#14 Expense Pie Chart\n",
    "import matplotlib.pyplot as plt\n",
    "def main():\n",
    "    values = [1000,60,380,15,15,100]\n",
    "    \n",
    "    #Create a list of labels for the slices\n",
    "    slice_labels = ['Rent','Gas','Food','Clothing','Car Payment','Misc']\n",
    "    \n",
    "    #Create chart\n",
    "    plt.pie(values,labels=slice_labels,colors=('r','g','b','m','k','c'))\n",
    "    plt.title('Expenses')\n",
    "    plt.show()\n",
    "    \n",
    "main()"
   ]
  },
  {
   "cell_type": "code",
   "execution_count": 4,
   "metadata": {},
   "outputs": [
    {
     "data": {
      "image/png": "[encoded data removed]",
      "text/plain": [
       "<Figure size 432x288 with 1 Axes>"
      ]
     },
     "metadata": {
      "needs_background": "light"
     },
     "output_type": "display_data"
    }
   ],
   "source": [
    "#15 Graph\n",
    "import matplotlib.pyplot as plt\n",
    "def main():\n",
    "    left_edges = [0,10,20,30,40]\n",
    "    heights = [100,200,300,400,500]\n",
    "    \n",
    "    bar_width = 5\n",
    "    \n",
    "    plt.bar(left_edges,heights,bar_width,color=('r','g','b','m','k'))\n",
    "    \n",
    "    plt.title('Years and Time I shid pant')\n",
    "    \n",
    "    plt.xlabel('Year')\n",
    "    plt.ylabel('Shid pant')\n",
    "    \n",
    "    plt.xticks([0,10,20,30,40],\n",
    "               ['2016','2017','2018','2019','2020'])\n",
    "    plt.yticks([0,100,200,300,400,500],\n",
    "              ['0','1','2','3','4','5'])\n",
    "    plt.show()\n",
    "    \n",
    "main()"
   ]
  },
  {
   "cell_type": "code",
   "execution_count": 5,
   "metadata": {},
   "outputs": [],
   "source": [
    "#CHAPTER 8 MORE ABOUT STRINGS#"
   ]
  },
  {
   "cell_type": "code",
   "execution_count": 6,
   "metadata": {},
   "outputs": [],
   "source": [
    "#Basic string operations\n",
    "#Python provides several ways to access the individual characters in a string. Strings also have methods that allow\n",
    "#you to perform operations on them"
   ]
  },
  {
   "cell_type": "code",
   "execution_count": 7,
   "metadata": {},
   "outputs": [],
   "source": [
    "#you can access individual characters in a string with a for loop.\n",
    "#for variable in string:\n",
    "#    statement\n",
    "#    statement\n",
    "#    ect."
   ]
  },
  {
   "cell_type": "code",
   "execution_count": 8,
   "metadata": {},
   "outputs": [
    {
     "name": "stdout",
     "output_type": "stream",
     "text": [
      "J\n",
      "u\n",
      "l\n",
      "i\n",
      "e\n",
      "t\n"
     ]
    }
   ],
   "source": [
    "name = 'Juliet'\n",
    "for ch in name:\n",
    "    print(ch)"
   ]
  },
  {
   "cell_type": "code",
   "execution_count": 10,
   "metadata": {},
   "outputs": [
    {
     "name": "stdout",
     "output_type": "stream",
     "text": [
      "Juliet\n"
     ]
    }
   ],
   "source": [
    "#If we change the value of ch in a loop, it has NO effect on the string referenced by name\n",
    "name = 'Juliet'\n",
    "for ch in name:\n",
    "    ch = 'X'\n",
    "print(name)"
   ]
  },
  {
   "cell_type": "code",
   "execution_count": 12,
   "metadata": {},
   "outputs": [
    {
     "name": "stdout",
     "output_type": "stream",
     "text": [
      "Enter a sentence: It is not wisdom but authority that makes a law.\n",
      "The letter T appears 7 times.\n"
     ]
    }
   ],
   "source": [
    "#Count the number of times T(t) appears in a string.\n",
    "def main():\n",
    "    count = 0\n",
    "    my_string = input('Enter a sentence: ')\n",
    "    \n",
    "    #Count the ts\n",
    "    for ch in my_string:\n",
    "        if ch == 'T' or ch == 't':\n",
    "            count += 1\n",
    "            \n",
    "    print('The letter T appears',count,'times.')\n",
    "main()"
   ]
  },
  {
   "cell_type": "code",
   "execution_count": 18,
   "metadata": {},
   "outputs": [
    {
     "name": "stdout",
     "output_type": "stream",
     "text": [
      "R a r\n",
      "e\n",
      "Roses\n"
     ]
    }
   ],
   "source": [
    "#Indexing\n",
    "my_string = 'Roses are red'\n",
    "print(my_string[0],my_string[6],my_string[10])\n",
    "print(my_string[-2])\n",
    "print(my_string[:5])"
   ]
  },
  {
   "cell_type": "code",
   "execution_count": 22,
   "metadata": {},
   "outputs": [
    {
     "name": "stdout",
     "output_type": "stream",
     "text": [
      "<class 'IndexError'>\n"
     ]
    }
   ],
   "source": [
    "#IndexError Exceptions\n",
    "#will occur if you try to use an index out of range of the target string\n",
    "try:\n",
    "    city = 'Boston'\n",
    "    print(city[7])\n",
    "except IndexError:\n",
    "    print(IndexError)"
   ]
  },
  {
   "cell_type": "code",
   "execution_count": 24,
   "metadata": {},
   "outputs": [
    {
     "name": "stdout",
     "output_type": "stream",
     "text": [
      "6\n",
      "B\n",
      "o\n",
      "s\n",
      "t\n",
      "o\n",
      "n\n"
     ]
    }
   ],
   "source": [
    "#Len function can also be helpful to avoid the IndexError\n",
    "city = 'Boston'\n",
    "size = len(city)\n",
    "print(size)\n",
    "\n",
    "index = 0\n",
    "while index < len(city):\n",
    "    print(city[index])\n",
    "    index += 1"
   ]
  },
  {
   "cell_type": "code",
   "execution_count": 27,
   "metadata": {},
   "outputs": [
    {
     "name": "stdout",
     "output_type": "stream",
     "text": [
      "Hello world\n",
      "abcdef\n"
     ]
    }
   ],
   "source": [
    "#String Concatenation\n",
    "message = 'Hello ' + 'world'\n",
    "print(message)\n",
    "letters = 'abc'\n",
    "letters += 'def'\n",
    "print(letters)"
   ]
  },
  {
   "cell_type": "code",
   "execution_count": 28,
   "metadata": {},
   "outputs": [],
   "source": [
    "#NOTE: STRINGS ARE IMMUTABLE\n",
    "#Despite what appears as concatenation above, Python is actually reassigning the variable a new string instead of\n",
    "#a modification that we'd see with lists."
   ]
  },
  {
   "cell_type": "code",
   "execution_count": 33,
   "metadata": {},
   "outputs": [
    {
     "name": "stdout",
     "output_type": "stream",
     "text": [
      "Patty Lynn Smith\n",
      "Patty Lynn Smith\n"
     ]
    }
   ],
   "source": [
    "#String Slicing\n",
    "#string slices are also known as substrings\n",
    "full_name = 'Patty Lynn Smith'\n",
    "first_name = full_name[:5]\n",
    "middle_name = full_name[6:10]\n",
    "last_name = full_name[11:]\n",
    "my_string = full_name[:] #same as [0,len(full_name)]\n",
    "print(first_name, middle_name, last_name)\n",
    "print(my_string)"
   ]
  },
  {
   "cell_type": "code",
   "execution_count": 35,
   "metadata": {},
   "outputs": [
    {
     "name": "stdout",
     "output_type": "stream",
     "text": [
      "ACEGIKMOQSUWY\n"
     ]
    }
   ],
   "source": [
    "letters = 'ABCDEFGHIJKLMNOPQRSTUVWXYZ'\n",
    "print(letters[0:26:2])\n",
    "#Note also that invalid indexes do not cause slicing operations to raise an exception."
   ]
  },
  {
   "cell_type": "code",
   "execution_count": 37,
   "metadata": {},
   "outputs": [
    {
     "name": "stdout",
     "output_type": "stream",
     "text": [
      "Enter first name: Alex\n",
      "Enter last name: Wang\n",
      "Enter student ID: 23439664\n",
      "Your login username is: AleWan664\n"
     ]
    }
   ],
   "source": [
    "#Extracting Characters from a string\n",
    "#Generate login name of student; first 3 characters of first name, first 3 characters of last name,\n",
    "#last 3 characters of student ID, and concatenate all these to generate login name.\n",
    "def main():\n",
    "    first = input('Enter first name: ')\n",
    "    last = input('Enter last name: ')\n",
    "    id = input('Enter student ID: ')\n",
    "    login = get_login_name(first,last,id)\n",
    "    print('Your login username is:',login)\n",
    "\n",
    "def get_login_name(first,last,idnumber):\n",
    "    set1 = first[:3]\n",
    "    set2 = last[:3]\n",
    "    set3 = idnumber[-3:]\n",
    "    login_name = set1 + set2 + set3\n",
    "    \n",
    "    return login_name\n",
    "    \n",
    "main()"
   ]
  },
  {
   "cell_type": "code",
   "execution_count": 38,
   "metadata": {},
   "outputs": [],
   "source": [
    "#Testing, Searching, and Manipulating Strings"
   ]
  },
  {
   "cell_type": "code",
   "execution_count": 39,
   "metadata": {},
   "outputs": [
    {
     "name": "stdout",
     "output_type": "stream",
     "text": [
      "The string \"seven\" was found.\n"
     ]
    }
   ],
   "source": [
    "#Testing Strings\n",
    "#Use the in operator to determine whether one string is contained in another string.\n",
    "text = 'Four score and seven years ago'\n",
    "if 'seven' in text:\n",
    "    print('The string \"seven\" was found.')\n",
    "else:\n",
    "    print('The string \"seven\" was not found.')"
   ]
  },
  {
   "cell_type": "code",
   "execution_count": 40,
   "metadata": {},
   "outputs": [
    {
     "name": "stdout",
     "output_type": "stream",
     "text": [
      "Pierre was not found.\n"
     ]
    }
   ],
   "source": [
    "#use in to find if not in a string\n",
    "names = 'Bill Joanne Susan Chris Juan Katie'\n",
    "if 'Pierre' not in names:\n",
    "    print('Pierre was not found.')\n",
    "else:\n",
    "    print('Pierre was found.')"
   ]
  },
  {
   "cell_type": "code",
   "execution_count": 41,
   "metadata": {},
   "outputs": [],
   "source": [
    "#String Methods\n",
    "#There are many string methods to use, for a list go to python.org\n",
    "#The general format is stringvar.method(arguments)"
   ]
  },
  {
   "cell_type": "code",
   "execution_count": 42,
   "metadata": {},
   "outputs": [
    {
     "name": "stdout",
     "output_type": "stream",
     "text": [
      "1200 contains only digits.\n"
     ]
    }
   ],
   "source": [
    "#String Testing Methods\n",
    "#isdigit method will return true if the string contains only numeric digits.\n",
    "string1 = '1200'\n",
    "if string1.isdigit():\n",
    "    print(string1,'contains only digits.')\n",
    "else:\n",
    "    print(string1,'contains characters other than digits.')"
   ]
  },
  {
   "cell_type": "code",
   "execution_count": 43,
   "metadata": {},
   "outputs": [
    {
     "name": "stdout",
     "output_type": "stream",
     "text": [
      "abc123 contains only digits and alphabetic characters.\n"
     ]
    }
   ],
   "source": [
    "#isalnum() returns true if string contains only alphabetic letters or digits\n",
    "string1 = 'abc123'\n",
    "if string1.isalnum():\n",
    "    print(string1,'contains only digits and alphabetic characters.')\n",
    "else:\n",
    "    print(string1,'contains characters other than digits and alphabetic characters.')"
   ]
  },
  {
   "cell_type": "code",
   "execution_count": 45,
   "metadata": {},
   "outputs": [
    {
     "name": "stdout",
     "output_type": "stream",
     "text": [
      "Danke contains only alphabetic characters.\n"
     ]
    }
   ],
   "source": [
    "#isalpha() returns true if the string contains only alphabetic letters\n",
    "string1 = 'Danke'\n",
    "if string1.isalpha():\n",
    "    print(string1,'contains only alphabetic characters.')\n",
    "else:\n",
    "    print(string1,'contains characters other than alphabetic characters.')"
   ]
  },
  {
   "cell_type": "code",
   "execution_count": 46,
   "metadata": {},
   "outputs": [
    {
     "name": "stdout",
     "output_type": "stream",
     "text": [
      "justice contains only lower-case alphabetic characters.\n"
     ]
    }
   ],
   "source": [
    "#islower() returns true if all the alphabetic letters in the string are lowercase\n",
    "string1 = 'justice'\n",
    "if string1.islower():\n",
    "    print(string1,'contains only lower-case alphabetic characters.')\n",
    "else:\n",
    "    print(string1,'contains characters other than lower-case alphabetic characters.')"
   ]
  },
  {
   "cell_type": "code",
   "execution_count": 47,
   "metadata": {},
   "outputs": [
    {
     "name": "stdout",
     "output_type": "stream",
     "text": [
      "         contains only whitespace.\n"
     ]
    }
   ],
   "source": [
    "#isspace() returns true if the string contains only whitespace characters (whitespace is only spaces, not \\n or \\t)\n",
    "string1 = '        '\n",
    "if string1.isspace():\n",
    "    print(string1,'contains only whitespace.')\n",
    "else:\n",
    "    print(string1,'contains characters other than whitespace.')"
   ]
  },
  {
   "cell_type": "code",
   "execution_count": 48,
   "metadata": {},
   "outputs": [
    {
     "name": "stdout",
     "output_type": "stream",
     "text": [
      "AYYYY contains only upper-case alphabetic characters.\n"
     ]
    }
   ],
   "source": [
    "#isupper() returns true if the string contains alphabetic letters with all uppercase\n",
    "string1 = 'AYYYY'\n",
    "if string1.isupper():\n",
    "    print(string1,'contains only upper-case alphabetic characters.')\n",
    "else:\n",
    "    print(string1,'contains characters other than upper-case alphabetic characters.')"
   ]
  },
  {
   "cell_type": "code",
   "execution_count": 51,
   "metadata": {},
   "outputs": [
    {
     "name": "stdout",
     "output_type": "stream",
     "text": [
      "Input the string: tumultuous\n",
      "This is what the program found about the string:\n",
      "The string is alphanumeric.\n",
      "The string contains only alphabetic characters.\n",
      "The string contains only lowercase alphabetic characters.\n"
     ]
    }
   ],
   "source": [
    "#You can use the above methods to deduce the contents of strings\n",
    "def main():\n",
    "    user_string = input('Input the string: ')\n",
    "    print('This is what the program found about the string:')\n",
    "    \n",
    "    #Test the string\n",
    "    if user_string.isalnum():\n",
    "        print('The string is alphanumeric.')\n",
    "    if user_string.isdigit():\n",
    "        print('The string contains only digits.')\n",
    "    if user_string.isalpha():\n",
    "        print('The string contains only alphabetic characters.')\n",
    "    if user_string.isspace():\n",
    "        print('The string contains only whitespace.')\n",
    "    if user_string.islower():\n",
    "        print('The string contains only lowercase alphabetic characters.')\n",
    "    if user_string.isupper():\n",
    "        print('The string contains only uppercase alphabetic characters.')\n",
    "\n",
    "#Call the string\n",
    "main()"
   ]
  },
  {
   "cell_type": "code",
   "execution_count": 57,
   "metadata": {},
   "outputs": [],
   "source": [
    "#Although strings are immutable, they have modification methods that will return modified versions of themselves to variables\n",
    "#lower() = returns lower case alphabetic characters\n",
    "#upper() = returns upper case alphabetic characters\n",
    "#lstrip() = returns a copy of the string with all LEADING (or starts) whitespace characters removed like ' ', '\\n' and '\\t'.\n",
    "#lstrip(char) = returns a copy of the string with all instances of char that appear the beginning of string removed\n",
    "#rstrip = returns a copy of the string with all TRAILING (or ends) whitespace characters removed like ' ', '\\n' and '\\t'.\n",
    "#rstrip(char) = returns a copy of the string with all instances of char that appear the end of the string removed.\n",
    "#strip() = returns a copy of the string with all leading and trailing whitespace characters removed\n",
    "#strip(char) = returns a copy of the string with all instances of char in beginning and end removed."
   ]
  },
  {
   "cell_type": "code",
   "execution_count": 56,
   "metadata": {},
   "outputs": [
    {
     "name": "stdout",
     "output_type": "stream",
     "text": [
      "WXYZ wxyz\n"
     ]
    }
   ],
   "source": [
    "#lower()\n",
    "letters = 'WXYZ'\n",
    "print(letters, letters.lower())"
   ]
  },
  {
   "cell_type": "code",
   "execution_count": 54,
   "metadata": {},
   "outputs": [
    {
     "name": "stdout",
     "output_type": "stream",
     "text": [
      "wxyz WXYZ\n"
     ]
    }
   ],
   "source": [
    "#upper()\n",
    "letters = 'wxyz'\n",
    "print(letters, letters.upper())"
   ]
  },
  {
   "cell_type": "code",
   "execution_count": 55,
   "metadata": {},
   "outputs": [
    {
     "name": "stdout",
     "output_type": "stream",
     "text": [
      "Hello\n",
      "Do you want to see that again?\n",
      "y = yes, anything else = no: n\n"
     ]
    }
   ],
   "source": [
    "#use the upper/lower in order to acheive the again loop without (while again == 'y' or again =='Y':)\n",
    "again = 'y'\n",
    "while again.upper() == 'Y':\n",
    "    print('Hello')\n",
    "    print('Do you want to see that again?')\n",
    "    again = input('y = yes, anything else = no: ')"
   ]
  },
  {
   "cell_type": "code",
   "execution_count": 58,
   "metadata": {},
   "outputs": [],
   "source": [
    "#Searching and Replacing: programs commonly need to search for substrings. Here are some methods:\n",
    "#endswith(substring) = returns true if the string ends with substring\n",
    "#find(substring) = returns the LOWEST INDEX in the string where substring is found. If not found, return -1.\n",
    "#replace(old,new) = The old and new arguments are both strings. Return a copy of the string with old replaced with new.\n",
    "#startswith(substring) = Returns true if the string starts with substring"
   ]
  },
  {
   "cell_type": "code",
   "execution_count": 60,
   "metadata": {},
   "outputs": [
    {
     "name": "stdout",
     "output_type": "stream",
     "text": [
      "Enter the filename: names.txt\n",
      "That file is a text file.\n"
     ]
    }
   ],
   "source": [
    "#endswith(substring)\n",
    "filename = input('Enter the filename: ')\n",
    "if filename.endswith('.txt'):\n",
    "    print('That file is a text file.')\n",
    "elif filename.endswith('.doc'):\n",
    "    print('That file is a word processing file.')\n",
    "elif filename.endswith('.py'):\n",
    "    print('That file is a Python source file.')\n",
    "else:\n",
    "    print('Unknown file type.')"
   ]
  },
  {
   "cell_type": "code",
   "execution_count": 61,
   "metadata": {},
   "outputs": [
    {
     "name": "stdout",
     "output_type": "stream",
     "text": [
      "The word \"seven\" was found at index 15\n"
     ]
    }
   ],
   "source": [
    "#find(substring)\n",
    "string = 'Four score and seven years ago'\n",
    "position = string.find('seven')\n",
    "if position != -1:\n",
    "    print('The word \"seven\" was found at index',position)\n",
    "else:\n",
    "    print('The word \"seven\" was not found.')"
   ]
  },
  {
   "cell_type": "code",
   "execution_count": 62,
   "metadata": {},
   "outputs": [
    {
     "name": "stdout",
     "output_type": "stream",
     "text": [
      "It is not wisdom but shidding pant that makes law.\n"
     ]
    }
   ],
   "source": [
    "#replace(old,new)\n",
    "string = 'It is not wisdom but authority that makes law.'\n",
    "new_string = string.replace('authority','shidding pant')\n",
    "print(new_string)"
   ]
  },
  {
   "cell_type": "code",
   "execution_count": 64,
   "metadata": {},
   "outputs": [
    {
     "name": "stdout",
     "output_type": "stream",
     "text": [
      "Enter first name: Alex\n",
      "Enter last name: Wang\n",
      "Enter student ID: 23429664\n",
      "Your login username is: AleWan664\n",
      "Select password. Your password must contain at leatst have 8 characters, one uppercase, one lowercase, and one digit.\n",
      "Password: Longhorn911\n",
      "That is a valid password.\n"
     ]
    }
   ],
   "source": [
    "#Validating characters in a password\n",
    "#Pulling code from the previous ID example...\n",
    "def main():\n",
    "    #Set user login.\n",
    "    first = input('Enter first name: ')\n",
    "    last = input('Enter last name: ')\n",
    "    id = input('Enter student ID: ')\n",
    "    login = get_login_name(first,last,id)\n",
    "    print('Your login username is:',login)\n",
    "    \n",
    "    #Set user password.\n",
    "    print('Select password. Your password must contain at leatst have 8 characters, one uppercase, one lowercase, and one digit.')\n",
    "    password = input('Password: ')\n",
    "    #Validate password\n",
    "    while not valid_password(password):\n",
    "        print('That password is not valid.')\n",
    "        password = input('Enter your password: ')\n",
    "    print('That is a valid password.')\n",
    "\n",
    "def get_login_name(first,last,idnumber):\n",
    "    set1 = first[:3]\n",
    "    set2 = last[:3]\n",
    "    set3 = idnumber[-3:]\n",
    "    login_name = set1 + set2 + set3\n",
    "    \n",
    "    return login_name\n",
    "    \n",
    "def valid_password(password):\n",
    "    #Set boolean variables to False\n",
    "    correct_length = False\n",
    "    has_Uppercase = False\n",
    "    has_Lowercase = False\n",
    "    has_digit = False\n",
    "    \n",
    "    #Begin validation.\n",
    "    if len(password) >= 7:\n",
    "        correct_length = True\n",
    "        for ch in password:\n",
    "            if ch.isupper():\n",
    "                has_Uppercase = True\n",
    "            if ch.islower():\n",
    "                has_Lowercase = True\n",
    "            if ch.isdigit():\n",
    "                has_digit = True\n",
    "    if correct_length and has_Uppercase and has_Lowercase and has_digit:\n",
    "        is_valid = True\n",
    "    else:\n",
    "        is_valid = False\n",
    "        \n",
    "    #Return\n",
    "    return is_valid\n",
    "           \n",
    "main()"
   ]
  },
  {
   "cell_type": "code",
   "execution_count": 66,
   "metadata": {},
   "outputs": [
    {
     "name": "stdout",
     "output_type": "stream",
     "text": [
      "HelloHelloHelloHelloHello\n"
     ]
    }
   ],
   "source": [
    "#The Repetition Operator *\n",
    "print('Hello' * 5)"
   ]
  },
  {
   "cell_type": "code",
   "execution_count": 67,
   "metadata": {},
   "outputs": [
    {
     "name": "stdout",
     "output_type": "stream",
     "text": [
      "['One', 'two', 'three', 'four']\n"
     ]
    }
   ],
   "source": [
    "#Splitting the string\n",
    "def main():\n",
    "    my_string = 'One two three four'\n",
    "    word_list = my_string.split()\n",
    "    print(word_list)\n",
    "main()"
   ]
  },
  {
   "cell_type": "code",
   "execution_count": 69,
   "metadata": {},
   "outputs": [
    {
     "name": "stdout",
     "output_type": "stream",
     "text": [
      "['11', '26', '2018']\n"
     ]
    }
   ],
   "source": [
    "#you can use splits for effective date calculations\n",
    "date_string = '11/26/2018'\n",
    "date_list = date_string.split('/')\n",
    "print(date_list)"
   ]
  },
  {
   "cell_type": "code",
   "execution_count": 71,
   "metadata": {},
   "outputs": [
    {
     "name": "stdout",
     "output_type": "stream",
     "text": [
      "Month: 6\n",
      "Day: 23\n",
      "Year: 2021\n"
     ]
    }
   ],
   "source": [
    "def main():\n",
    "    date_string = '6/23/2021'\n",
    "    date_list = date_string.split('/')\n",
    "    print('Month:', date_list[0])\n",
    "    print('Day:', date_list[1])\n",
    "    print('Year:', date_list[2])\n",
    "main()"
   ]
  },
  {
   "cell_type": "code",
   "execution_count": 72,
   "metadata": {},
   "outputs": [
    {
     "name": "stdout",
     "output_type": "stream",
     "text": [
      "e23bbEC E23BBEC\n"
     ]
    }
   ],
   "source": [
    "string = 'e23bbEC'\n",
    "print(string, string.upper())"
   ]
  },
  {
   "cell_type": "code",
   "execution_count": 81,
   "metadata": {},
   "outputs": [
    {
     "name": "stdout",
     "output_type": "stream",
     "text": [
      "e x g b\n"
     ]
    }
   ],
   "source": [
    "string = 'e x g b'\n",
    "string = string.strip()\n",
    "print(string)"
   ]
  },
  {
   "cell_type": "code",
   "execution_count": 85,
   "metadata": {},
   "outputs": [
    {
     "name": "stdout",
     "output_type": "stream",
     "text": [
      "Hello\n",
      "Do you want to see this again? Type Y for yes. y\n",
      "Hello\n",
      "Do you want to see this again? Type Y for yes. Y\n",
      "Hello\n",
      "Do you want to see this again? Type Y for yes. n\n"
     ]
    }
   ],
   "source": [
    "choice = 'y'\n",
    "while choice.upper() == 'Y':\n",
    "    print('Hello')\n",
    "    choice = input('Do you want to see this again? Type Y for yes. ')"
   ]
  },
  {
   "cell_type": "code",
   "execution_count": 86,
   "metadata": {},
   "outputs": [
    {
     "name": "stdout",
     "output_type": "stream",
     "text": [
      "Whitespace appears 3 times.\n"
     ]
    }
   ],
   "source": [
    "#2\n",
    "mystring = 'a b c d'\n",
    "count = 0\n",
    "for ch in mystring:\n",
    "    if ch == ' ':\n",
    "        count+=1\n",
    "print('Whitespace appears',count,'times.')"
   ]
  },
  {
   "cell_type": "code",
   "execution_count": 87,
   "metadata": {},
   "outputs": [
    {
     "name": "stdout",
     "output_type": "stream",
     "text": [
      "Nice website.\n"
     ]
    }
   ],
   "source": [
    "#5\n",
    "mystring = 'sex.com'\n",
    "if mystring.endswith('.com'):\n",
    "    print('Nice website.')\n",
    "else:\n",
    "    print('Not a commercial website.')"
   ]
  },
  {
   "cell_type": "code",
   "execution_count": 91,
   "metadata": {},
   "outputs": [
    {
     "name": "stdout",
     "output_type": "stream",
     "text": [
      "This Teacher Thinks\n"
     ]
    }
   ],
   "source": [
    "#6\n",
    "mystring = 'this teacher thinks'\n",
    "newstring = mystring.replace('t','T')\n",
    "print(newstring)"
   ]
  },
  {
   "cell_type": "code",
   "execution_count": 101,
   "metadata": {},
   "outputs": [
    {
     "name": "stdout",
     "output_type": "stream",
     "text": [
      "ha ha racecar\n"
     ]
    }
   ],
   "source": [
    "#7\n",
    "mystring = 'racecar ah ah'\n",
    "print(mystring[::-1])"
   ]
  },
  {
   "cell_type": "code",
   "execution_count": 104,
   "metadata": {},
   "outputs": [
    {
     "name": "stdout",
     "output_type": "stream",
     "text": [
      "Ome\n"
     ]
    }
   ],
   "source": [
    "#8\n",
    "mystring = 'Omega'\n",
    "newstring = mystring[:3]\n",
    "print(newstring)"
   ]
  },
  {
   "cell_type": "code",
   "execution_count": 106,
   "metadata": {},
   "outputs": [
    {
     "name": "stdout",
     "output_type": "stream",
     "text": [
      "ega\n"
     ]
    }
   ],
   "source": [
    "#9\n",
    "mystring = 'Omega'\n",
    "newstring = mystring[-3:]\n",
    "print(newstring)"
   ]
  },
  {
   "cell_type": "code",
   "execution_count": 107,
   "metadata": {},
   "outputs": [
    {
     "name": "stdout",
     "output_type": "stream",
     "text": [
      "['cookies', 'milk', 'fudge', 'cake', 'ice cream']\n"
     ]
    }
   ],
   "source": [
    "#10\n",
    "mystring = 'cookies>milk>fudge>cake>ice cream'\n",
    "string_list = mystring.split('>')\n",
    "print(string_list)"
   ]
  },
  {
   "cell_type": "code",
   "execution_count": 1,
   "metadata": {},
   "outputs": [
    {
     "name": "stdout",
     "output_type": "stream",
     "text": [
      "Enter first name: Alex\n",
      "Enter middle name: Yan-Nan\n",
      "Enter last name: Wang\n",
      "A.Y.W.\n"
     ]
    }
   ],
   "source": [
    "#1 Initials\n",
    "def name_initials():\n",
    "    first = input('Enter first name: ')\n",
    "    middle = input('Enter middle name: ')\n",
    "    last = input('Enter last name: ')\n",
    "    first_i = first[0].upper()\n",
    "    middle_i = middle[0].upper()\n",
    "    last_i = last[0].upper()\n",
    "    print(first_i,'.',middle_i,'.',last_i,'.',sep='')\n",
    "    \n",
    "name_initials()"
   ]
  },
  {
   "cell_type": "code",
   "execution_count": 3,
   "metadata": {},
   "outputs": [
    {
     "name": "stdout",
     "output_type": "stream",
     "text": [
      "Input a string of digits without interuptions: 22210\n",
      "Sum of this string is 7\n"
     ]
    }
   ],
   "source": [
    "#2 Sum of Digits in a String\n",
    "def main():\n",
    "    digits = input('Input a string of digits without interuptions: ')\n",
    "    total = 0\n",
    "    if digits.isdigit():\n",
    "        for i in digits:\n",
    "            total += int(i)\n",
    "        print('Sum of this string is', total)\n",
    "main()"
   ]
  },
  {
   "cell_type": "code",
   "execution_count": 13,
   "metadata": {},
   "outputs": [
    {
     "name": "stdout",
     "output_type": "stream",
     "text": [
      "Input the date in mm/dd/yyyy format: 3/12/2018\n",
      "March 12, 2018\n"
     ]
    }
   ],
   "source": [
    "#3 Date Printer\n",
    "def main():\n",
    "    date = input('Input the date in mm/dd/yyyy format: ')\n",
    "    date_list = date.split('/')\n",
    "    m = month(int(date_list[0]))\n",
    "    d = date_list[1]\n",
    "    y = date_list[2]\n",
    "    print(m,' ',d,', ',y,sep='')\n",
    "    \n",
    "def month(calander_date):\n",
    "    if calander_date == 1:\n",
    "        return 'January'\n",
    "    elif calander_date == 2:\n",
    "        return 'February'\n",
    "    elif calander_date == 3:\n",
    "        return 'March'\n",
    "    elif calander_date == 4:\n",
    "        return 'April'\n",
    "    elif calander_date == 5:\n",
    "        return 'May'\n",
    "    elif calander_date == 6:\n",
    "        return 'June'\n",
    "    elif calander_date == 7:\n",
    "        return 'July'\n",
    "    elif calander_date == 8:\n",
    "        return 'August'\n",
    "    elif calander_date == 9:\n",
    "        return 'September'\n",
    "    elif calander_date == 10:\n",
    "        return 'October'\n",
    "    elif calander_date == 11:\n",
    "        return 'November'\n",
    "    elif calander_date == 12:\n",
    "        return 'December'\n",
    "main()"
   ]
  },
  {
   "cell_type": "code",
   "execution_count": 29,
   "metadata": {},
   "outputs": [
    {
     "name": "stdout",
     "output_type": "stream",
     "text": [
      "Input string to convert to Morse Code: Lots of assholes please send help?\n",
      ".-.. --- - ... / --- ..-. / .- ... ... .... --- .-.. . ... / .--. .-.. . .- ... . / ... . -. -.. / .... . .-.. .--. ..--.. \n"
     ]
    }
   ],
   "source": [
    "#4 Morse Code Writer\n",
    "def main():\n",
    "    code = str(input('Input string to convert to Morse Code: '))\n",
    "    morse_code = ''\n",
    "    for i in code:\n",
    "        morse_code += (morse(i) + ' ')\n",
    "    print(morse_code)\n",
    "        \n",
    "def morse(code_character):\n",
    "    if code_character.isdigit():\n",
    "        if code_character == '0':\n",
    "            return '-----'\n",
    "        elif code_character == '1':\n",
    "            return '.----'\n",
    "        elif code_character == '2':\n",
    "            return '..---'\n",
    "        elif code_character == '3':\n",
    "            return '...--'\n",
    "        elif code_character == '4':\n",
    "            return '....-'\n",
    "        elif code_character == '5':\n",
    "            return '.....'\n",
    "        elif code_character == '6':\n",
    "            return '-....'\n",
    "        elif code_character == '7':\n",
    "            return '--...'\n",
    "        elif code_character == '8':\n",
    "            return '---..'\n",
    "        elif code_character == '9':\n",
    "            return '----.'\n",
    "    elif code_character.isalpha():\n",
    "        if code_character.upper() == 'A':\n",
    "            return '.-'\n",
    "        elif code_character.upper() == 'B':\n",
    "            return '-...'\n",
    "        elif code_character.upper() == 'C':\n",
    "            return '-.-.'\n",
    "        elif code_character.upper() == 'D':\n",
    "            return '-..'\n",
    "        elif code_character.upper() == 'E':\n",
    "            return '.'\n",
    "        elif code_character.upper() == 'F':\n",
    "            return '..-.'\n",
    "        elif code_character.upper() == 'G':\n",
    "            return '--.'\n",
    "        elif code_character.upper() == 'H':\n",
    "            return '....'\n",
    "        elif code_character.upper() == 'I':\n",
    "            return '..'\n",
    "        elif code_character.upper() == 'J':\n",
    "            return '.---'\n",
    "        elif code_character.upper() == 'K':\n",
    "            return '-.-'\n",
    "        elif code_character.upper() == 'L':\n",
    "            return '.-..'\n",
    "        elif code_character.upper() == 'M':\n",
    "            return '--'\n",
    "        elif code_character.upper() == 'N':\n",
    "            return '-.'\n",
    "        elif code_character.upper() == 'O':\n",
    "            return '---'\n",
    "        elif code_character.upper() == 'P':\n",
    "            return '.--.'\n",
    "        elif code_character.upper() == 'Q':\n",
    "            return '--.-'\n",
    "        elif code_character.upper() == 'R':\n",
    "            return '.-.'\n",
    "        elif code_character.upper() == 'S':\n",
    "            return '...'\n",
    "        elif code_character.upper() == 'T':\n",
    "            return '-'\n",
    "        elif code_character.upper() == 'U':\n",
    "            return '..-'\n",
    "        elif code_character.upper() == 'V':\n",
    "            return '...-'\n",
    "        elif code_character.upper() == 'W':\n",
    "            return '.--'\n",
    "        elif code_character.upper() == 'X':\n",
    "            return '-..-'\n",
    "        elif code_character.upper() == 'Y':\n",
    "            return '-.-'\n",
    "        elif code_character.upper() == 'Z':\n",
    "            return '--..'\n",
    "    elif code_character == ' ':\n",
    "        return '/'\n",
    "    elif code_character == ',':\n",
    "        return '--..--'\n",
    "    elif code_character == '.':\n",
    "        return '.-.-.-'\n",
    "    elif code_character == '?':\n",
    "        return '..--..'\n",
    "main()"
   ]
  },
  {
   "cell_type": "code",
   "execution_count": 28,
   "metadata": {},
   "outputs": [
    {
     "name": "stdout",
     "output_type": "stream",
     "text": [
      "Enter company alphabetic phone number in XXX-XXX-XXXX format: 845-GET-LAID\n",
      "845-438-5243\n"
     ]
    }
   ],
   "source": [
    "#5 Alphabet Telephone Number Translator\n",
    "def main():\n",
    "    number = str(input('Enter company alphabetic phone number in XXX-XXX-XXXX format: '))\n",
    "    new_number = ''\n",
    "    for i in number:\n",
    "        if i.isdigit():\n",
    "            new_number += i\n",
    "        elif i == '-':\n",
    "            new_number += i\n",
    "        elif i.isalpha():\n",
    "            if i == 'A' or i == 'B' or i == 'C':\n",
    "                new_number += '2'\n",
    "            elif i == 'D' or i == 'E' or i == 'F':\n",
    "                new_number += '3'\n",
    "            elif i == 'G' or i == 'H' or i == 'I':\n",
    "                new_number += '4'\n",
    "            elif i == 'J' or i == 'K' or i == 'L':\n",
    "                new_number += '5'\n",
    "            elif i == 'M' or i == 'N' or i == 'O':\n",
    "                new_number += '6'\n",
    "            elif i == 'P' or i == 'Q' or i == 'R' or i == 'S':\n",
    "                new_number += '7'\n",
    "            elif i == 'T' or i == 'U' or i == 'V':\n",
    "                new_number += '8'\n",
    "            elif i == 'W' or i == 'X' or i == 'Y' or i == 'Z':\n",
    "                new_number += '9'\n",
    "    print(new_number)\n",
    "main()"
   ]
  },
  {
   "cell_type": "code",
   "execution_count": 62,
   "metadata": {},
   "outputs": [
    {
     "name": "stdout",
     "output_type": "stream",
     "text": [
      "Enter a string of sentences: No. I cannot see it. Fuck you man\n",
      "No. I cannot see it. Fuck you man. \n"
     ]
    }
   ],
   "source": [
    "#9 Sentence Capitalizer\n",
    "def main():\n",
    "    sentences = input('Enter a string of sentences: ')\n",
    "    split_sentences = sentences.split('. ')\n",
    "    new_sentences = ''\n",
    "    for sentence in split_sentences:\n",
    "        new_sentence = ''\n",
    "        new_sentence += sentence[0].upper()\n",
    "        new_sentence += sentence[1:]\n",
    "        new_sentence += '. '\n",
    "        new_sentences += new_sentence\n",
    "    print(new_sentences)\n",
    "main()"
   ]
  },
  {
   "cell_type": "code",
   "execution_count": 52,
   "metadata": {},
   "outputs": [
    {
     "name": "stdout",
     "output_type": "stream",
     "text": [
      "Enter a string: apples mate\n",
      "This string has 4 vowels.\n",
      "This string has 6 consonants.\n"
     ]
    }
   ],
   "source": [
    "#10 Vowels and Consonants\n",
    "def main():\n",
    "    string = str(input('Enter a string: '))\n",
    "    string.lower()\n",
    "    v = vowels(string)\n",
    "    c = consonants(string)\n",
    "    print('This string has',v,'vowels.')\n",
    "    print('This string has',c,'consonants.')\n",
    "    \n",
    "def vowels(string):\n",
    "    count = 0\n",
    "    for ch in string:\n",
    "        if ch == 'a' or ch == 'e' or ch == 'i' or ch == 'o' or ch == 'u':\n",
    "            count += 1\n",
    "    return count\n",
    "\n",
    "def consonants(string):\n",
    "    count = 0\n",
    "    for ch in string:\n",
    "        if ch.isalpha():\n",
    "            if ch != 'a' and ch != 'e' and ch != 'i' and ch != 'o' and ch != 'u':\n",
    "                count += 1\n",
    "    return count\n",
    "main()"
   ]
  },
  {
   "cell_type": "code",
   "execution_count": 45,
   "metadata": {},
   "outputs": [
    {
     "name": "stdout",
     "output_type": "stream",
     "text": [
      "Enter a string: elementary\n",
      "{'e': 3, 'l': 1, 'm': 1, 'n': 1, 't': 1, 'a': 1, 'r': 1, 'y': 1}\n",
      "Most frequent character: e appears 3 times.\n"
     ]
    }
   ],
   "source": [
    "#11 Most Frequent Character\n",
    "def main():\n",
    "    string = str(input('Enter a string: '))\n",
    "    characters = {}\n",
    "    for ch in string:\n",
    "        if ch in characters:\n",
    "            characters[ch] += 1\n",
    "        else:\n",
    "            characters[ch] = 1\n",
    "    print(characters)\n",
    "    \n",
    "    max_digit = 0\n",
    "    max_ch = ''\n",
    "    for ch in characters:\n",
    "        y = ch\n",
    "        x = characters[ch]\n",
    "        if x > max_digit:\n",
    "            max_digit = x\n",
    "            max_ch = y\n",
    "    print('Most frequent character:', max_ch, 'appears', max_digit,'times.')\n",
    "main()"
   ]
  },
  {
   "cell_type": "code",
   "execution_count": 93,
   "metadata": {},
   "outputs": [
    {
     "name": "stdout",
     "output_type": "stream",
     "text": [
      " Stop And Smell The Roses\n"
     ]
    }
   ],
   "source": [
    "#12 Word Separator\n",
    "def main():\n",
    "    string = 'StopAndSmellTheRoses'\n",
    "    new_string = ''\n",
    "    for ch in string:\n",
    "        if ch.isupper():\n",
    "            new_string += ' ' + ch\n",
    "        else:\n",
    "            new_string += ch\n",
    "    print(new_string)\n",
    "main()"
   ]
  },
  {
   "cell_type": "code",
   "execution_count": 60,
   "metadata": {},
   "outputs": [
    {
     "name": "stdout",
     "output_type": "stream",
     "text": [
      "Input string to convert to pig latin: I slept most of the night\n",
      "iay leptsay ostmay foay hetay ightnay \n"
     ]
    }
   ],
   "source": [
    "#13 Pig Latin\n",
    "def main():\n",
    "    string = str(input('Input string to convert to pig latin: '))\n",
    "    string_list = string.split(' ')\n",
    "    new_string = ''\n",
    "    for word in string_list:\n",
    "        new_word = word[1:]\n",
    "        new_word += word[0].lower()\n",
    "        new_word += 'ay'\n",
    "        new_string += new_word + ' '\n",
    "    print(new_string)\n",
    "main()"
   ]
  },
  {
   "cell_type": "code",
   "execution_count": null,
   "metadata": {},
   "outputs": [],
   "source": [
    "#CHAPTER 9 DICTIONARIES AND SETS#"
   ]
  },
  {
   "cell_type": "code",
   "execution_count": 1,
   "metadata": {},
   "outputs": [],
   "source": [
    "#dictionary = object that stores a collection of data. Each element in a dictionary has two parts: a key and a value.\n",
    "#the key locates a specific value"
   ]
  },
  {
   "cell_type": "code",
   "execution_count": 4,
   "metadata": {},
   "outputs": [
    {
     "name": "stdout",
     "output_type": "stream",
     "text": [
      "{'Chris': '555-1111', 'Katie': '555-2222', 'Joanne': '555-3333'}\n",
      "555-1111\n"
     ]
    }
   ],
   "source": [
    "phonebook = {'Chris' : '555-1111', 'Katie' : '555-2222', 'Joanne' : '555-3333'}\n",
    "print(phonebook)\n",
    "print(phonebook['Chris'])"
   ]
  },
  {
   "cell_type": "code",
   "execution_count": 5,
   "metadata": {},
   "outputs": [
    {
     "name": "stdout",
     "output_type": "stream",
     "text": [
      "{'Chris': '555-1111', 'Katie': '555-2222', 'Joanne': '555-3333', 'Carl': '555-4444'}\n"
     ]
    }
   ],
   "source": [
    "#Adding an element to dictionary\n",
    "phonebook = {'Chris' : '555-1111', 'Katie' : '555-2222', 'Joanne' : '555-3333'}\n",
    "phonebook['Carl'] = '555-4444'\n",
    "print(phonebook)"
   ]
  },
  {
   "cell_type": "code",
   "execution_count": 6,
   "metadata": {},
   "outputs": [
    {
     "name": "stdout",
     "output_type": "stream",
     "text": [
      "{'Katie': '555-2222', 'Joanne': '555-3333'}\n"
     ]
    }
   ],
   "source": [
    "#Deleting an element from dictionary\n",
    "phonebook = {'Chris' : '555-1111', 'Katie' : '555-2222', 'Joanne' : '555-3333'}\n",
    "del phonebook['Chris']\n",
    "print(phonebook)"
   ]
  },
  {
   "cell_type": "code",
   "execution_count": 8,
   "metadata": {},
   "outputs": [
    {
     "name": "stdout",
     "output_type": "stream",
     "text": [
      "3\n"
     ]
    }
   ],
   "source": [
    "#Getting number of elements in dictionary\n",
    "phonebook = {'Chris' : '555-1111', 'Katie' : '555-2222', 'Joanne' : '555-3333'}\n",
    "num_items = len(phonebook)\n",
    "print(num_items)"
   ]
  },
  {
   "cell_type": "code",
   "execution_count": 10,
   "metadata": {},
   "outputs": [
    {
     "data": {
      "text/plain": [
       "{'Kayla': [88, 92, 100], 'Luis': [95, 74, 81], 'Sophie': [72, 88, 92]}"
      ]
     },
     "execution_count": 10,
     "metadata": {},
     "output_type": "execute_result"
    }
   ],
   "source": [
    "#Mixing data types in a dictionary\n",
    "#keys in a dictionary must be immutable objects, but their associated values can be any type.\n",
    "test_scores = {'Kayla': [88,92,100], 'Luis' : [95,74,81], 'Sophie' : [72,88,92]}\n",
    "test_scores"
   ]
  },
  {
   "cell_type": "code",
   "execution_count": 12,
   "metadata": {},
   "outputs": [
    {
     "name": "stdout",
     "output_type": "stream",
     "text": [
      "{'Chris': '555-1111', 'Katie': '555-2222', 'Joanne': '555-3333'}\n"
     ]
    }
   ],
   "source": [
    "#Create an empty dictionary to ammend\n",
    "phonebook = {}\n",
    "phonebook['Chris'] = '555-1111'\n",
    "phonebook['Katie'] = '555-2222'\n",
    "phonebook['Joanne'] = '555-3333'\n",
    "print(phonebook)"
   ]
  },
  {
   "cell_type": "code",
   "execution_count": 13,
   "metadata": {},
   "outputs": [],
   "source": [
    "#You can use dict() to create an empty dictionary as well\n",
    "phonebook = dict()"
   ]
  },
  {
   "cell_type": "code",
   "execution_count": 15,
   "metadata": {},
   "outputs": [
    {
     "name": "stdout",
     "output_type": "stream",
     "text": [
      "Chris 555-1111\n",
      "Katie 555-2222\n",
      "Joanne 555-3333\n"
     ]
    }
   ],
   "source": [
    "#Using for loop to iterate over a dictionary\n",
    "phonebook = {'Chris' : '555-1111', 'Katie' : '555-2222', 'Joanne' : '555-3333'}\n",
    "for key in phonebook:\n",
    "    print(key, phonebook[key])"
   ]
  },
  {
   "cell_type": "code",
   "execution_count": 17,
   "metadata": {},
   "outputs": [],
   "source": [
    "#Dictionary Methods#\n",
    "#clear() = clears the contents of the dictionary\n",
    "#get() = gets the value associated with the specified key. If not found, does not raise exception, just defualt value\n",
    "#items() = returns all the keys in a dictionary and their associated values as a sequence of tuples\n",
    "#keys() = returns all the keys in a dictionary as a sequence of tuples\n",
    "#pop() = returns the value associated with a specified key and removes that key-value pair from the dictionary.\n",
    "#popitem() = returns a randomly selected mapping as a tuple from the dictionary and removes it.\n",
    "#values() = returns all the values in the dictionary as a sequence of tuples"
   ]
  },
  {
   "cell_type": "code",
   "execution_count": 18,
   "metadata": {},
   "outputs": [
    {
     "name": "stdout",
     "output_type": "stream",
     "text": [
      "{}\n"
     ]
    }
   ],
   "source": [
    "#clear() method\n",
    "phonebook = {'Chris' : '555-1111', 'Katie' : '555-2222', 'Joanne' : '555-3333'}\n",
    "phonebook.clear()\n",
    "print(phonebook)"
   ]
  },
  {
   "cell_type": "code",
   "execution_count": 25,
   "metadata": {},
   "outputs": [
    {
     "name": "stdout",
     "output_type": "stream",
     "text": [
      "555-2222\n",
      "Not found.\n"
     ]
    }
   ],
   "source": [
    "#get() method\n",
    "#dictionary.get(key, defualt)\n",
    "phonebook = {'Chris' : '555-1111', 'Katie' : '555-2222', 'Joanne' : '555-3333'}\n",
    "value = phonebook.get('Katie', 'Not found.')\n",
    "print(value)\n",
    "value = phonebook.get('Carl', 'Not found.')\n",
    "print(value)"
   ]
  },
  {
   "cell_type": "code",
   "execution_count": 28,
   "metadata": {},
   "outputs": [
    {
     "name": "stdout",
     "output_type": "stream",
     "text": [
      "dict_items([('Chris', '555-1111'), ('Katie', '555-2222'), ('Joanne', '555-3333')])\n",
      "Chris 555-1111\n",
      "Katie 555-2222\n",
      "Joanne 555-3333\n"
     ]
    }
   ],
   "source": [
    "#items() method\n",
    "#shows the keys and values in dictionary view\n",
    "phonebook = {'Chris' : '555-1111', 'Katie' : '555-2222', 'Joanne' : '555-3333'}\n",
    "dict_view = phonebook.items()\n",
    "print(dict_view)\n",
    "\n",
    "for key, value in phonebook.items():\n",
    "    print(key,value)"
   ]
  },
  {
   "cell_type": "code",
   "execution_count": 30,
   "metadata": {},
   "outputs": [
    {
     "name": "stdout",
     "output_type": "stream",
     "text": [
      "Chris\n",
      "Katie\n",
      "Joanne\n"
     ]
    }
   ],
   "source": [
    "#keys() method\n",
    "phonebook = {'Chris' : '555-1111', 'Katie' : '555-2222', 'Joanne' : '555-3333'}\n",
    "for key in phonebook.keys():\n",
    "    print(key)"
   ]
  },
  {
   "cell_type": "code",
   "execution_count": 32,
   "metadata": {},
   "outputs": [
    {
     "name": "stdout",
     "output_type": "stream",
     "text": [
      "555-1111\n",
      "{'Katie': '555-2222', 'Joanne': '555-3333'}\n"
     ]
    }
   ],
   "source": [
    "#pop() method\n",
    "phonebook = {'Chris' : '555-1111', 'Katie' : '555-2222', 'Joanne' : '555-3333'}\n",
    "key = phonebook.pop('Chris', 'Entry not found.')\n",
    "print(key)\n",
    "print(phonebook)"
   ]
  },
  {
   "cell_type": "code",
   "execution_count": 33,
   "metadata": {},
   "outputs": [
    {
     "name": "stdout",
     "output_type": "stream",
     "text": [
      "('Joanne', '555-3333')\n",
      "{'Chris': '555-1111', 'Katie': '555-2222'}\n"
     ]
    }
   ],
   "source": [
    "#popitem method\n",
    "phonebook = {'Chris' : '555-1111', 'Katie' : '555-2222', 'Joanne' : '555-3333'}\n",
    "key = phonebook.popitem()\n",
    "print(key)\n",
    "print(phonebook)"
   ]
  },
  {
   "cell_type": "code",
   "execution_count": 35,
   "metadata": {},
   "outputs": [
    {
     "name": "stdout",
     "output_type": "stream",
     "text": [
      "555-1111\n",
      "555-2222\n",
      "555-3333\n"
     ]
    }
   ],
   "source": [
    "#values method\n",
    "phonebook = {'Chris' : '555-1111', 'Katie' : '555-2222', 'Joanne' : '555-3333'}\n",
    "for val in phonebook.values():\n",
    "    print(val)"
   ]
  },
  {
   "cell_type": "code",
   "execution_count": 37,
   "metadata": {},
   "outputs": [
    {
     "name": "stdout",
     "output_type": "stream",
     "text": [
      "\n",
      "Friends and Their Birthdays\n",
      "---------------------------\n",
      "1. Look up Birthday.\n",
      "2. Add a new birthday.\n",
      "3. Change a birthday.\n",
      "4. Delete a birthday.\n",
      "5. Quit the program.\n",
      "\n",
      "Enter your choice: 2\n",
      "Enter a name to add: Charlie\n",
      "Enter a birthday: 5/20/1995\n",
      "\n",
      "Friends and Their Birthdays\n",
      "---------------------------\n",
      "1. Look up Birthday.\n",
      "2. Add a new birthday.\n",
      "3. Change a birthday.\n",
      "4. Delete a birthday.\n",
      "5. Quit the program.\n",
      "\n",
      "Enter your choice: 5\n"
     ]
    }
   ],
   "source": [
    "#Storing names and birthdays in dictionary\n",
    "#Program needs to loop up birthday, add new birthday, change birthday, delete birthday, and quit program.\n",
    "\n",
    "#GLOBAL CONSTANTS\n",
    "LOOK_UP = 1\n",
    "ADD = 2\n",
    "CHANGE = 3\n",
    "DELETE = 4\n",
    "QUIT = 5\n",
    "\n",
    "def main():\n",
    "    #create empty list\n",
    "    birthdays = {}\n",
    "    #initialize a variable of user's choice\n",
    "    choice = 0\n",
    "    \n",
    "    while choice != QUIT:\n",
    "        choice = get_menu_choice()\n",
    "        \n",
    "        #Process choice\n",
    "        if choice == LOOK_UP:\n",
    "            look_up(birthdays)\n",
    "        elif choice == ADD:\n",
    "            add(birthdays)\n",
    "        elif choice == CHANGE:\n",
    "            change(birthdays)\n",
    "        elif choice == DELETE:\n",
    "            delete(birthdays)\n",
    "        \n",
    "def get_menu_choice():\n",
    "    print()\n",
    "    print('Friends and Their Birthdays')\n",
    "    print('---------------------------')\n",
    "    print('1. Look up Birthday.')\n",
    "    print('2. Add a new birthday.')\n",
    "    print('3. Change a birthday.')\n",
    "    print('4. Delete a birthday.')\n",
    "    print('5. Quit the program.')\n",
    "    print()\n",
    "    \n",
    "    choice = int(input('Enter your choice: '))\n",
    "    \n",
    "    #Validate\n",
    "    while choice < LOOK_UP or choice > QUIT:\n",
    "        choice = int(input('Enter a valid choice: '))\n",
    "        \n",
    "    return choice\n",
    "\n",
    "def look_up(birthdays):\n",
    "    #Get a name to look up.\n",
    "    name = input('Enter a name to search: ')\n",
    "    #Look up\n",
    "    print(birthdays.get(name,'Not found.'))\n",
    "    \n",
    "def add(birthdays):\n",
    "    #Get name and birthday to add\n",
    "    name = input('Enter a name to add: ')\n",
    "    bday = input('Enter a birthday: ')\n",
    "    \n",
    "    #If name doesn't exist, add it\n",
    "    if name not in birthdays:\n",
    "        birthdays[name] = bday\n",
    "    else:\n",
    "        print('That entry already exists. Try ammending it.')\n",
    "        \n",
    "def change(birthdays):\n",
    "    #Get name to look up\n",
    "    name = input('Enter a name to change: ')\n",
    "    \n",
    "    if name in birthdays:\n",
    "        #Get new bday\n",
    "        bday = input('Enter the new birthday: ')\n",
    "        #Update\n",
    "        birthdays[name] = bday\n",
    "    else:\n",
    "        print('That name was not found.')\n",
    "        \n",
    "def delete(birthdays):\n",
    "    #Get name\n",
    "    name = input('Enter a name to delete: ')\n",
    "    \n",
    "    #If name is found, delete\n",
    "    if name in birthdays:\n",
    "        del birthdays[name]\n",
    "    else:\n",
    "        print('That name is not found.')\n",
    "\n",
    "main()"
   ]
  },
  {
   "cell_type": "code",
   "execution_count": 39,
   "metadata": {},
   "outputs": [],
   "source": [
    "#SETS"
   ]
  },
  {
   "cell_type": "code",
   "execution_count": 40,
   "metadata": {},
   "outputs": [],
   "source": [
    "#sets = objects that store a collection of data in the same way as mathematical sets.\n",
    "# * all the elements must be unique. No two elements may share same value like in dictionaries\n",
    "# * Sets are unordered, which means that the elements in a set are not stored in any particular order\n",
    "# * the elements that are stored in a set can be of different data types"
   ]
  },
  {
   "cell_type": "code",
   "execution_count": 47,
   "metadata": {},
   "outputs": [],
   "source": [
    "#create an empty set\n",
    "myset = set()"
   ]
  },
  {
   "cell_type": "code",
   "execution_count": 89,
   "metadata": {},
   "outputs": [
    {
     "name": "stdout",
     "output_type": "stream",
     "text": [
      "{'b', 'a', 'c'}\n"
     ]
    }
   ],
   "source": [
    "#create a set\n",
    "myset = set(['a', 'b', 'c'])\n",
    "print(myset)\n",
    "#NOTE: Using = {} will create an empty tuple, not an empty set!"
   ]
  },
  {
   "cell_type": "code",
   "execution_count": 50,
   "metadata": {},
   "outputs": [
    {
     "name": "stdout",
     "output_type": "stream",
     "text": [
      "{'b', 'a', 'c'}\n"
     ]
    }
   ],
   "source": [
    "#if you pass a string as an argument in set(), each individual character becomes a member of the set\n",
    "myset = set('abc')\n",
    "print(myset)"
   ]
  },
  {
   "cell_type": "code",
   "execution_count": 53,
   "metadata": {},
   "outputs": [
    {
     "name": "stdout",
     "output_type": "stream",
     "text": [
      "{'b', 'a', 'c'}\n"
     ]
    }
   ],
   "source": [
    "#Sets CANNOT contain duplicates. If multiples are found, they are associated to only one ch.\n",
    "myset = set('aaabc')\n",
    "print(myset)"
   ]
  },
  {
   "cell_type": "code",
   "execution_count": 55,
   "metadata": {},
   "outputs": [
    {
     "name": "stdout",
     "output_type": "stream",
     "text": [
      "{'one', 'three', 'two'}\n"
     ]
    }
   ],
   "source": [
    "#IF you want a set that contains elements of more than one character, it MUST be done through a list containing the strings\n",
    "myset = set(['one', 'two', 'three'])\n",
    "print(myset)\n",
    "#OTHERWISE, you get an ERROR!"
   ]
  },
  {
   "cell_type": "code",
   "execution_count": 56,
   "metadata": {},
   "outputs": [
    {
     "data": {
      "text/plain": [
       "5"
      ]
     },
     "execution_count": 56,
     "metadata": {},
     "output_type": "execute_result"
    }
   ],
   "source": [
    "#Getting the number of elements in a set\n",
    "myset = set([1, 2, 3, 4, 5])\n",
    "len(myset)"
   ]
  },
  {
   "cell_type": "code",
   "execution_count": 57,
   "metadata": {},
   "outputs": [
    {
     "name": "stdout",
     "output_type": "stream",
     "text": [
      "{1, 2, 3}\n",
      "{1, 2, 3}\n"
     ]
    }
   ],
   "source": [
    "#Adding and removing elements of a set\n",
    "myset = set()\n",
    "myset.add(1)\n",
    "myset.add(2)\n",
    "myset.add(3)\n",
    "print(myset)\n",
    "myset.add(2)\n",
    "print(myset)\n",
    "#Notice that even repeating add(2), no errors are raised yet 2 is not reiterated in the set."
   ]
  },
  {
   "cell_type": "code",
   "execution_count": 59,
   "metadata": {},
   "outputs": [
    {
     "name": "stdout",
     "output_type": "stream",
     "text": [
      "{1, 2, 3, 4, 5, 6}\n"
     ]
    }
   ],
   "source": [
    "#You can add a GROUP of elements to a set all at once with update()\n",
    "myset = set([1, 2, 3])\n",
    "myset.update([4, 5, 6])\n",
    "print(myset)"
   ]
  },
  {
   "cell_type": "code",
   "execution_count": 61,
   "metadata": {},
   "outputs": [
    {
     "name": "stdout",
     "output_type": "stream",
     "text": [
      "{1, 2, 3, 4, 5, 6}\n",
      "{4, 5, 6}\n"
     ]
    }
   ],
   "source": [
    "#Use update() to also combine and copy sets\n",
    "set1 = set([1,2,3])\n",
    "set2 = set([4,5,6])\n",
    "set1.update(set2)\n",
    "print(set1)\n",
    "print(set2)"
   ]
  },
  {
   "cell_type": "code",
   "execution_count": 62,
   "metadata": {},
   "outputs": [
    {
     "name": "stdout",
     "output_type": "stream",
     "text": [
      "{1, 2, 3, 4, 5}\n",
      "{3, 4, 5}\n"
     ]
    }
   ],
   "source": [
    "#Deleting elements of sets with remove() and discard()\n",
    "#remove() will raise an KeyError exception but discard() will not.\n",
    "myset = set([1,2,3,4,5])\n",
    "print(myset)\n",
    "myset.remove(1)\n",
    "myset.discard(2)\n",
    "print(myset)"
   ]
  },
  {
   "cell_type": "code",
   "execution_count": 63,
   "metadata": {},
   "outputs": [
    {
     "name": "stdout",
     "output_type": "stream",
     "text": [
      "b\n",
      "a\n",
      "c\n"
     ]
    }
   ],
   "source": [
    "#Using the for loop to iterate over a set.\n",
    "myset = set(['a','b','c'])\n",
    "for val in myset:\n",
    "    print(val)"
   ]
  },
  {
   "cell_type": "code",
   "execution_count": 67,
   "metadata": {},
   "outputs": [
    {
     "name": "stdout",
     "output_type": "stream",
     "text": [
      "1 is in myset\n",
      "5 is not there\n"
     ]
    }
   ],
   "source": [
    "#Using in and not in operators to test for values\n",
    "myset = set([1,2,3])\n",
    "if 1 in myset:\n",
    "    print('1 is in myset')\n",
    "else:\n",
    "    print('1 is not there')\n",
    "\n",
    "if 5 in myset:\n",
    "    print('5 is in myset')\n",
    "else:\n",
    "    print('5 is not there')"
   ]
  },
  {
   "cell_type": "code",
   "execution_count": 68,
   "metadata": {},
   "outputs": [
    {
     "data": {
      "text/plain": [
       "{1, 2, 3, 4, 5, 6}"
      ]
     },
     "execution_count": 68,
     "metadata": {},
     "output_type": "execute_result"
    }
   ],
   "source": [
    "#Finding Union of sets; otherwise, making the set of both sets\n",
    "set1 = set([1,2,3,4])\n",
    "set2 = set([3,4,5,6])\n",
    "set3 = set1.union(set2)\n",
    "set3"
   ]
  },
  {
   "cell_type": "code",
   "execution_count": 69,
   "metadata": {},
   "outputs": [
    {
     "data": {
      "text/plain": [
       "{1, 2, 3, 4, 5, 6}"
      ]
     },
     "execution_count": 69,
     "metadata": {},
     "output_type": "execute_result"
    }
   ],
   "source": [
    "#Union shortcut; | operator\n",
    "set1 = set([1,2,3])\n",
    "set2 = set([4,5,6])\n",
    "set3 = set1 | set2\n",
    "set3"
   ]
  },
  {
   "cell_type": "code",
   "execution_count": 70,
   "metadata": {},
   "outputs": [
    {
     "data": {
      "text/plain": [
       "{4, 5}"
      ]
     },
     "execution_count": 70,
     "metadata": {},
     "output_type": "execute_result"
    }
   ],
   "source": [
    "#Finding the Intersection of Sets\n",
    "set1 = set([1,2,3,4,5])\n",
    "set2 = set([4,5,6,7,8])\n",
    "set3 = set1.intersection(set2)\n",
    "set3"
   ]
  },
  {
   "cell_type": "code",
   "execution_count": 71,
   "metadata": {},
   "outputs": [
    {
     "data": {
      "text/plain": [
       "{4, 5}"
      ]
     },
     "execution_count": 71,
     "metadata": {},
     "output_type": "execute_result"
    }
   ],
   "source": [
    "#Intersection shortcut; & operator\n",
    "set1 = set([1,2,3,4,5])\n",
    "set2 = set([4,5,6,7,8])\n",
    "set3 = set1 & set2\n",
    "set3"
   ]
  },
  {
   "cell_type": "code",
   "execution_count": 75,
   "metadata": {},
   "outputs": [
    {
     "name": "stdout",
     "output_type": "stream",
     "text": [
      "{1, 2, 3}\n",
      "{8, 6, 7}\n"
     ]
    }
   ],
   "source": [
    "#Finding the difference of sets. IMPORTANT: Returns the diferent elements ONLY in set1 and NOT set 2!\n",
    "set1 = set([1,2,3,4,5])\n",
    "set2 = set([4,5,6,7,8])\n",
    "set3 = set1.difference(set2)\n",
    "print(set3)\n",
    "set4 = set2.difference(set1)\n",
    "print(set4)"
   ]
  },
  {
   "cell_type": "code",
   "execution_count": 76,
   "metadata": {},
   "outputs": [
    {
     "data": {
      "text/plain": [
       "{1, 2, 3}"
      ]
     },
     "execution_count": 76,
     "metadata": {},
     "output_type": "execute_result"
    }
   ],
   "source": [
    "#Difference shortcut; - operator\n",
    "set1 = set([1,2,3,4,5])\n",
    "set2 = set([4,5,6,7,8])\n",
    "set3 = set1 - set2\n",
    "set3"
   ]
  },
  {
   "cell_type": "code",
   "execution_count": 77,
   "metadata": {},
   "outputs": [
    {
     "data": {
      "text/plain": [
       "{1, 2, 3, 6, 7, 8}"
      ]
     },
     "execution_count": 77,
     "metadata": {},
     "output_type": "execute_result"
    }
   ],
   "source": [
    "#Finding symmetric differences of sets; THIS returns the different elements of both sets\n",
    "set1 = set([1,2,3,4,5])\n",
    "set2 = set([4,5,6,7,8])\n",
    "set3 = set1.symmetric_difference(set2)\n",
    "set3"
   ]
  },
  {
   "cell_type": "code",
   "execution_count": 78,
   "metadata": {},
   "outputs": [
    {
     "data": {
      "text/plain": [
       "{1, 2, 3, 6, 7, 8}"
      ]
     },
     "execution_count": 78,
     "metadata": {},
     "output_type": "execute_result"
    }
   ],
   "source": [
    "#Symmetric Difference shortcut; ^ operator\n",
    "set1 = set([1,2,3,4,5])\n",
    "set2 = set([4,5,6,7,8])\n",
    "set3 = set1 ^ set2\n",
    "set3"
   ]
  },
  {
   "cell_type": "code",
   "execution_count": 80,
   "metadata": {},
   "outputs": [
    {
     "data": {
      "text/plain": [
       "True"
      ]
     },
     "execution_count": 80,
     "metadata": {},
     "output_type": "execute_result"
    }
   ],
   "source": [
    "#issubset() = Finding Subsets, or sets that contain elements of both sets\n",
    "set1 = set([1,2,3,4,5])\n",
    "set2 = set([2,3,4])\n",
    "set2.issubset(set1)"
   ]
  },
  {
   "cell_type": "code",
   "execution_count": 84,
   "metadata": {},
   "outputs": [
    {
     "data": {
      "text/plain": [
       "True"
      ]
     },
     "execution_count": 84,
     "metadata": {},
     "output_type": "execute_result"
    }
   ],
   "source": [
    "#issuperset() = Finding the superset, or a set that contains a specific subset\n",
    "set1 = set([1,2,3,4,5])\n",
    "set2 = set([2,3,4])\n",
    "set1.issuperset(set2)"
   ]
  },
  {
   "cell_type": "code",
   "execution_count": 85,
   "metadata": {},
   "outputs": [
    {
     "data": {
      "text/plain": [
       "True"
      ]
     },
     "execution_count": 85,
     "metadata": {},
     "output_type": "execute_result"
    }
   ],
   "source": [
    "#Subset shortcut; <= operator\n",
    "set1 = set([1,2,3,4,5])\n",
    "set2 = set([4,5])\n",
    "set2 <= set1"
   ]
  },
  {
   "cell_type": "code",
   "execution_count": 86,
   "metadata": {},
   "outputs": [
    {
     "data": {
      "text/plain": [
       "True"
      ]
     },
     "execution_count": 86,
     "metadata": {},
     "output_type": "execute_result"
    }
   ],
   "source": [
    "#Superset shortcut; >= operator\n",
    "set1 = set([1,2,3,4,5])\n",
    "set2 = set([4,5])\n",
    "set1 >= set2"
   ]
  },
  {
   "cell_type": "code",
   "execution_count": 88,
   "metadata": {},
   "outputs": [
    {
     "name": "stdout",
     "output_type": "stream",
     "text": [
      "BASEBALL TEAM:\n",
      "Jodi\n",
      "Alicia\n",
      "Aida\n",
      "Carmen\n",
      "\n",
      "BASKETBALL TEAM:\n",
      "Eva\n",
      "Alicia\n",
      "Sarah\n",
      "Carmen\n",
      "\n",
      "The following students play both basketball and baseball:\n",
      "Alicia\n",
      "Carmen\n",
      "\n",
      "The following students play either baseball or basketball:\n",
      "Alicia\n",
      "Aida\n",
      "Jodi\n",
      "Sarah\n",
      "Carmen\n",
      "Eva\n",
      "\n",
      "The following students play baseball, but not basketball:\n",
      "Jodi\n",
      "Aida\n",
      "\n",
      "The following students play basketball, but not baseball:\n",
      "Eva\n",
      "Sarah\n",
      "\n",
      "The following students play one sport, but not both:\n",
      "Aida\n",
      "Jodi\n",
      "Sarah\n",
      "Eva\n"
     ]
    }
   ],
   "source": [
    "#Comparing Basketball and Baseball teams\n",
    "baseball = set(['Jodi','Carmen','Aida','Alicia'])\n",
    "basketball = set(['Eva','Carmen','Alicia','Sarah'])\n",
    "\n",
    "#Print baseball team\n",
    "print('BASEBALL TEAM:')\n",
    "for name in baseball:\n",
    "    print(name)\n",
    "print()\n",
    "#Print basketball team\n",
    "print('BASKETBALL TEAM:')\n",
    "for name in basketball:\n",
    "    print(name)\n",
    "    \n",
    "#Demonstrate intersection\n",
    "print()\n",
    "print('The following students play both basketball and baseball:')\n",
    "for name in baseball.intersection(basketball):\n",
    "    print(name)\n",
    "    \n",
    "#Demonstrate union\n",
    "print()\n",
    "print('The following students play either baseball or basketball:')\n",
    "for name in baseball.union(basketball):\n",
    "    print(name)\n",
    "    \n",
    "#Demonstrate difference of baseball and basketball\n",
    "print()\n",
    "print('The following students play baseball, but not basketball:')\n",
    "for name in baseball.difference(basketball):\n",
    "    print(name)\n",
    "    \n",
    "#Demonstrate difference of basketball and baseball\n",
    "print()\n",
    "print('The following students play basketball, but not baseball:')\n",
    "for name in basketball.difference(baseball):\n",
    "    print(name)\n",
    "\n",
    "#Demonstrate symmetric difference\n",
    "print()\n",
    "print('The following students play one sport, but not both:')\n",
    "for name in baseball.symmetric_difference(basketball):\n",
    "    print(name)\n"
   ]
  },
  {
   "cell_type": "code",
   "execution_count": 92,
   "metadata": {},
   "outputs": [],
   "source": [
    "#Serializing Objects\n",
    "#Serializing objects = process of converting the object to a stream of bytes that can be saved to a file for later retrieval\n",
    "#In Python, this is called pickling\n",
    "import pickle\n",
    "#The Pickle module lets you open a file for binary writing, call the module's dump method to pickle the object and write\n",
    "#it to the specified file, and close the file after you have pickled the objects and saved them."
   ]
  },
  {
   "cell_type": "code",
   "execution_count": 94,
   "metadata": {},
   "outputs": [],
   "source": [
    "#To open a file for binary writing; use 'wb' as the mode when you call open function\n",
    "#import pickle\n",
    "#outputfile = open('mydata.dat', 'wb')\n",
    "#pickle.dump(object, file)\n",
    "\n",
    "#Object references the object you want to pickle and file references the file object. Nearly any object can be pickled. "
   ]
  },
  {
   "cell_type": "code",
   "execution_count": 99,
   "metadata": {},
   "outputs": [
    {
     "data": {
      "text/plain": [
       "<function BufferedWriter.close>"
      ]
     },
     "execution_count": 99,
     "metadata": {},
     "output_type": "execute_result"
    }
   ],
   "source": [
    "import pickle\n",
    "phonebook = {'Chris' : '555-1111', 'Katie' : '555-2222', 'Joanne' : '555-3333'}\n",
    "output_file = open('phonebook.dat', 'wb')\n",
    "pickle.dump(phonebook, output_file)\n",
    "output_file.close"
   ]
  },
  {
   "cell_type": "code",
   "execution_count": 96,
   "metadata": {},
   "outputs": [],
   "source": [
    "#To retrieve or unpickle the objects in .dat, you open the file for binary reading, call pickle's load() function to\n",
    "#retrieve object to unpickle, and after you have unpickled all the objects you want you can close the file\n",
    "#inputfile = open('mydata.dat','rb')\n",
    "#object = pickle.load(file)"
   ]
  },
  {
   "cell_type": "code",
   "execution_count": 101,
   "metadata": {},
   "outputs": [
    {
     "ename": "EOFError",
     "evalue": "Ran out of input",
     "output_type": "error",
     "traceback": [
      "\u001b[1;31m---------------------------------------------------------------------------\u001b[0m",
      "\u001b[1;31mEOFError\u001b[0m                                  Traceback (most recent call last)",
      "\u001b[1;32m<ipython-input-101-d882fad0c81d>\u001b[0m in \u001b[0;36m<module>\u001b[1;34m\u001b[0m\n\u001b[0;32m      1\u001b[0m \u001b[1;32mimport\u001b[0m \u001b[0mpickle\u001b[0m\u001b[1;33m\u001b[0m\u001b[1;33m\u001b[0m\u001b[0m\n\u001b[0;32m      2\u001b[0m \u001b[0minput_file\u001b[0m \u001b[1;33m=\u001b[0m \u001b[0mopen\u001b[0m\u001b[1;33m(\u001b[0m\u001b[1;34m'phonebook.dat'\u001b[0m\u001b[1;33m,\u001b[0m \u001b[1;34m'rb'\u001b[0m\u001b[1;33m)\u001b[0m\u001b[1;33m\u001b[0m\u001b[1;33m\u001b[0m\u001b[0m\n\u001b[1;32m----> 3\u001b[1;33m \u001b[0mpb\u001b[0m \u001b[1;33m=\u001b[0m \u001b[0mpickle\u001b[0m\u001b[1;33m.\u001b[0m\u001b[0mload\u001b[0m\u001b[1;33m(\u001b[0m\u001b[0minput_file\u001b[0m\u001b[1;33m)\u001b[0m\u001b[1;33m\u001b[0m\u001b[1;33m\u001b[0m\u001b[0m\n\u001b[0m\u001b[0;32m      4\u001b[0m \u001b[0mprint\u001b[0m\u001b[1;33m(\u001b[0m\u001b[0mpb\u001b[0m\u001b[1;33m)\u001b[0m\u001b[1;33m\u001b[0m\u001b[1;33m\u001b[0m\u001b[0m\n\u001b[0;32m      5\u001b[0m \u001b[0minput_file\u001b[0m\u001b[1;33m.\u001b[0m\u001b[0mclose\u001b[0m\u001b[1;33m(\u001b[0m\u001b[1;33m)\u001b[0m\u001b[1;33m\u001b[0m\u001b[1;33m\u001b[0m\u001b[0m\n",
      "\u001b[1;31mEOFError\u001b[0m: Ran out of input"
     ]
    }
   ],
   "source": [
    "import pickle\n",
    "input_file = open('phonebook.dat', 'rb')\n",
    "pb = pickle.load(input_file)\n",
    "print(pb)\n",
    "input_file.close()"
   ]
  },
  {
   "cell_type": "code",
   "execution_count": 102,
   "metadata": {},
   "outputs": [
    {
     "name": "stdout",
     "output_type": "stream",
     "text": [
      "Name: Jack\n",
      "Age: 34\n",
      "Weight: 674\n",
      "Enter more data? (y/n): y\n",
      "Name: Danny\n",
      "Age: 2\n",
      "Weight: 12453\n",
      "Enter more data? (y/n): y\n",
      "Name: Pual\n",
      "Age: 12\n",
      "Weight: 5\n",
      "Enter more data? (y/n): n\n"
     ]
    }
   ],
   "source": [
    "#This program demonstrates object pickling\n",
    "import pickle\n",
    "\n",
    "def main():\n",
    "    again = 'y'\n",
    "    output_file = open('info.dat','wb')\n",
    "    while again.lower() == 'y':\n",
    "        save_data(output_file)\n",
    "        again = input('Enter more data? (y/n): ')\n",
    "    output_file.close()\n",
    "\n",
    "#The save_data function gets data on a person, stores it in dictionary, and then pickles the dictionary to specific file\n",
    "def save_data(file):\n",
    "    person = {}\n",
    "    \n",
    "    #Get data for a person and store it in dictionary\n",
    "    person['name'] = input('Name: ')\n",
    "    person['age'] = int(input('Age: '))\n",
    "    person['weight'] = float(input('Weight: '))\n",
    "    \n",
    "    #Pickle dictionary\n",
    "    pickle.dump(person,file)\n",
    "\n",
    "main()"
   ]
  },
  {
   "cell_type": "code",
   "execution_count": 104,
   "metadata": {},
   "outputs": [
    {
     "name": "stdout",
     "output_type": "stream",
     "text": [
      "Name:  Jack\n",
      "Age:  34\n",
      "Weight:  674.0\n",
      "\n",
      "Name:  Danny\n",
      "Age:  2\n",
      "Weight:  12453.0\n",
      "\n",
      "Name:  Pual\n",
      "Age:  12\n",
      "Weight:  5.0\n",
      "\n"
     ]
    }
   ],
   "source": [
    "#This program demonstrates object unpickling\n",
    "import pickle\n",
    "\n",
    "def main():\n",
    "    end_of_file = False\n",
    "    input_file = open('info.dat','rb')\n",
    "    while not end_of_file:\n",
    "        try:\n",
    "            person = pickle.load(input_file)\n",
    "            display_data(person)\n",
    "        except:\n",
    "            end_of_file = True\n",
    "    input_file.close()\n",
    "    \n",
    "def display_data(person):\n",
    "    print('Name: ', person['name'])\n",
    "    print('Age: ', person['age'])\n",
    "    print('Weight: ', person['weight'])\n",
    "    print()\n",
    "main()"
   ]
  },
  {
   "cell_type": "code",
   "execution_count": 107,
   "metadata": {},
   "outputs": [
    {
     "data": {
      "text/plain": [
       "{'a': 1, 'b': 2, 'c': 3}"
      ]
     },
     "execution_count": 107,
     "metadata": {},
     "output_type": "execute_result"
    }
   ],
   "source": [
    "#Algorithm Workbench\n",
    "#1\n",
    "dictionary = {'a': 1, 'b': 2, 'c': 3}\n",
    "dictionary"
   ]
  },
  {
   "cell_type": "code",
   "execution_count": 108,
   "metadata": {},
   "outputs": [],
   "source": [
    "#2\n",
    "dictionary = {}"
   ]
  },
  {
   "cell_type": "code",
   "execution_count": 110,
   "metadata": {},
   "outputs": [
    {
     "name": "stdout",
     "output_type": "stream",
     "text": [
      "5\n"
     ]
    }
   ],
   "source": [
    "#3\n",
    "dct = {'Alex':2,'Pual':3,'James':5}\n",
    "if 'James' in dct:\n",
    "    print(dct['James'])\n",
    "else:\n",
    "    print('James not found.')    "
   ]
  },
  {
   "cell_type": "code",
   "execution_count": 111,
   "metadata": {},
   "outputs": [
    {
     "name": "stdout",
     "output_type": "stream",
     "text": [
      "James not found.\n"
     ]
    }
   ],
   "source": [
    "#4\n",
    "dct = {'Alex':2,'Pual':3,'James':5}\n",
    "if 'Jim' in dct:\n",
    "    print(dct['Jim'])\n",
    "else:\n",
    "    print('James not found.')    "
   ]
  },
  {
   "cell_type": "code",
   "execution_count": 112,
   "metadata": {},
   "outputs": [
    {
     "name": "stdout",
     "output_type": "stream",
     "text": [
      "{40, 10, 20, 30}\n"
     ]
    }
   ],
   "source": [
    "#5\n",
    "myset = set([10,20,30,40])\n",
    "print(myset)"
   ]
  },
  {
   "cell_type": "code",
   "execution_count": 114,
   "metadata": {},
   "outputs": [],
   "source": [
    "#6\n",
    "set3 = set1 | set2"
   ]
  },
  {
   "cell_type": "code",
   "execution_count": 115,
   "metadata": {},
   "outputs": [],
   "source": [
    "#7\n",
    "set3 = set1 & set2"
   ]
  },
  {
   "cell_type": "code",
   "execution_count": 116,
   "metadata": {},
   "outputs": [],
   "source": [
    "#8\n",
    "set3 = set1 - set2"
   ]
  },
  {
   "cell_type": "code",
   "execution_count": 117,
   "metadata": {},
   "outputs": [],
   "source": [
    "#9\n",
    "set3 = set2 - set1"
   ]
  },
  {
   "cell_type": "code",
   "execution_count": 118,
   "metadata": {},
   "outputs": [],
   "source": [
    "#10\n",
    "set3 = set1 ^ set2"
   ]
  },
  {
   "cell_type": "code",
   "execution_count": 119,
   "metadata": {},
   "outputs": [],
   "source": [
    "#11\n",
    "dct = {}\n",
    "import pickle\n",
    "out_file = open('emptyfile.dat','wb')\n",
    "pickle.dump(dct, out_file)\n",
    "out_file.close()"
   ]
  },
  {
   "cell_type": "code",
   "execution_count": 120,
   "metadata": {},
   "outputs": [
    {
     "name": "stdout",
     "output_type": "stream",
     "text": [
      "{}\n"
     ]
    }
   ],
   "source": [
    "#12\n",
    "import pickle\n",
    "in_file = open('emptyfile.dat','rb')\n",
    "load = pickle.load(in_file)\n",
    "in_file.close()\n",
    "print(load)"
   ]
  },
  {
   "cell_type": "code",
   "execution_count": 124,
   "metadata": {},
   "outputs": [
    {
     "name": "stdout",
     "output_type": "stream",
     "text": [
      "COURSE INFORMATION LOOK-UP\n",
      "CS101\n",
      "CS102\n",
      "CS103\n",
      "NT110\n",
      "CM241\n",
      "Enter the course listed to look-up: CS101\n",
      "Course: CS101\n",
      "Room: 3004\n",
      "Instructor: Haynes\n",
      "Time: 8:00 AM\n",
      "\n",
      "Enter \"Y\"/\"y\" to look-up another course: y\n",
      "Enter the course listed to look-up: NT110\n",
      "Course: NT110\n",
      "Room: 1244\n",
      "Instructor: Burke\n",
      "Time: 11:00 AM\n",
      "\n",
      "Enter \"Y\"/\"y\" to look-up another course: n\n",
      "Program closed...\n"
     ]
    }
   ],
   "source": [
    "#Programming Exercises\n",
    "#1 Course Information\n",
    "def main():\n",
    "    print('COURSE INFORMATION LOOK-UP')\n",
    "    #Create dictionaries\n",
    "    course_room = {'CS101':'3004', 'CS102':'4501','CS103':'6755','NT110':'1244','CM241':'1411'}\n",
    "    course_instructor = {'CS101':'Haynes', 'CS102':'Alvarado','CS103':'Rich','NT110':'Burke','CM241':'Lee'}\n",
    "    course_time = {'CS101':'8:00 AM', 'CS102':'9:00 AM','CS103':'10:00 AM','NT110':'11:00 AM','CM241':'1:00 PM'}\n",
    "    #List options\n",
    "    for key in course_room:\n",
    "        print(key)\n",
    "    \n",
    "    #Loop\n",
    "    again = 'y'\n",
    "    while again.lower() == 'y':\n",
    "        #Enter course to view\n",
    "        option = input('Enter the course listed to look-up: ')\n",
    "    \n",
    "    #Retieve Course\n",
    "        if option in course_room:\n",
    "            print('Course:',option)\n",
    "            print('Room:',course_room[option])\n",
    "            print('Instructor:',course_instructor[option])\n",
    "            print('Time:',course_time[option])\n",
    "            print()\n",
    "        else:\n",
    "            print('That course was not found.')\n",
    "            print()\n",
    "            \n",
    "        again = input('Enter \"Y\"/\"y\" to look-up another course: ')\n",
    "        \n",
    "    print('Program closed...')     \n",
    "main()"
   ]
  },
  {
   "cell_type": "code",
   "execution_count": 127,
   "metadata": {},
   "outputs": [
    {
     "name": "stdout",
     "output_type": "stream",
     "text": [
      "USA STATE CAPITAL QUIZ\n",
      "----------------------\n",
      "Enter the capital name for each state!\n",
      "\n",
      "Wyoming\n",
      "Capital: Madison\n",
      "Sorry, it is Cheyenne\n",
      "Wisconsin\n",
      "Capital: Madison\n",
      "Correct!\n",
      "West Virginia\n",
      "Capital: Charleston\n",
      "Correct!\n",
      "Washington\n",
      "Capital: Helena\n",
      "Sorry, it is Olympia\n",
      "Virginia\n",
      "Capital: Richmond\n",
      "Correct!\n",
      "Vermont\n"
     ]
    },
    {
     "ename": "KeyboardInterrupt",
     "evalue": "Interrupted by user",
     "output_type": "error",
     "traceback": [
      "\u001b[1;31m---------------------------------------------------------------------------\u001b[0m",
      "\u001b[1;31mKeyboardInterrupt\u001b[0m                         Traceback (most recent call last)",
      "\u001b[1;32m<ipython-input-127-9c360031f117>\u001b[0m in \u001b[0;36m<module>\u001b[1;34m\u001b[0m\n\u001b[0;32m     72\u001b[0m     \u001b[0mprint\u001b[0m\u001b[1;33m(\u001b[0m\u001b[1;34m'Correct:'\u001b[0m\u001b[1;33m,\u001b[0m\u001b[0mcorrect\u001b[0m\u001b[1;33m)\u001b[0m\u001b[1;33m\u001b[0m\u001b[1;33m\u001b[0m\u001b[0m\n\u001b[0;32m     73\u001b[0m     \u001b[0mprint\u001b[0m\u001b[1;33m(\u001b[0m\u001b[1;34m'Wrong:'\u001b[0m\u001b[1;33m,\u001b[0m\u001b[0mwrong\u001b[0m\u001b[1;33m)\u001b[0m\u001b[1;33m\u001b[0m\u001b[1;33m\u001b[0m\u001b[0m\n\u001b[1;32m---> 74\u001b[1;33m \u001b[0mmain\u001b[0m\u001b[1;33m(\u001b[0m\u001b[1;33m)\u001b[0m\u001b[1;33m\u001b[0m\u001b[1;33m\u001b[0m\u001b[0m\n\u001b[0m",
      "\u001b[1;32m<ipython-input-127-9c360031f117>\u001b[0m in \u001b[0;36mmain\u001b[1;34m()\u001b[0m\n\u001b[0;32m     61\u001b[0m         \u001b[0mstate\u001b[0m \u001b[1;33m=\u001b[0m \u001b[0mstate_capitals\u001b[0m\u001b[1;33m.\u001b[0m\u001b[0mpopitem\u001b[0m\u001b[1;33m(\u001b[0m\u001b[1;33m)\u001b[0m\u001b[1;33m\u001b[0m\u001b[1;33m\u001b[0m\u001b[0m\n\u001b[0;32m     62\u001b[0m         \u001b[0mprint\u001b[0m\u001b[1;33m(\u001b[0m\u001b[0mstate\u001b[0m\u001b[1;33m[\u001b[0m\u001b[1;36m0\u001b[0m\u001b[1;33m]\u001b[0m\u001b[1;33m)\u001b[0m\u001b[1;33m\u001b[0m\u001b[1;33m\u001b[0m\u001b[0m\n\u001b[1;32m---> 63\u001b[1;33m         \u001b[0manswer\u001b[0m \u001b[1;33m=\u001b[0m \u001b[0mstr\u001b[0m\u001b[1;33m(\u001b[0m\u001b[0minput\u001b[0m\u001b[1;33m(\u001b[0m\u001b[1;34m'Capital: '\u001b[0m\u001b[1;33m)\u001b[0m\u001b[1;33m)\u001b[0m\u001b[1;33m\u001b[0m\u001b[1;33m\u001b[0m\u001b[0m\n\u001b[0m\u001b[0;32m     64\u001b[0m         \u001b[1;32mif\u001b[0m \u001b[0manswer\u001b[0m \u001b[1;33m==\u001b[0m \u001b[0mstate\u001b[0m\u001b[1;33m[\u001b[0m\u001b[1;36m1\u001b[0m\u001b[1;33m]\u001b[0m\u001b[1;33m:\u001b[0m\u001b[1;33m\u001b[0m\u001b[1;33m\u001b[0m\u001b[0m\n\u001b[0;32m     65\u001b[0m             \u001b[0mprint\u001b[0m\u001b[1;33m(\u001b[0m\u001b[1;34m'Correct!'\u001b[0m\u001b[1;33m)\u001b[0m\u001b[1;33m\u001b[0m\u001b[1;33m\u001b[0m\u001b[0m\n",
      "\u001b[1;32m~\\anaconda3\\lib\\site-packages\\ipykernel\\kernelbase.py\u001b[0m in \u001b[0;36mraw_input\u001b[1;34m(self, prompt)\u001b[0m\n\u001b[0;32m    858\u001b[0m                 \u001b[1;34m\"raw_input was called, but this frontend does not support input requests.\"\u001b[0m\u001b[1;33m\u001b[0m\u001b[1;33m\u001b[0m\u001b[0m\n\u001b[0;32m    859\u001b[0m             )\n\u001b[1;32m--> 860\u001b[1;33m         return self._input_request(str(prompt),\n\u001b[0m\u001b[0;32m    861\u001b[0m             \u001b[0mself\u001b[0m\u001b[1;33m.\u001b[0m\u001b[0m_parent_ident\u001b[0m\u001b[1;33m,\u001b[0m\u001b[1;33m\u001b[0m\u001b[1;33m\u001b[0m\u001b[0m\n\u001b[0;32m    862\u001b[0m             \u001b[0mself\u001b[0m\u001b[1;33m.\u001b[0m\u001b[0m_parent_header\u001b[0m\u001b[1;33m,\u001b[0m\u001b[1;33m\u001b[0m\u001b[1;33m\u001b[0m\u001b[0m\n",
      "\u001b[1;32m~\\anaconda3\\lib\\site-packages\\ipykernel\\kernelbase.py\u001b[0m in \u001b[0;36m_input_request\u001b[1;34m(self, prompt, ident, parent, password)\u001b[0m\n\u001b[0;32m    902\u001b[0m             \u001b[1;32mexcept\u001b[0m \u001b[0mKeyboardInterrupt\u001b[0m\u001b[1;33m:\u001b[0m\u001b[1;33m\u001b[0m\u001b[1;33m\u001b[0m\u001b[0m\n\u001b[0;32m    903\u001b[0m                 \u001b[1;31m# re-raise KeyboardInterrupt, to truncate traceback\u001b[0m\u001b[1;33m\u001b[0m\u001b[1;33m\u001b[0m\u001b[1;33m\u001b[0m\u001b[0m\n\u001b[1;32m--> 904\u001b[1;33m                 \u001b[1;32mraise\u001b[0m \u001b[0mKeyboardInterrupt\u001b[0m\u001b[1;33m(\u001b[0m\u001b[1;34m\"Interrupted by user\"\u001b[0m\u001b[1;33m)\u001b[0m \u001b[1;32mfrom\u001b[0m \u001b[1;32mNone\u001b[0m\u001b[1;33m\u001b[0m\u001b[1;33m\u001b[0m\u001b[0m\n\u001b[0m\u001b[0;32m    905\u001b[0m             \u001b[1;32mexcept\u001b[0m \u001b[0mException\u001b[0m \u001b[1;32mas\u001b[0m \u001b[0me\u001b[0m\u001b[1;33m:\u001b[0m\u001b[1;33m\u001b[0m\u001b[1;33m\u001b[0m\u001b[0m\n\u001b[0;32m    906\u001b[0m                 \u001b[0mself\u001b[0m\u001b[1;33m.\u001b[0m\u001b[0mlog\u001b[0m\u001b[1;33m.\u001b[0m\u001b[0mwarning\u001b[0m\u001b[1;33m(\u001b[0m\u001b[1;34m\"Invalid Message:\"\u001b[0m\u001b[1;33m,\u001b[0m \u001b[0mexc_info\u001b[0m\u001b[1;33m=\u001b[0m\u001b[1;32mTrue\u001b[0m\u001b[1;33m)\u001b[0m\u001b[1;33m\u001b[0m\u001b[1;33m\u001b[0m\u001b[0m\n",
      "\u001b[1;31mKeyboardInterrupt\u001b[0m: Interrupted by user"
     ]
    }
   ],
   "source": [
    "#2 Capital Quiz\n",
    "def main():\n",
    "    state_capitals = {'Alabama':'Montgomery',\n",
    "                     'Alaska':'Juneau',\n",
    "                     'Arizona':'Phoenix',\n",
    "                     'Arkansas':'Little Rock',\n",
    "                     'California':'Sacramento',\n",
    "                     'Colorado':'Denver',\n",
    "                     'Connecticut':'Hartford',\n",
    "                     'Delaware':'Dover',\n",
    "                     'Florida':'Tallahassee',\n",
    "                     'Georgia':'Atlanta',\n",
    "                     'Hawaii':'Honolulu',\n",
    "                     'Idaho':'Boise',\n",
    "                     'Illinois':'Springfield',\n",
    "                     'Indiana':'Indianapolis',\n",
    "                     'Iowa':'Des Moines',\n",
    "                     'Kansas':'Topeka',\n",
    "                     'Kentucky':'Frankfort',\n",
    "                     'Louisiana':'Baton Rouge',\n",
    "                     'Maine':'Augusta',\n",
    "                     'Maryland':'Annapolis',\n",
    "                     'Massachusetts':'Boston',\n",
    "                     'Michigan':'Lansing',\n",
    "                     'Minnesota':'Saint Paul',\n",
    "                     'Mississippi':'Jackson',\n",
    "                     'Missouri':'Jefferson City',\n",
    "                     'Montana':'Helena',\n",
    "                     'Nebraska':'Lincoln',\n",
    "                     'Nevada':'Carson City',\n",
    "                     'New Hampshire':'Concord',\n",
    "                     'New Jersey':'Trenton',\n",
    "                     'New Mexico':'Santa Fe',\n",
    "                     'New York':'Albany',\n",
    "                     'North Carolina':'Raleigh',\n",
    "                     'North Dakota':'Bismarck',\n",
    "                     'Ohio':'Columbus',\n",
    "                     'Oklahoma':'Oklahoma City',\n",
    "                     'Oregon':'Salem',\n",
    "                     'Pennsylvania':'Harrisburg',\n",
    "                     'Rhode Island':'Providence',\n",
    "                     'South Dakota':'Pierre',\n",
    "                     'Tennessee':'Nashville',\n",
    "                     'Texas':'Austin',\n",
    "                     'Utah':'Salt Lake City',\n",
    "                     'Vermont':'Montpelier',\n",
    "                     'Virginia':'Richmond',\n",
    "                     'Washington':'Olympia',\n",
    "                     'West Virginia':'Charleston',\n",
    "                     'Wisconsin':'Madison',\n",
    "                     'Wyoming':'Cheyenne'}\n",
    "    \n",
    "    print('USA STATE CAPITAL QUIZ')\n",
    "    print('----------------------')\n",
    "    print('Enter the capital name for each state!')\n",
    "    print()\n",
    "    \n",
    "    correct = 0\n",
    "    wrong = 0\n",
    "    while not len(state_capitals) == 0:\n",
    "        state = state_capitals.popitem()\n",
    "        print(state[0])\n",
    "        answer = str(input('Capital: '))\n",
    "        if answer == state[1]:\n",
    "            print('Correct!')\n",
    "            correct += 1\n",
    "        else:\n",
    "            print('Sorry, it is', state[1])\n",
    "            wrong += 1\n",
    "    print('Quiz over!')\n",
    "    print('Your scores:')\n",
    "    print('Correct:',correct)\n",
    "    print('Wrong:',wrong)\n",
    "main()"
   ]
  },
  {
   "cell_type": "code",
   "execution_count": 18,
   "metadata": {},
   "outputs": [
    {
     "name": "stdout",
     "output_type": "stream",
     "text": [
      "Enter your message using only letters: Send nudes\n",
      "=~8:i8Z:~g\n"
     ]
    }
   ],
   "source": [
    "#3a File Encryption\n",
    "def main():\n",
    "    text_file()\n",
    "    encrypt('message.txt')\n",
    "    \n",
    "def text_file():\n",
    "    out_file = open('message.txt','w')\n",
    "    string = str(input('Enter your message using only letters: '))\n",
    "    out_file.write(string)\n",
    "    out_file.close()\n",
    "\n",
    "def encrypt(text_file):\n",
    "    codes = {'A':'%', 'a':'9', 'B':'1', 'b':'/', 'C':'0', 'c':',', 'D':'$', 'd':':', \n",
    "             'E':'`', 'e':'~', 'F':'*', 'f':'3', 'G':'+', 'g':'|', 'H':'4', 'h':'&', 'I':']', 'i':'?',\n",
    "             'J':'^', 'j':'5', 'K':'6', 'k':'7', 'L':';', 'l':'-', 'M':'#', 'm':'@', 'N':'!', 'n':'8', 'O':')', 'o':'>',\n",
    "             'P':'(', 'p':'<', 'Q':'_', 'q':'.', 'R':'[', 'r':'\"', 'S':'=', 's':'g', 'T':'e', 't':'q', 'U':'F', 'u':'Z',\n",
    "             'W':'X', 'w':'y', 'X':'h', 'x':'o', 'Y':'a', 'y':'j', 'Z':'z', 'z':'B', ' ':'i'}\n",
    "    in_file = open(text_file, 'r')\n",
    "    out_file = open('encrypted_message.txt','w')\n",
    "    string = ''\n",
    "    for line in in_file:\n",
    "        for ch in line:\n",
    "            new = codes.get(ch)\n",
    "            string += str(new)\n",
    "    print(string)\n",
    "    out_file.write(string)\n",
    "    out_file.close()\n",
    "    \n",
    "main()"
   ]
  },
  {
   "cell_type": "code",
   "execution_count": 21,
   "metadata": {},
   "outputs": [
    {
     "name": "stdout",
     "output_type": "stream",
     "text": [
      "Send nudes\n"
     ]
    }
   ],
   "source": [
    "#3b File Decryption\n",
    "def main():\n",
    "    translation = decrypt('encrypted_message.txt')\n",
    "    print(translation)\n",
    "    \n",
    "def decrypt(text_file):\n",
    "    #Set up dictionaries\n",
    "    codes = {'A':'%', 'a':'9', 'B':'1', 'b':'/', 'C':'0', 'c':',', 'D':'$', 'd':':', \n",
    "             'E':'`', 'e':'~', 'F':'*', 'f':'3', 'G':'+', 'g':'|', 'H':'4', 'h':'&', 'I':']', 'i':'?',\n",
    "             'J':'^', 'j':'5', 'K':'6', 'k':'7', 'L':';', 'l':'-', 'M':'#', 'm':'@', 'N':'!', 'n':'8', 'O':')', 'o':'>',\n",
    "             'P':'(', 'p':'<', 'Q':'_', 'q':'.', 'R':'[', 'r':'\"', 'S':'=', 's':'g', 'T':'e', 't':'q', 'U':'F', 'u':'Z',\n",
    "             'W':'X', 'w':'y', 'X':'h', 'x':'o', 'Y':'a', 'y':'j', 'Z':'z', 'z':'B', ' ':'i'}\n",
    "    reverse_codes = {v: k for k, v in codes.items()}  #THIS IS VERY USEFUL TO KNOW!!!\n",
    "    \n",
    "    #Translate\n",
    "    translation = ''\n",
    "    in_file = open(text_file, 'r')\n",
    "    for line in in_file:\n",
    "        for ch in line:\n",
    "            translation += str(reverse_codes[ch])\n",
    "    return translation\n",
    "            \n",
    "main()"
   ]
  },
  {
   "cell_type": "code",
   "execution_count": 23,
   "metadata": {},
   "outputs": [
    {
     "name": "stdout",
     "output_type": "stream",
     "text": [
      "This program reads all unique words found in a text file.\n",
      "Enter file name to read: message.txt\n",
      "Unique Words:  {'Send', 'nudes'}\n"
     ]
    }
   ],
   "source": [
    "#Unique Words\n",
    "def main():\n",
    "    print('This program reads all unique words found in a text file.')\n",
    "    file = str(input('Enter file name to read: '))\n",
    "    unique_words(file)\n",
    "    \n",
    "def unique_words(text_file):\n",
    "    in_file = open(text_file,'r')\n",
    "    unique_words = set()\n",
    "    for line in in_file:\n",
    "        words = line.split(' ')\n",
    "        unique_words.update(words)\n",
    "    print('Unique Words: ', unique_words)\n",
    "main()"
   ]
  },
  {
   "cell_type": "code",
   "execution_count": 43,
   "metadata": {},
   "outputs": [
    {
     "name": "stdout",
     "output_type": "stream",
     "text": [
      "This program conducts a word count of a text document.\n",
      "Enter file name ending with .txt: Constitution.txt\n",
      "we 1\n",
      "the 6\n",
      "people 1\n",
      "of 3\n",
      "united 2\n",
      "states 2\n",
      "in 1\n",
      "order 1\n",
      "to 2\n",
      "form 1\n",
      "a 1\n",
      "more 1\n",
      "perfect 1\n",
      "union 1\n",
      "establish 2\n",
      "justice 1\n",
      "insure 1\n",
      "domestic 1\n",
      "tranquility 1\n",
      "provide 1\n",
      "for 2\n",
      "common 1\n",
      "defence 1\n",
      "promote 1\n",
      "general 1\n",
      "welfare 1\n",
      "and 3\n",
      "secure 1\n",
      "blessings 1\n",
      "liberty 1\n",
      "ourselves 1\n",
      "our 1\n",
      "posterity 1\n",
      "do 1\n",
      "ordain 1\n",
      "this 1\n",
      "constitution 1\n",
      "america.\n",
      " 1\n"
     ]
    }
   ],
   "source": [
    "#Word Frequency\n",
    "def main():\n",
    "    print('This program conducts a word count of a text document.')\n",
    "    file_name = str(input('Enter file name ending with .txt: '))\n",
    "    in_file = open(file_name, 'r')\n",
    "    unique_words = word_count(in_file)\n",
    "    for word, count in unique_words.items():\n",
    "        print(word, count)\n",
    "        \n",
    "#Count words in file\n",
    "def word_count(in_file):\n",
    "    unique_words = {}\n",
    "    for line in in_file:\n",
    "        words = line.split(' ')\n",
    "    for word in words:\n",
    "        word = word.rstrip('.')\n",
    "        word = word.rstrip('!')\n",
    "        word = word.rstrip('?')\n",
    "        word = word.rstrip(':')\n",
    "        word = word.rstrip(';')\n",
    "        word = word.strip('\"')\n",
    "        word = word.rstrip(',')\n",
    "        word = word.strip('(')\n",
    "        word = word.strip(')')\n",
    "        word = word.lower()\n",
    "        if word not in unique_words:\n",
    "            unique_words[word] = 1\n",
    "        else:\n",
    "            unique_words[word] += 1\n",
    "    return unique_words\n",
    "main()"
   ]
  },
  {
   "cell_type": "code",
   "execution_count": 52,
   "metadata": {},
   "outputs": [
    {
     "name": "stdout",
     "output_type": "stream",
     "text": [
      "This program takes 2 .txt files and compares their contents.\n",
      "Enter first file: words1.txt\n",
      "Enter second file: words2.txt\n",
      "\n",
      "WORD SET 1:\n",
      "you\n",
      "going\n",
      "beat\n",
      "on\n",
      "i\n",
      "do\n",
      "car\n",
      "for\n",
      "the\n",
      "people\n",
      "keeps\n",
      "eat\n",
      "candy\n",
      "some\n",
      "apples\n",
      "language\n",
      "wow\n",
      "shit\n",
      "need\n",
      "meat\n",
      "bed\n",
      "\n",
      "WORD SET 2:\n",
      "you\n",
      "night\n",
      "everyone\n",
      "judge\n",
      "beat\n",
      "i\n",
      "who\n",
      "ate\n",
      "the\n",
      "knew\n",
      "so\n",
      "he\n",
      "man\n",
      "cannot\n",
      "eat\n",
      "candy\n",
      "and\n",
      "some\n",
      "shit\n",
      "last\n",
      "shitface\n",
      "however\n",
      "meat\n",
      "bed\n",
      "\n",
      "INTERSECTION SET:\n",
      "you\n",
      "beat\n",
      "shit\n",
      "i\n",
      "eat\n",
      "candy\n",
      "the\n",
      "meat\n",
      "bed\n",
      "some\n",
      "\n",
      "UNIQUE WORDS, SET 1:\n",
      "on\n",
      "keeps\n",
      "do\n",
      "car\n",
      "need\n",
      "for\n",
      "going\n",
      "apples\n",
      "language\n",
      "people\n",
      "wow\n",
      "\n",
      "UNIQUE WORDS, SET 2:\n",
      "so\n",
      "last\n",
      "he\n",
      "man\n",
      "who\n",
      "cannot\n",
      "shitface\n",
      "ate\n",
      "however\n",
      "knew\n",
      "and\n",
      "night\n",
      "everyone\n",
      "judge\n",
      "\n",
      "UNIQUE WORDS OF BOTH SETS:\n",
      "so\n",
      "he\n",
      "keeps\n",
      "man\n",
      "cannot\n",
      "going\n",
      "and\n",
      "night\n",
      "everyone\n",
      "apples\n",
      "judge\n",
      "language\n",
      "wow\n",
      "on\n",
      "last\n",
      "who\n",
      "shitface\n",
      "do\n",
      "car\n",
      "need\n",
      "ate\n",
      "knew\n",
      "however\n",
      "for\n",
      "people\n"
     ]
    }
   ],
   "source": [
    "#6 File Analysis\n",
    "def main():\n",
    "    #Get Files\n",
    "    print('This program takes 2 .txt files and compares their contents.')\n",
    "    file1 = str(input('Enter first file: '))\n",
    "    file2 = str(input('Enter second file: '))\n",
    "    in_file1 = pull_file(file1)\n",
    "    in_file2 = pull_file(file2)\n",
    "    \n",
    "    #Pull unique words into sets\n",
    "    set1 = unique_words(in_file1) \n",
    "    set2 = unique_words(in_file2)\n",
    "    \n",
    "    #Display\n",
    "    print()\n",
    "    print('WORD SET 1:')\n",
    "    for word in set1:\n",
    "        print(word)\n",
    "    print()\n",
    "    print('WORD SET 2:')\n",
    "    for word in set2:\n",
    "        print(word)\n",
    "    print()\n",
    "    print('INTERSECTION SET:')\n",
    "    for word in set1.intersection(set2):\n",
    "        print(word)\n",
    "    print()\n",
    "    print('UNIQUE WORDS, SET 1:')\n",
    "    for word in set1.difference(set2):\n",
    "        print(word)\n",
    "    print()\n",
    "    print('UNIQUE WORDS, SET 2:')\n",
    "    for word in set2.difference(set1):\n",
    "        print(word)\n",
    "    print()\n",
    "    print('UNIQUE WORDS OF BOTH SETS:')\n",
    "    for word in set1.symmetric_difference(set2):\n",
    "        print(word)\n",
    "    \n",
    "def pull_file(file_name):\n",
    "    in_file = open(file_name, 'r')\n",
    "    return in_file\n",
    "\n",
    "def unique_words(in_file):\n",
    "    unique_words = set()\n",
    "    for line in in_file:\n",
    "        words = line.split(' ')\n",
    "    for word in words:\n",
    "        word = word.rstrip('.')\n",
    "        word = word.rstrip('!')\n",
    "        word = word.rstrip('?')\n",
    "        word = word.rstrip(':')\n",
    "        word = word.rstrip(';')\n",
    "        word = word.strip('\"')\n",
    "        word = word.rstrip(',')\n",
    "        word = word.strip('(')\n",
    "        word = word.strip(')')\n",
    "        word = word.lower()\n",
    "        if word not in unique_words:\n",
    "            unique_words.add(str(word))\n",
    "    return unique_words\n",
    "main()"
   ]
  },
  {
   "cell_type": "code",
   "execution_count": 58,
   "metadata": {},
   "outputs": [
    {
     "name": "stdout",
     "output_type": "stream",
     "text": [
      "\n",
      "Names and Emails\n",
      "----------------\n",
      "1. Look up Name.\n",
      "2. Add a new email.\n",
      "3. Change an email.\n",
      "4. Delete a name.\n",
      "5. Quit the program.\n",
      "\n",
      "Enter your choice: 1\n",
      "Enter a name to search: The Dude\n",
      "dudee@gmail.com\n",
      "\n",
      "Names and Emails\n",
      "----------------\n",
      "1. Look up Name.\n",
      "2. Add a new email.\n",
      "3. Change an email.\n",
      "4. Delete a name.\n",
      "5. Quit the program.\n",
      "\n",
      "Enter your choice: 5\n"
     ]
    }
   ],
   "source": [
    "#Name and Email Addresses\n",
    "import pickle\n",
    "#GLOBAL CONSTANTS\n",
    "LOOK_UP = 1\n",
    "ADD = 2\n",
    "CHANGE = 3\n",
    "DELETE = 4\n",
    "QUIT = 5\n",
    "def main():\n",
    "    #Unpickle\n",
    "    input_file = open('emails.dat','rb')\n",
    "    end_of_file = False\n",
    "    while not end_of_file:\n",
    "        try:\n",
    "            emails = pickle.load(input_file)\n",
    "        except:\n",
    "            end_of_file = True\n",
    "    input_file.close()\n",
    "    \n",
    "    choice = 0\n",
    "    while choice != QUIT:\n",
    "        choice = get_menu_choice()\n",
    "        if choice == LOOK_UP:\n",
    "            lookup(emails)\n",
    "        elif choice == ADD:\n",
    "            add(emails)\n",
    "        elif choice == CHANGE:\n",
    "            change(emails)\n",
    "        elif choice == DELETE:\n",
    "            delete(emails)\n",
    "    \n",
    "    #Pickle\n",
    "    output_file = open('emails.dat','wb')\n",
    "    pickle.dump(emails,output_file)\n",
    "        \n",
    "def get_menu_choice():\n",
    "    print()\n",
    "    print('Names and Emails')\n",
    "    print('----------------')\n",
    "    print('1. Look up Name.')\n",
    "    print('2. Add a new email.')\n",
    "    print('3. Change an email.')\n",
    "    print('4. Delete a name.')\n",
    "    print('5. Quit the program.')\n",
    "    print()\n",
    "    \n",
    "    choice = int(input('Enter your choice: '))\n",
    "    \n",
    "    #Validate\n",
    "    while choice < LOOK_UP or choice > QUIT:\n",
    "        choice = int(input('Enter a valid choice: '))\n",
    "        \n",
    "    return choice\n",
    "\n",
    "def lookup(emails):\n",
    "    name = str(input('Enter a name to search: '))\n",
    "    print(emails.get(name, \"Not found.\"))\n",
    "          \n",
    "def add(emails):\n",
    "    name = str(input('Enter a name to add: '))\n",
    "    if name in emails:\n",
    "        print('That name already exists!')\n",
    "    else:\n",
    "        emails[name] = str(input('Enter email: '))\n",
    "    \n",
    "def change(emails):\n",
    "    name = str(input('Enter a name to change: '))\n",
    "    if name in emails:\n",
    "          new_email = str(input('Enter new email: '))\n",
    "          emails[name] = new_email\n",
    "    else:\n",
    "          print('Name was not found.')\n",
    "\n",
    "def delete(emails):\n",
    "    name = str(input('Enter name to delete: '))\n",
    "    if name in emails:\n",
    "          del emails[name]\n",
    "    else:\n",
    "          print('Name was not found.')\n",
    "main()"
   ]
  },
  {
   "cell_type": "code",
   "execution_count": 77,
   "metadata": {},
   "outputs": [
    {
     "name": "stdout",
     "output_type": "stream",
     "text": [
      "This program reads a text file and creates a dictionary of words and their line appearances.\n",
      "Enter the .txt file name: rabble.txt\n",
      "[('a', [5]), ('all', [8]), ('apples', [8, 9]), ('counts', [7]), ('critic', [7]), ('damn', [3]), ('desert', [6]), ('did', [4]), ('do', [2, 4, 9]), ('fuck', [10]), ('here', [5]), ('i', [5, 8]), ('in', [6]), ('is', [1, 7, 8]), ('it', [1, 2, 7]), ('me', [9]), ('need', [2, 5]), ('not', [2, 7, 9]), ('off', [9, 10]), ('piss', [9]), ('right', [5]), ('see', [8]), ('sentry', [5]), ('the', [6, 7]), ('this', [1, 4]), ('walking', [6]), ('who', [7]), ('why', [4]), ('you', [2, 4])]\n"
     ]
    }
   ],
   "source": [
    "#9 Word Index\n",
    "def main():\n",
    "    #Retrieve File\n",
    "    print('This program reads a text file and creates a dictionary of words and their line appearances.')\n",
    "    file_name = str(input('Enter the .txt file name: '))\n",
    "    try:\n",
    "        in_file = open(file_name, 'r')\n",
    "    except:\n",
    "        print('File not found!')\n",
    "    \n",
    "    #Create dict\n",
    "    unique_words = {}\n",
    "    line_number = 1\n",
    "    \n",
    "    #Write the dictionary\n",
    "    for line in in_file:\n",
    "        words = line.split(' ')\n",
    "        for word in words:\n",
    "            word = word.rstrip('.')\n",
    "            word = word.rstrip('!')\n",
    "            word = word.rstrip('?')\n",
    "            word = word.rstrip(':')\n",
    "            word = word.rstrip(';')\n",
    "            word = word.strip('\"')\n",
    "            word = word.rstrip(',')\n",
    "            word = word.rstrip('\\n')\n",
    "            word = word.strip('(')\n",
    "            word = word.strip(')')\n",
    "            word = word.lower()\n",
    "            if word not in unique_words:\n",
    "                unique_words[word] = [line_number]\n",
    "            else:\n",
    "                unique_words[word].append(line_number)\n",
    "        line_number += 1\n",
    "    in_file.close()\n",
    "    \n",
    "    #Write dictionary to file\n",
    "    out_file = open('word_index.txt', 'w')\n",
    "    sorted_unique_words = sorted(zip(unique_words.keys(),unique_words.values()))\n",
    "    print(sorted_unique_words)\n",
    "    for word, line in sorted_unique_words:\n",
    "        out_file.write('%s: %s\\n' % (word, line))\n",
    "    out_file.close()\n",
    "    \n",
    "main()"
   ]
  },
  {
   "cell_type": "code",
   "execution_count": 78,
   "metadata": {},
   "outputs": [],
   "source": [
    "#CHAPTER 10: CLASSES AND OBJECT-ORIENTED PROGRAMMING"
   ]
  },
  {
   "cell_type": "code",
   "execution_count": 86,
   "metadata": {},
   "outputs": [],
   "source": [
    "#Procedural programming = method of writing software. centered on the procedures or actions that take place in a program.\n",
    "#  Focuses on making functions\n",
    "#Object-oriented programming = centered on objects; created from abtract data-types that encases data and functions together\n",
    "#  Focuses on making objects"
   ]
  },
  {
   "cell_type": "code",
   "execution_count": 80,
   "metadata": {},
   "outputs": [],
   "source": [
    "#Procedural programming is has been done thus far; performs specific tasks by carrying data from one procedure to another."
   ]
  },
  {
   "cell_type": "code",
   "execution_count": 85,
   "metadata": {},
   "outputs": [],
   "source": [
    "#However, as our program becomes larger, the seperation of data and code CAN LEAD TO PROBLEMS. SEE EXAMPLE, p.579 in book!"
   ]
  },
  {
   "cell_type": "code",
   "execution_count": 88,
   "metadata": {},
   "outputs": [],
   "source": [
    "#Encapsulation = combining data and code into a single object.\n",
    "#Data Hiding = object's ability to hide its data attributes from code that is outside the object. Only object's methods\n",
    "#    can directly access and make changes to the object's data attributes.\n",
    "#Object reusablity = An object is not a stand-alone program, but is used by programs that need its services.\n",
    "#    example: A graphic designer developed objects for rendering 3D objects. A architect can write a program that uses the object!\n",
    "#Public Methods = methods that can be accessed by entities outside the object\n",
    "#Private Methods = methods that only the entities inside the object can access"
   ]
  },
  {
   "cell_type": "code",
   "execution_count": 92,
   "metadata": {},
   "outputs": [],
   "source": [
    "#CLASSES = code that specifies the data attributes and methods for a particular type of object. The \"Blueprint\" for objects.\n",
    "#Think of it like a blueprint for a house; the blueprint isn't the house but is the description of the house.\n",
    "#When we build said house, we could say we are building an INSTANCE of the blueprint. We can build several instances!\n",
    "#Think of the class as a cookie-cutter and the object as the cookie!"
   ]
  },
  {
   "cell_type": "code",
   "execution_count": 93,
   "metadata": {},
   "outputs": [],
   "source": [
    "#Instance = each object created from a class\n",
    "#Class definition = set of statements that define a class's methods and data attributes."
   ]
  },
  {
   "cell_type": "code",
   "execution_count": 100,
   "metadata": {},
   "outputs": [
    {
     "name": "stdout",
     "output_type": "stream",
     "text": [
      "This side is up: Heads\n",
      "Tossing coin...\n",
      "Coin landed on Heads\n"
     ]
    }
   ],
   "source": [
    "#Coin toss class example\n",
    "import random\n",
    "#The coin class simulates a coin that can be flipped.\n",
    "class coin:\n",
    "    #The __init__ method initializes the sideup data attribute with 'Heads'.\n",
    "    def __init__(self):    #Most Python classes have a special method named __init__ automatically executed.\n",
    "        self.sideup = 'Heads'\n",
    "        #NOTE on (self): required in every method of class. This parameter is needed and standard practice names it self. \n",
    "    \n",
    "    #The toss method generates a random number in the range of 0 to 1. If the number\n",
    "    #is zero, then sideup is set to 'Heads'. Otherwise, sideup is set to 'Tails'.\n",
    "    def toss(self):\n",
    "        if random.randint(0,1) == 0:\n",
    "            self.sideup = 'Heads'\n",
    "        else:\n",
    "            self.sideup = 'Tails'\n",
    "    \n",
    "    #The get_sideup method returns the value referenced by sideup.\n",
    "    def get_sideup(self):\n",
    "        return self.sideup\n",
    "    \n",
    "#Now, the main function\n",
    "def main():\n",
    "    #Create an object from the Coin class:\n",
    "    my_coin = coin()\n",
    "    \n",
    "    #Display the side of the coin that is facing up\n",
    "    print('This side is up:',my_coin.get_sideup())\n",
    "    \n",
    "    #Toss the coin\n",
    "    print('Tossing coin...')\n",
    "    my_coin.toss()\n",
    "    \n",
    "    #Display result\n",
    "    print('Coin landed on', my_coin.get_sideup())\n",
    "    \n",
    "main()"
   ]
  },
  {
   "cell_type": "code",
   "execution_count": 101,
   "metadata": {},
   "outputs": [
    {
     "name": "stdout",
     "output_type": "stream",
     "text": [
      "This side is up: Heads\n",
      "Tossing coin...\n",
      "Coin landed on Heads\n"
     ]
    }
   ],
   "source": [
    "#Hiding Attributes example part 1\n",
    "#Using the coin class from above...\n",
    "def main():\n",
    "    my_coin = coin()\n",
    "    print('This side is up:',my_coin.get_sideup())\n",
    "    print('Tossing coin...')\n",
    "    my_coin.toss()\n",
    "    \n",
    "    #But now I am going to cheat by directly changing the value of the object's sideup attribute to heads!\n",
    "    my_coin.sideup = 'Heads'\n",
    "    print('Coin landed on',my_coin.get_sideup())\n",
    "main()"
   ]
  },
  {
   "cell_type": "code",
   "execution_count": 102,
   "metadata": {},
   "outputs": [
    {
     "name": "stdout",
     "output_type": "stream",
     "text": [
      "This side is up: Heads\n",
      "Tossing coin...\n",
      "Tails\n",
      "Tails\n",
      "Heads\n",
      "Heads\n",
      "Heads\n",
      "Heads\n",
      "Tails\n",
      "Heads\n",
      "Heads\n",
      "Heads\n"
     ]
    }
   ],
   "source": [
    "#Hiding Attributes example part 2\n",
    "#To prevent the above from happening, we need to make the sideup attribute private.\n",
    "#In Python, you can hide an attribute by starting its name with two underscore characters!\n",
    "import random\n",
    "class coin:\n",
    "    #The __init__ method initializes the __sideup attribute with heads.\n",
    "    def __init__(self):\n",
    "        self.__sideup = 'Heads'\n",
    "        \n",
    "    def toss(self):\n",
    "        if random.randint(0,1) == 0:\n",
    "            self.__sideup = 'Heads'\n",
    "        else:\n",
    "            self.__sideup = 'Tails'\n",
    "    \n",
    "    def get_sideup(self):\n",
    "        return self.__sideup\n",
    "    \n",
    "def main():\n",
    "    my_coin = coin()\n",
    "    print('This side is up:',my_coin.get_sideup())\n",
    "    print('Tossing coin...')\n",
    "    for count in range(10):\n",
    "        my_coin.toss()\n",
    "        print(my_coin.get_sideup())\n",
    "main()"
   ]
  },
  {
   "cell_type": "code",
   "execution_count": 103,
   "metadata": {},
   "outputs": [],
   "source": [
    "#Storing Classes in Modules\n",
    "#So far, we defined coin() in the same file as the programming statements in def main()\n",
    "#This is fine for small programs with only one or two classes. But more classes will require better organization.\n",
    "#You can store classes in modules; files that can be imported into programs than need to use classes they contain.\n",
    "#For the coin class, we can store it in file called coin.py"
   ]
  },
  {
   "cell_type": "code",
   "execution_count": 151,
   "metadata": {},
   "outputs": [],
   "source": [
    "#Module Example\n",
    "import random\n",
    "class Coin:\n",
    "    #The __init__ method initializes the __sideup attribute with heads.\n",
    "    def __init__(self):\n",
    "        self.__sideup = 'Heads'\n",
    "        \n",
    "    def toss(self):\n",
    "        if random.randint(0,1) == 0:\n",
    "            self.__sideup = 'Heads'\n",
    "        else:\n",
    "            self.__sideup = 'Tails'\n",
    "    \n",
    "    def get_sideup(self):\n",
    "        return self.__sideup\n",
    "    \n",
    "#Save this as coin_module.py"
   ]
  },
  {
   "cell_type": "code",
   "execution_count": 152,
   "metadata": {},
   "outputs": [
    {
     "ename": "AttributeError",
     "evalue": "module 'coin_module' has no attribute 'Coin'",
     "output_type": "error",
     "traceback": [
      "\u001b[1;31m---------------------------------------------------------------------------\u001b[0m",
      "\u001b[1;31mAttributeError\u001b[0m                            Traceback (most recent call last)",
      "\u001b[1;32m<ipython-input-152-bc979a2ab944>\u001b[0m in \u001b[0;36m<module>\u001b[1;34m\u001b[0m\n\u001b[0;32m      8\u001b[0m         \u001b[0mmy_coin\u001b[0m\u001b[1;33m.\u001b[0m\u001b[0mtoss\u001b[0m\u001b[1;33m(\u001b[0m\u001b[1;33m)\u001b[0m\u001b[1;33m\u001b[0m\u001b[1;33m\u001b[0m\u001b[0m\n\u001b[0;32m      9\u001b[0m         \u001b[0mprint\u001b[0m\u001b[1;33m(\u001b[0m\u001b[0mmy_coin\u001b[0m\u001b[1;33m.\u001b[0m\u001b[0mget_sideup\u001b[0m\u001b[1;33m(\u001b[0m\u001b[1;33m)\u001b[0m\u001b[1;33m)\u001b[0m\u001b[1;33m\u001b[0m\u001b[1;33m\u001b[0m\u001b[0m\n\u001b[1;32m---> 10\u001b[1;33m \u001b[0mmain\u001b[0m\u001b[1;33m(\u001b[0m\u001b[1;33m)\u001b[0m\u001b[1;33m\u001b[0m\u001b[1;33m\u001b[0m\u001b[0m\n\u001b[0m",
      "\u001b[1;32m<ipython-input-152-bc979a2ab944>\u001b[0m in \u001b[0;36mmain\u001b[1;34m()\u001b[0m\n\u001b[0;32m      2\u001b[0m \u001b[1;32mimport\u001b[0m \u001b[0mcoin_module\u001b[0m\u001b[1;33m\u001b[0m\u001b[1;33m\u001b[0m\u001b[0m\n\u001b[0;32m      3\u001b[0m \u001b[1;32mdef\u001b[0m \u001b[0mmain\u001b[0m\u001b[1;33m(\u001b[0m\u001b[1;33m)\u001b[0m\u001b[1;33m:\u001b[0m\u001b[1;33m\u001b[0m\u001b[1;33m\u001b[0m\u001b[0m\n\u001b[1;32m----> 4\u001b[1;33m     \u001b[0mmy_coin\u001b[0m \u001b[1;33m=\u001b[0m \u001b[0mcoin_module\u001b[0m\u001b[1;33m.\u001b[0m\u001b[0mCoin\u001b[0m\u001b[1;33m(\u001b[0m\u001b[1;33m)\u001b[0m\u001b[1;33m\u001b[0m\u001b[1;33m\u001b[0m\u001b[0m\n\u001b[0m\u001b[0;32m      5\u001b[0m     \u001b[0mprint\u001b[0m\u001b[1;33m(\u001b[0m\u001b[1;34m'This side is up:'\u001b[0m\u001b[1;33m,\u001b[0m\u001b[0mmy_coin\u001b[0m\u001b[1;33m.\u001b[0m\u001b[0mget_sideup\u001b[0m\u001b[1;33m(\u001b[0m\u001b[1;33m)\u001b[0m\u001b[1;33m)\u001b[0m\u001b[1;33m\u001b[0m\u001b[1;33m\u001b[0m\u001b[0m\n\u001b[0;32m      6\u001b[0m     \u001b[0mprint\u001b[0m\u001b[1;33m(\u001b[0m\u001b[1;34m'Tossing coin...'\u001b[0m\u001b[1;33m)\u001b[0m\u001b[1;33m\u001b[0m\u001b[1;33m\u001b[0m\u001b[0m\n",
      "\u001b[1;31mAttributeError\u001b[0m: module 'coin_module' has no attribute 'Coin'"
     ]
    }
   ],
   "source": [
    "#Implement the module\n",
    "import coin_module\n",
    "def main():\n",
    "    my_coin = coin_module.Coin()\n",
    "    print('This side is up:',my_coin.get_sideup())\n",
    "    print('Tossing coin...')\n",
    "    for count in range(10):\n",
    "        my_coin.toss()\n",
    "        print(my_coin.get_sideup())\n",
    "main()"
   ]
  },
  {
   "cell_type": "code",
   "execution_count": 148,
   "metadata": {},
   "outputs": [],
   "source": [
    "#Bank Account Class\n",
    "class BankAccount:\n",
    "    #The __init__ method accepts an argument for the account's balance. It is assigned to\n",
    "    #the __balance attribute.\n",
    "    def __init__(self, bal):\n",
    "        self.__balance = bal\n",
    "        \n",
    "    #The deposit method makes a deposit into the account.\n",
    "    def deposit(self, amount):\n",
    "        self.__balance += amount\n",
    "    \n",
    "    #The withdraw method withdraws an amount\n",
    "    def withdraw(self,amount):\n",
    "        if self.__balance >= amount:\n",
    "            self.__balance -= amount\n",
    "        else:\n",
    "            print('Error: Insufficient Funds')\n",
    "    \n",
    "    #The get_balance method returns the account balance\n",
    "    def get_balance(self):\n",
    "        return self.__balance\n",
    "\n",
    "#Save as a .py file"
   ]
  },
  {
   "cell_type": "code",
   "execution_count": 154,
   "metadata": {},
   "outputs": [
    {
     "name": "stdout",
     "output_type": "stream",
     "text": [
      "Enter your starting balance: 1000\n",
      "How much were you paid this week? 500\n",
      "I will deposit that into your account.\n",
      "Your account balance is $1,500.00\n",
      "How much would you like to withdraw? 1200\n",
      "I will withdraw that from your account.\n",
      "Your account balance is $300.00\n"
     ]
    }
   ],
   "source": [
    "#Bank Account Test\n",
    "class BankAccount:\n",
    "    #The __init__ method accepts an argument for the account's balance. It is assigned to\n",
    "    #the __balance attribute.\n",
    "    def __init__(self, bal):\n",
    "        self.__balance = bal\n",
    "        \n",
    "    #The deposit method makes a deposit into the account.\n",
    "    def deposit(self, amount):\n",
    "        self.__balance += amount\n",
    "    \n",
    "    #The withdraw method withdraws an amount\n",
    "    def withdraw(self,amount):\n",
    "        if self.__balance >= amount:\n",
    "            self.__balance -= amount\n",
    "        else:\n",
    "            print('Error: Insufficient Funds')\n",
    "    \n",
    "    #The get_balance method returns the account balance\n",
    "    def get_balance(self):\n",
    "        return self.__balance\n",
    "\n",
    "def main():\n",
    "    #Get starting balance\n",
    "    start_bal = float(input('Enter your starting balance: '))\n",
    "    \n",
    "    #Create a bankaccount object\n",
    "    savings = BankAccount(start_bal)\n",
    "    \n",
    "    #Deposit the user's paycheck\n",
    "    pay = float(input('How much were you paid this week? '))\n",
    "    print('I will deposit that into your account.')\n",
    "    savings.deposit(pay)\n",
    "    \n",
    "    #Display the balance\n",
    "    print('Your account balance is $', format(savings.get_balance(), ',.2f'), sep='')\n",
    "    \n",
    "    #Get the amount to withdraw\n",
    "    cash = float(input('How much would you like to withdraw? '))\n",
    "    print('I will withdraw that from your account.')\n",
    "    savings.withdraw(cash)\n",
    "    \n",
    "    #Display the balance\n",
    "    print('Your account balance is $', format(savings.get_balance(), ',.2f'), sep='')\n",
    "main()"
   ]
  },
  {
   "cell_type": "code",
   "execution_count": 156,
   "metadata": {},
   "outputs": [
    {
     "name": "stdout",
     "output_type": "stream",
     "text": [
      "Enter your starting balance: 1000\n",
      "How much were you paid this week? 500\n",
      "I will deposit that into your account.\n",
      "The balance is $1,500.00\n",
      "How much would you like to withdraw?1200\n",
      "I will withdraw that from your account.\n",
      "The balance is $300.00\n"
     ]
    }
   ],
   "source": [
    "#The __str__ method = Display an object's state, or its values of object's attributes at any given moment.\n",
    "#This is so common that this method is built into classes to return strings of the current state.\n",
    "class BankAccount:\n",
    "    #The __init__ method accepts an argument for the account's balance. It is assigned to\n",
    "    #the __balance attribute.\n",
    "    def __init__(self, bal):\n",
    "        self.__balance = bal\n",
    "        \n",
    "    #The deposit method makes a deposit into the account.\n",
    "    def deposit(self, amount):\n",
    "        self.__balance += amount\n",
    "    \n",
    "    #The withdraw method withdraws an amount\n",
    "    def withdraw(self,amount):\n",
    "        if self.__balance >= amount:\n",
    "            self.__balance -= amount\n",
    "        else:\n",
    "            print('Error: Insufficient Funds')\n",
    "    \n",
    "    #The get_balance method returns the account balance\n",
    "    def get_balance(self):\n",
    "        return self.__balance\n",
    "\n",
    "    #SEE HERE!\n",
    "    def __str__(self):\n",
    "        return 'The balance is $' + format(self.__balance, ',.2f')\n",
    "    \n",
    "def main():\n",
    "    #Get start balance\n",
    "    start_bal = float(input('Enter your starting balance: '))\n",
    "    \n",
    "    #Create a bankaccount object\n",
    "    savings = BankAccount(start_bal)\n",
    "    \n",
    "    #Deposit the paycheck\n",
    "    pay = float(input('How much were you paid this week? '))\n",
    "    print('I will deposit that into your account.')\n",
    "    savings.deposit(pay) \n",
    "    print(savings) #This will run __str__(self)!\n",
    "    \n",
    "    cash = float(input('How much would you like to withdraw?'))\n",
    "    print('I will withdraw that from your account.')\n",
    "    savings.withdraw(cash)\n",
    "    print(savings) #This will run __str__(self)!\n",
    "main()"
   ]
  },
  {
   "cell_type": "code",
   "execution_count": 157,
   "metadata": {},
   "outputs": [],
   "source": [
    "#Working with Instances\n",
    "#remember that each instance has its own data attributes. We call these attributes the instance attributes."
   ]
  },
  {
   "cell_type": "code",
   "execution_count": 160,
   "metadata": {},
   "outputs": [
    {
     "name": "stdout",
     "output_type": "stream",
     "text": [
      "Enter the manufacturer: Tesla\n",
      "Enter the model number: 24324\n",
      "Enter the retail price: 500\n",
      "Data entered: \n",
      "Manufacturer: Tesla\n",
      "Model Number: 24324\n",
      "Retail Price: $500.00\n"
     ]
    }
   ],
   "source": [
    "#Cell Phone Class\n",
    "class CellPhone:\n",
    "    def __init__(self, manufact, model, price):\n",
    "        self.__manufact = manufact\n",
    "        self.__model = model\n",
    "        self.__retail_price = price\n",
    "        \n",
    "    #The set_manufact method accepts an argument for the phone's manufacturer\n",
    "    def set_manufact(self, model):\n",
    "        self.__model = model\n",
    "        \n",
    "    #The set_model method accepts an argument for the phone's model number\n",
    "    def set_model(self, model):\n",
    "        self.__model = model\n",
    "        \n",
    "    #The set_retail_price method accepts an argument for the phone's retail price\n",
    "    def set_retail_price(self, price):\n",
    "        self.__retail_price = price\n",
    "        \n",
    "    #The get_manufact method returns the phone's manufacturer\n",
    "    def get_manufact(self):\n",
    "        return self.__manufact\n",
    "    \n",
    "    #The get_model method returns the phone's model number\n",
    "    def get_model(self):\n",
    "        return self.__model\n",
    "    \n",
    "    #The get_retail_price method returns the phone's retail price\n",
    "    def get_retail_price(self):\n",
    "        return self.__retail_price\n",
    "    \n",
    "#Test it\n",
    "def main():\n",
    "    #Get phone data\n",
    "    man = input('Enter the manufacturer: ')\n",
    "    mod = input('Enter the model number: ')\n",
    "    retail = float(input('Enter the retail price: '))\n",
    "    \n",
    "    #Create an instance of the Cellphone class\n",
    "    phone = CellPhone(man, mod, retail)\n",
    "    \n",
    "    #Display\n",
    "    print('Data entered: ')\n",
    "    print('Manufacturer:', phone.get_manufact())\n",
    "    print('Model Number:', phone.get_model())\n",
    "    print('Retail Price: $', format(phone.get_retail_price(), ',.2f'), sep='')\n",
    "    \n",
    "main()"
   ]
  },
  {
   "cell_type": "code",
   "execution_count": 162,
   "metadata": {},
   "outputs": [],
   "source": [
    "#Accessor and Mutator Methods\n",
    "#Accessor method = method which returns the value of a class's attribute but does not change it\n",
    "#      In CellPhone, these are get_manufact, get_model, and get_retail_price\n",
    "#Mutator = method which stores a value or changes the value of a data attribute is some way\n",
    "#      In CellPhone, these are set_manufact, set_model, and set_retail_price"
   ]
  },
  {
   "cell_type": "code",
   "execution_count": 163,
   "metadata": {},
   "outputs": [
    {
     "name": "stdout",
     "output_type": "stream",
     "text": [
      "Enter the data for five phones.\n",
      "Phone number 1:\n",
      "Enter the manufacturer: Tesla\n",
      "Enter the model number: 25342\n",
      "Enter the retail price: 5\n",
      "\n",
      "Phone number 2:\n",
      "Enter the manufacturer: Sexy Phone\n",
      "Enter the model number: 4256\n",
      "Enter the retail price: 1\n",
      "\n",
      "Phone number 3:\n",
      "Enter the manufacturer: Samsung\n",
      "Enter the model number: 5483209\n",
      "Enter the retail price: .5\n",
      "\n",
      "Phone number 4:\n",
      "Enter the manufacturer: McDonalds\n",
      "Enter the model number: Big Mac\n",
      "Enter the retail price: 4.5\n",
      "\n",
      "Phone number 5:\n",
      "Enter the manufacturer: AAAAAAAAAA\n",
      "Enter the model number: bbbb\n",
      "Enter the retail price: 10000\n",
      "\n",
      "Here is the data you entered:\n",
      "Tesla\n",
      "25342\n",
      "5.0\n",
      "\n",
      "Sexy Phone\n",
      "4256\n",
      "1.0\n",
      "\n",
      "Samsung\n",
      "5483209\n",
      "0.5\n",
      "\n",
      "McDonalds\n",
      "Big Mac\n",
      "4.5\n",
      "\n",
      "AAAAAAAAAA\n",
      "bbbb\n",
      "10000.0\n",
      "\n"
     ]
    }
   ],
   "source": [
    "#Storing Objects in a List\n",
    "class CellPhone:\n",
    "    def __init__(self, manufact, model, price):\n",
    "        self.__manufact = manufact\n",
    "        self.__model = model\n",
    "        self.__retail_price = price\n",
    "        \n",
    "    #The set_manufact method accepts an argument for the phone's manufacturer\n",
    "    def set_manufact(self, model):\n",
    "        self.__model = model\n",
    "        \n",
    "    #The set_model method accepts an argument for the phone's model number\n",
    "    def set_model(self, model):\n",
    "        self.__model = model\n",
    "        \n",
    "    #The set_retail_price method accepts an argument for the phone's retail price\n",
    "    def set_retail_price(self, price):\n",
    "        self.__retail_price = price\n",
    "        \n",
    "    #The get_manufact method returns the phone's manufacturer\n",
    "    def get_manufact(self):\n",
    "        return self.__manufact\n",
    "    \n",
    "    #The get_model method returns the phone's model number\n",
    "    def get_model(self):\n",
    "        return self.__model\n",
    "    \n",
    "    #The get_retail_price method returns the phone's retail price\n",
    "    def get_retail_price(self):\n",
    "        return self.__retail_price\n",
    "\n",
    "def main():\n",
    "    phones = make_list()\n",
    "    print('Here is the data you entered:')\n",
    "    display_list(phones)\n",
    "    \n",
    "#The make_list() gets data from the user for five phones. The function returns a list of CellPhones objects containing data\n",
    "def make_list():\n",
    "    phone_list = []\n",
    "    \n",
    "    #Add five Cellphone objects to the list\n",
    "    print('Enter the data for five phones.')\n",
    "    for count in range(1,6):\n",
    "        print('Phone number '+ str(count) + ':')\n",
    "        man = input('Enter the manufacturer: ')\n",
    "        mod = input('Enter the model number: ')\n",
    "        retail = float(input('Enter the retail price: '))\n",
    "        print()\n",
    "        \n",
    "        #Create a new Cell Phone objects in memory and assign to new variable\n",
    "        phone = CellPhone(man, mod, retail)\n",
    "        \n",
    "        #Add the object to the list\n",
    "        phone_list.append(phone)\n",
    "    \n",
    "    #Return the list\n",
    "    return phone_list\n",
    "\n",
    "#The display_list function accepts a list containing CellPhone objects as an argument and displays the data stored\n",
    "def display_list(phone_list):\n",
    "    for item in phone_list:\n",
    "        print(item.get_manufact())\n",
    "        print(item.get_model())\n",
    "        print(item.get_retail_price())\n",
    "        print()\n",
    "        \n",
    "main()"
   ]
  },
  {
   "cell_type": "code",
   "execution_count": 166,
   "metadata": {},
   "outputs": [],
   "source": [
    "#Passing Objects as Arguments\n",
    "#This show_coin_status accepts Coin object as an argument\n",
    "def show_coint_status(coin_obj):\n",
    "    print('This side of the coin is up:',coin_obj.get_sideup())\n",
    "    \n",
    "#Example of how we might create a Coin object then pass it as an argument to the show_coin_status function\n",
    "#my_coin = coin.Coin()\n",
    "#show_coin_status(my_coin)\n",
    "\n",
    "#When you pass a object as an argument, the thing that is passed into the parameter variable is a reference to the object.\n",
    "#As a result, the function or method that recieves the object as an argument has access to the actual object\n",
    "def flip(coin_obj):\n",
    "    coin_obj.toss()"
   ]
  },
  {
   "cell_type": "code",
   "execution_count": 168,
   "metadata": {},
   "outputs": [
    {
     "name": "stdout",
     "output_type": "stream",
     "text": [
      "Enter the manufacturer: Mann Co\n",
      "Enter the model number: 426322\n",
      "Enter the retail price: 499\n",
      "Enter more phone data? (y/n): n\n",
      "The data was written to cellphones.dat\n"
     ]
    }
   ],
   "source": [
    "#Pickling Objects (serializing objects into bytes for later retrieval)\n",
    "import pickle\n",
    "FILENAME = 'cellphones.dat'\n",
    "def main():\n",
    "    #Initialize a variable to control the loop\n",
    "    again = 'y'\n",
    "    \n",
    "    #Open a file\n",
    "    output_file = open(FILENAME, 'wb')\n",
    "    \n",
    "    #Get data from the user\n",
    "    while again.lower() == 'y':\n",
    "        #Get cell phone data\n",
    "        man = input('Enter the manufacturer: ')\n",
    "        mod = input('Enter the model number: ')\n",
    "        retail = float(input('Enter the retail price: '))\n",
    "        \n",
    "        #Create a Cellphone object\n",
    "        phone = CellPhone(man, mod, retail)\n",
    "        \n",
    "        #Pickle the object and write it to the file\n",
    "        pickle.dump(phone, output_file)\n",
    "        \n",
    "        #Get more data?\n",
    "        again = input('Enter more phone data? (y/n): ')\n",
    "        \n",
    "    #Close the file\n",
    "    output_file.close()\n",
    "    print('The data was written to', FILENAME)\n",
    "    \n",
    "main()"
   ]
  },
  {
   "cell_type": "code",
   "execution_count": 169,
   "metadata": {},
   "outputs": [
    {
     "name": "stdout",
     "output_type": "stream",
     "text": [
      "Manufacturer: Mann Co\n",
      "Model Number: 426322\n",
      "Retail Price: $499.00\n",
      "\n"
     ]
    }
   ],
   "source": [
    "#Unpickling objects\n",
    "import pickle\n",
    "FILENAME = 'cellphones.dat'\n",
    "\n",
    "def main():\n",
    "    end_of_file = False\n",
    "    \n",
    "    #Open the file\n",
    "    input_file = open(FILENAME, 'rb')\n",
    "    \n",
    "    #Read to the end of the file\n",
    "    while not end_of_file:\n",
    "        try:\n",
    "            #Unpickle\n",
    "            phone = pickle.load(input_file)\n",
    "            \n",
    "            #Display the data\n",
    "            display_data(phone)\n",
    "        except EOFError:\n",
    "            #Set flag to indicate the end of file has been reached\n",
    "            end_of_file = True\n",
    "    \n",
    "    #Close\n",
    "    input_file.close()\n",
    "    \n",
    "def display_data(phone):\n",
    "    print('Manufacturer:', phone.get_manufact())\n",
    "    print('Model Number:', phone.get_model())\n",
    "    print('Retail Price: $', format(phone.get_retail_price(), ',.2f'), sep='')\n",
    "    print()\n",
    "main()"
   ]
  },
  {
   "cell_type": "code",
   "execution_count": 174,
   "metadata": {},
   "outputs": [
    {
     "name": "stdout",
     "output_type": "stream",
     "text": [
      "\n",
      "Menu\n",
      "----------------------\n",
      "1. Look up a contact\n",
      "2. Add a new contact\n",
      "3. Change an existing contact\n",
      "4. Delete a contact\n",
      "5. Quit the program\n",
      "\n",
      "Enter your choice: 2\n",
      "Name: Johnny Guitar\n",
      "Phone: 8453331111\n",
      "Email: myjohnnyguitar@sadsolo.com\n",
      "The entry has been added.\n",
      "\n",
      "Menu\n",
      "----------------------\n",
      "1. Look up a contact\n",
      "2. Add a new contact\n",
      "3. Change an existing contact\n",
      "4. Delete a contact\n",
      "5. Quit the program\n",
      "\n",
      "Enter your choice: 1\n",
      "Enter a name: Johnny Guitar\n",
      "Name: Johnny Guitar\n",
      "Phone: 8453331111\n",
      "Email: myjohnnyguitar@sadsolo.com\n",
      "\n",
      "Menu\n",
      "----------------------\n",
      "1. Look up a contact\n",
      "2. Add a new contact\n",
      "3. Change an existing contact\n",
      "4. Delete a contact\n",
      "5. Quit the program\n",
      "\n",
      "Enter your choice: 5\n"
     ]
    }
   ],
   "source": [
    "#Storing Objects in a Dictionary\n",
    "#Example: Storing contact information as objects within dictionary\n",
    "class Contact:\n",
    "    def __init__(self, name, phone, email):\n",
    "        self.__name = name\n",
    "        self.__phone = phone\n",
    "        self.__email = email\n",
    "        \n",
    "    def set_name(self, name):\n",
    "        self.__name = name\n",
    "        \n",
    "    def set_email(self, email):\n",
    "        self.__email = email\n",
    "        \n",
    "    def get_name(self):\n",
    "        return self.__name\n",
    "\n",
    "    def get_phone(self):\n",
    "        return self.__phone\n",
    "    \n",
    "    def get_email(self):\n",
    "        return self.__email\n",
    "    \n",
    "    def __str__(self):\n",
    "        return \"Name: \" + self.__name + \"\\nPhone: \" + self.__phone + \"\\nEmail: \" + self.__email\n",
    "    \n",
    "import pickle\n",
    "LOOK_UP = 1\n",
    "ADD = 2\n",
    "CHANGE = 3\n",
    "DELETE = 4\n",
    "QUIT = 5\n",
    "\n",
    "#Global constant for the filename\n",
    "FILENAME = 'contacts.dat'\n",
    "\n",
    "def main():\n",
    "    #Load existing contact dictionary and assign it to mycontacts\n",
    "    mycontacts = load_contacts()\n",
    "    \n",
    "    #Initialize a variable for the user's choice\n",
    "    choice = 0\n",
    "    \n",
    "    #Process menu selections until the user wants to quit the program\n",
    "    while choice != QUIT:\n",
    "        choice = get_menu_choice()\n",
    "        if choice == LOOK_UP:\n",
    "            look_up(mycontacts)\n",
    "        elif choice == ADD:\n",
    "            add(mycontacts)\n",
    "        elif choice == CHANGE:\n",
    "            change(mycontacts)\n",
    "        elif choice == DELETE:\n",
    "            delete(mycontacts)\n",
    "            \n",
    "    #Save mycontacts dictionary to file\n",
    "    save_contacts(mycontacts)\n",
    "\n",
    "def load_contacts():\n",
    "    try:\n",
    "        #Open the contacts.dat file\n",
    "        input_file = open(FILENAME, 'rb')\n",
    "        \n",
    "        #Unpickle the dictionary\n",
    "        contact_dct = pickle.load(input_file)\n",
    "        \n",
    "        #Close the phone_inventory.dat file\n",
    "        input_file.close()\n",
    "    except IOError:\n",
    "        #Could not open the file, so create an empty dictionary\n",
    "        contact_dct = {}\n",
    "    \n",
    "    #return the dictionary\n",
    "    return contact_dct\n",
    "\n",
    "def get_menu_choice():\n",
    "    print()\n",
    "    print('Menu')\n",
    "    print('----------------------')\n",
    "    print('1. Look up a contact')\n",
    "    print('2. Add a new contact')\n",
    "    print('3. Change an existing contact')\n",
    "    print('4. Delete a contact')\n",
    "    print('5. Quit the program')\n",
    "    print()\n",
    "    \n",
    "    #Get the user choice\n",
    "    choice = int(input('Enter your choice: '))\n",
    "    \n",
    "    #Validate\n",
    "    while choice < LOOK_UP or choice > QUIT:\n",
    "        choice = int(input('Enter a valid choice: '))\n",
    "        \n",
    "    return choice\n",
    "\n",
    "def look_up(mycontacts):\n",
    "    name = input('Enter a name: ')\n",
    "    print(mycontacts.get(name, 'That name is not found.'))\n",
    "    \n",
    "def add(mycontacts):\n",
    "    #Get info\n",
    "    name = input('Name: ')\n",
    "    phone = input('Phone: ')\n",
    "    email = input('Email: ')\n",
    "    \n",
    "    #Create a Contact object named entry\n",
    "    entry = Contact(name, phone, email)\n",
    "    \n",
    "    #If the name does not exist in dict, add it as a key with its entry object.\n",
    "    if name not in mycontacts:\n",
    "        mycontacts[name] = entry\n",
    "        print('The entry has been added.')\n",
    "    else:\n",
    "        print('That name already exists.')\n",
    "        \n",
    "def change(mycontacts):\n",
    "    #Get name to lookup\n",
    "    name = input('Enter a name: ')\n",
    "    \n",
    "    if name in mycontacts:\n",
    "        phone = input('Enter the new phone number: ')\n",
    "        email = input('Enter the new email address: ')\n",
    "        #Create a contact object named entry\n",
    "        entry = Contact(name, phone, email)\n",
    "        \n",
    "        #Update the entry\n",
    "        mycontacts[name] = entry\n",
    "        print('Information updated.')\n",
    "    else:\n",
    "        print('That name is not found.')\n",
    "        \n",
    "def delete(mycontacts):\n",
    "    name = input('Enter a name: ')\n",
    "    \n",
    "    #If name found, delete\n",
    "    if name in mycontacts:\n",
    "        del mycontacts[name]\n",
    "        print('Entry deleted.')\n",
    "    else:\n",
    "        print('That name is not found.')\n",
    "\n",
    "def save_contacts(mycontacts):\n",
    "    output_file = open(FILENAME, 'wb')\n",
    "    \n",
    "    #pickle it\n",
    "    pickle.dump(mycontacts, output_file)\n",
    "    output_file.close()\n",
    "main()"
   ]
  },
  {
   "cell_type": "code",
   "execution_count": 178,
   "metadata": {},
   "outputs": [],
   "source": [
    "#TECHNIQUES FOR DESIGNING CLASSES\n",
    "#The Unified Modeling Language (UML) = provides a set of standard diagrams for graphically depicting object-oriented systems\n",
    "#This cannot really be displayed in juptyer, see textbook page 620.\n",
    "\n",
    "#Finding classes in a problem:\n",
    "#A simple and popular way involves these steps:\n",
    "#1. Get a written description of the problem domain\n",
    "#2. Identify all the nouns (pronouns, noun phrases) in description. Each is a potential class\n",
    "#3. Refine the list to include only the classes that are relevant to the problem"
   ]
  },
  {
   "cell_type": "code",
   "execution_count": 179,
   "metadata": {},
   "outputs": [],
   "source": [
    "#EXAMPLE: Joe's Auto Shop\n",
    "#Joe writes the following description:\n",
    "#Joe’s Automotive Shop services foreign cars and specializes in servicing cars made by\n",
    "#Mercedes, Porsche, and BMW. When a customer brings a car to the shop, the manager gets the\n",
    "#customer’s name, address, and telephone number. The manager then determines the make,\n",
    "#model, and year of the car and gives the customer a service quote. The service quote shows the\n",
    "#estimated parts charges, estimated labor charges, sales tax, and total estimated charges."
   ]
  },
  {
   "cell_type": "code",
   "execution_count": 180,
   "metadata": {},
   "outputs": [],
   "source": [
    "#1. Get a written description of the problem domain:\n",
    "#PROBLEM DOMAIN = the set of real-world objects, parties, and major-events related to the problem\n",
    "#if you do not understand the nature of the problem, have an expert write it for you.\n",
    "#\n",
    "#In the example, our problem domain should include and vehicles, machines, or products\n",
    "#Any role played by any person, such as manager, employee, customer, teacher, student\n",
    "#The results of a business event, such as a customer order, or in this case a service qoute\n",
    "#Recordkeeping items, such as customer histories and payroll records"
   ]
  },
  {
   "cell_type": "code",
   "execution_count": 181,
   "metadata": {},
   "outputs": [],
   "source": [
    "#2. Identify all the nouns\n",
    "#In the example we have...\n",
    "#address, BMW, car, cars, customer, estimated labor charges, estimated parts charges, foriegn cars,\n",
    "#Joe's Automotive Shop, make, manager, model, name, Porshe, sales tax, shop, telephone number, total estimated charges, year"
   ]
  },
  {
   "cell_type": "code",
   "execution_count": 182,
   "metadata": {},
   "outputs": [],
   "source": [
    "#3. Refine the list of nouns\n",
    "#The nouns we see in 2. are candidates for classes. It might not be necessary to make them all classes.\n",
    "#hence, we refine the list to include only the reasons that a noun can be eliminated from the list of potential classes\n",
    "#a. Some of the nouns really mean the same thing. So car can generalize the set of cars in the list.\n",
    "#b. Joe's Autoshop can just be shop, so we elimate that \n",
    "#c. Some nouns represent items that we do not need to be concerned with in order to solve our problem\n",
    "#c. Our program just wants to make individual service qoutes, so we can ignore company-wide info like managers\n",
    "#d. Some nouns represent values that can be assigned to a variable and do not require a class\n",
    "#d. Determine whether a noun has data attributes and methods by asking:\n",
    "#d. 1. Would you use a group of related values to represent the item's state?\n",
    "#d. 2. Are there any obvious actions to be performed by the item?\n",
    "#d. if both answers are no, you can probably make this noun a value stored in a variable\n",
    "#d. In Joe's case, we'd eliminate address, estimated labor charges, make, model, estimated parts, name, sales, tax, telephones,\n",
    "#d. total estimated charges, and year\n",
    "#In the end, we have 3 classes; Car, Customer, and ServiceQuote."
   ]
  },
  {
   "cell_type": "code",
   "execution_count": 183,
   "metadata": {},
   "outputs": [],
   "source": [
    "#Identify the Class's Responsibilities:\n",
    "# - The things that the class is responsible for knowing\n",
    "# - The actions that the class is responsible for doing"
   ]
  },
  {
   "cell_type": "code",
   "execution_count": 185,
   "metadata": {},
   "outputs": [],
   "source": [
    "#The Customer Class\n",
    "# what must the Customer class know?\n",
    "# name, address, telephone number\n",
    "# what must the Customer class do?\n",
    "# initialize an object of the class, set and return name, address, and telephone number\n",
    "\n",
    "class Customer:\n",
    "    def __init__(self, name, address, phone):\n",
    "        self.__name = name\n",
    "        self.__address = address\n",
    "        self.__phone = phone\n",
    "    \n",
    "    def set_name(self, name):\n",
    "        self.__name = name\n",
    "        \n",
    "    def set_address(self, address):\n",
    "        self.__address = address\n",
    "    \n",
    "    def set_phone(self, phone):\n",
    "        self.__phone = phone\n",
    "        \n",
    "    def get_name(self):\n",
    "        return self.__name\n",
    "    \n",
    "    def get_address(self):\n",
    "        return self.__address\n",
    "    \n",
    "    def get_phone(self):\n",
    "        return self.__phone        "
   ]
  },
  {
   "cell_type": "code",
   "execution_count": 186,
   "metadata": {},
   "outputs": [],
   "source": [
    "#The Car Class\n",
    "#what must the Car class know?\n",
    "# car make, model, year\n",
    "#What must the car class do?\n",
    "# initialize object of the class, set and return car make, model, and year\n",
    "\n",
    "class Car:\n",
    "    def __init__(self, make, model, year):\n",
    "        self.__make = make\n",
    "        self.__model = model\n",
    "        self.__year = year\n",
    "        \n",
    "    def set_make(self, make):\n",
    "        self.__make = make\n",
    "        \n",
    "    def set_model(self, model):\n",
    "        self.__model = model\n",
    "        \n",
    "    def set_year(self, model):\n",
    "        self.__year = year\n",
    "        \n",
    "    def get_make(self):\n",
    "        return self.__make\n",
    "    \n",
    "    def get_model(self):\n",
    "        return self.__model\n",
    "    \n",
    "    def get_year(self):\n",
    "        return self.__year"
   ]
  },
  {
   "cell_type": "code",
   "execution_count": 187,
   "metadata": {},
   "outputs": [],
   "source": [
    "#The ServiceQuote Class\n",
    "#what must the ServiceQuote class know?\n",
    "# charges of estimated parts, labor, and sales tax. Also total estimated charges.\n",
    "#what must the ServiceQuote class do?\n",
    "# init, set and return charges, and calculate total estimated charges and sales tax.\n",
    "TAX_RATE = .05\n",
    "class ServiceQuote:\n",
    "    def __init__(self, pcharge, lcharge):\n",
    "        self.__parts_charges = pcharge\n",
    "        self.__labor_charges = lcharge\n",
    "        \n",
    "    def set_parts_charges(self, pcharge):\n",
    "        self.__parts_charges = pcharge\n",
    "        \n",
    "    def set_labor_charges(self, lcharge):\n",
    "        self.__labor_charges = lcharge\n",
    "        \n",
    "    def get_parts_charges(self):\n",
    "        return self.__parts_charges\n",
    "    \n",
    "    def get_labor_charges(self):\n",
    "        return self.__labor_charges\n",
    "    \n",
    "    def get_sales_tax(self):\n",
    "        return __parts_charges * TAX_RATE\n",
    "    \n",
    "    def get_total_charges(self):\n",
    "        return __parts_charges + __labor_charges + (__parts_charges * TAX_RATE)"
   ]
  },
  {
   "cell_type": "code",
   "execution_count": 188,
   "metadata": {},
   "outputs": [],
   "source": [
    "#It's important to know that OOP is an iterative process and may take several attempts from scratch to identify\n",
    "#all the classes that you need and what they do. You may mid-way see a much better way to design it and consequently improve."
   ]
  },
  {
   "cell_type": "code",
   "execution_count": 191,
   "metadata": {},
   "outputs": [],
   "source": [
    "#1 go.my_car"
   ]
  },
  {
   "cell_type": "code",
   "execution_count": 190,
   "metadata": {},
   "outputs": [],
   "source": [
    "#2\n",
    "class Book:\n",
    "    def __init__(self, title, author, pub):\n",
    "        self.__title = title\n",
    "        self.__author = author\n",
    "        self.__pub = pub\n",
    "        \n",
    "    def set_title(self, title):\n",
    "        self.__title = title\n",
    "        \n",
    "    def set_author(self, author):\n",
    "        self.__author = author\n",
    "        \n",
    "    def set_pub(self, pub):\n",
    "        self.__pub = pub\n",
    "        \n",
    "    def get_title(self):\n",
    "        return self.__title\n",
    "    \n",
    "    def get_author(self):\n",
    "        return self.__author\n",
    "    \n",
    "    def get_pub(self):\n",
    "        return self.__pub"
   ]
  },
  {
   "cell_type": "code",
   "execution_count": 1,
   "metadata": {},
   "outputs": [],
   "source": [
    "#3\n",
    "SAVINGS_INTEREST_RATE = 1.05\n",
    "CHECKING_INTEREST_RATE = 1.02\n",
    "MM_INTEREST_RATE = 1.03\n",
    "\n",
    "class Savings:\n",
    "    def __init__(self, balance, interest):\n",
    "        self.__balance = balance\n",
    "        self.__interest = interest\n",
    "        \n",
    "    def deposit(self, deposit):\n",
    "        self.__balance += deposit\n",
    "        \n",
    "    def withdraw(self, amount):\n",
    "        if self.__balance >= amount:\n",
    "            self.__balance -= amount\n",
    "        else:\n",
    "            print('Error: Insufficient funds')\n",
    "            \n",
    "    def interest(self):\n",
    "        self.__balance *= SAVINGS_INTEREST_RATE\n",
    "    \n",
    "class Checking:\n",
    "    def __init__(self, balance, interest):\n",
    "        self.__balance = balance\n",
    "        self.__interest = interest\n",
    "    \n",
    "    def deposit(self, deposit):\n",
    "        self.__balance += deposit\n",
    "    \n",
    "    def withdraw(self, amount):\n",
    "        if self.__balance >= amount:\n",
    "            self.__balance -= amount\n",
    "        else:\n",
    "            print('Error: Insufficient funds')\n",
    "            \n",
    "    def interest(self):\n",
    "        self.__balance *= CHECKING_INTEREST_RATE\n",
    "        \n",
    "class MoneyMarket:\n",
    "    def __init__(self, balance, interest):\n",
    "        self.__balance = balance\n",
    "        self.__interest = interest\n",
    "        \n",
    "    def deposit(self, deposit):\n",
    "        self.__balance += deposit\n",
    "        \n",
    "    def withdraw(self, amount):\n",
    "        if self.__balance >= amount:\n",
    "            self.__balance -= amount\n",
    "        else:\n",
    "            print('Error: Insufficient funds')\n",
    "            \n",
    "    def interest(self):\n",
    "        self.__balance *= MM_INTEREST_RATE"
   ]
  },
  {
   "cell_type": "code",
   "execution_count": 4,
   "metadata": {},
   "outputs": [
    {
     "name": "stdout",
     "output_type": "stream",
     "text": [
      "Enter your pet form:\n",
      "Name: Cody\n",
      "Animal Type: Dog\n",
      "Age: 6\n",
      "Name: Cody\n",
      "Type: Dog\n",
      "Age 6\n"
     ]
    }
   ],
   "source": [
    "#1 Pet Class\n",
    "class Pet:\n",
    "    def __init__(self, name, animal, age):\n",
    "        self.__name = name\n",
    "        self.__animal = animal\n",
    "        self.__age = age\n",
    "        \n",
    "    def set_name(self, name):\n",
    "        self.__name = name\n",
    "        \n",
    "    def set_animal_type(self, animal):\n",
    "        self.__animal = animal\n",
    "        \n",
    "    def set_age(self, age):\n",
    "        self.__age = age\n",
    "        \n",
    "    def get_name(self):\n",
    "        return self.__name\n",
    "    \n",
    "    def get_animal(self):\n",
    "        return self.__animal\n",
    "    \n",
    "    def get_age(self):\n",
    "        return self.__age\n",
    "    \n",
    "def main():\n",
    "    print('Enter your pet form:')\n",
    "    name = input('Name: ')\n",
    "    animal = input('Animal Type: ')\n",
    "    age = input('Age: ')\n",
    "    my_pet = Pet(name, animal, age)\n",
    "    print('Name:', my_pet.get_name())\n",
    "    print('Type:',my_pet.get_animal())\n",
    "    print('Age',my_pet.get_age())\n",
    "main()"
   ]
  },
  {
   "cell_type": "code",
   "execution_count": 12,
   "metadata": {},
   "outputs": [
    {
     "name": "stdout",
     "output_type": "stream",
     "text": [
      "Year: 1997\n",
      "Make: Honda Civic\n",
      "5\n",
      "10\n",
      "15\n",
      "20\n",
      "25\n",
      "20\n",
      "15\n",
      "10\n",
      "5\n",
      "0\n"
     ]
    }
   ],
   "source": [
    "#Car Class\n",
    "class Car:\n",
    "    def __init__(self, year, make, speed):\n",
    "        self.__year = year\n",
    "        self.__make = make\n",
    "        self.__speed = 0\n",
    "        \n",
    "    def accelerate(self):\n",
    "        self.__speed += 5\n",
    "    \n",
    "    def brake(self):\n",
    "        if self.__speed >= 5:\n",
    "            self.__speed -= 5\n",
    "        else:\n",
    "            self.__speed = 0\n",
    "        \n",
    "    def get_speed(self):\n",
    "        return self.__speed\n",
    "\n",
    "def main():\n",
    "    year = 1997\n",
    "    print('Year:',year)\n",
    "    make = 'Honda Civic'\n",
    "    print('Make:',make)\n",
    "    car = Car(year, make, 0)\n",
    "    \n",
    "    for i in range(5):\n",
    "        car.accelerate()\n",
    "        print(car.get_speed())\n",
    "        \n",
    "    for i in range(5):\n",
    "        car.brake()\n",
    "        print(car.get_speed())\n",
    "        \n",
    "main()"
   ]
  },
  {
   "cell_type": "code",
   "execution_count": 15,
   "metadata": {},
   "outputs": [
    {
     "name": "stdout",
     "output_type": "stream",
     "text": [
      "Name: Alex\n",
      "Address: 1 Jump Street\n",
      "Age: 8456661919\n",
      "Phone: 8456661919\n",
      "Name: Johnny\n",
      "Address: 3 Piss Ave\n",
      "Age: 246\n",
      "Phone: 1\n",
      "Name: Dude\n",
      "Address: 4 Oak Lane\n",
      "Age: 1\n",
      "Phone: 344253\n",
      "Alex\n",
      "1 Jump Street\n",
      "8456661919\n",
      "8456661919\n",
      "\n",
      "Johnny\n",
      "3 Piss Ave\n",
      "246\n",
      "1\n",
      "\n",
      "Dude\n",
      "4 Oak Lane\n",
      "1\n",
      "344253\n",
      "\n"
     ]
    }
   ],
   "source": [
    "#Personal Information Class\n",
    "class Information:\n",
    "    def __init__(self, name, address, age, phone):\n",
    "        self.__name = name\n",
    "        self.__address = address\n",
    "        self.__age = age\n",
    "        self.__phone = phone\n",
    "        \n",
    "    def set_name(self, name):\n",
    "        self.__name = name\n",
    "        \n",
    "    def set_address(self, address):\n",
    "        self.__address = address\n",
    "        \n",
    "    def set_age(self, age):\n",
    "        self.__age = age\n",
    "        \n",
    "    def set_phone(self, phone):\n",
    "        self.__phone = phone\n",
    "        \n",
    "    def get_name(self):\n",
    "        return self.__name\n",
    "    \n",
    "    def get_address(self):\n",
    "        return self.__address\n",
    "    \n",
    "    def get_age(self):\n",
    "        return self.__age\n",
    "    \n",
    "    def get_phone(self):\n",
    "        return self.__phone\n",
    "    \n",
    "def main():\n",
    "    people = []\n",
    "    for i in range(3):\n",
    "        name = input('Name: ')\n",
    "        address = input('Address: ')\n",
    "        age = int(input('Age: '))\n",
    "        phone = input('Phone: ')\n",
    "        i = Information(name, address, age, phone)\n",
    "        people.append(i)\n",
    "    \n",
    "    print('INFORMATION')\n",
    "    for person in people:\n",
    "        print()\n",
    "        print(person.get_name())\n",
    "        print(person.get_address())\n",
    "        print(person.get_age())\n",
    "        print(person.get_phone())\n",
    "        print()\n",
    "main()"
   ]
  },
  {
   "cell_type": "code",
   "execution_count": 26,
   "metadata": {},
   "outputs": [
    {
     "name": "stdout",
     "output_type": "stream",
     "text": [
      "Name\t\t\tID\t\tDepartment\t\tTitle\n",
      "Susan Meyers\t\t47899\t\tAccounting\t\tVice President\n",
      "Mark Jones\t\t39119\t\tIT\t\tProgrammer\n",
      "Joy Rogers\t\t81774\t\tManufacturing\t\tEngineer\n"
     ]
    }
   ],
   "source": [
    "#Employee Class\n",
    "class Employee:\n",
    "    def __init__(self, name, ID, department, title):\n",
    "        self.__name = name\n",
    "        self.__ID = ID\n",
    "        self.__department = department\n",
    "        self.__title = title\n",
    "        \n",
    "    def set_name(self, name):\n",
    "        self.__name = name\n",
    "        \n",
    "    def set_ID(self, ID):\n",
    "        self.__ID = ID\n",
    "    \n",
    "    def set_department(self, department):\n",
    "        self.__department = department\n",
    "        \n",
    "    def set_title(self, title):\n",
    "        self.__title = title\n",
    "        \n",
    "    def get_name(self):\n",
    "        return self.__name\n",
    "    \n",
    "    def get_ID(self):\n",
    "        return self.__ID\n",
    "    \n",
    "    def get_department(self):\n",
    "        return self.__department\n",
    "    \n",
    "    def get_title(self):\n",
    "        return self.__title\n",
    "    \n",
    "def main():\n",
    "    employees = []\n",
    "    \n",
    "    #Susan\n",
    "    name = 'Susan Meyers'\n",
    "    ID = 47899\n",
    "    department = 'Accounting'\n",
    "    title = 'Vice President'\n",
    "    sm47899 = Employee(name, ID, department, title)\n",
    "    employees.append(sm47899)\n",
    "    \n",
    "    #Mark\n",
    "    name = 'Mark Jones'\n",
    "    ID = 39119\n",
    "    department = 'IT'\n",
    "    title = 'Programmer'\n",
    "    mj39119 = Employee(name, ID, department, title)\n",
    "    employees.append(mj39119)\n",
    "    \n",
    "    #Joy\n",
    "    name = 'Joy Rogers'\n",
    "    ID = 81774\n",
    "    department = 'Manufacturing'\n",
    "    title = 'Engineer'\n",
    "    jr81774 = Employee(name, ID, department, title)\n",
    "    employees.append(jr81774)\n",
    "    \n",
    "    #Print \n",
    "    print('Name\\t\\t\\tID\\t\\tDepartment\\t\\tTitle')\n",
    "    for employee in employees:\n",
    "        print(employee.get_name(), employee.get_ID(), employee.get_department(), employee.get_title(), sep='\\t\\t')\n",
    "main()"
   ]
  },
  {
   "cell_type": "code",
   "execution_count": 28,
   "metadata": {},
   "outputs": [
    {
     "name": "stdout",
     "output_type": "stream",
     "text": [
      "Enter item description: Jacket\n",
      "Enter current inventory: 12\n",
      "Enter current price: 59.95\n",
      "Enter item description: Jeans\n",
      "Enter current inventory: 40\n",
      "Enter current price: 34.95\n",
      "Enter item description: Shirt\n",
      "Enter current inventory: 20\n",
      "Enter current price: 24.95\n",
      "Description\t\tUnits\t\tPrice\n",
      "Jacket\t\t12\t\t59.95\n",
      "Jeans\t\t40\t\t34.95\n",
      "Shirt\t\t20\t\t24.95\n"
     ]
    }
   ],
   "source": [
    "#Retail Class\n",
    "class RetailItem:\n",
    "    #Atrributes are item description, units in inventory, and price\n",
    "    def __init__(self, item_des, inv, price):\n",
    "        self.__item_des = item_des\n",
    "        self.__inv = inv\n",
    "        self.__price = price\n",
    "        \n",
    "    def set_item_des(self, item_des):\n",
    "        self.__item_des = item_des\n",
    "        \n",
    "    def set_inv(self, inv):\n",
    "        self.__inv = inv\n",
    "        \n",
    "    def set_price(self, price):\n",
    "        self.__price = price \n",
    "        \n",
    "    def get_item_des(self):\n",
    "        return self.__item_des\n",
    "    \n",
    "    def get_inv(self):\n",
    "        return self.__inv\n",
    "    \n",
    "    def get_price(self):\n",
    "        return self.__price\n",
    "    \n",
    "def main():\n",
    "    items = []\n",
    "    for i in range(3):\n",
    "        item_des = input('Enter item description: ')\n",
    "        inv = input('Enter current inventory: ')\n",
    "        price = input('Enter current price: ')\n",
    "        i = RetailItem(item_des, inv, price)\n",
    "        items.append(i)\n",
    "        \n",
    "    print('Description','Units','Price', sep='\\t\\t')\n",
    "    for item in items:\n",
    "        print(item.get_item_des(), item.get_inv(), item.get_price(),sep='\\t\\t')\n",
    "main()"
   ]
  },
  {
   "cell_type": "code",
   "execution_count": 41,
   "metadata": {},
   "outputs": [
    {
     "name": "stdout",
     "output_type": "stream",
     "text": [
      "PATIENT FORM\n",
      "John Jacob Jinkerheimersmith\n",
      "100 Lol Lane\n",
      "Pee Pee Creek, NY\n",
      "12588\n",
      "8451113853\n",
      "Daddy: 8452842848\n",
      "\n",
      "Procedure #1\n",
      "Physical Exam\n",
      "8/20/2021\n",
      "Dr. Irvine\n",
      "250\n",
      "\n",
      "Procedure #2\n",
      "X-Ray\n",
      "8/21/2021\n",
      "Dr. Jamison\n",
      "500\n",
      "\n",
      "Procedure #3\n",
      "Blood Test\n",
      "8/22/2021\n",
      "Dr. Smith\n",
      "200\n"
     ]
    }
   ],
   "source": [
    "#Patient Charges\n",
    "class Patient:\n",
    "    def __init__(self, fst_name, mid_name, lst_name, address, city, state, ZIP, phone, emg_contact, emg_phone):\n",
    "        self.__fst_name = fst_name\n",
    "        self.__mid_name = mid_name\n",
    "        self.__lst_name = lst_name\n",
    "        self.__address = address\n",
    "        self.__city = city\n",
    "        self.__state = state\n",
    "        self.__ZIP = ZIP\n",
    "        self.__phone = phone\n",
    "        self.__emg_contact = emg_contact\n",
    "        self.__emg_phone = emg_phone\n",
    "        \n",
    "    def set_name(self, fst_name, mid_name, lst_name):\n",
    "        self.__fst_name = fst_name\n",
    "        self.__mid_name = mid_name\n",
    "        self.__lst_name = lst_name\n",
    "        \n",
    "    def set_address(self, address, city, state, ZIP):\n",
    "        self.__address = address\n",
    "        self.__city = city\n",
    "        self.__state = state\n",
    "        self.__ZIP = ZIP\n",
    "        \n",
    "    def set_phone(self, phone):\n",
    "        self.__phone = phone\n",
    "        \n",
    "    def set_emergency_contacts(self, emg_contact, emg_phone):\n",
    "        self.__emg_contact = emg_contact\n",
    "        self.__emg_phone = emg_phone\n",
    "        \n",
    "    def get_name(self):\n",
    "        full_name = self.__fst_name + ' ' + self.__mid_name + ' ' + self.__lst_name\n",
    "        return full_name\n",
    "    \n",
    "    def get_address(self):\n",
    "        full_address = self.__address + '\\n' + self.__city + ', ' + self.__state + '\\n' + self.__ZIP\n",
    "        return full_address\n",
    "        \n",
    "    def get_phone(self):\n",
    "        return self.__phone\n",
    "    \n",
    "    def get_emergency_contacts(self):\n",
    "        emg = self.__emg_contact + ': ' + self.__emg_phone\n",
    "        return emg\n",
    "    \n",
    "class Procedure:\n",
    "    def __init__(self, name, date, practitioner, charges):\n",
    "        self.__name = name\n",
    "        self.__date = date\n",
    "        self.__practitioner = practitioner\n",
    "        self.__charges = charges\n",
    "        \n",
    "    def set_name(self, name):\n",
    "        self.__name = name\n",
    "        \n",
    "    def set_date(self, date):\n",
    "        self.__date = date\n",
    "        \n",
    "    def set_practitioner(self, practitioner):\n",
    "        self.__practitioner = practitioner\n",
    "        \n",
    "    def set_charges(self, charges):\n",
    "        self.__charges = charges\n",
    "        \n",
    "    def get_name(self):\n",
    "        return self.__name\n",
    "    \n",
    "    def get_date(self):\n",
    "        return self.__date\n",
    "    \n",
    "    def get_practitioner(self):\n",
    "        return self.__practitioner\n",
    "    \n",
    "    def get_charges(self):\n",
    "        return self.__charges\n",
    "    \n",
    "def main():\n",
    "    #Making a patient\n",
    "    print('PATIENT FORM')\n",
    "    fst_name = 'John'\n",
    "    mid_name = 'Jacob'\n",
    "    lst_name = 'Jinkerheimersmith'\n",
    "    address = '100 Lol Lane'\n",
    "    city = 'Pee Pee Creek'\n",
    "    state = 'NY'\n",
    "    ZIP = '12588'\n",
    "    phone = '8451113853'\n",
    "    emg_contact = 'Daddy'\n",
    "    emg_phone = '8452842848'\n",
    "    patient = Patient(fst_name, mid_name, lst_name, address, city, state, ZIP, phone, emg_contact, emg_phone)\n",
    "    \n",
    "    #making the procedures\n",
    "    #1\n",
    "    name = 'Physical Exam'\n",
    "    date = '8/20/2021'\n",
    "    practitioner = 'Dr. Irvine'\n",
    "    charge = 250\n",
    "    procedure1 = Procedure(name, date, practitioner, charge)\n",
    "\n",
    "    #2\n",
    "    name = 'X-Ray'\n",
    "    date = '8/21/2021'\n",
    "    practitioner = 'Dr. Jamison'\n",
    "    charge = 500\n",
    "    procedure2 = Procedure(name, date, practitioner, charge)\n",
    "    \n",
    "    #3\n",
    "    name = 'Blood Test'\n",
    "    date = '8/22/2021'\n",
    "    practitioner = 'Dr. Smith'\n",
    "    charge = 200\n",
    "    procedure3 = Procedure(name, date, practitioner, charge)\n",
    "    \n",
    "    #Display\n",
    "    print(patient.get_name())\n",
    "    print(patient.get_address())\n",
    "    print(patient.get_phone())\n",
    "    print(patient.get_emergency_contacts())\n",
    "    print()\n",
    "    print('Procedure #1')\n",
    "    print(procedure1.get_name())\n",
    "    print(procedure1.get_date())\n",
    "    print(procedure1.get_practitioner())\n",
    "    print(procedure1.get_charges())\n",
    "    print()\n",
    "    print('Procedure #2')\n",
    "    print(procedure2.get_name())\n",
    "    print(procedure2.get_date())\n",
    "    print(procedure2.get_practitioner())\n",
    "    print(procedure2.get_charges())\n",
    "    print()\n",
    "    print('Procedure #3')\n",
    "    print(procedure3.get_name())\n",
    "    print(procedure3.get_date())\n",
    "    print(procedure3.get_practitioner())\n",
    "    print(procedure3.get_charges())\n",
    "main()"
   ]
  },
  {
   "cell_type": "code",
   "execution_count": 49,
   "metadata": {},
   "outputs": [
    {
     "name": "stdout",
     "output_type": "stream",
     "text": [
      "File not found, creating new one...\n",
      "EMPLOYEE MANAGEMENT SYSTEM\n",
      "\n",
      "Menu\n",
      "----------------------\n",
      "1. Look up an ID\n",
      "2. Add a new ID\n",
      "3. Change an existing ID\n",
      "4. Delete an ID\n",
      "5. Quit the program\n",
      "\n",
      "Enter your choice: 2\n",
      "Add employee:\n",
      "Enter name: Larry\n",
      "Enter ID: 1111\n",
      "Enter department: Finance\n",
      "Enter title: Slave\n",
      "The entry has been added.\n",
      "\n",
      "Menu\n",
      "----------------------\n",
      "1. Look up an ID\n",
      "2. Add a new ID\n",
      "3. Change an existing ID\n",
      "4. Delete an ID\n",
      "5. Quit the program\n",
      "\n",
      "Enter your choice: 1\n",
      "Enter an ID: 1111\n",
      "<__main__.Employee object at 0x000001C4443C2730>\n",
      "\n",
      "Menu\n",
      "----------------------\n",
      "1. Look up an ID\n",
      "2. Add a new ID\n",
      "3. Change an existing ID\n",
      "4. Delete an ID\n",
      "5. Quit the program\n",
      "\n",
      "Enter your choice: 2\n",
      "Add employee:\n",
      "Enter name: Misty\n",
      "Enter ID: 2222\n",
      "Enter department: Marketing\n",
      "Enter title: Con\n",
      "The entry has been added.\n",
      "\n",
      "Menu\n",
      "----------------------\n",
      "1. Look up an ID\n",
      "2. Add a new ID\n",
      "3. Change an existing ID\n",
      "4. Delete an ID\n",
      "5. Quit the program\n",
      "\n",
      "Enter your choice: 3\n",
      "ID: 2222\n",
      "Name: Ooga Booga\n",
      "Department: Executive\n",
      "Title: Con\n",
      "The entry has been added.\n",
      "\n",
      "Menu\n",
      "----------------------\n",
      "1. Look up an ID\n",
      "2. Add a new ID\n",
      "3. Change an existing ID\n",
      "4. Delete an ID\n",
      "5. Quit the program\n",
      "\n",
      "Enter your choice: 4\n",
      "Enter ID: 2222\n",
      "ID deleted.\n",
      "\n",
      "Menu\n",
      "----------------------\n",
      "1. Look up an ID\n",
      "2. Add a new ID\n",
      "3. Change an existing ID\n",
      "4. Delete an ID\n",
      "5. Quit the program\n",
      "\n",
      "Enter your choice: 5\n"
     ]
    }
   ],
   "source": [
    "#Employee Management System\n",
    "import pickle\n",
    "LOOK_UP = 1\n",
    "ADD = 2\n",
    "CHANGE = 3\n",
    "DELETE = 4\n",
    "QUIT = 5\n",
    "FILENAME = 'employees.dat'\n",
    "\n",
    "class Employee:\n",
    "    def __init__(self, name, ID, department, title):\n",
    "        self.__name = name\n",
    "        self.__ID = ID\n",
    "        self.__department = department\n",
    "        self.__title = title\n",
    "        \n",
    "    def set_name(self, name):\n",
    "        self.__name = name\n",
    "        \n",
    "    def set_ID(self, ID):\n",
    "        self.__ID = ID\n",
    "    \n",
    "    def set_department(self, department):\n",
    "        self.__department = department\n",
    "        \n",
    "    def set_title(self, title):\n",
    "        self.__title = title\n",
    "        \n",
    "    def get_name(self):\n",
    "        return self.__name\n",
    "    \n",
    "    def get_ID(self):\n",
    "        return self.__ID\n",
    "    \n",
    "    def get_department(self):\n",
    "        return self.__department\n",
    "    \n",
    "    def get_title(self):\n",
    "        return self.__title\n",
    "\n",
    "def main():\n",
    "    employees = load_employees()\n",
    "    print('EMPLOYEE MANAGEMENT SYSTEM')\n",
    "    choice = 0\n",
    "    while choice != QUIT:\n",
    "        choice = get_menu_choice()\n",
    "        if choice == LOOK_UP:\n",
    "            look_up(employees)\n",
    "        elif choice == ADD:\n",
    "            add_employee(employees)\n",
    "        elif choice == CHANGE:\n",
    "            change_employee(employees)\n",
    "        elif choice == DELETE:\n",
    "            delete_employee(employees) \n",
    "    save_employees(employees)\n",
    "                 \n",
    "def get_menu_choice():\n",
    "    print()\n",
    "    print('Menu')\n",
    "    print('----------------------')\n",
    "    print('1. Look up an ID')\n",
    "    print('2. Add a new ID')\n",
    "    print('3. Change an existing ID')\n",
    "    print('4. Delete an ID')\n",
    "    print('5. Quit the program')\n",
    "    print()\n",
    "    \n",
    "    #Get the user choice\n",
    "    choice = int(input('Enter your choice: '))\n",
    "    \n",
    "    #Validate\n",
    "    while choice < LOOK_UP or choice > QUIT:\n",
    "        choice = int(input('Enter a valid choice: '))\n",
    "        \n",
    "    return choice\n",
    "\n",
    "def look_up(employees):\n",
    "    ID = input('Enter an ID: ')\n",
    "    print(employees.get(ID, 'ID not found.'))\n",
    "    \n",
    "\n",
    "def add_employee(employees):\n",
    "    print('Add employee:')\n",
    "    name = input('Enter name: ')\n",
    "    ID = input('Enter ID: ')\n",
    "    department = input('Enter department: ')\n",
    "    title = input('Enter title: ')\n",
    "    entry = Employee(name, ID, department, title)\n",
    "    if ID not in employees:\n",
    "        employees[ID] = entry\n",
    "        print('The entry has been added.')\n",
    "    else:\n",
    "        print('That ID already exists.')\n",
    "        \n",
    "    \n",
    "def change_employee(employees):\n",
    "    ID = input('ID: ')\n",
    "    if ID in employees:\n",
    "        name = input('Name: ')\n",
    "        department = input('Department: ')\n",
    "        title = input('Title: ')\n",
    "        entry = Employee(name, ID, department, title)\n",
    "        employees[ID] = entry\n",
    "        print('The entry has been added.')\n",
    "    else:\n",
    "        print('That name already exists.')\n",
    "        \n",
    "def delete_employee(employees):\n",
    "    ID = input('Enter ID: ')\n",
    "    if ID in employees:\n",
    "        del employees[ID]\n",
    "        print('ID deleted.')\n",
    "    else:\n",
    "        print('That ID is not found.')\n",
    "\n",
    "def load_employees():\n",
    "    try:\n",
    "        input_file = open(FILENAME, 'rb')\n",
    "        employees_dct = pickle.load(input_file)\n",
    "        input_file.close()\n",
    "        print('File loading...')\n",
    "    except IOError:\n",
    "        employees_dct = {}\n",
    "        print('File not found, creating new one...')\n",
    "        \n",
    "    return employees_dct\n",
    "        \n",
    "def save_employees(employees):\n",
    "    output_file = open(FILENAME, 'wb')\n",
    "    pickle.dump(employees, output_file)\n",
    "    output_file.close()\n",
    "main()"
   ]
  },
  {
   "cell_type": "code",
   "execution_count": 57,
   "metadata": {},
   "outputs": [
    {
     "name": "stdout",
     "output_type": "stream",
     "text": [
      "***Trivia Game***\n",
      "Do you manifest dominant knowledge over your adversary?\n",
      "Creating questions...\n",
      "Question: 1\n",
      "Answer 1: 1\n",
      "Answer 2: 1\n",
      "Answer 3: 1\n",
      "Answer 4: 1\n",
      "Correct (1-4): 1\n",
      "Question: 1\n",
      "Answer 1: 1\n",
      "Answer 2: 1\n",
      "Answer 3: 1\n",
      "Answer 4: 1\n",
      "Correct (1-4): 1\n",
      "Question: 1\n",
      "Answer 1: 1\n",
      "Answer 2: 1\n",
      "Answer 3: 1\n",
      "Answer 4: 1\n",
      "Correct (1-4): 1\n",
      "Question: 1\n",
      "Answer 1: 1\n",
      "Answer 2: 1\n",
      "Answer 3: 1\n",
      "Answer 4: 1\n",
      "Correct (1-4): 1\n",
      "Question: 1\n",
      "Answer 1: 1\n",
      "Answer 2: 1\n",
      "Answer 3: 1\n",
      "Answer 4: 1\n",
      "Correct (1-4): 1\n",
      "Question: 1\n",
      "Answer 1: 1\n",
      "Answer 2: 1\n",
      "Answer 3: 1\n",
      "Answer 4: 1\n",
      "Correct (1-4): 1\n",
      "Question: 1\n",
      "Answer 1: 1\n",
      "Answer 2: 1\n",
      "Answer 3: 1\n",
      "Answer 4: 1\n",
      "Correct (1-4): 1\n",
      "Question: 1\n",
      "Answer 1: 1\n",
      "Answer 2: 1\n",
      "Answer 3: 1\n",
      "Answer 4: 1\n",
      "Correct (1-4): 1\n",
      "Question: 1\n",
      "Answer 1: 1\n",
      "Answer 2: 1\n",
      "Answer 3: 1\n",
      "Answer 4: 1\n",
      "Correct (1-4): 1\n",
      "Question: 1\n",
      "Answer 1: 1\n",
      "Answer 2: 1\n",
      "Answer 3: 1\n",
      "Answer 4: 1\n",
      "Correct (1-4): 1\n",
      "Player 1:\n",
      "\n",
      "Answer (1-4): 1\n",
      "Correct!\n",
      "Player 1:\n",
      "\n",
      "Answer (1-4): 1\n",
      "Correct!\n",
      "Player 1:\n",
      "\n",
      "Answer (1-4): 1\n",
      "Correct!\n",
      "Player 1:\n",
      "\n",
      "Answer (1-4): 1\n",
      "Correct!\n",
      "Player 1:\n",
      "\n",
      "Answer (1-4): 1\n",
      "Correct!\n",
      "Player 2:\n",
      "\n",
      "Answer (1-4): 1\n",
      "Correct!\n",
      "Player 2:\n",
      "\n",
      "Answer (1-4): 2\n",
      "Incorrect!\n",
      "Player 2:\n",
      "\n",
      "Answer (1-4): 2\n",
      "Incorrect!\n",
      "Player 2:\n",
      "\n",
      "Answer (1-4): 2\n",
      "Incorrect!\n",
      "Player 2:\n",
      "\n",
      "Answer (1-4): 2\n",
      "Incorrect!\n",
      "\n",
      "FINAL SCORES:\n",
      "Player 1: 5\n",
      "Player 2: 1\n",
      "Player 1 wins!\n"
     ]
    }
   ],
   "source": [
    "#9 Trivia Game\n",
    "import random\n",
    "class Question:\n",
    "    def __init__(self, question, answer1, answer2, answer3, answer4, correct):\n",
    "        self.__question = question\n",
    "        self.__answer1 = answer1\n",
    "        self.__answer2 = answer2\n",
    "        self.__answer3 = answer3\n",
    "        self.__answer4 = answer4\n",
    "        self.__correct = correct\n",
    "        \n",
    "    #Mutators\n",
    "    def set_question(self, question):\n",
    "        self.__question = question\n",
    "        \n",
    "    def set_answer1(self, answer1):\n",
    "        self.__answer1 = answer1\n",
    "        \n",
    "    def set_answer2(self, answer2):\n",
    "        self.__answer2 = answer2\n",
    "        \n",
    "    def set_answer3(self, answer3):\n",
    "        self.__answer3 = answer3\n",
    "        \n",
    "    def set_answer4(self, answer4):\n",
    "        self.__answer4 = answer4\n",
    "        \n",
    "    def set_correct(self, correct):\n",
    "        self.__correct = correct\n",
    "        \n",
    "    #Accessors\n",
    "    def get_question(self):\n",
    "        return self.__question\n",
    "    \n",
    "    def get_answer1(self):\n",
    "        return self.__answer1\n",
    "    \n",
    "    def get_answer2(self):\n",
    "        return self.__answer2\n",
    "    \n",
    "    def get_answer3(self):\n",
    "        return self.__answer3\n",
    "    \n",
    "    def get_answer4(self):\n",
    "        return self.__answer4\n",
    "    \n",
    "    def get_correct(self):\n",
    "        return self.__correct\n",
    "    \n",
    "def main():\n",
    "    #make question dict\n",
    "    questions = {}\n",
    "    print('***Trivia Game***')\n",
    "    print('Do you manifest dominant knowledge over your adversary?')\n",
    "    print('Creating questions...')\n",
    "        \n",
    "    #make questions\n",
    "    questions = {}\n",
    "    for i in range(1,11):\n",
    "        new_question = make_question()\n",
    "        questions[i] = new_question\n",
    "            \n",
    "    #make players\n",
    "    player1 = 0\n",
    "    player2 = 0\n",
    "        \n",
    "    #Player 1's Questions\n",
    "    i = 1\n",
    "    while i < 6:\n",
    "        print('Player 1:')\n",
    "        player1 += ask_question(i, questions)\n",
    "        i += 1\n",
    "        \n",
    "    #Player 2's Questions\n",
    "    while i < 11:\n",
    "        print('Player 2:')\n",
    "        player2 += ask_question(i, questions)\n",
    "        i += 1\n",
    "          \n",
    "    #Conclusion\n",
    "    print()\n",
    "    print('FINAL SCORES:')\n",
    "    print('Player 1:', player1)\n",
    "    print('Player 2:', player2)\n",
    "    if player1 > player2:\n",
    "        print('Player 1 wins!')\n",
    "    elif player1 < player2:\n",
    "        print('Player 2 wins!')\n",
    "    else:\n",
    "        print('Draw!')\n",
    "        \n",
    "def make_question():\n",
    "    question = input('Question: ')\n",
    "    answer1 = input('Answer 1: ')\n",
    "    answer2 = input('Answer 2: ')\n",
    "    answer3 = input('Answer 3: ')\n",
    "    answer4 = input('Answer 4: ')\n",
    "    correct = input('Correct (1-4): ')\n",
    "    entry = Question(question, answer1, answer2, answer3, answer4, correct)\n",
    "    return entry\n",
    "    \n",
    "def ask_question(question_number, questions):\n",
    "    question = questions.get(question_number, 'ERROR: Question is not found!?')\n",
    "    print()\n",
    "    question.get_question()\n",
    "    question.get_answer1()\n",
    "    question.get_answer2()\n",
    "    question.get_answer3()\n",
    "    question.get_answer4()\n",
    "    response = input('Answer (1-4): ')\n",
    "    if response == question.get_correct():\n",
    "        print('Correct!')\n",
    "        return 1\n",
    "    else:\n",
    "        print('Incorrect!')\n",
    "        return 0\n",
    "main()"
   ]
  },
  {
   "cell_type": "code",
   "execution_count": 59,
   "metadata": {},
   "outputs": [],
   "source": [
    "#CHAPTER 11: INHERITANCE\n",
    "#= allows a new class to extend an existing class. The new class inherits the members of the class it extends\n",
    "#Example: \"Insects\" describes types of creatures with various characteristics\n",
    "#Grasshoppers and bees are insects due to meeting the criteria, but have characteristics seperate of their own.\n",
    "#Grasshoppers have legs for jumping and bees have stingers, for instance.\n",
    "#When one object is a specialized version of another object, there \"is a\" relationship between them.\n",
    "# \"is a\" examples: A poodle is a dog, a car is a vehicle, a mushroom is a fungi.\n",
    "#When an \"is a\" relationship exists between objects, it means the specialized object has all the characteristics of the\n",
    "#general object plus additional characteristics that make it special"
   ]
  },
  {
   "cell_type": "code",
   "execution_count": 60,
   "metadata": {},
   "outputs": [],
   "source": [
    "#Superclasses are also known as base classes, and subclasses are also called derived classes."
   ]
  },
  {
   "cell_type": "code",
   "execution_count": 61,
   "metadata": {},
   "outputs": [],
   "source": [
    "#Example: Used Car Dealership.\n",
    "#The dealership sells three types of automobiles; cars, pickup trucks, and SUVs.\n",
    "#Regardless of type, they all share each attribute; Make, Year, Mileage, Price\n",
    "#For cars; number of doors\n",
    "#For pick-ups, drive type (2 wheel or 4 wheel)\n",
    "#For SUVs, passenger capacity\n",
    "\n",
    "#To make this without inheritance would be to make a Car, Truck, and SUV class but that would be ineffecient and hard to alter.\n",
    "#Instead, we would make an Automobile superclass to hold the general data and make subclasses for each type."
   ]
  },
  {
   "cell_type": "code",
   "execution_count": 65,
   "metadata": {},
   "outputs": [
    {
     "name": "stdout",
     "output_type": "stream",
     "text": [
      "USED CAR INVENTORY\n",
      "------------------\n",
      "***CAR***\n",
      "Make: Audi\n",
      "Model: 2007\n",
      "Mileage: 12500\n",
      "Price: 21500.0\n",
      "Doors: 4\n",
      "\n",
      "***TRUCK***\n",
      "Make: Toyota\n",
      "Model: 2002\n",
      "Mileage: 40000\n",
      "Price: 12000.0\n",
      "Drive: 4WD\n",
      "\n",
      "***SUV***\n",
      "Make: Volvo\n",
      "Model: 2000\n",
      "Mileage: 30000\n",
      "Price: 18500.0\n",
      "Capacity: 5\n",
      "\n"
     ]
    }
   ],
   "source": [
    "class Automobile:\n",
    "    def __init__(self, make, model, mileage, price):\n",
    "        self.__make = make\n",
    "        self.__model = model\n",
    "        self.__mileage = mileage\n",
    "        self.__price = price\n",
    "    \n",
    "    #Mutators\n",
    "    def set_make(self, make):\n",
    "        self.__make = make\n",
    "        \n",
    "    def set_model(self, model):\n",
    "        self.__model = model\n",
    "        \n",
    "    def set_mileage(self, mileage):\n",
    "        self.__mileage = mileage\n",
    "        \n",
    "    def set_price(self, price):\n",
    "        self.__price = price\n",
    "        \n",
    "    #Accessors\n",
    "    def get_make(self):\n",
    "        return self.__make\n",
    "    \n",
    "    def get_model(self):\n",
    "        return self.__model\n",
    "    \n",
    "    def get_mileage(self):\n",
    "        return self.__mileage\n",
    "    \n",
    "    def get_price(self):\n",
    "        return self.__price\n",
    "    \n",
    "#Now for the subclass Car. We say here that Car extends the class of Automobile\n",
    "class Car(Automobile): #this imports the class automobile as its superclass\n",
    "    def __init__(self, make, model, mileage, price, doors): #notice we added doors\n",
    "        #Call the superclass' __init__ method and pass the required arguments.\n",
    "        Automobile.__init__(self, make, model, mileage, price)\n",
    "        \n",
    "        #Initialize the __doors attribute\n",
    "        self.__doors = doors\n",
    "        \n",
    "    #Add its mutators and accessors\n",
    "    def set_doors(self, doors):\n",
    "        self.__doors = doors\n",
    "        \n",
    "    def get_doors(self):\n",
    "        return self.__doors\n",
    "    \n",
    "#Make truck\n",
    "class Truck(Automobile):\n",
    "    def __init__(self, make, model, mileage, price, drive):\n",
    "        Automobile.__init__(self, make, model, mileage, price)\n",
    "        self.__drive = drive\n",
    "        \n",
    "    def set_drive(self, drive):\n",
    "        self.__drive = drive\n",
    "        \n",
    "    def get_drive(self):\n",
    "        return self.__drive\n",
    "    \n",
    "#make SUV\n",
    "class SUV(Automobile):\n",
    "    def __init__(self, make, model, mileage, price, capacity):\n",
    "        Automobile.__init__(self, make, model, mileage, price)\n",
    "        self.__capacity = capacity\n",
    "        \n",
    "    def set_capacity(self, capacity):\n",
    "        self.__capacity = capacity\n",
    "        \n",
    "    def get_capacity(self):\n",
    "        return self.__capacity\n",
    "\n",
    "def main():\n",
    "    print('USED CAR INVENTORY')\n",
    "    print('------------------')\n",
    "    #make Car object\n",
    "    used_car = Car('Audi', 2007, 12500, 21500.0, 4)\n",
    "    \n",
    "    #Display\n",
    "    print('***CAR***')\n",
    "    print('Make:', used_car.get_make())\n",
    "    print('Model:', used_car.get_model())\n",
    "    print('Mileage:', used_car.get_mileage())\n",
    "    print('Price:', used_car.get_price())\n",
    "    print('Doors:', used_car.get_doors())\n",
    "    print()\n",
    "    \n",
    "    used_truck = Truck('Toyota', 2002, 40000, 12000.0, '4WD')\n",
    "    \n",
    "    print('***TRUCK***')\n",
    "    print('Make:', used_truck.get_make())\n",
    "    print('Model:', used_truck.get_model())\n",
    "    print('Mileage:', used_truck.get_mileage())\n",
    "    print('Price:', used_truck.get_price())\n",
    "    print('Drive:', used_truck.get_drive())\n",
    "    print()\n",
    "    \n",
    "    used_SUV = SUV('Volvo', 2000, 30000, 18500.0, 5)\n",
    "    print('***SUV***')\n",
    "    print('Make:', used_SUV.get_make())\n",
    "    print('Model:', used_SUV.get_model())\n",
    "    print('Mileage:', used_SUV.get_mileage())\n",
    "    print('Price:', used_SUV.get_price())\n",
    "    print('Capacity:', used_SUV.get_capacity())\n",
    "    print()\n",
    "main()"
   ]
  },
  {
   "cell_type": "code",
   "execution_count": 67,
   "metadata": {},
   "outputs": [
    {
     "name": "stdout",
     "output_type": "stream",
     "text": [
      "Enter the following data for a savings account.\n",
      "Account number: 5432\n",
      "Interest rate: 3\n",
      "Balance: 5000\n",
      "Enter the following data for a CD.\n",
      "Account number: 543256\n",
      "Interest rate: 1.5\n",
      "Balance: 4000\n",
      "Maturity date: 12\n",
      "Here is the data you entered:\n",
      "\n",
      "Savings Account\n",
      "---------------\n",
      "Account number: 5432\n",
      "Interest rate: 3.0\n",
      "Balance: $5,000.00\n",
      "\n",
      "CD\n",
      "---------------\n",
      "Account number: 543256\n",
      "Interest rate: 1.5\n",
      "Balance: $4,000.00\n",
      "Maturity: 12\n"
     ]
    }
   ],
   "source": [
    "#Bank System\n",
    "class SavingsAccount:\n",
    "    def __init__(self, account, interest_rate, balance):\n",
    "        self.__account = account\n",
    "        self.__interest_rate = interest_rate\n",
    "        self.__balance = balance\n",
    "        \n",
    "    def set_account_num(self, account):\n",
    "        self.__account = account\n",
    "        \n",
    "    def set_interest_rate(self, interest_rate):\n",
    "        self.__interest_rate = interest_rate\n",
    "        \n",
    "    def set_balance(self, balance):\n",
    "        self.__balance = balance\n",
    "    \n",
    "    def get_account_num(self):\n",
    "        return self.__account\n",
    "    \n",
    "    def get_interest_rate(self):\n",
    "        return self.__interest_rate\n",
    "    \n",
    "    def get_balance(self):\n",
    "        return self.__balance\n",
    "    \n",
    "class CD(SavingsAccount):\n",
    "    def __init__(self, account, interest_rate, balance, maturity_date):\n",
    "        SavingsAccount.__init__(self, account, interest_rate, balance)\n",
    "        self.__maturity_date = maturity_date\n",
    "        \n",
    "    def set_maturity_date(self, maturity_date):\n",
    "        self.__maturity_date = maturity_date\n",
    "    \n",
    "    def get_maturity_date(self):\n",
    "        return self.__maturity_date\n",
    "    \n",
    "def main():\n",
    "    print('Enter the following data for a savings account.')\n",
    "    acct_num = input('Account number: ')\n",
    "    int_rate = float(input('Interest rate: '))\n",
    "    balance = float(input('Balance: '))\n",
    "    savings = SavingsAccount(acct_num, int_rate, balance)\n",
    "    \n",
    "    print('Enter the following data for a CD.')\n",
    "    acct_num = input('Account number: ')\n",
    "    int_rate = float(input('Interest rate: '))\n",
    "    balance = float(input('Balance: '))\n",
    "    maturity = input('Maturity date: ')\n",
    "    cd = CD(acct_num, int_rate, balance, maturity)\n",
    "    \n",
    "    print('Here is the data you entered:')\n",
    "    print()\n",
    "    print('Savings Account')\n",
    "    print('---------------')\n",
    "    print('Account number:', savings.get_account_num())\n",
    "    print('Interest rate:', savings.get_interest_rate())\n",
    "    print('Balance: $', format(savings.get_balance(), ',.2f'), sep='')\n",
    "    print()\n",
    "    print('CD')\n",
    "    print('---------------')\n",
    "    print('Account number:', cd.get_account_num())\n",
    "    print('Interest rate:', cd.get_interest_rate())\n",
    "    print('Balance: $', format(cd.get_balance(), ',.2f'), sep='')\n",
    "    print('Maturity:', cd.get_maturity_date())\n",
    "    \n",
    "main()"
   ]
  },
  {
   "cell_type": "code",
   "execution_count": 1,
   "metadata": {},
   "outputs": [],
   "source": [
    "#Polymorphism = allows subclasses to have methods with the same names as methods in their superclasses. \n",
    "#It gives the ability for a program to call the correct method depending on the type of object that is used to call it.\n",
    "#\n",
    "#Polymorphism refers to the object's ability to take different forms. There are two components to this behavior:\n",
    "#1. The ability to define a method in a superclass, then define a method with the same name in a subclass.\n",
    "# When the subclass method has the same name as a superclass method, it is often said that the subclass method overrides superclass method.\n",
    "#2. The ability to call the correct version of an overriden method, depending on the type of object that is used to call it.\n",
    "# If a subclass object is used to call an overridden method, then the subclass's version of the method is the one that will execute.\n",
    "# If a superclass object is used to call an overridden method, then the superclass's version of the method is the one that will execute.\n"
   ]
  },
  {
   "cell_type": "code",
   "execution_count": 2,
   "metadata": {},
   "outputs": [
    {
     "name": "stdout",
     "output_type": "stream",
     "text": [
      "I am a regular mammal\n",
      "Grrrr\n",
      "I am a Dog\n",
      "Woof! Woof!\n",
      "I am a Cat\n",
      "Meow\n",
      "Here are some animals\n"
     ]
    },
    {
     "ename": "AttributeError",
     "evalue": "'function' object has no attribute 'show_species'",
     "output_type": "error",
     "traceback": [
      "\u001b[1;31m---------------------------------------------------------------------------\u001b[0m",
      "\u001b[1;31mAttributeError\u001b[0m                            Traceback (most recent call last)",
      "\u001b[1;32m<ipython-input-2-cc4685053746>\u001b[0m in \u001b[0;36m<module>\u001b[1;34m\u001b[0m\n\u001b[0;32m     60\u001b[0m     \u001b[0mshow_mammal_info\u001b[0m\u001b[1;33m(\u001b[0m\u001b[0mdog\u001b[0m\u001b[1;33m)\u001b[0m\u001b[1;33m\u001b[0m\u001b[1;33m\u001b[0m\u001b[0m\n\u001b[0;32m     61\u001b[0m     \u001b[0mshow_mammal_info\u001b[0m\u001b[1;33m(\u001b[0m\u001b[0mcat\u001b[0m\u001b[1;33m)\u001b[0m\u001b[1;33m\u001b[0m\u001b[1;33m\u001b[0m\u001b[0m\n\u001b[1;32m---> 62\u001b[1;33m \u001b[0mshow\u001b[0m\u001b[1;33m(\u001b[0m\u001b[1;33m)\u001b[0m\u001b[1;33m\u001b[0m\u001b[1;33m\u001b[0m\u001b[0m\n\u001b[0m",
      "\u001b[1;32m<ipython-input-2-cc4685053746>\u001b[0m in \u001b[0;36mshow\u001b[1;34m()\u001b[0m\n\u001b[0;32m     57\u001b[0m \u001b[1;32mdef\u001b[0m \u001b[0mshow\u001b[0m\u001b[1;33m(\u001b[0m\u001b[1;33m)\u001b[0m\u001b[1;33m:\u001b[0m\u001b[1;33m\u001b[0m\u001b[1;33m\u001b[0m\u001b[0m\n\u001b[0;32m     58\u001b[0m     \u001b[0mprint\u001b[0m\u001b[1;33m(\u001b[0m\u001b[1;34m'Here are some animals'\u001b[0m\u001b[1;33m)\u001b[0m\u001b[1;33m\u001b[0m\u001b[1;33m\u001b[0m\u001b[0m\n\u001b[1;32m---> 59\u001b[1;33m     \u001b[0mshow_mammal_info\u001b[0m\u001b[1;33m(\u001b[0m\u001b[0mmammal\u001b[0m\u001b[1;33m)\u001b[0m\u001b[1;33m\u001b[0m\u001b[1;33m\u001b[0m\u001b[0m\n\u001b[0m\u001b[0;32m     60\u001b[0m     \u001b[0mshow_mammal_info\u001b[0m\u001b[1;33m(\u001b[0m\u001b[0mdog\u001b[0m\u001b[1;33m)\u001b[0m\u001b[1;33m\u001b[0m\u001b[1;33m\u001b[0m\u001b[0m\n\u001b[0;32m     61\u001b[0m     \u001b[0mshow_mammal_info\u001b[0m\u001b[1;33m(\u001b[0m\u001b[0mcat\u001b[0m\u001b[1;33m)\u001b[0m\u001b[1;33m\u001b[0m\u001b[1;33m\u001b[0m\u001b[0m\n",
      "\u001b[1;32m<ipython-input-2-cc4685053746>\u001b[0m in \u001b[0;36mshow_mammal_info\u001b[1;34m(creature)\u001b[0m\n\u001b[0;32m     51\u001b[0m \u001b[1;31m#isinstance\u001b[0m\u001b[1;33m\u001b[0m\u001b[1;33m\u001b[0m\u001b[1;33m\u001b[0m\u001b[0m\n\u001b[0;32m     52\u001b[0m \u001b[1;32mdef\u001b[0m \u001b[0mshow_mammal_info\u001b[0m\u001b[1;33m(\u001b[0m\u001b[0mcreature\u001b[0m\u001b[1;33m)\u001b[0m\u001b[1;33m:\u001b[0m\u001b[1;33m\u001b[0m\u001b[1;33m\u001b[0m\u001b[0m\n\u001b[1;32m---> 53\u001b[1;33m     \u001b[0mcreature\u001b[0m\u001b[1;33m.\u001b[0m\u001b[0mshow_species\u001b[0m\u001b[1;33m(\u001b[0m\u001b[1;33m)\u001b[0m\u001b[1;33m\u001b[0m\u001b[1;33m\u001b[0m\u001b[0m\n\u001b[0m\u001b[0;32m     54\u001b[0m     \u001b[0mcreature\u001b[0m\u001b[1;33m.\u001b[0m\u001b[0mmake_sound\u001b[0m\u001b[1;33m(\u001b[0m\u001b[1;33m)\u001b[0m\u001b[1;33m\u001b[0m\u001b[1;33m\u001b[0m\u001b[0m\n\u001b[0;32m     55\u001b[0m \u001b[1;31m#This method demonstrates our flexibility as we can pass any object of Mammal!\u001b[0m\u001b[1;33m\u001b[0m\u001b[1;33m\u001b[0m\u001b[1;33m\u001b[0m\u001b[0m\n",
      "\u001b[1;31mAttributeError\u001b[0m: 'function' object has no attribute 'show_species'"
     ]
    }
   ],
   "source": [
    "#Mammal Example\n",
    "class Mammal:\n",
    "    def __init__(self, species):\n",
    "        self.__species = species\n",
    "        \n",
    "    def show_species(self):\n",
    "        print('I am a', self.__species)\n",
    "        \n",
    "        \n",
    "    #Introduce generic way the generic class makes a sound    \n",
    "    def make_sound(self):\n",
    "        print('Grrrr')\n",
    "        \n",
    "def mammal():\n",
    "    mammal = Mammal('regular mammal')\n",
    "    mammal.show_species()\n",
    "    mammal.make_sound()\n",
    "mammal()\n",
    "\n",
    "\n",
    "#Introduce Dog subclass\n",
    "class Dog(Mammal):\n",
    "    def __init__(self):\n",
    "        Mammal.__init__(self, 'Dog')\n",
    "        \n",
    "    #The sound it makes overrides the superclass' make_sound method\n",
    "    def make_sound(self):\n",
    "        print('Woof! Woof!')\n",
    "        \n",
    "def dog():\n",
    "    dog = Dog()\n",
    "    dog.show_species()\n",
    "    dog.make_sound()\n",
    "dog()\n",
    "\n",
    "#Introduce Cat subclass\n",
    "class Cat(Mammal):\n",
    "    def __init__(self):\n",
    "        Mammal.__init__(self, 'Cat')\n",
    "        \n",
    "    #Once again, override the make_sound method\n",
    "    def make_sound(self):\n",
    "        print('Meow')\n",
    "\n",
    "def cat():\n",
    "    cat = Cat()\n",
    "    cat.show_species()\n",
    "    cat.make_sound()\n",
    "cat()\n",
    "\n",
    "#isinstance\n",
    "def show_mammal_info(creature):\n",
    "    creature.show_species()\n",
    "    creature.make_sound()\n",
    "#This method demonstrates our flexibility as we can pass any object of Mammal!\n",
    "\n",
    "def show():\n",
    "    print('Here are some animals')\n",
    "    show_mammal_info(mammal)\n",
    "    show_mammal_info(dog)\n",
    "    show_mammal_info(cat)\n",
    "show()"
   ]
  },
  {
   "cell_type": "code",
   "execution_count": 4,
   "metadata": {},
   "outputs": [
    {
     "name": "stdout",
     "output_type": "stream",
     "text": [
      "Error!\n"
     ]
    }
   ],
   "source": [
    "#wrong type: you get an attribute error!\n",
    "def main():\n",
    "    try:\n",
    "        show_mammal_info('I am a string')\n",
    "    except:\n",
    "        print('Error!')\n",
    "    \n",
    "def show_mammal_info(creature):\n",
    "    creature.show_species()\n",
    "    creature.make_sound()\n",
    "main()"
   ]
  },
  {
   "cell_type": "code",
   "execution_count": 7,
   "metadata": {},
   "outputs": [
    {
     "name": "stdout",
     "output_type": "stream",
     "text": [
      "Here are some animals and the sounds they make.\n",
      "-----------------------------------------------\n",
      "I am a regular animal\n",
      "Grrrr\n",
      "\n",
      "I am a Dog\n",
      "Woof! Woof!\n",
      "\n",
      "I am a Cat\n",
      "Meow\n",
      "\n",
      "That is not a Mammal!\n"
     ]
    }
   ],
   "source": [
    "#Use the isinstance(object, ClassName) to determine whether an object is an instance of a specific class or a subclass of it\n",
    "#It returns either True or False\n",
    "def show_mammal_info(creature):\n",
    "    if isinstance(creature, Mammal):\n",
    "        creature.show_species()\n",
    "        creature.make_sound()\n",
    "    else:\n",
    "        print('That is not a Mammal!')\n",
    "\n",
    "def main():\n",
    "    mammal = Mammal('regular animal')\n",
    "    dog = Dog()\n",
    "    cat = Cat()\n",
    "    \n",
    "    print('Here are some animals and the sounds they make.')\n",
    "    print('-----------------------------------------------')\n",
    "    show_mammal_info(mammal)\n",
    "    print()\n",
    "    show_mammal_info(dog)\n",
    "    print()\n",
    "    show_mammal_info(cat)\n",
    "    print()\n",
    "    show_mammal_info('I am a string')\n",
    "main()"
   ]
  },
  {
   "cell_type": "code",
   "execution_count": 8,
   "metadata": {},
   "outputs": [],
   "source": [
    "#1. class Poodle(Dog):\n",
    "#2. I'm a plant, I'm a tree\n",
    "#3. \n",
    "# class Cola(Beverage):\n",
    "#    def __init__(self, bev_name):\n",
    "#        Beverage.__init__(self, 'cola')"
   ]
  },
  {
   "cell_type": "code",
   "execution_count": 13,
   "metadata": {},
   "outputs": [
    {
     "name": "stdout",
     "output_type": "stream",
     "text": [
      "New Production Worker\n",
      "Enter name: Bob\n",
      "Enter EMP #: 124321\n",
      "Enter shift (1 = Day, 2 = Night): 1\n",
      "Hourly pay rate: 19\n",
      "Name: Bob\n",
      "Number: 124321\n",
      "Shift: 1\n",
      "Pay Rate: 19\n"
     ]
    }
   ],
   "source": [
    "#1. Employee and ProductionWorker Classes\n",
    "class Employee:\n",
    "    def __init__(self, name, number):\n",
    "        self.__name = name\n",
    "        self.__number = number\n",
    "        \n",
    "    def set_name(self, name):\n",
    "        self.__name = name\n",
    "        \n",
    "    def set_number(self, number):\n",
    "        self.__number = number\n",
    "        \n",
    "    def get_name(self):\n",
    "        return self.__name\n",
    "    \n",
    "    def get_number(self):\n",
    "        return self.__number\n",
    "        \n",
    "class ProductionWorker(Employee):\n",
    "    def __init__(self, name, number, shift, pay_rate):\n",
    "        Employee.__init__(self, name, number)\n",
    "        self.__shift = shift\n",
    "        self.__pay_rate = pay_rate\n",
    "        \n",
    "    def set_shift(self, shift):\n",
    "        self.__shift = shift\n",
    "        \n",
    "    def set_pay_rate(self, pay_rate):\n",
    "        self.__pay_rate = pay_rate\n",
    "        \n",
    "    def get_shift(self):\n",
    "        return self.__shift\n",
    "    \n",
    "    def get_pay_rate(self):\n",
    "        return self.__pay_rate\n",
    "    \n",
    "def new_prod_worker():\n",
    "    print('New Production Worker')\n",
    "    name = input('Enter name: ')\n",
    "    number = input('Enter EMP #: ')\n",
    "    shift = input('Enter shift (1 = Day, 2 = Night): ')\n",
    "    pay_rate = input('Hourly pay rate: ')\n",
    "    worker = ProductionWorker(name, number, shift, pay_rate)\n",
    "    print('Name:', worker.get_name())\n",
    "    print('Number:', worker.get_number())\n",
    "    print('Shift:', worker.get_shift())\n",
    "    print('Pay Rate:', worker.get_pay_rate())\n",
    "\n",
    "new_prod_worker()    "
   ]
  },
  {
   "cell_type": "code",
   "execution_count": 14,
   "metadata": {},
   "outputs": [],
   "source": [
    "#2. ShiftSupervisor Class\n",
    "class Employee:\n",
    "    def __init__(self, name, number):\n",
    "        self.__name = name\n",
    "        self.__number = number\n",
    "        \n",
    "    def set_name(self, name):\n",
    "        self.__name = name\n",
    "        \n",
    "    def set_number(self, number):\n",
    "        self.__number = number\n",
    "        \n",
    "    def get_name(self):\n",
    "        return self.__name\n",
    "    \n",
    "    def get_number(self):\n",
    "        return self.__number\n",
    "        \n",
    "class ShiftSupervisor(Employee):\n",
    "    def __init__(self, name, number, annual_salary, prod_bonus):\n",
    "        Employee.__init__(self, name, number)\n",
    "        self.__annual_salary = annual_salary\n",
    "        self.__prod_bonus = prod_bonus\n",
    "        \n",
    "    def set_annual_salary(self, annual_salary):\n",
    "        self.__annual_salary = annual_salary\n",
    "        \n",
    "    def set_prod_bonus(self, prod_bonus):\n",
    "        self.__prod_bonus = prod_bonus\n",
    "        \n",
    "    def get_annual_salary(self):\n",
    "        return self.__annual_salary\n",
    "    \n",
    "    def get_prod_bonus(self):\n",
    "        return self.__prod_bonus"
   ]
  },
  {
   "cell_type": "code",
   "execution_count": 16,
   "metadata": {},
   "outputs": [
    {
     "name": "stdout",
     "output_type": "stream",
     "text": [
      "Bob\n",
      "35 Ass Road, Humantown\n",
      "8451116666\n",
      "25342\n",
      "1\n"
     ]
    }
   ],
   "source": [
    "#3. Person and Customer Classes\n",
    "class Person:\n",
    "    def __init__(self, name, address, telephone):\n",
    "        self.__name = name\n",
    "        self.__address = address\n",
    "        self.__telephone = telephone\n",
    "        \n",
    "    def set_name(self, name):\n",
    "        self.__name = name\n",
    "        \n",
    "    def set_address(self, address):\n",
    "        self.__address = address\n",
    "        \n",
    "    def set_telephone(self, telephone):\n",
    "        self.__telephone = telephone\n",
    "        \n",
    "    def get_name(self):\n",
    "        return self.__name\n",
    "    \n",
    "    def get_address(self):\n",
    "        return self.__address\n",
    "    \n",
    "    def get_telephone(self):\n",
    "        return self.__telephone\n",
    "         \n",
    "class Customer(Person):\n",
    "    def __init__(self, name, address, telephone, number, send_mail):\n",
    "        Person.__init__(self, name, address, telephone)\n",
    "        self.__number = number\n",
    "        self.__send_mail = send_mail\n",
    "        \n",
    "    def set_number(self, number):\n",
    "        self.__number = number\n",
    "        \n",
    "    def set_send_mail(self, send_mail):\n",
    "        self.__send_mail = send_mail\n",
    "        \n",
    "    def get_number(self):\n",
    "        return self.__number\n",
    "    \n",
    "    def get_send_mail(self):\n",
    "        return self.__send_mail\n",
    "    \n",
    "def main():\n",
    "    name = 'Bob'\n",
    "    address = '35 Ass Road, Humantown'\n",
    "    telephone = '8451116666'\n",
    "    number = '25342'\n",
    "    send_mail = '1'\n",
    "    c = Customer(name, address, telephone, number, send_mail)\n",
    "    print(c.get_name())\n",
    "    print(c.get_address())\n",
    "    print(c.get_telephone())\n",
    "    print(c.get_number())\n",
    "    print(c.get_send_mail())\n",
    "main()"
   ]
  },
  {
   "cell_type": "code",
   "execution_count": 17,
   "metadata": {},
   "outputs": [
    {
     "name": "stdout",
     "output_type": "stream",
     "text": [
      "This is a recursive function.\n",
      "This is a recursive function.\n",
      "This is a recursive function.\n",
      "This is a recursive function.\n",
      "This is a recursive function.\n",
      "This is a recursive function.\n",
      "This is a recursive function.\n",
      "This is a recursive function.\n",
      "This is a recursive function.\n",
      "This is a recursive function.\n",
      "This is a recursive function.\n",
      "This is a recursive function.\n",
      "This is a recursive function.\n",
      "This is a recursive function.\n",
      "This is a recursive function.\n",
      "This is a recursive function.\n",
      "This is a recursive function.\n",
      "This is a recursive function.\n",
      "This is a recursive function.\n",
      "This is a recursive function.\n",
      "This is a recursive function.\n",
      "This is a recursive function.\n",
      "This is a recursive function.\n",
      "This is a recursive function.\n",
      "This is a recursive function.\n",
      "This is a recursive function.\n",
      "This is a recursive function.\n",
      "This is a recursive function.\n",
      "This is a recursive function.\n",
      "This is a recursive function.\n",
      "This is a recursive function.\n",
      "This is a recursive function.\n",
      "This is a recursive function.\n",
      "This is a recursive function.\n",
      "This is a recursive function.\n",
      "This is a recursive function.\n",
      "This is a recursive function.\n",
      "This is a recursive function.\n",
      "This is a recursive function.\n",
      "This is a recursive function.\n",
      "This is a recursive function.\n",
      "This is a recursive function.\n",
      "This is a recursive function.\n",
      "This is a recursive function.\n",
      "This is a recursive function.\n",
      "This is a recursive function.\n",
      "This is a recursive function.\n",
      "This is a recursive function.\n",
      "This is a recursive function.\n",
      "This is a recursive function.\n",
      "This is a recursive function.\n",
      "This is a recursive function.\n",
      "This is a recursive function.\n",
      "This is a recursive function.\n",
      "This is a recursive function.\n",
      "This is a recursive function.\n",
      "This is a recursive function.\n",
      "This is a recursive function.\n",
      "This is a recursive function.\n",
      "This is a recursive function.\n",
      "This is a recursive function.\n",
      "This is a recursive function.\n",
      "This is a recursive function.\n",
      "This is a recursive function.\n",
      "This is a recursive function.\n",
      "This is a recursive function.\n",
      "This is a recursive function.\n",
      "This is a recursive function.\n",
      "This is a recursive function.\n",
      "This is a recursive function.\n",
      "This is a recursive function.\n",
      "This is a recursive function.\n",
      "This is a recursive function.\n",
      "This is a recursive function.\n",
      "This is a recursive function.\n",
      "This is a recursive function.\n",
      "This is a recursive function.\n",
      "This is a recursive function.\n",
      "This is a recursive function.\n",
      "This is a recursive function.\n",
      "This is a recursive function.\n",
      "This is a recursive function.\n",
      "This is a recursive function.\n",
      "This is a recursive function.\n",
      "This is a recursive function.\n",
      "This is a recursive function.\n",
      "This is a recursive function.\n",
      "This is a recursive function.\n",
      "This is a recursive function.\n",
      "This is a recursive function.\n",
      "This is a recursive function.\n",
      "This is a recursive function.\n",
      "This is a recursive function.\n",
      "This is a recursive function.\n",
      "This is a recursive function.\n",
      "This is a recursive function.\n",
      "This is a recursive function.\n",
      "This is a recursive function.\n",
      "This is a recursive function.\n",
      "This is a recursive function.\n",
      "This is a recursive function.\n",
      "This is a recursive function.\n",
      "This is a recursive function.\n",
      "This is a recursive function.\n",
      "This is a recursive function.\n",
      "This is a recursive function.\n",
      "This is a recursive function.\n",
      "This is a recursive function.\n",
      "This is a recursive function.\n",
      "This is a recursive function.\n",
      "This is a recursive function.\n",
      "This is a recursive function.\n",
      "This is a recursive function.\n",
      "This is a recursive function.\n",
      "This is a recursive function.\n",
      "This is a recursive function.\n",
      "This is a recursive function.\n",
      "This is a recursive function.\n",
      "This is a recursive function.\n",
      "This is a recursive function.\n",
      "This is a recursive function.\n",
      "This is a recursive function.\n",
      "This is a recursive function.\n",
      "This is a recursive function.\n",
      "This is a recursive function.\n",
      "This is a recursive function.\n",
      "This is a recursive function.\n",
      "This is a recursive function.\n",
      "This is a recursive function.\n",
      "This is a recursive function.\n",
      "This is a recursive function.\n",
      "This is a recursive function.\n",
      "This is a recursive function.\n",
      "This is a recursive function.\n",
      "This is a recursive function.\n",
      "This is a recursive function.\n",
      "This is a recursive function.\n",
      "This is a recursive function.\n",
      "This is a recursive function.\n",
      "This is a recursive function.\n",
      "This is a recursive function.\n",
      "This is a recursive function.\n",
      "This is a recursive function.\n",
      "This is a recursive function.\n",
      "This is a recursive function.\n",
      "This is a recursive function.\n",
      "This is a recursive function.\n",
      "This is a recursive function.\n",
      "This is a recursive function.\n",
      "This is a recursive function.\n",
      "This is a recursive function.\n",
      "This is a recursive function.\n",
      "This is a recursive function.\n",
      "This is a recursive function.\n",
      "This is a recursive function.\n",
      "This is a recursive function.\n",
      "This is a recursive function.\n",
      "This is a recursive function.\n",
      "This is a recursive function.\n",
      "This is a recursive function.\n",
      "This is a recursive function.\n",
      "This is a recursive function.\n",
      "This is a recursive function.\n",
      "This is a recursive function.\n",
      "This is a recursive function.\n",
      "This is a recursive function.\n",
      "This is a recursive function.\n",
      "This is a recursive function.\n",
      "This is a recursive function.\n",
      "This is a recursive function.\n",
      "This is a recursive function.\n",
      "This is a recursive function.\n",
      "This is a recursive function.\n",
      "This is a recursive function.\n",
      "This is a recursive function.\n",
      "This is a recursive function.\n",
      "This is a recursive function.\n",
      "This is a recursive function.\n",
      "This is a recursive function.\n",
      "This is a recursive function.\n",
      "This is a recursive function.\n",
      "This is a recursive function.\n",
      "This is a recursive function.\n",
      "This is a recursive function.\n",
      "This is a recursive function.\n",
      "This is a recursive function.\n",
      "This is a recursive function.\n",
      "This is a recursive function.\n",
      "This is a recursive function.\n",
      "This is a recursive function.\n",
      "This is a recursive function.\n",
      "This is a recursive function.\n",
      "This is a recursive function.\n",
      "This is a recursive function.\n",
      "This is a recursive function.\n",
      "This is a recursive function.\n",
      "This is a recursive function.\n",
      "This is a recursive function.\n",
      "This is a recursive function.\n",
      "This is a recursive function.\n",
      "This is a recursive function.\n",
      "This is a recursive function.\n",
      "This is a recursive function.\n",
      "This is a recursive function.\n",
      "This is a recursive function.\n",
      "This is a recursive function.\n",
      "This is a recursive function.\n",
      "This is a recursive function.\n",
      "This is a recursive function.\n",
      "This is a recursive function.\n",
      "This is a recursive function.\n",
      "This is a recursive function.\n",
      "This is a recursive function.\n",
      "This is a recursive function.\n",
      "This is a recursive function.\n",
      "This is a recursive function.\n",
      "This is a recursive function.\n",
      "This is a recursive function.\n",
      "This is a recursive function.\n",
      "This is a recursive function.\n",
      "This is a recursive function.\n",
      "This is a recursive function.\n",
      "This is a recursive function.\n",
      "This is a recursive function.\n",
      "This is a recursive function.\n",
      "This is a recursive function.\n",
      "This is a recursive function.\n",
      "This is a recursive function.\n",
      "This is a recursive function.\n",
      "This is a recursive function.\n",
      "This is a recursive function.\n",
      "This is a recursive function.\n",
      "This is a recursive function.\n",
      "This is a recursive function.\n",
      "This is a recursive function.\n",
      "This is a recursive function.\n",
      "This is a recursive function.\n",
      "This is a recursive function.\n",
      "This is a recursive function.\n",
      "This is a recursive function.\n",
      "This is a recursive function.\n",
      "This is a recursive function.\n",
      "This is a recursive function.\n",
      "This is a recursive function.\n",
      "This is a recursive function.\n",
      "This is a recursive function.\n",
      "This is a recursive function.\n",
      "This is a recursive function.\n",
      "This is a recursive function.\n",
      "This is a recursive function.\n",
      "This is a recursive function.\n",
      "This is a recursive function.\n",
      "This is a recursive function.\n",
      "This is a recursive function.\n",
      "This is a recursive function.\n",
      "This is a recursive function.\n",
      "This is a recursive function.\n",
      "This is a recursive function.\n",
      "This is a recursive function.\n",
      "This is a recursive function.\n",
      "This is a recursive function.\n",
      "This is a recursive function.\n",
      "This is a recursive function.\n",
      "This is a recursive function.\n",
      "This is a recursive function.\n",
      "This is a recursive function.\n",
      "This is a recursive function.\n",
      "This is a recursive function.\n",
      "This is a recursive function.\n",
      "This is a recursive function.\n",
      "This is a recursive function.\n",
      "This is a recursive function.\n",
      "This is a recursive function.\n",
      "This is a recursive function.\n",
      "This is a recursive function.\n",
      "This is a recursive function.\n",
      "This is a recursive function.\n",
      "This is a recursive function.\n",
      "This is a recursive function.\n",
      "This is a recursive function.\n",
      "This is a recursive function.\n",
      "This is a recursive function.\n",
      "This is a recursive function.\n",
      "This is a recursive function.\n",
      "This is a recursive function.\n",
      "This is a recursive function.\n",
      "This is a recursive function.\n",
      "This is a recursive function.\n",
      "This is a recursive function.\n",
      "This is a recursive function.\n",
      "This is a recursive function.\n",
      "This is a recursive function.\n",
      "This is a recursive function.\n",
      "This is a recursive function.\n",
      "This is a recursive function.\n",
      "This is a recursive function.\n",
      "This is a recursive function.\n",
      "This is a recursive function.\n",
      "This is a recursive function.\n",
      "This is a recursive function.\n",
      "This is a recursive function.\n",
      "This is a recursive function.\n",
      "This is a recursive function.\n",
      "This is a recursive function.\n",
      "This is a recursive function.\n",
      "This is a recursive function.\n",
      "This is a recursive function.\n",
      "This is a recursive function.\n",
      "This is a recursive function.\n",
      "This is a recursive function.\n",
      "This is a recursive function.\n",
      "This is a recursive function.\n",
      "This is a recursive function.\n",
      "This is a recursive function.\n",
      "This is a recursive function.\n",
      "This is a recursive function.\n",
      "This is a recursive function.\n",
      "This is a recursive function.\n",
      "This is a recursive function.\n",
      "This is a recursive function.\n",
      "This is a recursive function.\n",
      "This is a recursive function.\n",
      "This is a recursive function.\n",
      "This is a recursive function.\n",
      "This is a recursive function.\n",
      "This is a recursive function.\n",
      "This is a recursive function.\n",
      "This is a recursive function.\n",
      "This is a recursive function.\n",
      "This is a recursive function.\n",
      "This is a recursive function.\n",
      "This is a recursive function.\n",
      "This is a recursive function.\n",
      "This is a recursive function.\n",
      "This is a recursive function.\n",
      "This is a recursive function.\n",
      "This is a recursive function.\n",
      "This is a recursive function.\n",
      "This is a recursive function.\n",
      "This is a recursive function.\n",
      "This is a recursive function.\n",
      "This is a recursive function.\n",
      "This is a recursive function.\n",
      "This is a recursive function.\n",
      "This is a recursive function.\n",
      "This is a recursive function.\n",
      "This is a recursive function.\n",
      "This is a recursive function.\n",
      "This is a recursive function.\n",
      "This is a recursive function.\n",
      "This is a recursive function.\n",
      "This is a recursive function.\n",
      "This is a recursive function.\n",
      "This is a recursive function.\n",
      "This is a recursive function.\n",
      "This is a recursive function.\n",
      "This is a recursive function.\n",
      "This is a recursive function.\n",
      "This is a recursive function.\n",
      "This is a recursive function.\n",
      "This is a recursive function.\n",
      "This is a recursive function.\n",
      "This is a recursive function.\n",
      "This is a recursive function.\n",
      "This is a recursive function.\n",
      "This is a recursive function.\n",
      "This is a recursive function.\n",
      "This is a recursive function.\n",
      "This is a recursive function.\n",
      "This is a recursive function.\n",
      "This is a recursive function.\n",
      "This is a recursive function.\n",
      "This is a recursive function.\n",
      "This is a recursive function.\n",
      "This is a recursive function.\n",
      "This is a recursive function.\n",
      "This is a recursive function.\n",
      "This is a recursive function.\n",
      "This is a recursive function.\n",
      "This is a recursive function.\n",
      "This is a recursive function.\n",
      "This is a recursive function.\n",
      "This is a recursive function.\n",
      "This is a recursive function.\n",
      "This is a recursive function.\n",
      "This is a recursive function.\n",
      "This is a recursive function.\n",
      "This is a recursive function.\n",
      "This is a recursive function.\n",
      "This is a recursive function.\n",
      "This is a recursive function.\n",
      "This is a recursive function.\n",
      "This is a recursive function.\n",
      "This is a recursive function.\n",
      "This is a recursive function.\n",
      "This is a recursive function.\n",
      "This is a recursive function.\n",
      "This is a recursive function.\n",
      "This is a recursive function.\n",
      "This is a recursive function.\n",
      "This is a recursive function.\n",
      "This is a recursive function.\n",
      "This is a recursive function.\n",
      "This is a recursive function.\n",
      "This is a recursive function.\n",
      "This is a recursive function.\n",
      "This is a recursive function.\n",
      "This is a recursive function.\n",
      "This is a recursive function.\n",
      "This is a recursive function.\n",
      "This is a recursive function.\n",
      "This is a recursive function.\n",
      "This is a recursive function.\n",
      "This is a recursive function.\n",
      "This is a recursive function.\n",
      "This is a recursive function.\n",
      "This is a recursive function.\n",
      "This is a recursive function.\n",
      "This is a recursive function.\n",
      "This is a recursive function.\n",
      "This is a recursive function.\n",
      "This is a recursive function.\n",
      "This is a recursive function.\n",
      "This is a recursive function.\n",
      "This is a recursive function.\n",
      "This is a recursive function.\n",
      "This is a recursive function.\n",
      "This is a recursive function.\n",
      "This is a recursive function.\n",
      "This is a recursive function.\n",
      "This is a recursive function.\n",
      "This is a recursive function.\n",
      "This is a recursive function.\n",
      "This is a recursive function.\n",
      "This is a recursive function.\n",
      "This is a recursive function.\n",
      "This is a recursive function.\n",
      "This is a recursive function.\n",
      "This is a recursive function.\n",
      "This is a recursive function.\n",
      "This is a recursive function.\n",
      "This is a recursive function.\n",
      "This is a recursive function.\n",
      "This is a recursive function.\n",
      "This is a recursive function.\n",
      "This is a recursive function.\n",
      "This is a recursive function.\n",
      "This is a recursive function.\n",
      "This is a recursive function.\n",
      "This is a recursive function.\n",
      "This is a recursive function.\n",
      "This is a recursive function.\n",
      "This is a recursive function.\n",
      "This is a recursive function.\n",
      "This is a recursive function.\n",
      "This is a recursive function.\n",
      "This is a recursive function.\n",
      "This is a recursive function.\n",
      "This is a recursive function.\n",
      "This is a recursive function.\n",
      "This is a recursive function.\n",
      "This is a recursive function.\n",
      "This is a recursive function.\n",
      "This is a recursive function.\n",
      "This is a recursive function.\n",
      "This is a recursive function.\n",
      "This is a recursive function.\n",
      "This is a recursive function.\n",
      "This is a recursive function.\n",
      "This is a recursive function.\n",
      "This is a recursive function.\n",
      "This is a recursive function.\n",
      "This is a recursive function.\n",
      "This is a recursive function.\n",
      "This is a recursive function.\n",
      "This is a recursive function.\n",
      "This is a recursive function.\n",
      "This is a recursive function.\n",
      "This is a recursive function.\n",
      "This is a recursive function.\n",
      "This is a recursive function.\n",
      "This is a recursive function.\n",
      "This is a recursive function.\n",
      "This is a recursive function.\n",
      "This is a recursive function.\n",
      "This is a recursive function.\n",
      "This is a recursive function.\n",
      "This is a recursive function.\n",
      "This is a recursive function.\n",
      "This is a recursive function.\n",
      "This is a recursive function.\n",
      "This is a recursive function.\n",
      "This is a recursive function.\n",
      "This is a recursive function.\n",
      "This is a recursive function.\n",
      "This is a recursive function.\n",
      "This is a recursive function.\n",
      "This is a recursive function.\n",
      "This is a recursive function.\n",
      "This is a recursive function.\n",
      "This is a recursive function.\n",
      "This is a recursive function.\n",
      "This is a recursive function.\n",
      "This is a recursive function.\n",
      "This is a recursive function.\n",
      "This is a recursive function.\n",
      "This is a recursive function.\n",
      "This is a recursive function.\n",
      "This is a recursive function.\n",
      "This is a recursive function.\n",
      "This is a recursive function.\n",
      "This is a recursive function.\n",
      "This is a recursive function.\n",
      "This is a recursive function.\n",
      "This is a recursive function.\n",
      "This is a recursive function.\n",
      "This is a recursive function.\n",
      "This is a recursive function.\n",
      "This is a recursive function.\n",
      "This is a recursive function.\n",
      "This is a recursive function.\n",
      "This is a recursive function.\n",
      "This is a recursive function.\n",
      "This is a recursive function.\n",
      "This is a recursive function.\n",
      "This is a recursive function.\n",
      "This is a recursive function.\n",
      "This is a recursive function.\n",
      "This is a recursive function.\n",
      "This is a recursive function.\n",
      "This is a recursive function.\n",
      "This is a recursive function.\n",
      "This is a recursive function.\n",
      "This is a recursive function.\n",
      "This is a recursive function.\n",
      "This is a recursive function.\n",
      "This is a recursive function.\n",
      "This is a recursive function.\n",
      "This is a recursive function.\n",
      "This is a recursive function.\n",
      "This is a recursive function.\n",
      "This is a recursive function.\n",
      "This is a recursive function.\n",
      "This is a recursive function.\n",
      "This is a recursive function.\n",
      "This is a recursive function.\n",
      "This is a recursive function.\n",
      "This is a recursive function.\n",
      "This is a recursive function.\n",
      "This is a recursive function.\n",
      "This is a recursive function.\n",
      "This is a recursive function.\n",
      "This is a recursive function.\n",
      "This is a recursive function.\n",
      "This is a recursive function.\n",
      "This is a recursive function.\n",
      "This is a recursive function.\n",
      "This is a recursive function.\n",
      "This is a recursive function.\n",
      "This is a recursive function.\n",
      "This is a recursive function.\n",
      "This is a recursive function.\n",
      "This is a recursive function.\n",
      "This is a recursive function.\n",
      "This is a recursive function.\n",
      "This is a recursive function.\n",
      "This is a recursive function.\n",
      "This is a recursive function.\n",
      "This is a recursive function.\n",
      "This is a recursive function.\n",
      "This is a recursive function.\n",
      "This is a recursive function.\n",
      "This is a recursive function.\n",
      "This is a recursive function.\n",
      "This is a recursive function.\n",
      "This is a recursive function.\n",
      "This is a recursive function.\n",
      "This is a recursive function.\n",
      "This is a recursive function.\n",
      "This is a recursive function.\n",
      "This is a recursive function.\n",
      "This is a recursive function.\n",
      "This is a recursive function.\n",
      "This is a recursive function.\n",
      "This is a recursive function.\n",
      "This is a recursive function.\n",
      "This is a recursive function.\n",
      "This is a recursive function.\n",
      "This is a recursive function.\n",
      "This is a recursive function.\n",
      "This is a recursive function.\n",
      "This is a recursive function.\n",
      "This is a recursive function.\n",
      "This is a recursive function.\n",
      "This is a recursive function.\n",
      "This is a recursive function.\n",
      "This is a recursive function.\n",
      "This is a recursive function.\n",
      "This is a recursive function.\n",
      "This is a recursive function.\n",
      "This is a recursive function.\n",
      "This is a recursive function.\n",
      "This is a recursive function.\n",
      "This is a recursive function.\n",
      "This is a recursive function.\n",
      "This is a recursive function.\n",
      "This is a recursive function.\n",
      "This is a recursive function.\n",
      "This is a recursive function.\n",
      "This is a recursive function.\n",
      "This is a recursive function.\n",
      "This is a recursive function.\n",
      "This is a recursive function.\n",
      "This is a recursive function.\n",
      "This is a recursive function.\n",
      "This is a recursive function.\n",
      "This is a recursive function.\n",
      "This is a recursive function.\n",
      "This is a recursive function.\n",
      "This is a recursive function.\n",
      "This is a recursive function.\n",
      "This is a recursive function.\n",
      "This is a recursive function.\n",
      "This is a recursive function.\n",
      "This is a recursive function.\n",
      "This is a recursive function.\n",
      "This is a recursive function.\n",
      "This is a recursive function.\n",
      "This is a recursive function.\n",
      "This is a recursive function.\n",
      "This is a recursive function.\n",
      "This is a recursive function.\n",
      "This is a recursive function.\n",
      "This is a recursive function.\n",
      "This is a recursive function.\n",
      "This is a recursive function.\n",
      "This is a recursive function.\n",
      "This is a recursive function.\n",
      "This is a recursive function.\n",
      "This is a recursive function.\n",
      "This is a recursive function.\n",
      "This is a recursive function.\n",
      "This is a recursive function.\n",
      "This is a recursive function.\n",
      "This is a recursive function.\n",
      "This is a recursive function.\n",
      "This is a recursive function.\n",
      "This is a recursive function.\n",
      "This is a recursive function.\n",
      "This is a recursive function.\n",
      "This is a recursive function.\n",
      "This is a recursive function.\n",
      "This is a recursive function.\n",
      "This is a recursive function.\n",
      "This is a recursive function.\n",
      "This is a recursive function.\n",
      "This is a recursive function.\n",
      "This is a recursive function.\n",
      "This is a recursive function.\n",
      "This is a recursive function.\n",
      "This is a recursive function.\n",
      "This is a recursive function.\n",
      "This is a recursive function.\n",
      "This is a recursive function.\n",
      "This is a recursive function.\n",
      "This is a recursive function.\n",
      "This is a recursive function.\n",
      "This is a recursive function.\n",
      "This is a recursive function.\n",
      "This is a recursive function.\n",
      "This is a recursive function.\n",
      "This is a recursive function.\n",
      "This is a recursive function.\n",
      "This is a recursive function.\n",
      "This is a recursive function.\n",
      "This is a recursive function.\n",
      "This is a recursive function.\n",
      "This is a recursive function.\n",
      "This is a recursive function.\n",
      "This is a recursive function.\n",
      "This is a recursive function.\n",
      "This is a recursive function.\n",
      "This is a recursive function.\n",
      "This is a recursive function.\n",
      "This is a recursive function.\n",
      "This is a recursive function.\n",
      "This is a recursive function.\n",
      "This is a recursive function.\n",
      "This is a recursive function.\n",
      "This is a recursive function.\n",
      "This is a recursive function.\n",
      "This is a recursive function.\n",
      "This is a recursive function.\n",
      "This is a recursive function.\n",
      "This is a recursive function.\n",
      "This is a recursive function.\n",
      "This is a recursive function.\n",
      "This is a recursive function.\n",
      "This is a recursive function.\n",
      "This is a recursive function.\n",
      "This is a recursive function.\n",
      "This is a recursive function.\n",
      "This is a recursive function.\n",
      "This is a recursive function.\n",
      "This is a recursive function.\n",
      "This is a recursive function.\n",
      "This is a recursive function.\n",
      "This is a recursive function.\n",
      "This is a recursive function.\n",
      "This is a recursive function.\n",
      "This is a recursive function.\n",
      "This is a recursive function.\n",
      "This is a recursive function.\n",
      "This is a recursive function.\n",
      "This is a recursive function.\n",
      "This is a recursive function.\n",
      "This is a recursive function.\n",
      "This is a recursive function.\n",
      "This is a recursive function.\n",
      "This is a recursive function.\n",
      "This is a recursive function.\n",
      "This is a recursive function.\n",
      "This is a recursive function.\n",
      "This is a recursive function.\n",
      "This is a recursive function.\n",
      "This is a recursive function.\n",
      "This is a recursive function.\n",
      "This is a recursive function.\n",
      "This is a recursive function.\n",
      "This is a recursive function.\n",
      "This is a recursive function.\n",
      "This is a recursive function.\n",
      "This is a recursive function.\n",
      "This is a recursive function.\n",
      "This is a recursive function.\n",
      "This is a recursive function.\n",
      "This is a recursive function.\n",
      "This is a recursive function.\n",
      "This is a recursive function.\n",
      "This is a recursive function.\n",
      "This is a recursive function.\n",
      "This is a recursive function.\n",
      "This is a recursive function.\n",
      "This is a recursive function.\n",
      "This is a recursive function.\n",
      "This is a recursive function.\n",
      "This is a recursive function.\n",
      "This is a recursive function.\n",
      "This is a recursive function.\n",
      "This is a recursive function.\n",
      "This is a recursive function.\n",
      "This is a recursive function.\n",
      "This is a recursive function.\n",
      "This is a recursive function.\n",
      "This is a recursive function.\n",
      "This is a recursive function.\n",
      "This is a recursive function.\n",
      "This is a recursive function.\n",
      "This is a recursive function.\n",
      "This is a recursive function.\n",
      "This is a recursive function.\n",
      "This is a recursive function.\n",
      "This is a recursive function.\n",
      "This is a recursive function.\n",
      "This is a recursive function.\n",
      "This is a recursive function.\n",
      "This is a recursive function.\n",
      "This is a recursive function.\n",
      "This is a recursive function.\n",
      "This is a recursive function.\n",
      "This is a recursive function.\n",
      "This is a recursive function.\n",
      "This is a recursive function.\n",
      "This is a recursive function.\n",
      "This is a recursive function.\n",
      "This is a recursive function.\n",
      "This is a recursive function.\n",
      "This is a recursive function.\n",
      "This is a recursive function.\n",
      "This is a recursive function.\n",
      "This is a recursive function.\n",
      "This is a recursive function.\n",
      "This is a recursive function.\n",
      "This is a recursive function.\n",
      "This is a recursive function.\n",
      "This is a recursive function.\n",
      "This is a recursive function.\n",
      "This is a recursive function.\n",
      "This is a recursive function.\n",
      "This is a recursive function.\n",
      "This is a recursive function.\n",
      "This is a recursive function.\n",
      "This is a recursive function.\n",
      "This is a recursive function.\n",
      "This is a recursive function.\n",
      "This is a recursive function.\n",
      "This is a recursive function.\n",
      "This is a recursive function.\n",
      "This is a recursive function.\n",
      "This is a recursive function.\n",
      "This is a recursive function.\n",
      "This is a recursive function.\n",
      "This is a recursive function.\n",
      "This is a recursive function.\n",
      "This is a recursive function.\n",
      "This is a recursive function.\n",
      "This is a recursive function.\n",
      "This is a recursive function.\n",
      "This is a recursive function.\n",
      "This is a recursive function.\n",
      "This is a recursive function.\n",
      "This is a recursive function.\n",
      "This is a recursive function.\n",
      "This is a recursive function.\n",
      "This is a recursive function.\n",
      "This is a recursive function.\n",
      "This is a recursive function.\n",
      "This is a recursive function.\n",
      "This is a recursive function.\n",
      "This is a recursive function.\n",
      "This is a recursive function.\n",
      "This is a recursive function.\n",
      "This is a recursive function.\n",
      "This is a recursive function.\n",
      "This is a recursive function.\n",
      "This is a recursive function.\n",
      "This is a recursive function.\n",
      "This is a recursive function.\n",
      "This is a recursive function.\n",
      "This is a recursive function.\n",
      "This is a recursive function.\n",
      "This is a recursive function.\n",
      "This is a recursive function.\n",
      "This is a recursive function.\n",
      "This is a recursive function.\n",
      "This is a recursive function.\n",
      "This is a recursive function.\n",
      "This is a recursive function.\n",
      "This is a recursive function.\n",
      "This is a recursive function.\n",
      "This is a recursive function.\n",
      "This is a recursive function.\n",
      "This is a recursive function.\n",
      "This is a recursive function.\n",
      "This is a recursive function.\n",
      "This is a recursive function.\n",
      "This is a recursive function.\n",
      "This is a recursive function.\n",
      "This is a recursive function.\n",
      "This is a recursive function.\n",
      "This is a recursive function.\n",
      "This is a recursive function.\n",
      "This is a recursive function.\n",
      "This is a recursive function.\n",
      "This is a recursive function.\n",
      "This is a recursive function.\n",
      "This is a recursive function.\n",
      "This is a recursive function.\n",
      "This is a recursive function.\n",
      "This is a recursive function.\n",
      "This is a recursive function.\n",
      "This is a recursive function.\n",
      "This is a recursive function.\n",
      "This is a recursive function.\n",
      "This is a recursive function.\n",
      "This is a recursive function.\n",
      "This is a recursive function.\n",
      "This is a recursive function.\n",
      "This is a recursive function.\n",
      "This is a recursive function.\n",
      "This is a recursive function.\n",
      "This is a recursive function.\n",
      "This is a recursive function.\n",
      "This is a recursive function.\n",
      "This is a recursive function.\n",
      "This is a recursive function.\n",
      "This is a recursive function.\n",
      "This is a recursive function.\n",
      "This is a recursive function.\n",
      "This is a recursive function.\n",
      "This is a recursive function.\n",
      "This is a recursive function.\n",
      "This is a recursive function.\n",
      "This is a recursive function.\n",
      "This is a recursive function.\n",
      "This is a recursive function.\n",
      "This is a recursive function.\n",
      "This is a recursive function.\n",
      "This is a recursive function.\n",
      "This is a recursive function.\n",
      "This is a recursive function.\n",
      "This is a recursive function.\n",
      "This is a recursive function.\n",
      "This is a recursive function.\n",
      "This is a recursive function.\n",
      "This is a recursive function.\n",
      "This is a recursive function.\n",
      "This is a recursive function.\n",
      "This is a recursive function.\n",
      "This is a recursive function.\n",
      "This is a recursive function.\n",
      "This is a recursive function.\n",
      "This is a recursive function.\n",
      "This is a recursive function.\n",
      "This is a recursive function.\n",
      "This is a recursive function.\n",
      "This is a recursive function.\n",
      "This is a recursive function.\n",
      "This is a recursive function.\n",
      "This is a recursive function.\n",
      "This is a recursive function.\n",
      "This is a recursive function.\n",
      "This is a recursive function.\n",
      "This is a recursive function.\n",
      "This is a recursive function.\n",
      "This is a recursive function.\n",
      "This is a recursive function.\n",
      "This is a recursive function.\n",
      "This is a recursive function.\n",
      "This is a recursive function.\n",
      "This is a recursive function.\n",
      "This is a recursive function.\n",
      "This is a recursive function.\n",
      "This is a recursive function.\n",
      "This is a recursive function.\n",
      "This is a recursive function.\n",
      "This is a recursive function.\n",
      "This is a recursive function.\n",
      "This is a recursive function.\n",
      "This is a recursive function.\n",
      "This is a recursive function.\n",
      "This is a recursive function.\n",
      "This is a recursive function.\n",
      "This is a recursive function.\n",
      "This is a recursive function.\n",
      "This is a recursive function.\n",
      "This is a recursive function.\n",
      "This is a recursive function.\n",
      "This is a recursive function.\n",
      "This is a recursive function.\n",
      "This is a recursive function.\n",
      "This is a recursive function.\n",
      "This is a recursive function.\n",
      "This is a recursive function.\n",
      "This is a recursive function.\n",
      "This is a recursive function.\n",
      "This is a recursive function.\n",
      "This is a recursive function.\n",
      "This is a recursive function.\n",
      "This is a recursive function.\n",
      "This is a recursive function.\n",
      "This is a recursive function.\n",
      "This is a recursive function.\n",
      "This is a recursive function.\n",
      "This is a recursive function.\n",
      "This is a recursive function.\n",
      "This is a recursive function.\n",
      "This is a recursive function.\n",
      "This is a recursive function.\n",
      "This is a recursive function.\n",
      "This is a recursive function.\n",
      "This is a recursive function.\n",
      "This is a recursive function.\n",
      "This is a recursive function.\n",
      "This is a recursive function.\n",
      "This is a recursive function.\n",
      "This is a recursive function.\n",
      "This is a recursive function.\n",
      "This is a recursive function.\n",
      "This is a recursive function.\n",
      "This is a recursive function.\n",
      "This is a recursive function.\n",
      "This is a recursive function.\n",
      "This is a recursive function.\n",
      "This is a recursive function.\n",
      "This is a recursive function.\n",
      "This is a recursive function.\n",
      "This is a recursive function.\n",
      "This is a recursive function.\n",
      "This is a recursive function.\n",
      "This is a recursive function.\n",
      "This is a recursive function.\n",
      "This is a recursive function.\n",
      "This is a recursive function.\n",
      "This is a recursive function.\n",
      "This is a recursive function.\n",
      "This is a recursive function.\n",
      "This is a recursive function.\n",
      "This is a recursive function.\n",
      "This is a recursive function.\n",
      "This is a recursive function.\n",
      "This is a recursive function.\n",
      "This is a recursive function.\n",
      "This is a recursive function.\n",
      "This is a recursive function.\n",
      "This is a recursive function.\n",
      "This is a recursive function.\n",
      "This is a recursive function.\n",
      "This is a recursive function.\n",
      "This is a recursive function.\n",
      "This is a recursive function.\n",
      "This is a recursive function.\n",
      "This is a recursive function.\n",
      "This is a recursive function.\n",
      "This is a recursive function.\n",
      "This is a recursive function.\n",
      "This is a recursive function.\n",
      "This is a recursive function.\n",
      "This is a recursive function.\n",
      "This is a recursive function.\n",
      "This is a recursive function.\n",
      "This is a recursive function.\n",
      "This is a recursive function.\n",
      "This is a recursive function.\n",
      "This is a recursive function.\n",
      "This is a recursive function.\n",
      "This is a recursive function.\n",
      "This is a recursive function.\n",
      "This is a recursive function.\n",
      "This is a recursive function.\n",
      "This is a recursive function.\n",
      "This is a recursive function.\n",
      "This is a recursive function.\n",
      "This is a recursive function.\n",
      "This is a recursive function.\n",
      "This is a recursive function.\n",
      "This is a recursive function.\n",
      "This is a recursive function.\n",
      "This is a recursive function.\n",
      "This is a recursive function.\n",
      "This is a recursive function.\n",
      "This is a recursive function.\n",
      "This is a recursive function.\n",
      "This is a recursive function.\n",
      "This is a recursive function.\n",
      "This is a recursive function.\n",
      "This is a recursive function.\n",
      "This is a recursive function.\n",
      "This is a recursive function.\n",
      "This is a recursive function.\n",
      "This is a recursive function.\n",
      "This is a recursive function.\n",
      "This is a recursive function.\n",
      "This is a recursive function.\n",
      "This is a recursive function.\n",
      "This is a recursive function.\n",
      "This is a recursive function.\n",
      "This is a recursive function.\n",
      "This is a recursive function.\n",
      "This is a recursive function.\n",
      "This is a recursive function.\n",
      "This is a recursive function.\n",
      "This is a recursive function.\n",
      "This is a recursive function.\n",
      "This is a recursive function.\n",
      "This is a recursive function.\n",
      "This is a recursive function.\n",
      "This is a recursive function.\n",
      "This is a recursive function.\n",
      "This is a recursive function.\n",
      "This is a recursive function.\n",
      "This is a recursive function.\n",
      "This is a recursive function.\n",
      "This is a recursive function.\n",
      "This is a recursive function.\n",
      "This is a recursive function.\n",
      "This is a recursive function.\n",
      "This is a recursive function.\n",
      "This is a recursive function.\n",
      "This is a recursive function.\n",
      "This is a recursive function.\n",
      "This is a recursive function.\n",
      "This is a recursive function.\n",
      "This is a recursive function.\n",
      "This is a recursive function.\n",
      "This is a recursive function.\n",
      "This is a recursive function.\n",
      "This is a recursive function.\n",
      "This is a recursive function.\n",
      "This is a recursive function.\n",
      "This is a recursive function.\n",
      "This is a recursive function.\n",
      "This is a recursive function.\n",
      "This is a recursive function.\n",
      "This is a recursive function.\n",
      "This is a recursive function.\n",
      "This is a recursive function.\n",
      "This is a recursive function.\n",
      "This is a recursive function.\n",
      "This is a recursive function.\n",
      "This is a recursive function.\n",
      "This is a recursive function.\n",
      "This is a recursive function.\n",
      "This is a recursive function.\n",
      "This is a recursive function.\n",
      "This is a recursive function.\n",
      "This is a recursive function.\n",
      "This is a recursive function.\n",
      "This is a recursive function.\n",
      "This is a recursive function.\n",
      "This is a recursive function.\n",
      "This is a recursive function.\n",
      "This is a recursive function.\n",
      "This is a recursive function.\n",
      "This is a recursive function.\n",
      "This is a recursive function.\n",
      "This is a recursive function.\n",
      "This is a recursive function.\n",
      "This is a recursive function.\n",
      "This is a recursive function.\n",
      "This is a recursive function.\n",
      "This is a recursive function.\n",
      "This is a recursive function.\n",
      "This is a recursive function.\n",
      "This is a recursive function.\n",
      "This is a recursive function.\n",
      "This is a recursive function.\n",
      "This is a recursive function.\n",
      "This is a recursive function.\n",
      "This is a recursive function.\n",
      "This is a recursive function.\n",
      "This is a recursive function.\n",
      "This is a recursive function.\n",
      "This is a recursive function.\n",
      "This is a recursive function.\n",
      "This is a recursive function.\n",
      "This is a recursive function.\n",
      "This is a recursive function.\n",
      "This is a recursive function.\n",
      "This is a recursive function.\n",
      "This is a recursive function.\n",
      "This is a recursive function.\n",
      "This is a recursive function.\n",
      "This is a recursive function.\n",
      "This is a recursive function.\n",
      "This is a recursive function.\n",
      "This is a recursive function.\n",
      "This is a recursive function.\n",
      "This is a recursive function.\n",
      "This is a recursive function.\n",
      "This is a recursive function.\n",
      "This is a recursive function.\n",
      "This is a recursive function.\n",
      "This is a recursive function.\n",
      "This is a recursive function.\n",
      "This is a recursive function.\n",
      "This is a recursive function.\n",
      "This is a recursive function.\n",
      "This is a recursive function.\n",
      "This is a recursive function.\n",
      "This is a recursive function.\n",
      "This is a recursive function.\n",
      "This is a recursive function.\n",
      "This is a recursive function.\n",
      "This is a recursive function.\n",
      "This is a recursive function.\n",
      "This is a recursive function.\n",
      "This is a recursive function.\n",
      "This is a recursive function.\n",
      "This is a recursive function.\n",
      "This is a recursive function.\n",
      "This is a recursive function.\n",
      "This is a recursive function.\n",
      "This is a recursive function.\n",
      "This is a recursive function.\n",
      "This is a recursive function.\n",
      "This is a recursive function.\n",
      "This is a recursive function.\n",
      "This is a recursive function.\n",
      "This is a recursive function.\n",
      "This is a recursive function.\n",
      "This is a recursive function.\n",
      "This is a recursive function.\n",
      "This is a recursive function.\n",
      "This is a recursive function.\n",
      "This is a recursive function.\n",
      "This is a recursive function.\n",
      "This is a recursive function.\n",
      "This is a recursive function.\n",
      "This is a recursive function.\n",
      "This is a recursive function.\n",
      "This is a recursive function.\n",
      "This is a recursive function.\n",
      "This is a recursive function.\n",
      "This is a recursive function.\n",
      "This is a recursive function.\n",
      "This is a recursive function.\n",
      "This is a recursive function.\n",
      "This is a recursive function.\n",
      "This is a recursive function.\n",
      "This is a recursive function.\n",
      "This is a recursive function.\n",
      "This is a recursive function.\n",
      "This is a recursive function.\n",
      "This is a recursive function.\n",
      "This is a recursive function.\n",
      "This is a recursive function.\n",
      "This is a recursive function.\n",
      "This is a recursive function.\n",
      "This is a recursive function.\n",
      "This is a recursive function.\n",
      "This is a recursive function.\n",
      "This is a recursive function.\n",
      "This is a recursive function.\n",
      "This is a recursive function.\n",
      "This is a recursive function.\n",
      "This is a recursive function.\n",
      "This is a recursive function.\n",
      "This is a recursive function.\n",
      "This is a recursive function.\n",
      "This is a recursive function.\n",
      "This is a recursive function.\n",
      "This is a recursive function.\n",
      "This is a recursive function.\n",
      "This is a recursive function.\n",
      "This is a recursive function.\n",
      "This is a recursive function.\n",
      "This is a recursive function.\n",
      "This is a recursive function.\n",
      "This is a recursive function.\n",
      "This is a recursive function.\n",
      "This is a recursive function.\n",
      "This is a recursive function.\n",
      "This is a recursive function.\n",
      "This is a recursive function.\n",
      "This is a recursive function.\n",
      "This is a recursive function.\n",
      "This is a recursive function.\n",
      "This is a recursive function.\n",
      "This is a recursive function.\n",
      "This is a recursive function.\n",
      "This is a recursive function.\n",
      "This is a recursive function.\n",
      "This is a recursive function.\n",
      "This is a recursive function.\n",
      "This is a recursive function.\n",
      "This is a recursive function.\n",
      "This is a recursive function.\n",
      "This is a recursive function.\n",
      "This is a recursive function.\n",
      "This is a recursive function.\n",
      "This is a recursive function.\n",
      "This is a recursive function.\n",
      "This is a recursive function.\n",
      "This is a recursive function.\n",
      "This is a recursive function.\n",
      "This is a recursive function.\n",
      "This is a recursive function.\n",
      "This is a recursive function.\n",
      "This is a recursive function.\n",
      "This is a recursive function.\n",
      "This is a recursive function.\n",
      "This is a recursive function.\n",
      "This is a recursive function.\n",
      "This is a recursive function.\n",
      "This is a recursive function.\n",
      "This is a recursive function.\n",
      "This is a recursive function.\n",
      "This is a recursive function.\n",
      "This is a recursive function.\n",
      "This is a recursive function.\n",
      "This is a recursive function.\n",
      "This is a recursive function.\n",
      "This is a recursive function.\n",
      "This is a recursive function.\n",
      "This is a recursive function.\n",
      "This is a recursive function.\n",
      "This is a recursive function.\n",
      "This is a recursive function.\n",
      "This is a recursive function.\n",
      "This is a recursive function.\n",
      "This is a recursive function.\n",
      "This is a recursive function.\n",
      "This is a recursive function.\n",
      "This is a recursive function.\n",
      "This is a recursive function.\n",
      "This is a recursive function.\n",
      "This is a recursive function.\n",
      "This is a recursive function.\n",
      "This is a recursive function.\n",
      "This is a recursive function.\n",
      "This is a recursive function.\n",
      "This is a recursive function.\n",
      "This is a recursive function.\n",
      "This is a recursive function.\n",
      "This is a recursive function.\n",
      "This is a recursive function.\n",
      "This is a recursive function.\n",
      "This is a recursive function.\n",
      "This is a recursive function.\n",
      "This is a recursive function.\n",
      "This is a recursive function.\n",
      "This is a recursive function.\n",
      "This is a recursive function.\n",
      "This is a recursive function.\n",
      "This is a recursive function.\n",
      "This is a recursive function.\n",
      "This is a recursive function.\n",
      "This is a recursive function.\n",
      "This is a recursive function.\n",
      "This is a recursive function.\n",
      "This is a recursive function.\n",
      "This is a recursive function.\n",
      "This is a recursive function.\n",
      "This is a recursive function.\n",
      "This is a recursive function.\n",
      "This is a recursive function.\n",
      "This is a recursive function.\n",
      "This is a recursive function.\n",
      "This is a recursive function.\n",
      "This is a recursive function.\n",
      "This is a recursive function.\n",
      "This is a recursive function.\n",
      "This is a recursive function.\n",
      "This is a recursive function.\n",
      "This is a recursive function.\n",
      "This is a recursive function.\n",
      "This is a recursive function.\n",
      "This is a recursive function.\n",
      "This is a recursive function.\n",
      "This is a recursive function.\n",
      "This is a recursive function.\n",
      "This is a recursive function.\n",
      "This is a recursive function.\n",
      "This is a recursive function.\n",
      "This is a recursive function.\n",
      "This is a recursive function.\n",
      "This is a recursive function.\n",
      "This is a recursive function.\n",
      "This is a recursive function.\n",
      "This is a recursive function.\n",
      "This is a recursive function.\n",
      "This is a recursive function.\n",
      "This is a recursive function.\n",
      "This is a recursive function.\n",
      "This is a recursive function.\n",
      "This is a recursive function.\n",
      "This is a recursive function.\n",
      "This is a recursive function.\n",
      "This is a recursive function.\n",
      "This is a recursive function.\n",
      "This is a recursive function.\n",
      "This is a recursive function.\n",
      "This is a recursive function.\n",
      "This is a recursive function.\n",
      "This is a recursive function.\n",
      "This is a recursive function.\n",
      "This is a recursive function.\n",
      "This is a recursive function.\n",
      "This is a recursive function.\n",
      "This is a recursive function.\n",
      "This is a recursive function.\n",
      "This is a recursive function.\n",
      "This is a recursive function.\n",
      "This is a recursive function.\n",
      "This is a recursive function.\n",
      "This is a recursive function.\n",
      "This is a recursive function.\n",
      "This is a recursive function.\n",
      "This is a recursive function.\n",
      "This is a recursive function.\n",
      "This is a recursive function.\n",
      "This is a recursive function.\n",
      "This is a recursive function.\n",
      "This is a recursive function.\n",
      "This is a recursive function.\n",
      "This is a recursive function.\n",
      "This is a recursive function.\n",
      "This is a recursive function.\n",
      "This is a recursive function.\n",
      "This is a recursive function.\n",
      "This is a recursive function.\n",
      "This is a recursive function.\n",
      "This is a recursive function.\n",
      "This is a recursive function.\n",
      "This is a recursive function.\n",
      "This is a recursive function.\n",
      "This is a recursive function.\n",
      "This is a recursive function.\n",
      "This is a recursive function.\n",
      "This is a recursive function.\n",
      "This is a recursive function.\n",
      "This is a recursive function.\n",
      "This is a recursive function.\n",
      "This is a recursive function.\n",
      "This is a recursive function.\n",
      "This is a recursive function.\n",
      "This is a recursive function.\n",
      "This is a recursive function.\n",
      "This is a recursive function.\n",
      "This is a recursive function.\n",
      "This is a recursive function.\n",
      "This is a recursive function.\n",
      "This is a recursive function.\n",
      "This is a recursive function.\n",
      "This is a recursive function.\n",
      "This is a recursive function.\n",
      "This is a recursive function.\n",
      "This is a recursive function.\n",
      "This is a recursive function.\n",
      "This is a recursive function.\n",
      "This is a recursive function.\n",
      "This is a recursive function.\n",
      "This is a recursive function.\n",
      "This is a recursive function.\n",
      "This is a recursive function.\n",
      "This is a recursive function.\n",
      "This is a recursive function.\n",
      "This is a recursive function.\n",
      "This is a recursive function.\n",
      "This is a recursive function.\n",
      "This is a recursive function.\n",
      "This is a recursive function.\n",
      "This is a recursive function.\n",
      "This is a recursive function.\n",
      "This is a recursive function.\n",
      "This is a recursive function.\n",
      "This is a recursive function.\n",
      "This is a recursive function.\n",
      "This is a recursive function.\n",
      "This is a recursive function.\n",
      "This is a recursive function.\n",
      "This is a recursive function.\n",
      "This is a recursive function.\n",
      "This is a recursive function.\n",
      "This is a recursive function.\n",
      "This is a recursive function.\n",
      "This is a recursive function.\n",
      "This is a recursive function.\n",
      "This is a recursive function.\n",
      "This is a recursive function.\n",
      "This is a recursive function.\n",
      "This is a recursive function.\n",
      "This is a recursive function.\n",
      "This is a recursive function.\n",
      "This is a recursive function.\n",
      "This is a recursive function.\n",
      "This is a recursive function.\n",
      "This is a recursive function.\n",
      "This is a recursive function.\n",
      "This is a recursive function.\n",
      "This is a recursive function.\n",
      "This is a recursive function.\n",
      "This is a recursive function.\n",
      "This is a recursive function.\n",
      "This is a recursive function.\n",
      "This is a recursive function.\n",
      "This is a recursive function.\n",
      "This is a recursive function.\n",
      "This is a recursive function.\n",
      "This is a recursive function.\n",
      "This is a recursive function.\n",
      "This is a recursive function.\n",
      "This is a recursive function.\n",
      "This is a recursive function.\n",
      "This is a recursive function.\n",
      "This is a recursive function.\n",
      "This is a recursive function.\n",
      "This is a recursive function.\n",
      "This is a recursive function.\n",
      "This is a recursive function.\n",
      "This is a recursive function.\n",
      "This is a recursive function.\n",
      "This is a recursive function.\n",
      "This is a recursive function.\n",
      "This is a recursive function.\n",
      "This is a recursive function.\n",
      "This is a recursive function.\n",
      "This is a recursive function.\n",
      "This is a recursive function.\n",
      "This is a recursive function.\n",
      "This is a recursive function.\n",
      "This is a recursive function.\n",
      "This is a recursive function.\n",
      "This is a recursive function.\n",
      "This is a recursive function.\n",
      "This is a recursive function.\n",
      "This is a recursive function.\n",
      "This is a recursive function.\n",
      "This is a recursive function.\n",
      "This is a recursive function.\n",
      "This is a recursive function.\n",
      "This is a recursive function.\n",
      "This is a recursive function.\n",
      "This is a recursive function.\n",
      "This is a recursive function.\n",
      "This is a recursive function.\n",
      "This is a recursive function.\n",
      "This is a recursive function.\n",
      "This is a recursive function.\n",
      "This is a recursive function.\n",
      "This is a recursive function.\n",
      "This is a recursive function.\n",
      "This is a recursive function.\n",
      "This is a recursive function.\n",
      "This is a recursive function.\n",
      "This is a recursive function.\n",
      "This is a recursive function.\n",
      "This is a recursive function.\n",
      "This is a recursive function.\n",
      "This is a recursive function.\n",
      "This is a recursive function.\n",
      "This is a recursive function.\n",
      "This is a recursive function.\n",
      "This is a recursive function.\n",
      "This is a recursive function.\n",
      "This is a recursive function.\n",
      "This is a recursive function.\n",
      "This is a recursive function.\n",
      "This is a recursive function.\n",
      "This is a recursive function.\n",
      "This is a recursive function.\n",
      "This is a recursive function.\n",
      "This is a recursive function.\n",
      "This is a recursive function.\n",
      "This is a recursive function.\n",
      "This is a recursive function.\n",
      "This is a recursive function.\n",
      "This is a recursive function.\n",
      "This is a recursive function.\n",
      "This is a recursive function.\n",
      "This is a recursive function.\n",
      "This is a recursive function.\n",
      "This is a recursive function.\n",
      "This is a recursive function.\n",
      "This is a recursive function.\n",
      "This is a recursive function.\n",
      "This is a recursive function.\n",
      "This is a recursive function.\n",
      "This is a recursive function.\n",
      "This is a recursive function.\n",
      "This is a recursive function.\n",
      "This is a recursive function.\n",
      "This is a recursive function.\n",
      "This is a recursive function.\n",
      "This is a recursive function.\n",
      "This is a recursive function.\n",
      "This is a recursive function.\n",
      "This is a recursive function.\n",
      "This is a recursive function.\n",
      "This is a recursive function.\n",
      "This is a recursive function.\n",
      "This is a recursive function.\n",
      "This is a recursive function.\n",
      "This is a recursive function.\n",
      "This is a recursive function.\n",
      "This is a recursive function.\n",
      "This is a recursive function.\n",
      "This is a recursive function.\n",
      "This is a recursive function.\n",
      "This is a recursive function.\n",
      "This is a recursive function.\n",
      "This is a recursive function.\n",
      "This is a recursive function.\n",
      "This is a recursive function.\n",
      "This is a recursive function.\n",
      "This is a recursive function.\n",
      "This is a recursive function.\n",
      "This is a recursive function.\n",
      "This is a recursive function.\n",
      "This is a recursive function.\n",
      "This is a recursive function.\n",
      "This is a recursive function.\n",
      "This is a recursive function.\n",
      "This is a recursive function.\n",
      "This is a recursive function.\n",
      "This is a recursive function.\n",
      "This is a recursive function.\n",
      "This is a recursive function.\n",
      "This is a recursive function.\n",
      "This is a recursive function.\n",
      "This is a recursive function.\n",
      "This is a recursive function.\n",
      "This is a recursive function.\n",
      "This is a recursive function.\n",
      "This is a recursive function.\n",
      "This is a recursive function.\n",
      "This is a recursive function.\n",
      "This is a recursive function.\n",
      "This is a recursive function.\n",
      "This is a recursive function.\n",
      "This is a recursive function.\n",
      "This is a recursive function.\n",
      "This is a recursive function.\n",
      "This is a recursive function.\n",
      "This is a recursive function.\n",
      "This is a recursive function.\n",
      "This is a recursive function.\n",
      "This is a recursive function.\n",
      "This is a recursive function.\n",
      "This is a recursive function.\n",
      "This is a recursive function.\n",
      "This is a recursive function.\n",
      "This is a recursive function.\n",
      "This is a recursive function.\n",
      "This is a recursive function.\n",
      "This is a recursive function.\n",
      "This is a recursive function.\n",
      "This is a recursive function.\n",
      "This is a recursive function.\n",
      "This is a recursive function.\n",
      "This is a recursive function.\n",
      "This is a recursive function.\n",
      "This is a recursive function.\n",
      "This is a recursive function.\n",
      "This is a recursive function.\n",
      "This is a recursive function.\n",
      "This is a recursive function.\n",
      "This is a recursive function.\n",
      "This is a recursive function.\n",
      "This is a recursive function.\n",
      "This is a recursive function.\n",
      "This is a recursive function.\n",
      "This is a recursive function.\n",
      "This is a recursive function.\n",
      "This is a recursive function.\n",
      "This is a recursive function.\n",
      "This is a recursive function.\n",
      "This is a recursive function.\n",
      "This is a recursive function.\n",
      "This is a recursive function.\n",
      "This is a recursive function.\n",
      "This is a recursive function.\n",
      "This is a recursive function.\n",
      "This is a recursive function.\n",
      "This is a recursive function.\n",
      "This is a recursive function.\n",
      "This is a recursive function.\n",
      "This is a recursive function.\n",
      "This is a recursive function.\n",
      "This is a recursive function.\n",
      "This is a recursive function.\n",
      "This is a recursive function.\n",
      "This is a recursive function.\n",
      "This is a recursive function.\n",
      "This is a recursive function.\n",
      "This is a recursive function.\n",
      "This is a recursive function.\n",
      "This is a recursive function.\n",
      "This is a recursive function.\n",
      "This is a recursive function.\n",
      "This is a recursive function.\n",
      "This is a recursive function.\n",
      "This is a recursive function.\n",
      "This is a recursive function.\n",
      "This is a recursive function.\n",
      "This is a recursive function.\n",
      "This is a recursive function.\n",
      "This is a recursive function.\n",
      "This is a recursive function.\n",
      "This is a recursive function.\n",
      "This is a recursive function.\n",
      "This is a recursive function.\n",
      "This is a recursive function.\n",
      "This is a recursive function.\n",
      "This is a recursive function.\n",
      "This is a recursive function.\n",
      "This is a recursive function.\n",
      "This is a recursive function.\n",
      "This is a recursive function.\n",
      "This is a recursive function.\n",
      "This is a recursive function.\n",
      "This is a recursive function.\n",
      "This is a recursive function.\n",
      "This is a recursive function.\n",
      "This is a recursive function.\n",
      "This is a recursive function.\n",
      "This is a recursive function.\n",
      "This is a recursive function.\n",
      "This is a recursive function.\n",
      "This is a recursive function.\n",
      "This is a recursive function.\n",
      "This is a recursive function.\n",
      "This is a recursive function.\n",
      "This is a recursive function.\n",
      "This is a recursive function.\n",
      "This is a recursive function.\n",
      "This is a recursive function.\n",
      "This is a recursive function.\n",
      "This is a recursive function.\n",
      "This is a recursive function.\n",
      "This is a recursive function.\n",
      "This is a recursive function.\n",
      "This is a recursive function.\n",
      "This is a recursive function.\n",
      "This is a recursive function.\n",
      "This is a recursive function.\n",
      "This is a recursive function.\n",
      "This is a recursive function.\n",
      "This is a recursive function.\n",
      "This is a recursive function.\n",
      "This is a recursive function.\n",
      "This is a recursive function.\n",
      "This is a recursive function.\n",
      "This is a recursive function.\n",
      "This is a recursive function.\n",
      "This is a recursive function.\n",
      "This is a recursive function.\n",
      "This is a recursive function.\n",
      "This is a recursive function.\n",
      "This is a recursive function.\n",
      "This is a recursive function.\n",
      "This is a recursive function.\n",
      "This is a recursive function.\n",
      "This is a recursive function.\n",
      "This is a recursive function.\n",
      "This is a recursive function.\n",
      "This is a recursive function.\n",
      "This is a recursive function.\n",
      "This is a recursive function.\n",
      "This is a recursive function.\n",
      "This is a recursive function.\n",
      "This is a recursive function.\n",
      "This is a recursive function.\n",
      "This is a recursive function.\n",
      "This is a recursive function.\n",
      "This is a recursive function.\n",
      "This is a recursive function.\n",
      "This is a recursive function.\n",
      "This is a recursive function.\n",
      "This is a recursive function.\n",
      "This is a recursive function.\n",
      "This is a recursive function.\n",
      "This is a recursive function.\n",
      "This is a recursive function.\n",
      "This is a recursive function.\n",
      "This is a recursive function.\n",
      "This is a recursive function.\n",
      "This is a recursive function.\n",
      "This is a recursive function.\n",
      "This is a recursive function.\n",
      "This is a recursive function.\n",
      "This is a recursive function.\n",
      "This is a recursive function.\n",
      "This is a recursive function.\n",
      "This is a recursive function.\n",
      "This is a recursive function.\n",
      "This is a recursive function.\n",
      "This is a recursive function.\n",
      "This is a recursive function.\n",
      "This is a recursive function.\n",
      "This is a recursive function.\n",
      "This is a recursive function.\n",
      "This is a recursive function.\n",
      "This is a recursive function.\n",
      "This is a recursive function.\n",
      "This is a recursive function.\n",
      "This is a recursive function.\n",
      "This is a recursive function.\n",
      "This is a recursive function.\n",
      "This is a recursive function.\n",
      "This is a recursive function.\n",
      "This is a recursive function.\n",
      "This is a recursive function.\n",
      "This is a recursive function.\n",
      "This is a recursive function.\n",
      "This is a recursive function.\n",
      "This is a recursive function.\n",
      "This is a recursive function.\n",
      "This is a recursive function.\n",
      "This is a recursive function.\n",
      "This is a recursive function.\n",
      "This is a recursive function.\n",
      "This is a recursive function.\n",
      "This is a recursive function.\n",
      "This is a recursive function.\n",
      "This is a recursive function.\n",
      "This is a recursive function.\n",
      "This is a recursive function.\n",
      "This is a recursive function.\n",
      "This is a recursive function.\n",
      "This is a recursive function.\n",
      "This is a recursive function.\n",
      "This is a recursive function.\n",
      "This is a recursive function.\n",
      "This is a recursive function.\n",
      "This is a recursive function.\n",
      "This is a recursive function.\n",
      "This is a recursive function.\n",
      "This is a recursive function.\n",
      "This is a recursive function.\n",
      "This is a recursive function.\n",
      "This is a recursive function.\n",
      "This is a recursive function.\n",
      "This is a recursive function.\n",
      "This is a recursive function.\n",
      "This is a recursive function.\n",
      "This is a recursive function.\n",
      "This is a recursive function.\n",
      "This is a recursive function.\n",
      "This is a recursive function.\n",
      "This is a recursive function.\n",
      "This is a recursive function.\n",
      "This is a recursive function.\n",
      "This is a recursive function.\n",
      "This is a recursive function.\n",
      "This is a recursive function.\n",
      "This is a recursive function.\n",
      "This is a recursive function.\n",
      "This is a recursive function.\n",
      "This is a recursive function.\n",
      "This is a recursive function.\n",
      "This is a recursive function.\n",
      "This is a recursive function.\n",
      "This is a recursive function.\n",
      "This is a recursive function.\n",
      "This is a recursive function.\n",
      "This is a recursive function.\n",
      "This is a recursive function.\n",
      "This is a recursive function.\n",
      "This is a recursive function.\n",
      "This is a recursive function.\n",
      "This is a recursive function.\n",
      "This is a recursive function.\n",
      "This is a recursive function.\n",
      "This is a recursive function.\n",
      "This is a recursive function.\n",
      "This is a recursive function.\n",
      "This is a recursive function.\n",
      "This is a recursive function.\n",
      "This is a recursive function.\n",
      "This is a recursive function.\n",
      "This is a recursive function.\n",
      "This is a recursive function.\n",
      "This is a recursive function.\n",
      "This is a recursive function.\n",
      "This is a recursive function.\n",
      "This is a recursive function.\n",
      "This is a recursive function.\n",
      "This is a recursive function.\n",
      "This is a recursive function.\n",
      "This is a recursive function.\n",
      "This is a recursive function.\n",
      "This is a recursive function.\n",
      "This is a recursive function.\n",
      "This is a recursive function.\n",
      "This is a recursive function.\n",
      "This is a recursive function.\n",
      "This is a recursive function.\n",
      "This is a recursive function.\n",
      "This is a recursive function.\n",
      "This is a recursive function.\n",
      "This is a recursive function.\n",
      "This is a recursive function.\n",
      "This is a recursive function.\n",
      "This is a recursive function.\n",
      "This is a recursive function.\n",
      "This is a recursive function.\n",
      "This is a recursive function.\n",
      "This is a recursive function.\n",
      "This is a recursive function.\n",
      "This is a recursive function.\n",
      "This is a recursive function.\n",
      "This is a recursive function.\n",
      "This is a recursive function.\n",
      "This is a recursive function.\n",
      "This is a recursive function.\n",
      "This is a recursive function.\n",
      "This is a recursive function.\n",
      "This is a recursive function.\n",
      "This is a recursive function.\n",
      "This is a recursive function.\n",
      "This is a recursive function.\n",
      "This is a recursive function.\n",
      "This is a recursive function.\n",
      "This is a recursive function.\n",
      "This is a recursive function.\n",
      "This is a recursive function.\n",
      "This is a recursive function.\n",
      "This is a recursive function.\n",
      "This is a recursive function.\n",
      "This is a recursive function.\n",
      "This is a recursive function.\n",
      "This is a recursive function.\n",
      "This is a recursive function.\n",
      "This is a recursive function.\n",
      "This is a recursive function.\n",
      "This is a recursive function.\n",
      "This is a recursive function.\n",
      "This is a recursive function.\n",
      "This is a recursive function.\n",
      "This is a recursive function.\n",
      "This is a recursive function.\n",
      "This is a recursive function.\n",
      "This is a recursive function.\n",
      "This is a recursive function.\n",
      "This is a recursive function.\n",
      "This is a recursive function.\n",
      "This is a recursive function.\n",
      "This is a recursive function.\n",
      "This is a recursive function.\n",
      "This is a recursive function.\n",
      "This is a recursive function.\n",
      "This is a recursive function.\n",
      "This is a recursive function.\n",
      "This is a recursive function.\n",
      "This is a recursive function.\n",
      "This is a recursive function.\n",
      "This is a recursive function.\n",
      "This is a recursive function.\n",
      "This is a recursive function.\n",
      "This is a recursive function.\n",
      "This is a recursive function.\n",
      "This is a recursive function.\n",
      "This is a recursive function.\n",
      "This is a recursive function.\n",
      "This is a recursive function.\n",
      "This is a recursive function.\n",
      "This is a recursive function.\n",
      "This is a recursive function.\n",
      "This is a recursive function.\n",
      "This is a recursive function.\n",
      "This is a recursive function.\n",
      "This is a recursive function.\n",
      "This is a recursive function.\n",
      "This is a recursive function.\n",
      "This is a recursive function.\n",
      "This is a recursive function.\n",
      "This is a recursive function.\n",
      "This is a recursive function.\n",
      "This is a recursive function.\n",
      "This is a recursive function.\n",
      "This is a recursive function.\n",
      "This is a recursive function.\n",
      "This is a recursive function.\n",
      "This is a recursive function.\n",
      "This is a recursive function.\n",
      "This is a recursive function.\n",
      "This is a recursive function.\n",
      "This is a recursive function.\n",
      "This is a recursive function.\n",
      "This is a recursive function.\n",
      "This is a recursive function.\n",
      "This is a recursive function.\n",
      "This is a recursive function.\n",
      "This is a recursive function.\n",
      "This is a recursive function.\n",
      "This is a recursive function.\n",
      "This is a recursive function.\n",
      "This is a recursive function.\n",
      "This is a recursive function.\n",
      "This is a recursive function.\n",
      "This is a recursive function.\n",
      "This is a recursive function.\n",
      "This is a recursive function.\n",
      "This is a recursive function.\n",
      "This is a recursive function.\n",
      "This is a recursive function.\n",
      "This is a recursive function.\n",
      "This is a recursive function.\n",
      "This is a recursive function.\n",
      "This is a recursive function.\n",
      "This is a recursive function.\n",
      "This is a recursive function.\n",
      "This is a recursive function.\n",
      "This is a recursive function.\n",
      "This is a recursive function.\n",
      "This is a recursive function.\n",
      "This is a recursive function.\n",
      "This is a recursive function.\n",
      "This is a recursive function.\n",
      "This is a recursive function.\n",
      "This is a recursive function.\n",
      "This is a recursive function.\n",
      "This is a recursive function.\n",
      "This is a recursive function.\n",
      "This is a recursive function.\n",
      "This is a recursive function.\n",
      "This is a recursive function.\n",
      "This is a recursive function.\n",
      "This is a recursive function.\n",
      "This is a recursive function.\n",
      "This is a recursive function.\n",
      "This is a recursive function.\n",
      "This is a recursive function.\n",
      "This is a recursive function.\n",
      "This is a recursive function.\n",
      "This is a recursive function.\n",
      "This is a recursive function.\n",
      "This is a recursive function.\n",
      "This is a recursive function.\n",
      "This is a recursive function.\n",
      "This is a recursive function.\n",
      "This is a recursive function.\n",
      "This is a recursive function.\n",
      "This is a recursive function.\n",
      "This is a recursive function.\n",
      "This is a recursive function.\n",
      "This is a recursive function.\n",
      "This is a recursive function.\n",
      "This is a recursive function.\n",
      "This is a recursive function.\n",
      "This is a recursive function.\n",
      "This is a recursive function.\n",
      "This is a recursive function.\n",
      "This is a recursive function.\n",
      "This is a recursive function.\n",
      "This is a recursive function.\n",
      "This is a recursive function.\n",
      "This is a recursive function.\n",
      "This is a recursive function.\n",
      "This is a recursive function.\n",
      "This is a recursive function.\n",
      "This is a recursive function.\n",
      "This is a recursive function.\n",
      "This is a recursive function.\n",
      "This is a recursive function.\n",
      "This is a recursive function.\n",
      "This is a recursive function.\n",
      "This is a recursive function.\n",
      "This is a recursive function.\n",
      "This is a recursive function.\n",
      "This is a recursive function.\n",
      "This is a recursive function.\n",
      "This is a recursive function.\n",
      "This is a recursive function.\n",
      "This is a recursive function.\n",
      "This is a recursive function.\n",
      "This is a recursive function.\n",
      "This is a recursive function.\n",
      "This is a recursive function.\n",
      "This is a recursive function.\n",
      "This is a recursive function.\n",
      "This is a recursive function.\n",
      "This is a recursive function.\n",
      "This is a recursive function.\n",
      "This is a recursive function.\n",
      "This is a recursive function.\n",
      "This is a recursive function.\n",
      "This is a recursive function.\n",
      "This is a recursive function.\n",
      "This is a recursive function.\n",
      "This is a recursive function.\n",
      "This is a recursive function.\n",
      "This is a recursive function.\n",
      "This is a recursive function.\n",
      "This is a recursive function.\n",
      "This is a recursive function.\n",
      "This is a recursive function.\n",
      "This is a recursive function.\n",
      "This is a recursive function.\n",
      "This is a recursive function.\n",
      "This is a recursive function.\n",
      "This is a recursive function.\n",
      "This is a recursive function.\n",
      "This is a recursive function.\n",
      "This is a recursive function.\n",
      "This is a recursive function.\n",
      "This is a recursive function.\n",
      "This is a recursive function.\n",
      "This is a recursive function.\n",
      "This is a recursive function.\n",
      "This is a recursive function.\n",
      "This is a recursive function.\n",
      "This is a recursive function.\n",
      "This is a recursive function.\n",
      "This is a recursive function.\n",
      "This is a recursive function.\n",
      "This is a recursive function.\n",
      "This is a recursive function.\n",
      "This is a recursive function.\n",
      "This is a recursive function.\n",
      "This is a recursive function.\n",
      "This is a recursive function.\n",
      "This is a recursive function.\n",
      "This is a recursive function.\n",
      "This is a recursive function.\n",
      "This is a recursive function.\n",
      "This is a recursive function.\n",
      "This is a recursive function.\n",
      "This is a recursive function.\n",
      "This is a recursive function.\n",
      "This is a recursive function.\n",
      "This is a recursive function.\n",
      "This is a recursive function.\n",
      "This is a recursive function.\n",
      "This is a recursive function.\n",
      "This is a recursive function.\n",
      "This is a recursive function.\n",
      "This is a recursive function.\n",
      "This is a recursive function.\n",
      "This is a recursive function.\n",
      "This is a recursive function.\n",
      "This is a recursive function.\n",
      "This is a recursive function.\n",
      "This is a recursive function.\n",
      "This is a recursive function.\n",
      "This is a recursive function.\n",
      "This is a recursive function.\n",
      "This is a recursive function.\n",
      "This is a recursive function.\n",
      "This is a recursive function.\n",
      "This is a recursive function.\n",
      "This is a recursive function.\n",
      "This is a recursive function.\n",
      "This is a recursive function.\n",
      "This is a recursive function.\n",
      "This is a recursive function.\n",
      "This is a recursive function.\n",
      "This is a recursive function.\n",
      "This is a recursive function.\n",
      "This is a recursive function.\n",
      "This is a recursive function.\n",
      "This is a recursive function.\n",
      "This is a recursive function.\n",
      "This is a recursive function.\n",
      "This is a recursive function.\n",
      "This is a recursive function.\n",
      "This is a recursive function.\n",
      "This is a recursive function.\n",
      "This is a recursive function.\n",
      "This is a recursive function.\n",
      "This is a recursive function.\n",
      "This is a recursive function.\n",
      "This is a recursive function.\n",
      "This is a recursive function.\n",
      "This is a recursive function.\n",
      "This is a recursive function.\n",
      "This is a recursive function.\n",
      "This is a recursive function.\n",
      "This is a recursive function.\n",
      "This is a recursive function.\n",
      "This is a recursive function.\n",
      "This is a recursive function.\n",
      "This is a recursive function.\n",
      "This is a recursive function.\n",
      "This is a recursive function.\n",
      "This is a recursive function.\n",
      "This is a recursive function.\n",
      "This is a recursive function.\n",
      "This is a recursive function.\n",
      "This is a recursive function.\n",
      "This is a recursive function.\n",
      "This is a recursive function.\n",
      "This is a recursive function.\n",
      "This is a recursive function.\n",
      "This is a recursive function.\n",
      "This is a recursive function.\n",
      "This is a recursive function.\n",
      "This is a recursive function.\n",
      "This is a recursive function.\n",
      "This is a recursive function.\n",
      "This is a recursive function.\n",
      "This is a recursive function.\n",
      "This is a recursive function.\n",
      "This is a recursive function.\n",
      "This is a recursive function.\n",
      "This is a recursive function.\n",
      "This is a recursive function.\n",
      "This is a recursive function.\n",
      "This is a recursive function.\n",
      "This is a recursive function.\n",
      "This is a recursive function.\n",
      "This is a recursive function.\n",
      "This is a recursive function.\n",
      "This is a recursive function.\n",
      "This is a recursive function.\n",
      "This is a recursive function.\n",
      "This is a recursive function.\n",
      "This is a recursive function.\n",
      "This is a recursive function.\n",
      "This is a recursive function.\n",
      "This is a recursive function.\n",
      "This is a recursive function.\n",
      "This is a recursive function.\n",
      "This is a recursive function.\n",
      "This is a recursive function.\n",
      "This is a recursive function.\n",
      "This is a recursive function.\n",
      "This is a recursive function.\n",
      "This is a recursive function.\n",
      "This is a recursive function.\n",
      "This is a recursive function.\n",
      "This is a recursive function.\n",
      "This is a recursive function.\n",
      "This is a recursive function.\n",
      "This is a recursive function.\n",
      "This is a recursive function.\n",
      "This is a recursive function.\n",
      "This is a recursive function.\n",
      "This is a recursive function.\n",
      "This is a recursive function.\n",
      "This is a recursive function.\n",
      "This is a recursive function.\n",
      "This is a recursive function.\n",
      "This is a recursive function.\n",
      "This is a recursive function.\n",
      "This is a recursive function.\n",
      "This is a recursive function.\n",
      "This is a recursive function.\n",
      "This is a recursive function.\n",
      "This is a recursive function.\n",
      "This is a recursive function.\n",
      "This is a recursive function.\n",
      "This is a recursive function.\n",
      "This is a recursive function.\n",
      "This is a recursive function.\n",
      "This is a recursive function.\n",
      "This is a recursive function.\n",
      "This is a recursive function.\n",
      "This is a recursive function.\n",
      "This is a recursive function.\n",
      "This is a recursive function.\n",
      "This is a recursive function.\n",
      "This is a recursive function.\n",
      "This is a recursive function.\n",
      "This is a recursive function.\n",
      "This is a recursive function.\n",
      "This is a recursive function.\n",
      "This is a recursive function.\n",
      "This is a recursive function.\n",
      "This is a recursive function.\n",
      "This is a recursive function.\n",
      "This is a recursive function.\n",
      "This is a recursive function.\n",
      "This is a recursive function.\n",
      "This is a recursive function.\n",
      "This is a recursive function.\n",
      "This is a recursive function.\n",
      "This is a recursive function.\n",
      "This is a recursive function.\n",
      "This is a recursive function.\n",
      "This is a recursive function.\n",
      "This is a recursive function.\n",
      "This is a recursive function.\n",
      "This is a recursive function.\n",
      "This is a recursive function.\n",
      "This is a recursive function.\n",
      "This is a recursive function.\n",
      "This is a recursive function.\n",
      "This is a recursive function.\n",
      "This is a recursive function.\n",
      "This is a recursive function.\n",
      "This is a recursive function.\n",
      "This is a recursive function.\n",
      "This is a recursive function.\n",
      "This is a recursive function.\n",
      "This is a recursive function.\n",
      "This is a recursive function.\n",
      "This is a recursive function.\n",
      "This is a recursive function.\n",
      "This is a recursive function.\n",
      "This is a recursive function.\n",
      "This is a recursive function.\n",
      "This is a recursive function.\n",
      "This is a recursive function.\n",
      "This is a recursive function.\n",
      "This is a recursive function.\n",
      "This is a recursive function.\n",
      "This is a recursive function.\n",
      "This is a recursive function.\n",
      "This is a recursive function.\n",
      "This is a recursive function.\n",
      "This is a recursive function.\n",
      "This is a recursive function.\n",
      "This is a recursive function.\n",
      "This is a recursive function.\n",
      "This is a recursive function.\n",
      "This is a recursive function.\n",
      "This is a recursive function.\n",
      "This is a recursive function.\n",
      "This is a recursive function.\n",
      "This is a recursive function.\n",
      "This is a recursive function.\n",
      "This is a recursive function.\n",
      "This is a recursive function.\n",
      "This is a recursive function.\n",
      "This is a recursive function.\n",
      "This is a recursive function.\n",
      "This is a recursive function.\n",
      "This is a recursive function.\n",
      "This is a recursive function.\n",
      "This is a recursive function.\n",
      "This is a recursive function.\n",
      "This is a recursive function.\n",
      "This is a recursive function.\n",
      "This is a recursive function.\n",
      "This is a recursive function.\n",
      "This is a recursive function.\n",
      "This is a recursive function.\n",
      "This is a recursive function.\n",
      "This is a recursive function.\n",
      "This is a recursive function.\n",
      "This is a recursive function.\n",
      "This is a recursive function.\n",
      "This is a recursive function.\n",
      "This is a recursive function.\n",
      "This is a recursive function.\n",
      "This is a recursive function.\n",
      "This is a recursive function.\n",
      "This is a recursive function.\n",
      "This is a recursive function.\n",
      "This is a recursive function.\n",
      "This is a recursive function.\n",
      "This is a recursive function.\n",
      "This is a recursive function.\n",
      "This is a recursive function.\n",
      "This is a recursive function.\n",
      "This is a recursive function.\n",
      "This is a recursive function.\n",
      "This is a recursive function.\n",
      "This is a recursive function.\n",
      "This is a recursive function.\n",
      "This is a recursive function.\n",
      "This is a recursive function.\n",
      "This is a recursive function.\n",
      "This is a recursive function.\n",
      "This is a recursive function.\n",
      "This is a recursive function.\n",
      "This is a recursive function.\n",
      "This is a recursive function.\n",
      "This is a recursive function.\n",
      "This is a recursive function.\n",
      "This is a recursive function.\n",
      "This is a recursive function.\n",
      "This is a recursive function.\n",
      "This is a recursive function.\n",
      "This is a recursive function.\n",
      "This is a recursive function.\n",
      "This is a recursive function.\n",
      "This is a recursive function.\n",
      "This is a recursive function.\n",
      "This is a recursive function.\n",
      "This is a recursive function.\n",
      "This is a recursive function.\n",
      "This is a recursive function.\n",
      "This is a recursive function.\n",
      "This is a recursive function.\n",
      "This is a recursive function.\n",
      "This is a recursive function.\n",
      "This is a recursive function.\n",
      "This is a recursive function.\n",
      "This is a recursive function.\n",
      "This is a recursive function.\n",
      "This is a recursive function.\n",
      "This is a recursive function.\n",
      "This is a recursive function.\n",
      "This is a recursive function.\n",
      "This is a recursive function.\n",
      "This is a recursive function.\n",
      "This is a recursive function.\n",
      "This is a recursive function.\n",
      "This is a recursive function.\n",
      "This is a recursive function.\n",
      "This is a recursive function.\n",
      "This is a recursive function.\n",
      "This is a recursive function.\n",
      "This is a recursive function.\n",
      "This is a recursive function.\n",
      "This is a recursive function.\n",
      "This is a recursive function.\n",
      "This is a recursive function.\n",
      "This is a recursive function.\n",
      "This is a recursive function.\n",
      "This is a recursive function.\n",
      "This is a recursive function.\n",
      "This is a recursive function.\n",
      "This is a recursive function.\n",
      "This is a recursive function.\n",
      "This is a recursive function.\n",
      "This is a recursive function.\n",
      "This is a recursive function.\n",
      "This is a recursive function.\n",
      "This is a recursive function.\n",
      "This is a recursive function.\n",
      "This is a recursive function.\n",
      "This is a recursive function.\n",
      "This is a recursive function.\n",
      "This is a recursive function.\n",
      "This is a recursive function.\n",
      "This is a recursive function.\n",
      "This is a recursive function.\n",
      "This is a recursive function.\n",
      "This is a recursive function.\n",
      "This is a recursive function.\n",
      "This is a recursive function.\n",
      "This is a recursive function.\n",
      "This is a recursive function.\n",
      "This is a recursive function.\n",
      "This is a recursive function.\n",
      "This is a recursive function.\n",
      "This is a recursive function.\n",
      "This is a recursive function.\n",
      "This is a recursive function.\n",
      "This is a recursive function.\n",
      "This is a recursive function.\n",
      "This is a recursive function.\n",
      "This is a recursive function.\n",
      "This is a recursive function.\n",
      "This is a recursive function.\n",
      "This is a recursive function.\n",
      "This is a recursive function.\n",
      "This is a recursive function.\n",
      "This is a recursive function.\n",
      "This is a recursive function.\n",
      "This is a recursive function.\n",
      "This is a recursive function.\n",
      "This is a recursive function.\n",
      "This is a recursive function.\n",
      "This is a recursive function.\n",
      "This is a recursive function.\n",
      "This is a recursive function.\n",
      "This is a recursive function.\n",
      "This is a recursive function.\n",
      "This is a recursive function.\n",
      "This is a recursive function.\n",
      "This is a recursive function.\n",
      "This is a recursive function.\n",
      "This is a recursive function.\n",
      "This is a recursive function.\n",
      "This is a recursive function.\n",
      "This is a recursive function.\n",
      "This is a recursive function.\n",
      "This is a recursive function.\n",
      "This is a recursive function.\n",
      "This is a recursive function.\n",
      "This is a recursive function.\n",
      "This is a recursive function.\n",
      "This is a recursive function.\n",
      "This is a recursive function.\n",
      "This is a recursive function.\n",
      "This is a recursive function.\n",
      "This is a recursive function.\n",
      "This is a recursive function.\n",
      "This is a recursive function.\n",
      "This is a recursive function.\n",
      "This is a recursive function.\n",
      "This is a recursive function.\n",
      "This is a recursive function.\n",
      "This is a recursive function.\n",
      "This is a recursive function.\n",
      "This is a recursive function.\n",
      "This is a recursive function.\n",
      "This is a recursive function.\n",
      "This is a recursive function.\n",
      "This is a recursive function.\n",
      "This is a recursive function.\n",
      "This is a recursive function.\n",
      "This is a recursive function.\n",
      "This is a recursive function.\n",
      "This is a recursive function.\n",
      "This is a recursive function.\n",
      "This is a recursive function.\n",
      "This is a recursive function.\n",
      "This is a recursive function.\n",
      "This is a recursive function.\n",
      "This is a recursive function.\n",
      "This is a recursive function.\n",
      "This is a recursive function.\n",
      "This is a recursive function.\n",
      "This is a recursive function.\n",
      "This is a recursive function.\n",
      "This is a recursive function.\n",
      "This is a recursive function.\n",
      "This is a recursive function.\n",
      "This is a recursive function.\n",
      "This is a recursive function.\n",
      "This is a recursive function.\n",
      "This is a recursive function.\n",
      "This is a recursive function.\n",
      "This is a recursive function.\n",
      "This is a recursive function.\n",
      "This is a recursive function.\n",
      "This is a recursive function.\n",
      "This is a recursive function.\n",
      "This is a recursive function.\n",
      "This is a recursive function.\n",
      "This is a recursive function.\n",
      "This is a recursive function.\n",
      "This is a recursive function.\n",
      "This is a recursive function.\n",
      "This is a recursive function.\n",
      "This is a recursive function.\n",
      "This is a recursive function.\n",
      "This is a recursive function.\n",
      "This is a recursive function.\n",
      "This is a recursive function.\n",
      "This is a recursive function.\n",
      "This is a recursive function.\n",
      "This is a recursive function.\n",
      "This is a recursive function.\n",
      "This is a recursive function.\n",
      "This is a recursive function.\n",
      "This is a recursive function.\n",
      "This is a recursive function.\n",
      "This is a recursive function.\n",
      "This is a recursive function.\n",
      "This is a recursive function.\n",
      "This is a recursive function.\n",
      "This is a recursive function.\n",
      "This is a recursive function.\n",
      "This is a recursive function.\n",
      "This is a recursive function.\n",
      "This is a recursive function.\n",
      "This is a recursive function.\n",
      "This is a recursive function.\n",
      "This is a recursive function.\n",
      "This is a recursive function.\n",
      "This is a recursive function.\n",
      "This is a recursive function.\n",
      "This is a recursive function.\n",
      "This is a recursive function.\n",
      "This is a recursive function.\n",
      "This is a recursive function.\n",
      "This is a recursive function.\n",
      "This is a recursive function.\n",
      "This is a recursive function.\n",
      "This is a recursive function.\n",
      "This is a recursive function.\n",
      "This is a recursive function.\n",
      "This is a recursive function.\n",
      "This is a recursive function.\n",
      "This is a recursive function.\n",
      "This is a recursive function.\n",
      "This is a recursive function.\n",
      "This is a recursive function.\n",
      "This is a recursive function.\n",
      "This is a recursive function.\n",
      "This is a recursive function.\n",
      "This is a recursive function.\n",
      "This is a recursive function.\n",
      "This is a recursive function.\n",
      "This is a recursive function.\n",
      "This is a recursive function.\n",
      "This is a recursive function.\n",
      "This is a recursive function.\n",
      "This is a recursive function.\n",
      "This is a recursive function.\n",
      "This is a recursive function.\n",
      "This is a recursive function.\n",
      "This is a recursive function.\n",
      "This is a recursive function.\n",
      "This is a recursive function.\n",
      "This is a recursive function.\n",
      "This is a recursive function.\n",
      "This is a recursive function.\n",
      "This is a recursive function.\n",
      "This is a recursive function.\n",
      "This is a recursive function.\n",
      "This is a recursive function.\n",
      "This is a recursive function.\n",
      "This is a recursive function.\n",
      "This is a recursive function.\n",
      "This is a recursive function.\n",
      "This is a recursive function.\n",
      "This is a recursive function.\n",
      "This is a recursive function.\n",
      "This is a recursive function.\n",
      "This is a recursive function.\n",
      "This is a recursive function.\n",
      "This is a recursive function.\n",
      "This is a recursive function.\n",
      "This is a recursive function.\n",
      "This is a recursive function.\n",
      "This is a recursive function.\n",
      "This is a recursive function.\n",
      "This is a recursive function.\n",
      "This is a recursive function.\n",
      "This is a recursive function.\n",
      "This is a recursive function.\n",
      "This is a recursive function.\n",
      "This is a recursive function.\n",
      "This is a recursive function.\n",
      "This is a recursive function.\n",
      "This is a recursive function.\n",
      "This is a recursive function.\n",
      "This is a recursive function.\n",
      "This is a recursive function.\n",
      "This is a recursive function.\n",
      "This is a recursive function.\n",
      "This is a recursive function.\n",
      "This is a recursive function.\n",
      "This is a recursive function.\n",
      "This is a recursive function.\n",
      "This is a recursive function.\n",
      "This is a recursive function.\n",
      "This is a recursive function.\n",
      "This is a recursive function.\n",
      "This is a recursive function.\n",
      "This is a recursive function.\n",
      "This is a recursive function.\n",
      "This is a recursive function.\n",
      "This is a recursive function.\n",
      "This is a recursive function.\n",
      "This is a recursive function.\n",
      "This is a recursive function.\n",
      "This is a recursive function.\n",
      "This is a recursive function.\n",
      "This is a recursive function.\n",
      "This is a recursive function.\n",
      "This is a recursive function.\n",
      "This is a recursive function.\n",
      "This is a recursive function.\n",
      "This is a recursive function.\n",
      "This is a recursive function.\n",
      "This is a recursive function.\n",
      "This is a recursive function.\n",
      "This is a recursive function.\n",
      "This is a recursive function.\n",
      "This is a recursive function.\n",
      "This is a recursive function.\n",
      "This is a recursive function.\n",
      "This is a recursive function.\n",
      "This is a recursive function.\n",
      "This is a recursive function.\n",
      "This is a recursive function.\n",
      "This is a recursive function.\n",
      "This is a recursive function.\n",
      "This is a recursive function.\n",
      "This is a recursive function.\n",
      "This is a recursive function.\n",
      "This is a recursive function.\n",
      "This is a recursive function.\n",
      "This is a recursive function.\n",
      "This is a recursive function.\n",
      "This is a recursive function.\n",
      "This is a recursive function.\n",
      "This is a recursive function.\n",
      "This is a recursive function.\n",
      "This is a recursive function.\n",
      "This is a recursive function.\n",
      "This is a recursive function.\n",
      "This is a recursive function.\n",
      "This is a recursive function.\n",
      "This is a recursive function.\n",
      "This is a recursive function.\n",
      "This is a recursive function.\n",
      "This is a recursive function.\n",
      "This is a recursive function.\n",
      "This is a recursive function.\n",
      "This is a recursive function.\n",
      "This is a recursive function.\n",
      "This is a recursive function.\n",
      "This is a recursive function.\n",
      "This is a recursive function.\n",
      "This is a recursive function.\n",
      "This is a recursive function.\n",
      "This is a recursive function.\n",
      "This is a recursive function.\n",
      "This is a recursive function.\n",
      "This is a recursive function.\n",
      "This is a recursive function.\n",
      "This is a recursive function.\n",
      "This is a recursive function.\n",
      "This is a recursive function.\n",
      "This is a recursive function.\n",
      "This is a recursive function.\n",
      "This is a recursive function.\n",
      "This is a recursive function.\n",
      "This is a recursive function.\n",
      "This is a recursive function.\n",
      "This is a recursive function.\n",
      "This is a recursive function.\n",
      "This is a recursive function.\n",
      "This is a recursive function.\n",
      "This is a recursive function.\n",
      "This is a recursive function.\n",
      "This is a recursive function.\n",
      "This is a recursive function.\n",
      "This is a recursive function.\n",
      "This is a recursive function.\n",
      "This is a recursive function.\n",
      "This is a recursive function.\n",
      "This is a recursive function.\n",
      "This is a recursive function.\n",
      "This is a recursive function.\n",
      "This is a recursive function.\n",
      "This is a recursive function.\n",
      "This is a recursive function.\n",
      "This is a recursive function.\n",
      "This is a recursive function.\n",
      "This is a recursive function.\n",
      "This is a recursive function.\n",
      "This is a recursive function.\n",
      "This is a recursive function.\n",
      "This is a recursive function.\n",
      "This is a recursive function.\n",
      "This is a recursive function.\n",
      "This is a recursive function.\n",
      "This is a recursive function.\n",
      "This is a recursive function.\n",
      "This is a recursive function.\n",
      "This is a recursive function.\n",
      "This is a recursive function.\n",
      "This is a recursive function.\n",
      "This is a recursive function.\n",
      "This is a recursive function.\n",
      "This is a recursive function.\n",
      "This is a recursive function.\n",
      "This is a recursive function.\n",
      "This is a recursive function.\n",
      "This is a recursive function.\n",
      "This is a recursive function.\n",
      "This is a recursive function.\n",
      "This is a recursive function.\n",
      "This is a recursive function.\n",
      "This is a recursive function.\n",
      "This is a recursive function.\n",
      "This is a recursive function.\n",
      "This is a recursive function.\n",
      "This is a recursive function.\n",
      "This is a recursive function.\n",
      "This is a recursive function.\n",
      "This is a recursive function.\n",
      "This is a recursive function.\n",
      "This is a recursive function.\n",
      "This is a recursive function.\n",
      "This is a recursive function.\n",
      "This is a recursive function.\n",
      "This is a recursive function.\n",
      "This is a recursive function.\n",
      "This is a recursive function.\n",
      "This is a recursive function.\n",
      "This is a recursive function.\n",
      "This is a recursive function.\n",
      "This is a recursive function.\n",
      "This is a recursive function.\n",
      "This is a recursive function.\n",
      "This is a recursive function.\n",
      "This is a recursive function.\n",
      "This is a recursive function.\n",
      "This is a recursive function.\n",
      "This is a recursive function.\n",
      "This is a recursive function.\n",
      "This is a recursive function.\n",
      "This is a recursive function.\n",
      "This is a recursive function.\n",
      "This is a recursive function.\n"
     ]
    },
    {
     "name": "stdout",
     "output_type": "stream",
     "text": [
      "This is a recursive function.\n",
      "This is a recursive function.\n",
      "This is a recursive function.\n",
      "This is a recursive function.\n",
      "This is a recursive function.\n",
      "This is a recursive function.\n",
      "This is a recursive function.\n",
      "This is a recursive function.\n",
      "This is a recursive function.\n",
      "This is a recursive function.\n",
      "This is a recursive function.\n",
      "This is a recursive function.\n",
      "This is a recursive function.\n",
      "This is a recursive function.\n",
      "This is a recursive function.\n",
      "This is a recursive function.\n",
      "This is a recursive function.\n",
      "This is a recursive function.\n",
      "This is a recursive function.\n",
      "This is a recursive function.\n",
      "This is a recursive function.\n",
      "This is a recursive function.\n",
      "This is a recursive function.\n",
      "This is a recursive function.\n",
      "This is a recursive function.\n",
      "This is a recursive function.\n",
      "This is a recursive function.\n",
      "This is a recursive function.\n",
      "This is a recursive function.\n",
      "This is a recursive function.\n",
      "This is a recursive function.\n",
      "This is a recursive function.\n",
      "This is a recursive function.\n",
      "This is a recursive function.\n",
      "This is a recursive function.\n",
      "This is a recursive function.\n",
      "This is a recursive function.\n",
      "This is a recursive function.\n",
      "This is a recursive function.\n",
      "This is a recursive function.\n",
      "This is a recursive function.\n",
      "This is a recursive function.\n",
      "This is a recursive function.\n",
      "This is a recursive function.\n",
      "This is a recursive function.\n",
      "This is a recursive function.\n",
      "This is a recursive function.\n",
      "This is a recursive function.\n",
      "This is a recursive function.\n",
      "This is a recursive function.\n",
      "This is a recursive function.\n",
      "This is a recursive function.\n",
      "This is a recursive function.\n",
      "This is a recursive function.\n",
      "This is a recursive function.\n",
      "This is a recursive function.\n",
      "This is a recursive function.\n",
      "This is a recursive function.\n",
      "This is a recursive function.\n",
      "This is a recursive function.\n",
      "This is a recursive function.\n",
      "This is a recursive function.\n",
      "This is a recursive function.\n",
      "This is a recursive function.\n",
      "This is a recursive function.\n",
      "This is a recursive function.\n",
      "This is a recursive function.\n",
      "This is a recursive function.\n",
      "This is a recursive function.\n",
      "This is a recursive function.\n",
      "This is a recursive function.\n",
      "This is a recursive function.\n",
      "This is a recursive function.\n",
      "This is a recursive function.\n",
      "This is a recursive function.\n",
      "This is a recursive function.\n",
      "This is a recursive function.\n",
      "This is a recursive function.\n",
      "This is a recursive function.\n",
      "This is a recursive function.\n",
      "This is a recursive function.\n",
      "This is a recursive function.\n",
      "This is a recursive function.\n",
      "This is a recursive function.\n",
      "This is a recursive function.\n",
      "This is a recursive function.\n",
      "This is a recursive function.\n",
      "This is a recursive function.\n",
      "This is a recursive function.\n",
      "This is a recursive function.\n",
      "This is a recursive function.\n",
      "This is a recursive function.\n",
      "This is a recursive function.\n",
      "This is a recursive function.\n",
      "This is a recursive function.\n",
      "This is a recursive function.\n",
      "This is a recursive function.\n",
      "This is a recursive function.\n",
      "This is a recursive function.\n",
      "This is a recursive function.\n",
      "This is a recursive function.\n",
      "This is a recursive function.\n",
      "This is a recursive function.\n",
      "This is a recursive function.\n",
      "This is a recursive function.\n",
      "This is a recursive function.\n",
      "This is a recursive function.\n",
      "This is a recursive function.\n",
      "This is a recursive function.\n",
      "This is a recursive function.\n",
      "This is a recursive function.\n",
      "This is a recursive function.\n",
      "This is a recursive function.\n",
      "This is a recursive function.\n",
      "This is a recursive function.\n",
      "This is a recursive function.\n",
      "This is a recursive function.\n",
      "This is a recursive function.\n",
      "This is a recursive function.\n",
      "This is a recursive function.\n",
      "This is a recursive function.\n",
      "This is a recursive function.\n",
      "This is a recursive function.\n",
      "This is a recursive function.\n",
      "This is a recursive function.\n",
      "This is a recursive function.\n",
      "This is a recursive function.\n",
      "This is a recursive function.\n",
      "This is a recursive function.\n",
      "This is a recursive function.\n",
      "This is a recursive function.\n",
      "This is a recursive function.\n",
      "This is a recursive function.\n",
      "This is a recursive function.\n",
      "This is a recursive function.\n",
      "This is a recursive function.\n",
      "This is a recursive function.\n",
      "This is a recursive function.\n",
      "This is a recursive function.\n",
      "This is a recursive function.\n",
      "This is a recursive function.\n",
      "This is a recursive function.\n",
      "This is a recursive function.\n",
      "This is a recursive function.\n",
      "This is a recursive function.\n",
      "This is a recursive function.\n",
      "This is a recursive function.\n",
      "This is a recursive function.\n",
      "This is a recursive function.\n",
      "This is a recursive function.\n",
      "This is a recursive function.\n",
      "This is a recursive function.\n",
      "This is a recursive function.\n",
      "This is a recursive function.\n",
      "This is a recursive function.\n",
      "This is a recursive function.\n",
      "This is a recursive function.\n",
      "This is a recursive function.\n",
      "This is a recursive function.\n",
      "This is a recursive function.\n",
      "This is a recursive function.\n",
      "This is a recursive function.\n",
      "This is a recursive function.\n",
      "This is a recursive function.\n",
      "This is a recursive function.\n",
      "This is a recursive function.\n",
      "This is a recursive function.\n",
      "This is a recursive function.\n",
      "This is a recursive function.\n",
      "This is a recursive function.\n",
      "This is a recursive function.\n",
      "This is a recursive function.\n",
      "This is a recursive function.\n",
      "This is a recursive function.\n",
      "This is a recursive function.\n",
      "This is a recursive function.\n",
      "This is a recursive function.\n",
      "This is a recursive function.\n",
      "This is a recursive function.\n",
      "This is a recursive function.\n",
      "This is a recursive function.\n",
      "This is a recursive function.\n",
      "This is a recursive function.\n",
      "This is a recursive function.\n",
      "This is a recursive function.\n",
      "This is a recursive function.\n",
      "This is a recursive function.\n",
      "This is a recursive function.\n",
      "This is a recursive function.\n",
      "This is a recursive function.\n",
      "This is a recursive function.\n",
      "This is a recursive function.\n",
      "This is a recursive function.\n",
      "This is a recursive function.\n",
      "This is a recursive function.\n",
      "This is a recursive function.\n",
      "This is a recursive function.\n",
      "This is a recursive function.\n",
      "This is a recursive function.\n",
      "This is a recursive function.\n",
      "This is a recursive function.\n",
      "This is a recursive function.\n",
      "This is a recursive function.\n",
      "This is a recursive function.\n",
      "This is a recursive function.\n",
      "This is a recursive function.\n",
      "This is a recursive function.\n",
      "This is a recursive function.\n",
      "This is a recursive function.\n",
      "This is a recursive function.\n",
      "This is a recursive function.\n",
      "This is a recursive function.\n",
      "This is a recursive function.\n",
      "This is a recursive function.\n",
      "This is a recursive function.\n",
      "This is a recursive function.\n",
      "This is a recursive function.\n",
      "This is a recursive function.\n",
      "This is a recursive function.\n",
      "This is a recursive function.\n",
      "This is a recursive function.\n",
      "This is a recursive function.\n",
      "This is a recursive function.\n",
      "This is a recursive function.\n",
      "This is a recursive function.\n",
      "This is a recursive function.\n",
      "This is a recursive function.\n",
      "This is a recursive function.\n"
     ]
    },
    {
     "ename": "RecursionError",
     "evalue": "maximum recursion depth exceeded while calling a Python object",
     "output_type": "error",
     "traceback": [
      "\u001b[1;31m---------------------------------------------------------------------------\u001b[0m",
      "\u001b[1;31mRecursionError\u001b[0m                            Traceback (most recent call last)",
      "\u001b[1;32m<ipython-input-17-31053415e360>\u001b[0m in \u001b[0;36m<module>\u001b[1;34m\u001b[0m\n\u001b[0;32m      9\u001b[0m     \u001b[0mmessage\u001b[0m\u001b[1;33m(\u001b[0m\u001b[1;33m)\u001b[0m\u001b[1;33m\u001b[0m\u001b[1;33m\u001b[0m\u001b[0m\n\u001b[0;32m     10\u001b[0m \u001b[1;33m\u001b[0m\u001b[0m\n\u001b[1;32m---> 11\u001b[1;33m \u001b[0mmain\u001b[0m\u001b[1;33m(\u001b[0m\u001b[1;33m)\u001b[0m\u001b[1;33m\u001b[0m\u001b[1;33m\u001b[0m\u001b[0m\n\u001b[0m",
      "\u001b[1;32m<ipython-input-17-31053415e360>\u001b[0m in \u001b[0;36mmain\u001b[1;34m()\u001b[0m\n\u001b[0;32m      3\u001b[0m \u001b[1;33m\u001b[0m\u001b[0m\n\u001b[0;32m      4\u001b[0m \u001b[1;32mdef\u001b[0m \u001b[0mmain\u001b[0m\u001b[1;33m(\u001b[0m\u001b[1;33m)\u001b[0m\u001b[1;33m:\u001b[0m\u001b[1;33m\u001b[0m\u001b[1;33m\u001b[0m\u001b[0m\n\u001b[1;32m----> 5\u001b[1;33m     \u001b[0mmessage\u001b[0m\u001b[1;33m(\u001b[0m\u001b[1;33m)\u001b[0m\u001b[1;33m\u001b[0m\u001b[1;33m\u001b[0m\u001b[0m\n\u001b[0m\u001b[0;32m      6\u001b[0m \u001b[1;33m\u001b[0m\u001b[0m\n\u001b[0;32m      7\u001b[0m \u001b[1;32mdef\u001b[0m \u001b[0mmessage\u001b[0m\u001b[1;33m(\u001b[0m\u001b[1;33m)\u001b[0m\u001b[1;33m:\u001b[0m\u001b[1;33m\u001b[0m\u001b[1;33m\u001b[0m\u001b[0m\n",
      "\u001b[1;32m<ipython-input-17-31053415e360>\u001b[0m in \u001b[0;36mmessage\u001b[1;34m()\u001b[0m\n\u001b[0;32m      7\u001b[0m \u001b[1;32mdef\u001b[0m \u001b[0mmessage\u001b[0m\u001b[1;33m(\u001b[0m\u001b[1;33m)\u001b[0m\u001b[1;33m:\u001b[0m\u001b[1;33m\u001b[0m\u001b[1;33m\u001b[0m\u001b[0m\n\u001b[0;32m      8\u001b[0m     \u001b[0mprint\u001b[0m\u001b[1;33m(\u001b[0m\u001b[1;34m'This is a recursive function.'\u001b[0m\u001b[1;33m)\u001b[0m\u001b[1;33m\u001b[0m\u001b[1;33m\u001b[0m\u001b[0m\n\u001b[1;32m----> 9\u001b[1;33m     \u001b[0mmessage\u001b[0m\u001b[1;33m(\u001b[0m\u001b[1;33m)\u001b[0m\u001b[1;33m\u001b[0m\u001b[1;33m\u001b[0m\u001b[0m\n\u001b[0m\u001b[0;32m     10\u001b[0m \u001b[1;33m\u001b[0m\u001b[0m\n\u001b[0;32m     11\u001b[0m \u001b[0mmain\u001b[0m\u001b[1;33m(\u001b[0m\u001b[1;33m)\u001b[0m\u001b[1;33m\u001b[0m\u001b[1;33m\u001b[0m\u001b[0m\n",
      "... last 1 frames repeated, from the frame below ...\n",
      "\u001b[1;32m<ipython-input-17-31053415e360>\u001b[0m in \u001b[0;36mmessage\u001b[1;34m()\u001b[0m\n\u001b[0;32m      7\u001b[0m \u001b[1;32mdef\u001b[0m \u001b[0mmessage\u001b[0m\u001b[1;33m(\u001b[0m\u001b[1;33m)\u001b[0m\u001b[1;33m:\u001b[0m\u001b[1;33m\u001b[0m\u001b[1;33m\u001b[0m\u001b[0m\n\u001b[0;32m      8\u001b[0m     \u001b[0mprint\u001b[0m\u001b[1;33m(\u001b[0m\u001b[1;34m'This is a recursive function.'\u001b[0m\u001b[1;33m)\u001b[0m\u001b[1;33m\u001b[0m\u001b[1;33m\u001b[0m\u001b[0m\n\u001b[1;32m----> 9\u001b[1;33m     \u001b[0mmessage\u001b[0m\u001b[1;33m(\u001b[0m\u001b[1;33m)\u001b[0m\u001b[1;33m\u001b[0m\u001b[1;33m\u001b[0m\u001b[0m\n\u001b[0m\u001b[0;32m     10\u001b[0m \u001b[1;33m\u001b[0m\u001b[0m\n\u001b[0;32m     11\u001b[0m \u001b[0mmain\u001b[0m\u001b[1;33m(\u001b[0m\u001b[1;33m)\u001b[0m\u001b[1;33m\u001b[0m\u001b[1;33m\u001b[0m\u001b[0m\n",
      "\u001b[1;31mRecursionError\u001b[0m: maximum recursion depth exceeded while calling a Python object"
     ]
    }
   ],
   "source": [
    "#CHAPTER 12: Recursion\n",
    "# = A recursive function is a function that calls itself\n",
    "#Below is an example and it will lead to a maximum error.\n",
    "\n",
    "def main():\n",
    "    message()\n",
    "    \n",
    "def message():\n",
    "    print('This is a recursive function.')\n",
    "    message()\n",
    "    \n",
    "main()"
   ]
  },
  {
   "cell_type": "code",
   "execution_count": 18,
   "metadata": {},
   "outputs": [
    {
     "name": "stdout",
     "output_type": "stream",
     "text": [
      "This is a recursive function.\n",
      "This is a recursive function.\n",
      "This is a recursive function.\n",
      "This is a recursive function.\n",
      "This is a recursive function.\n"
     ]
    }
   ],
   "source": [
    "#Recursive function with a break\n",
    "#We can control how many times to repeat itself\n",
    "def main():\n",
    "    message(5)\n",
    "    \n",
    "def message(times):\n",
    "    if times > 0:\n",
    "        print('This is a recursive function.')\n",
    "        message(times - 1)\n",
    "        \n",
    "main()"
   ]
  },
  {
   "cell_type": "code",
   "execution_count": 21,
   "metadata": {},
   "outputs": [],
   "source": [
    "#SIDENOTES ON PROGRAMMING\n",
    "#Travis Oliphant: What makes a great programmer?\n",
    "#1. Curiosity. A programmer without curiosity is mundane and loses their best work.\n",
    "#2. Don't try to do everything at once. For large projects you'll do it badly, break it apart!\n",
    "#3. It's fine to use other code and copy/paste to understand. Blindly doing so will lead to mess ups.\n",
    "#4. Be wary of solution hype-cycles. Just because a method/approach is hot does not mean its the best answer for you.\n",
    "#5. Listen to many, do and don't be afraid to be awful, and don't be afraid of the deep problem. Give it some hours."
   ]
  },
  {
   "cell_type": "code",
   "execution_count": 19,
   "metadata": {},
   "outputs": [],
   "source": [
    "#Problem solving with recursion:\n",
    "#***A problem can be solved with recursion if it can be broken down into smaller problems that are identical in structure\n",
    "#to the overall problem!***\n",
    "#Note that recursion is never required to solve a problem and can use loops and are typically less efficient since the\n",
    "#computer needs to perform other actions to use the function (otherwise known as OVERHEAD).\n",
    "#Overhead is not necessary in loops.\n",
    "#HOWEVER, some repetitive problems are more easily solved with recursion than with loops.\n",
    "#Loops make the computer faster, but recursion makes the programmer faster.  \n",
    "#1. If the problem can be solved now, without recursion, then the function solves it and returns\n",
    "#2. If the problem cannot be solved now, then the function reduces it to a smaller but similar problem and calls itself\n",
    "# to solve it."
   ]
  },
  {
   "cell_type": "code",
   "execution_count": 22,
   "metadata": {},
   "outputs": [],
   "source": [
    "#Base case = One case in which the problem can be solved without recursion\n",
    "#Recursive case = We determine a way to solve the problem in all other circumstances using recursion"
   ]
  },
  {
   "cell_type": "code",
   "execution_count": 23,
   "metadata": {},
   "outputs": [],
   "source": [
    "#Use recursion to calculate the factorial of a number\n",
    "#If n = 0 then n! = 1\n",
    "#If n > 0 then n! = 1 x 2 x 3 x 4 ... x n\n",
    "#Replace this n! with factorial(n)\n",
    "\n",
    "#Find the base case. That case is where n is equal to 0:\n",
    "#If n = 0 then factorial(n) = 1\n",
    "#This tells us the 0 instance, but what if n > 0? This is the recursive case:\n",
    "#If n > 0 then factorial(n) = n x factorial(n-1)\n",
    "\n",
    "#If n = 0 then factorial(n) = 1\n",
    "#If n > 0 then factorial(n) = n x factorial(n-1)"
   ]
  },
  {
   "cell_type": "code",
   "execution_count": 27,
   "metadata": {},
   "outputs": [
    {
     "name": "stdout",
     "output_type": "stream",
     "text": [
      "Enter a nonnegative integer: 4\n",
      "The factorial of 4 is 24\n"
     ]
    }
   ],
   "source": [
    "#This program uses recursion to calculate the factorial of a number\n",
    "def main():\n",
    "    #Get a number from the user\n",
    "    number = int(input('Enter a nonnegative integer: '))\n",
    "    \n",
    "    #Get the factorial of the number\n",
    "    fact = factorial(number)\n",
    "    \n",
    "    #Display the factorial\n",
    "    print('The factorial of', number, 'is', fact)\n",
    "    \n",
    "#The factorial function uses recursion to calculate the factorial of its argument which is assumed to be nonnegative\n",
    "def factorial(num):\n",
    "    if num == 0:\n",
    "        return 1\n",
    "    else:\n",
    "        return num * factorial(num - 1)\n",
    "\n",
    "main()"
   ]
  },
  {
   "cell_type": "code",
   "execution_count": null,
   "metadata": {},
   "outputs": [],
   "source": [
    "#Eventually recursion needs to stop in order for a solution to be reached. If each recursive call works on a smaller\n",
    "#version of a problem, then the recursive calls work toward the base case.\n",
    "#The base does not require recursion, thus it stops the chain."
   ]
  },
  {
   "cell_type": "code",
   "execution_count": 26,
   "metadata": {},
   "outputs": [],
   "source": [
    "#Direct Recursion = functions that directly recall themselves\n",
    "#Indirect recursion = function A could call function B which calls function A or C and whatnot"
   ]
  },
  {
   "cell_type": "code",
   "execution_count": 28,
   "metadata": {},
   "outputs": [],
   "source": [
    "#Examples of Recursive algorithms"
   ]
  },
  {
   "cell_type": "code",
   "execution_count": 32,
   "metadata": {},
   "outputs": [
    {
     "name": "stdout",
     "output_type": "stream",
     "text": [
      "The sum of items 2 through 5 is 18\n"
     ]
    }
   ],
   "source": [
    "#Summing a Range of List Elements with Recursion\n",
    "def main():\n",
    "    numbers = [1, 2, 3, 4, 5, 6, 7, 8, 9]\n",
    "    my_sum = range_sum(numbers, 2, 5)\n",
    "    print('The sum of items 2 through 5 is', my_sum)\n",
    "\n",
    "def range_sum(num_list, start, end):\n",
    "    if start > end:\n",
    "        return 0\n",
    "    else:\n",
    "        return num_list[start] + range_sum(num_list, start + 1, end)\n",
    "    \n",
    "main()\n",
    "\n",
    "#The base case is when the start parameter is greater than the end parameter, otherwise it goes to the recursive case."
   ]
  },
  {
   "cell_type": "code",
   "execution_count": 34,
   "metadata": {},
   "outputs": [
    {
     "name": "stdout",
     "output_type": "stream",
     "text": [
      "The first 10 numbers in the Fibonacci series are:\n",
      "1\n",
      "1\n",
      "2\n",
      "3\n",
      "5\n",
      "8\n",
      "13\n",
      "21\n",
      "34\n",
      "55\n"
     ]
    }
   ],
   "source": [
    "#The Fibonaci Series; some math problems are designed to be solved recursively\n",
    "#After the second number, each number in the series is the sum of the two previous numbers\n",
    "#Define is as follows: If n=0, then Fib(n)=0; If n=1, then Fib(n)=1; If n . 1 then Fib(n) = Fib(n-1) + Fib(n-2)\n",
    "def fib(n):\n",
    "    if n == 0:\n",
    "        return 0\n",
    "    elif n == 1:\n",
    "        return 1\n",
    "    else:\n",
    "        return fib(n - 1) + fib(n - 2)\n",
    "    \n",
    "def main():\n",
    "    print('The first 10 numbers in the Fibonacci series are:')\n",
    "    for number in range(1, 11):\n",
    "        print(fib(number))\n",
    "main()"
   ]
  },
  {
   "cell_type": "code",
   "execution_count": 35,
   "metadata": {},
   "outputs": [
    {
     "name": "stdout",
     "output_type": "stream",
     "text": [
      "Enter an integer: 49\n",
      "Enter another integer: 28\n",
      "The greatest common divisor of\n",
      "the two numbers is 7\n"
     ]
    }
   ],
   "source": [
    "#Finding the Greatest Common Divisor (GCD)\n",
    "#If x can be evenly divided by y, then gcd(x,y) = y *BASE CASE!*\n",
    "#Otherwise, gcd(x,y) = gcd(y, remainder of x/y) *RECURSIVE CASE!*\n",
    "def main():\n",
    "    #Get two numbers\n",
    "    num1 = int(input('Enter an integer: '))\n",
    "    num2 = int(input('Enter another integer: '))\n",
    "    \n",
    "    #Display the GCD\n",
    "    print('The greatest common divisor of')\n",
    "    print('the two numbers is', gcd(num1, num2))\n",
    "    \n",
    "def gcd(x, y):\n",
    "    if x % y == 0:\n",
    "        return y\n",
    "    else:\n",
    "        return gcd(x, x % y)\n",
    "\n",
    "main()"
   ]
  },
  {
   "cell_type": "code",
   "execution_count": 36,
   "metadata": {},
   "outputs": [
    {
     "name": "stdout",
     "output_type": "stream",
     "text": [
      "Move a disc from peg 1 to peg 3\n",
      "Move a disc from peg 1 to peg 2\n",
      "Move a disc from peg 3 to peg 2\n",
      "Move a disc from peg 1 to peg 3\n",
      "Move a disc from peg 2 to peg 1\n",
      "Move a disc from peg 2 to peg 3\n",
      "Move a disc from peg 1 to peg 3\n",
      "All the pegs are moved!\n"
     ]
    }
   ],
   "source": [
    "#Tower of Hanoi Game *long explanation, see book p. 680*\n",
    "#To move n discs from peg A to peg C, using peg B as a temp peg, do the following:\n",
    "#If n > 2:\n",
    "#Move n 2 1 discs from peg A to peg B, using peg C as a temp peg\n",
    "#Move the remaining disc from peg A to peg C\n",
    "#Move n 2 1 discs from peg B to peg C, using peg A as a temp peg\n",
    "#The base case is when there are no discs to move.\n",
    "\n",
    "def move_discs(num, from_peg, to_peg, temp_peg):\n",
    "    if num > 0:\n",
    "        move_discs(num - 1, from_peg, temp_peg, to_peg)\n",
    "        print('Move a disc from peg', from_peg, 'to peg', to_peg)\n",
    "        move_discs(num - 1, temp_peg, to_peg, from_peg)\n",
    "\n",
    "def main():\n",
    "    #setup initial values\n",
    "    num_discs = 3\n",
    "    from_peg = 1\n",
    "    to_peg = 3\n",
    "    temp_peg = 2\n",
    "    \n",
    "    #play game\n",
    "    move_discs(num_discs, from_peg, to_peg, temp_peg)\n",
    "    print('All the pegs are moved!')\n",
    "    \n",
    "main()"
   ]
  },
  {
   "cell_type": "code",
   "execution_count": 38,
   "metadata": {},
   "outputs": [],
   "source": [
    "#Recursion or Looping?\n",
    "#most cases, loops are found to be best used.\n",
    "#the GCD formula is well suited for the recursive algorithm\n",
    "#if easier to solve with a loop, take that approach"
   ]
  },
  {
   "cell_type": "code",
   "execution_count": 4,
   "metadata": {},
   "outputs": [
    {
     "name": "stdout",
     "output_type": "stream",
     "text": [
      "1\n",
      "2\n",
      "3\n",
      "4\n",
      "5\n",
      "6\n",
      "7\n",
      "8\n",
      "9\n",
      "10\n"
     ]
    }
   ],
   "source": [
    "#1. Recursive Printing\n",
    "def printing(end, start):\n",
    "    if end == start:\n",
    "        print(end)\n",
    "    else:\n",
    "        print(start)\n",
    "        printing(end, (start + 1))\n",
    "def main():\n",
    "    number = 10\n",
    "    printing(10, 1)\n",
    "main()  "
   ]
  },
  {
   "cell_type": "code",
   "execution_count": 44,
   "metadata": {},
   "outputs": [
    {
     "name": "stdout",
     "output_type": "stream",
     "text": [
      "4 7\n",
      "3 7\n",
      "2 7\n",
      "1 7\n",
      "28\n"
     ]
    }
   ],
   "source": [
    "#2 Recursive Multiplication\n",
    "def multipli(x, y):\n",
    "    if x == 0:\n",
    "        return 0\n",
    "    else:\n",
    "        print(x, y)\n",
    "        return y + multipli(x-1, y)\n",
    "        \n",
    "    \n",
    "def main():\n",
    "    x = 4\n",
    "    y = 7\n",
    "    print(multipli(x,y))\n",
    "main()"
   ]
  },
  {
   "cell_type": "code",
   "execution_count": 46,
   "metadata": {},
   "outputs": [
    {
     "name": "stdout",
     "output_type": "stream",
     "text": [
      ",\n",
      ",,\n",
      ",,,\n",
      ",,,,\n",
      ",,,,,\n",
      ",,,,,,\n",
      ",,,,,,,\n",
      ",,,,,,,,\n",
      ",,,,,,,,,\n",
      ",,,,,,,,,,\n"
     ]
    }
   ],
   "source": [
    "#3 Recursive Lines\n",
    "def lines(n, end):\n",
    "    if end == n:\n",
    "        print(',' * end)\n",
    "    else:\n",
    "        print(',' * end)\n",
    "        lines(n, end + 1)\n",
    "    \n",
    "def main():\n",
    "    lines(10, 1)\n",
    "    \n",
    "main()"
   ]
  },
  {
   "cell_type": "code",
   "execution_count": null,
   "metadata": {},
   "outputs": [],
   "source": [
    "#Largest List Item, return largest value\n",
    "def list_item(the_list):\n",
    "    for item in the_list:\n",
    "        \n",
    "    \n",
    "def main():\n",
    "    the_list = [1,7,1,3,8,2]\n",
    "    list_item()"
   ]
  }
 ],
 "metadata": {
  "kernelspec": {
   "display_name": "Python 3",
   "language": "python",
   "name": "python3"
  },
  "language_info": {
   "codemirror_mode": {
    "name": "ipython",
    "version": 3
   },
   "file_extension": ".py",
   "mimetype": "text/x-python",
   "name": "python",
   "nbconvert_exporter": "python",
   "pygments_lexer": "ipython3",
   "version": "3.8.5"
  }
 },
 "nbformat": 4,
 "nbformat_minor": 4
}
